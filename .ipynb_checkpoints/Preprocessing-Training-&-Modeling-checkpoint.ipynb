{
 "cells": [
  {
   "cell_type": "markdown",
   "metadata": {},
   "source": [
    "# Preprocessing, Training, & Modeling"
   ]
  },
  {
   "cell_type": "markdown",
   "metadata": {},
   "source": [
    "## Table of Contents<a id='Table_of_Contents'></a>\n",
    "* [1 Processing, Training, & Modeling](#1_Processing_,_Training_,_Modeling)\n",
    "    * [1.1 Table of Contents](#1.1_Table_of_Contents)\n",
    "    * [1.2 Imports](#1.2_Imports)\n",
    "    * [1.3 Load Data](#1.3_Load_Data)\n",
    "    * [1.4 Feature Engineering](#1.4_Feature_Engineering)\n",
    "    * [1.5 Model Building](#1.5_Model_Building) \n",
    "        * [1.5.1 Random Forest](#1.5.1_Random_Forest)\n",
    "            * [1.5.1.1 Hyperparameter Tuning RF](#1.5.1.1_Hyperparameter_Tuning_RF)\n",
    "        * [1.5.2 Gradient Boosting](#1.5.2_Gradient_Boosting)\n",
    "            * [1.5.2.1 Hyperparameter Tuning GB](#1.5.2.1_Hyperparameter_Tuning_GB)\n",
    "        * [1.5.3 XGBoost](#1.5.3_XGBoost)\n",
    "            * [1.5.3.1 Hyperparameter Tuning XGB](#1.5.3.1_Hyperparamter_Tuning_XGB)"
   ]
  },
  {
   "cell_type": "markdown",
   "metadata": {},
   "source": [
    "**Predicting on the Ratings** "
   ]
  },
  {
   "cell_type": "markdown",
   "metadata": {},
   "source": [
    "## Imports<a id='1.2_Imports'></a>"
   ]
  },
  {
   "cell_type": "code",
   "execution_count": 172,
   "metadata": {
    "ExecuteTime": {
     "end_time": "2020-12-23T07:00:34.430935Z",
     "start_time": "2020-12-23T07:00:34.416973Z"
    }
   },
   "outputs": [],
   "source": [
    "#call all import statements and their necessary pacakges\n",
    "import pandas as pd\n",
    "import matplotlib.pyplot as plt \n",
    "import numpy as np\n",
    "import seaborn as sns"
   ]
  },
  {
   "cell_type": "markdown",
   "metadata": {},
   "source": [
    "## Load Data<a id='1.3_Imports'></a>"
   ]
  },
  {
   "cell_type": "code",
   "execution_count": 173,
   "metadata": {
    "ExecuteTime": {
     "end_time": "2020-12-23T07:00:37.482209Z",
     "start_time": "2020-12-23T07:00:34.448886Z"
    }
   },
   "outputs": [],
   "source": [
    "movies = pd.read_csv('C:/Users/sathw/OneDrive/Desktop/Springboard_work/IMDB-Movie-Ratings/data/movies_cleaned.csv')\n",
    "ratings = pd.read_csv('C:/Users/sathw/OneDrive/Desktop/Springboard_work/IMDB-Movie-Ratings/data/ratings_cleaned.csv')"
   ]
  },
  {
   "cell_type": "markdown",
   "metadata": {},
   "source": [
    "The motivation behind combining these two datasets is to be able to understand which features play a key role in predicting the rating of a film to a certain degree. "
   ]
  },
  {
   "cell_type": "code",
   "execution_count": 174,
   "metadata": {
    "ExecuteTime": {
     "end_time": "2020-12-23T07:00:40.034596Z",
     "start_time": "2020-12-23T07:00:37.482209Z"
    }
   },
   "outputs": [],
   "source": [
    "combined_df = pd.merge(movies,ratings, on ='id', how='left')"
   ]
  },
  {
   "cell_type": "code",
   "execution_count": 175,
   "metadata": {
    "ExecuteTime": {
     "end_time": "2020-12-23T07:00:41.616517Z",
     "start_time": "2020-12-23T07:00:40.037591Z"
    }
   },
   "outputs": [
    {
     "name": "stdout",
     "output_type": "stream",
     "text": [
      "<class 'pandas.core.frame.DataFrame'>\n",
      "Int64Index: 1183206 entries, 0 to 1183205\n",
      "Data columns (total 30 columns):\n",
      " #   Column                 Non-Null Count    Dtype  \n",
      "---  ------                 --------------    -----  \n",
      " 0   adult                  1183206 non-null  bool   \n",
      " 1   belongs_to_collection  275952 non-null   object \n",
      " 2   budget                 1183206 non-null  float64\n",
      " 3   genres                 1183206 non-null  object \n",
      " 4   homepage               281360 non-null   object \n",
      " 5   id                     1183206 non-null  int64  \n",
      " 6   imdb_id                1183180 non-null  object \n",
      " 7   original_language      1183193 non-null  object \n",
      " 8   original_title         1183206 non-null  object \n",
      " 9   overview               1178266 non-null  object \n",
      " 10  popularity             1183206 non-null  float64\n",
      " 11  poster_path            1181842 non-null  object \n",
      " 12  production_companies   1183206 non-null  object \n",
      " 13  production_countries   1183206 non-null  object \n",
      " 14  release_date           1182404 non-null  object \n",
      " 15  revenue                1183206 non-null  float64\n",
      " 16  runtime                1182867 non-null  float64\n",
      " 17  spoken_languages       1183206 non-null  object \n",
      " 18  status                 1183056 non-null  object \n",
      " 19  tagline                811748 non-null   object \n",
      " 20  video                  1183206 non-null  bool   \n",
      " 21  vote_average           1183206 non-null  float64\n",
      " 22  vote_count             1183206 non-null  float64\n",
      " 23  year                   1182404 non-null  float64\n",
      " 24  day                    1182404 non-null  float64\n",
      " 25  month                  1182404 non-null  float64\n",
      " 26  num_genres             1183206 non-null  int64  \n",
      " 27  userId                 1143571 non-null  float64\n",
      " 28  rating                 1143571 non-null  float64\n",
      " 29  timestamp              1143571 non-null  object \n",
      "dtypes: bool(2), float64(11), int64(2), object(15)\n",
      "memory usage: 264.0+ MB\n"
     ]
    }
   ],
   "source": [
    "combined_df.info()           "
   ]
  },
  {
   "cell_type": "code",
   "execution_count": 176,
   "metadata": {
    "ExecuteTime": {
     "end_time": "2020-12-23T07:00:41.627488Z",
     "start_time": "2020-12-23T07:00:41.620512Z"
    }
   },
   "outputs": [
    {
     "data": {
      "text/plain": [
       "(1183206, 30)"
      ]
     },
     "execution_count": 176,
     "metadata": {},
     "output_type": "execute_result"
    }
   ],
   "source": [
    "combined_df.shape"
   ]
  },
  {
   "cell_type": "code",
   "execution_count": 177,
   "metadata": {
    "ExecuteTime": {
     "end_time": "2020-12-23T07:00:42.313725Z",
     "start_time": "2020-12-23T07:00:41.631478Z"
    }
   },
   "outputs": [
    {
     "data": {
      "text/html": [
       "<div>\n",
       "<style scoped>\n",
       "    .dataframe tbody tr th:only-of-type {\n",
       "        vertical-align: middle;\n",
       "    }\n",
       "\n",
       "    .dataframe tbody tr th {\n",
       "        vertical-align: top;\n",
       "    }\n",
       "\n",
       "    .dataframe thead th {\n",
       "        text-align: right;\n",
       "    }\n",
       "</style>\n",
       "<table border=\"1\" class=\"dataframe\">\n",
       "  <thead>\n",
       "    <tr style=\"text-align: right;\">\n",
       "      <th></th>\n",
       "      <th>budget</th>\n",
       "      <th>id</th>\n",
       "      <th>popularity</th>\n",
       "      <th>revenue</th>\n",
       "      <th>runtime</th>\n",
       "      <th>vote_average</th>\n",
       "      <th>vote_count</th>\n",
       "      <th>year</th>\n",
       "      <th>day</th>\n",
       "      <th>month</th>\n",
       "      <th>num_genres</th>\n",
       "      <th>userId</th>\n",
       "      <th>rating</th>\n",
       "    </tr>\n",
       "  </thead>\n",
       "  <tbody>\n",
       "    <tr>\n",
       "      <th>count</th>\n",
       "      <td>1.183206e+06</td>\n",
       "      <td>1.183206e+06</td>\n",
       "      <td>1.183206e+06</td>\n",
       "      <td>1.183206e+06</td>\n",
       "      <td>1.182867e+06</td>\n",
       "      <td>1.183206e+06</td>\n",
       "      <td>1.183206e+06</td>\n",
       "      <td>1.182404e+06</td>\n",
       "      <td>1.182404e+06</td>\n",
       "      <td>1.182404e+06</td>\n",
       "      <td>1.183206e+06</td>\n",
       "      <td>1.143571e+06</td>\n",
       "      <td>1.143571e+06</td>\n",
       "    </tr>\n",
       "    <tr>\n",
       "      <th>mean</th>\n",
       "      <td>1.912366e+07</td>\n",
       "      <td>1.079739e+04</td>\n",
       "      <td>7.854956e+00</td>\n",
       "      <td>7.237566e+07</td>\n",
       "      <td>1.080995e+02</td>\n",
       "      <td>6.584738e+00</td>\n",
       "      <td>6.413840e+02</td>\n",
       "      <td>1.987447e+03</td>\n",
       "      <td>1.518177e+01</td>\n",
       "      <td>6.932811e+00</td>\n",
       "      <td>2.409820e+00</td>\n",
       "      <td>1.347564e+04</td>\n",
       "      <td>7.062312e+00</td>\n",
       "    </tr>\n",
       "    <tr>\n",
       "      <th>std</th>\n",
       "      <td>3.731519e+07</td>\n",
       "      <td>3.423603e+04</td>\n",
       "      <td>6.648255e+00</td>\n",
       "      <td>1.727673e+08</td>\n",
       "      <td>2.598008e+01</td>\n",
       "      <td>1.125276e+00</td>\n",
       "      <td>1.201326e+03</td>\n",
       "      <td>2.156605e+01</td>\n",
       "      <td>9.149474e+00</td>\n",
       "      <td>3.533301e+00</td>\n",
       "      <td>1.057717e+00</td>\n",
       "      <td>7.803694e+03</td>\n",
       "      <td>2.120801e+00</td>\n",
       "    </tr>\n",
       "    <tr>\n",
       "      <th>min</th>\n",
       "      <td>0.000000e+00</td>\n",
       "      <td>2.000000e+00</td>\n",
       "      <td>0.000000e+00</td>\n",
       "      <td>0.000000e+00</td>\n",
       "      <td>0.000000e+00</td>\n",
       "      <td>0.000000e+00</td>\n",
       "      <td>0.000000e+00</td>\n",
       "      <td>1.874000e+03</td>\n",
       "      <td>1.000000e+00</td>\n",
       "      <td>1.000000e+00</td>\n",
       "      <td>0.000000e+00</td>\n",
       "      <td>1.000000e+00</td>\n",
       "      <td>1.000000e+00</td>\n",
       "    </tr>\n",
       "    <tr>\n",
       "      <th>25%</th>\n",
       "      <td>0.000000e+00</td>\n",
       "      <td>5.090000e+02</td>\n",
       "      <td>2.686234e+00</td>\n",
       "      <td>0.000000e+00</td>\n",
       "      <td>9.400000e+01</td>\n",
       "      <td>6.100000e+00</td>\n",
       "      <td>2.500000e+01</td>\n",
       "      <td>1.975000e+03</td>\n",
       "      <td>7.000000e+00</td>\n",
       "      <td>4.000000e+00</td>\n",
       "      <td>2.000000e+00</td>\n",
       "      <td>6.672000e+03</td>\n",
       "      <td>6.000000e+00</td>\n",
       "    </tr>\n",
       "    <tr>\n",
       "      <th>50%</th>\n",
       "      <td>1.073000e+06</td>\n",
       "      <td>1.580000e+03</td>\n",
       "      <td>7.274948e+00</td>\n",
       "      <td>1.108462e+06</td>\n",
       "      <td>1.050000e+02</td>\n",
       "      <td>6.800000e+00</td>\n",
       "      <td>1.470000e+02</td>\n",
       "      <td>1.996000e+03</td>\n",
       "      <td>1.500000e+01</td>\n",
       "      <td>7.000000e+00</td>\n",
       "      <td>2.000000e+00</td>\n",
       "      <td>1.338700e+04</td>\n",
       "      <td>8.000000e+00</td>\n",
       "    </tr>\n",
       "    <tr>\n",
       "      <th>75%</th>\n",
       "      <td>2.200000e+07</td>\n",
       "      <td>3.396000e+03</td>\n",
       "      <td>1.126747e+01</td>\n",
       "      <td>6.867323e+07</td>\n",
       "      <td>1.200000e+02</td>\n",
       "      <td>7.300000e+00</td>\n",
       "      <td>6.300000e+02</td>\n",
       "      <td>2.004000e+03</td>\n",
       "      <td>2.300000e+01</td>\n",
       "      <td>1.000000e+01</td>\n",
       "      <td>3.000000e+00</td>\n",
       "      <td>2.028400e+04</td>\n",
       "      <td>8.000000e+00</td>\n",
       "    </tr>\n",
       "    <tr>\n",
       "      <th>max</th>\n",
       "      <td>3.800000e+08</td>\n",
       "      <td>4.691720e+05</td>\n",
       "      <td>5.474883e+02</td>\n",
       "      <td>2.787965e+09</td>\n",
       "      <td>1.256000e+03</td>\n",
       "      <td>1.000000e+01</td>\n",
       "      <td>1.407500e+04</td>\n",
       "      <td>2.020000e+03</td>\n",
       "      <td>3.100000e+01</td>\n",
       "      <td>1.200000e+01</td>\n",
       "      <td>8.000000e+00</td>\n",
       "      <td>2.704700e+04</td>\n",
       "      <td>1.000000e+01</td>\n",
       "    </tr>\n",
       "  </tbody>\n",
       "</table>\n",
       "</div>"
      ],
      "text/plain": [
       "             budget            id    popularity       revenue       runtime  \\\n",
       "count  1.183206e+06  1.183206e+06  1.183206e+06  1.183206e+06  1.182867e+06   \n",
       "mean   1.912366e+07  1.079739e+04  7.854956e+00  7.237566e+07  1.080995e+02   \n",
       "std    3.731519e+07  3.423603e+04  6.648255e+00  1.727673e+08  2.598008e+01   \n",
       "min    0.000000e+00  2.000000e+00  0.000000e+00  0.000000e+00  0.000000e+00   \n",
       "25%    0.000000e+00  5.090000e+02  2.686234e+00  0.000000e+00  9.400000e+01   \n",
       "50%    1.073000e+06  1.580000e+03  7.274948e+00  1.108462e+06  1.050000e+02   \n",
       "75%    2.200000e+07  3.396000e+03  1.126747e+01  6.867323e+07  1.200000e+02   \n",
       "max    3.800000e+08  4.691720e+05  5.474883e+02  2.787965e+09  1.256000e+03   \n",
       "\n",
       "       vote_average    vote_count          year           day         month  \\\n",
       "count  1.183206e+06  1.183206e+06  1.182404e+06  1.182404e+06  1.182404e+06   \n",
       "mean   6.584738e+00  6.413840e+02  1.987447e+03  1.518177e+01  6.932811e+00   \n",
       "std    1.125276e+00  1.201326e+03  2.156605e+01  9.149474e+00  3.533301e+00   \n",
       "min    0.000000e+00  0.000000e+00  1.874000e+03  1.000000e+00  1.000000e+00   \n",
       "25%    6.100000e+00  2.500000e+01  1.975000e+03  7.000000e+00  4.000000e+00   \n",
       "50%    6.800000e+00  1.470000e+02  1.996000e+03  1.500000e+01  7.000000e+00   \n",
       "75%    7.300000e+00  6.300000e+02  2.004000e+03  2.300000e+01  1.000000e+01   \n",
       "max    1.000000e+01  1.407500e+04  2.020000e+03  3.100000e+01  1.200000e+01   \n",
       "\n",
       "         num_genres        userId        rating  \n",
       "count  1.183206e+06  1.143571e+06  1.143571e+06  \n",
       "mean   2.409820e+00  1.347564e+04  7.062312e+00  \n",
       "std    1.057717e+00  7.803694e+03  2.120801e+00  \n",
       "min    0.000000e+00  1.000000e+00  1.000000e+00  \n",
       "25%    2.000000e+00  6.672000e+03  6.000000e+00  \n",
       "50%    2.000000e+00  1.338700e+04  8.000000e+00  \n",
       "75%    3.000000e+00  2.028400e+04  8.000000e+00  \n",
       "max    8.000000e+00  2.704700e+04  1.000000e+01  "
      ]
     },
     "execution_count": 177,
     "metadata": {},
     "output_type": "execute_result"
    }
   ],
   "source": [
    "combined_df.describe()"
   ]
  },
  {
   "cell_type": "code",
   "execution_count": 178,
   "metadata": {
    "ExecuteTime": {
     "end_time": "2020-12-23T07:00:42.361633Z",
     "start_time": "2020-12-23T07:00:42.315718Z"
    }
   },
   "outputs": [
    {
     "data": {
      "text/plain": [
       "318      9231\n",
       "296      8764\n",
       "593      8451\n",
       "260      7747\n",
       "480      7521\n",
       "         ... \n",
       "38510       1\n",
       "48747       1\n",
       "42600       1\n",
       "56935       1\n",
       "40471       1\n",
       "Name: id, Length: 45430, dtype: int64"
      ]
     },
     "execution_count": 178,
     "metadata": {},
     "output_type": "execute_result"
    }
   ],
   "source": [
    "combined_df['id'].value_counts()"
   ]
  },
  {
   "cell_type": "code",
   "execution_count": 179,
   "metadata": {
    "ExecuteTime": {
     "end_time": "2020-12-23T07:00:42.554478Z",
     "start_time": "2020-12-23T07:00:42.363591Z"
    }
   },
   "outputs": [
    {
     "data": {
      "text/plain": [
       "original_title\n",
       "The Million Dollar Hotel              9231\n",
       "Terminator 3: Rise of the Machines    8764\n",
       "Солярис                               8451\n",
       "The 39 Steps                          7747\n",
       "Monsoon Wedding                       7521\n",
       "Once Were Warriors                    6853\n",
       "Trois couleurs : Rouge                6639\n",
       "License to Wed                        6056\n",
       "La passion de Jeanne d'Arc            5783\n",
       "48 Hrs.                               5774\n",
       "Name: rating, dtype: int64"
      ]
     },
     "execution_count": 179,
     "metadata": {},
     "output_type": "execute_result"
    }
   ],
   "source": [
    "combined_df.groupby(by='original_title')['rating'].count().sort_values(ascending=False).head(10)"
   ]
  },
  {
   "cell_type": "code",
   "execution_count": 180,
   "metadata": {
    "ExecuteTime": {
     "end_time": "2020-12-23T07:00:43.403570Z",
     "start_time": "2020-12-23T07:00:42.558470Z"
    }
   },
   "outputs": [
    {
     "data": {
      "text/plain": [
       "belongs_to_collection    907254\n",
       "homepage                 901846\n",
       "tagline                  371458\n",
       "timestamp                 39635\n",
       "userId                    39635\n",
       "rating                    39635\n",
       "overview                   4940\n",
       "poster_path                1364\n",
       "release_date                802\n",
       "month                       802\n",
       "year                        802\n",
       "day                         802\n",
       "runtime                     339\n",
       "status                      150\n",
       "imdb_id                      26\n",
       "original_language            13\n",
       "video                         0\n",
       "num_genres                    0\n",
       "budget                        0\n",
       "genres                        0\n",
       "id                            0\n",
       "popularity                    0\n",
       "original_title                0\n",
       "vote_average                  0\n",
       "production_companies          0\n",
       "production_countries          0\n",
       "vote_count                    0\n",
       "revenue                       0\n",
       "spoken_languages              0\n",
       "adult                         0\n",
       "dtype: int64"
      ]
     },
     "execution_count": 180,
     "metadata": {},
     "output_type": "execute_result"
    }
   ],
   "source": [
    "combined_df.isnull().sum().sort_values(ascending=False)"
   ]
  },
  {
   "cell_type": "code",
   "execution_count": 181,
   "metadata": {
    "ExecuteTime": {
     "end_time": "2020-12-23T07:00:43.522362Z",
     "start_time": "2020-12-23T07:00:43.406562Z"
    }
   },
   "outputs": [
    {
     "data": {
      "text/html": [
       "<div>\n",
       "<style scoped>\n",
       "    .dataframe tbody tr th:only-of-type {\n",
       "        vertical-align: middle;\n",
       "    }\n",
       "\n",
       "    .dataframe tbody tr th {\n",
       "        vertical-align: top;\n",
       "    }\n",
       "\n",
       "    .dataframe thead th {\n",
       "        text-align: right;\n",
       "    }\n",
       "</style>\n",
       "<table border=\"1\" class=\"dataframe\">\n",
       "  <thead>\n",
       "    <tr style=\"text-align: right;\">\n",
       "      <th></th>\n",
       "      <th>adult</th>\n",
       "      <th>belongs_to_collection</th>\n",
       "      <th>budget</th>\n",
       "      <th>genres</th>\n",
       "      <th>homepage</th>\n",
       "      <th>id</th>\n",
       "      <th>imdb_id</th>\n",
       "      <th>original_language</th>\n",
       "      <th>original_title</th>\n",
       "      <th>overview</th>\n",
       "      <th>...</th>\n",
       "      <th>video</th>\n",
       "      <th>vote_average</th>\n",
       "      <th>vote_count</th>\n",
       "      <th>year</th>\n",
       "      <th>day</th>\n",
       "      <th>month</th>\n",
       "      <th>num_genres</th>\n",
       "      <th>userId</th>\n",
       "      <th>rating</th>\n",
       "      <th>timestamp</th>\n",
       "    </tr>\n",
       "  </thead>\n",
       "  <tbody>\n",
       "    <tr>\n",
       "      <th>45</th>\n",
       "      <td>False</td>\n",
       "      <td>{'id': 119050, 'name': 'Grumpy Old Men Collect...</td>\n",
       "      <td>0.0</td>\n",
       "      <td>['Romance', 'Comedy']</td>\n",
       "      <td>NaN</td>\n",
       "      <td>15602</td>\n",
       "      <td>tt0113228</td>\n",
       "      <td>en</td>\n",
       "      <td>Grumpier Old Men</td>\n",
       "      <td>A family wedding reignites the ancient feud be...</td>\n",
       "      <td>...</td>\n",
       "      <td>False</td>\n",
       "      <td>6.5</td>\n",
       "      <td>92.0</td>\n",
       "      <td>1995.0</td>\n",
       "      <td>22.0</td>\n",
       "      <td>12.0</td>\n",
       "      <td>2</td>\n",
       "      <td>NaN</td>\n",
       "      <td>NaN</td>\n",
       "      <td>NaN</td>\n",
       "    </tr>\n",
       "    <tr>\n",
       "      <th>46</th>\n",
       "      <td>False</td>\n",
       "      <td>NaN</td>\n",
       "      <td>16000000.0</td>\n",
       "      <td>['Comedy', 'Drama', 'Romance']</td>\n",
       "      <td>NaN</td>\n",
       "      <td>31357</td>\n",
       "      <td>tt0114885</td>\n",
       "      <td>en</td>\n",
       "      <td>Waiting to Exhale</td>\n",
       "      <td>Cheated on, mistreated and stepped on, the wom...</td>\n",
       "      <td>...</td>\n",
       "      <td>False</td>\n",
       "      <td>6.1</td>\n",
       "      <td>34.0</td>\n",
       "      <td>1995.0</td>\n",
       "      <td>22.0</td>\n",
       "      <td>12.0</td>\n",
       "      <td>3</td>\n",
       "      <td>NaN</td>\n",
       "      <td>NaN</td>\n",
       "      <td>NaN</td>\n",
       "    </tr>\n",
       "    <tr>\n",
       "      <th>47</th>\n",
       "      <td>False</td>\n",
       "      <td>{'id': 96871, 'name': 'Father of the Bride Col...</td>\n",
       "      <td>0.0</td>\n",
       "      <td>['Comedy']</td>\n",
       "      <td>NaN</td>\n",
       "      <td>11862</td>\n",
       "      <td>tt0113041</td>\n",
       "      <td>en</td>\n",
       "      <td>Father of the Bride Part II</td>\n",
       "      <td>Just when George Banks has recovered from his ...</td>\n",
       "      <td>...</td>\n",
       "      <td>False</td>\n",
       "      <td>5.7</td>\n",
       "      <td>173.0</td>\n",
       "      <td>1995.0</td>\n",
       "      <td>10.0</td>\n",
       "      <td>2.0</td>\n",
       "      <td>1</td>\n",
       "      <td>NaN</td>\n",
       "      <td>NaN</td>\n",
       "      <td>NaN</td>\n",
       "    </tr>\n",
       "    <tr>\n",
       "      <th>269</th>\n",
       "      <td>False</td>\n",
       "      <td>NaN</td>\n",
       "      <td>58000000.0</td>\n",
       "      <td>['Comedy', 'Romance']</td>\n",
       "      <td>NaN</td>\n",
       "      <td>11860</td>\n",
       "      <td>tt0114319</td>\n",
       "      <td>en</td>\n",
       "      <td>Sabrina</td>\n",
       "      <td>An ugly duckling having undergone a remarkable...</td>\n",
       "      <td>...</td>\n",
       "      <td>False</td>\n",
       "      <td>6.2</td>\n",
       "      <td>141.0</td>\n",
       "      <td>1995.0</td>\n",
       "      <td>15.0</td>\n",
       "      <td>12.0</td>\n",
       "      <td>2</td>\n",
       "      <td>NaN</td>\n",
       "      <td>NaN</td>\n",
       "      <td>NaN</td>\n",
       "    </tr>\n",
       "    <tr>\n",
       "      <th>270</th>\n",
       "      <td>False</td>\n",
       "      <td>NaN</td>\n",
       "      <td>0.0</td>\n",
       "      <td>['Action', 'Adventure', 'Drama', 'Family']</td>\n",
       "      <td>NaN</td>\n",
       "      <td>45325</td>\n",
       "      <td>tt0112302</td>\n",
       "      <td>en</td>\n",
       "      <td>Tom and Huck</td>\n",
       "      <td>A mischievous young boy, Tom Sawyer, witnesses...</td>\n",
       "      <td>...</td>\n",
       "      <td>False</td>\n",
       "      <td>5.4</td>\n",
       "      <td>45.0</td>\n",
       "      <td>1995.0</td>\n",
       "      <td>22.0</td>\n",
       "      <td>12.0</td>\n",
       "      <td>4</td>\n",
       "      <td>NaN</td>\n",
       "      <td>NaN</td>\n",
       "      <td>NaN</td>\n",
       "    </tr>\n",
       "    <tr>\n",
       "      <th>...</th>\n",
       "      <td>...</td>\n",
       "      <td>...</td>\n",
       "      <td>...</td>\n",
       "      <td>...</td>\n",
       "      <td>...</td>\n",
       "      <td>...</td>\n",
       "      <td>...</td>\n",
       "      <td>...</td>\n",
       "      <td>...</td>\n",
       "      <td>...</td>\n",
       "      <td>...</td>\n",
       "      <td>...</td>\n",
       "      <td>...</td>\n",
       "      <td>...</td>\n",
       "      <td>...</td>\n",
       "      <td>...</td>\n",
       "      <td>...</td>\n",
       "      <td>...</td>\n",
       "      <td>...</td>\n",
       "      <td>...</td>\n",
       "      <td>...</td>\n",
       "    </tr>\n",
       "    <tr>\n",
       "      <th>1183200</th>\n",
       "      <td>False</td>\n",
       "      <td>NaN</td>\n",
       "      <td>0.0</td>\n",
       "      <td>['Drama', 'Action', 'Romance']</td>\n",
       "      <td>NaN</td>\n",
       "      <td>30840</td>\n",
       "      <td>tt0102797</td>\n",
       "      <td>en</td>\n",
       "      <td>Robin Hood</td>\n",
       "      <td>Yet another version of the classic epic, with ...</td>\n",
       "      <td>...</td>\n",
       "      <td>False</td>\n",
       "      <td>5.7</td>\n",
       "      <td>26.0</td>\n",
       "      <td>1991.0</td>\n",
       "      <td>13.0</td>\n",
       "      <td>5.0</td>\n",
       "      <td>3</td>\n",
       "      <td>NaN</td>\n",
       "      <td>NaN</td>\n",
       "      <td>NaN</td>\n",
       "    </tr>\n",
       "    <tr>\n",
       "      <th>1183201</th>\n",
       "      <td>False</td>\n",
       "      <td>NaN</td>\n",
       "      <td>0.0</td>\n",
       "      <td>['Drama', 'Family']</td>\n",
       "      <td>http://www.imdb.com/title/tt6209470/</td>\n",
       "      <td>439050</td>\n",
       "      <td>tt6209470</td>\n",
       "      <td>fa</td>\n",
       "      <td>رگ خواب</td>\n",
       "      <td>Rising and falling between a man and woman.</td>\n",
       "      <td>...</td>\n",
       "      <td>False</td>\n",
       "      <td>4.0</td>\n",
       "      <td>1.0</td>\n",
       "      <td>NaN</td>\n",
       "      <td>NaN</td>\n",
       "      <td>NaN</td>\n",
       "      <td>2</td>\n",
       "      <td>NaN</td>\n",
       "      <td>NaN</td>\n",
       "      <td>NaN</td>\n",
       "    </tr>\n",
       "    <tr>\n",
       "      <th>1183203</th>\n",
       "      <td>False</td>\n",
       "      <td>NaN</td>\n",
       "      <td>0.0</td>\n",
       "      <td>['Action', 'Drama', 'Thriller']</td>\n",
       "      <td>NaN</td>\n",
       "      <td>67758</td>\n",
       "      <td>tt0303758</td>\n",
       "      <td>en</td>\n",
       "      <td>Betrayal</td>\n",
       "      <td>When one of her hits goes wrong, a professiona...</td>\n",
       "      <td>...</td>\n",
       "      <td>False</td>\n",
       "      <td>3.8</td>\n",
       "      <td>6.0</td>\n",
       "      <td>2003.0</td>\n",
       "      <td>1.0</td>\n",
       "      <td>8.0</td>\n",
       "      <td>3</td>\n",
       "      <td>NaN</td>\n",
       "      <td>NaN</td>\n",
       "      <td>NaN</td>\n",
       "    </tr>\n",
       "    <tr>\n",
       "      <th>1183204</th>\n",
       "      <td>False</td>\n",
       "      <td>NaN</td>\n",
       "      <td>0.0</td>\n",
       "      <td>[]</td>\n",
       "      <td>NaN</td>\n",
       "      <td>227506</td>\n",
       "      <td>tt0008536</td>\n",
       "      <td>en</td>\n",
       "      <td>Satana likuyushchiy</td>\n",
       "      <td>In a small town live two brothers, one a minis...</td>\n",
       "      <td>...</td>\n",
       "      <td>False</td>\n",
       "      <td>0.0</td>\n",
       "      <td>0.0</td>\n",
       "      <td>1917.0</td>\n",
       "      <td>21.0</td>\n",
       "      <td>10.0</td>\n",
       "      <td>0</td>\n",
       "      <td>NaN</td>\n",
       "      <td>NaN</td>\n",
       "      <td>NaN</td>\n",
       "    </tr>\n",
       "    <tr>\n",
       "      <th>1183205</th>\n",
       "      <td>False</td>\n",
       "      <td>NaN</td>\n",
       "      <td>0.0</td>\n",
       "      <td>[]</td>\n",
       "      <td>NaN</td>\n",
       "      <td>461257</td>\n",
       "      <td>tt6980792</td>\n",
       "      <td>en</td>\n",
       "      <td>Queerama</td>\n",
       "      <td>50 years after decriminalisation of homosexual...</td>\n",
       "      <td>...</td>\n",
       "      <td>False</td>\n",
       "      <td>0.0</td>\n",
       "      <td>0.0</td>\n",
       "      <td>2017.0</td>\n",
       "      <td>9.0</td>\n",
       "      <td>6.0</td>\n",
       "      <td>0</td>\n",
       "      <td>NaN</td>\n",
       "      <td>NaN</td>\n",
       "      <td>NaN</td>\n",
       "    </tr>\n",
       "  </tbody>\n",
       "</table>\n",
       "<p>39635 rows × 30 columns</p>\n",
       "</div>"
      ],
      "text/plain": [
       "         adult                              belongs_to_collection      budget  \\\n",
       "45       False  {'id': 119050, 'name': 'Grumpy Old Men Collect...         0.0   \n",
       "46       False                                                NaN  16000000.0   \n",
       "47       False  {'id': 96871, 'name': 'Father of the Bride Col...         0.0   \n",
       "269      False                                                NaN  58000000.0   \n",
       "270      False                                                NaN         0.0   \n",
       "...        ...                                                ...         ...   \n",
       "1183200  False                                                NaN         0.0   \n",
       "1183201  False                                                NaN         0.0   \n",
       "1183203  False                                                NaN         0.0   \n",
       "1183204  False                                                NaN         0.0   \n",
       "1183205  False                                                NaN         0.0   \n",
       "\n",
       "                                             genres  \\\n",
       "45                            ['Romance', 'Comedy']   \n",
       "46                   ['Comedy', 'Drama', 'Romance']   \n",
       "47                                       ['Comedy']   \n",
       "269                           ['Comedy', 'Romance']   \n",
       "270      ['Action', 'Adventure', 'Drama', 'Family']   \n",
       "...                                             ...   \n",
       "1183200              ['Drama', 'Action', 'Romance']   \n",
       "1183201                         ['Drama', 'Family']   \n",
       "1183203             ['Action', 'Drama', 'Thriller']   \n",
       "1183204                                          []   \n",
       "1183205                                          []   \n",
       "\n",
       "                                     homepage      id    imdb_id  \\\n",
       "45                                        NaN   15602  tt0113228   \n",
       "46                                        NaN   31357  tt0114885   \n",
       "47                                        NaN   11862  tt0113041   \n",
       "269                                       NaN   11860  tt0114319   \n",
       "270                                       NaN   45325  tt0112302   \n",
       "...                                       ...     ...        ...   \n",
       "1183200                                   NaN   30840  tt0102797   \n",
       "1183201  http://www.imdb.com/title/tt6209470/  439050  tt6209470   \n",
       "1183203                                   NaN   67758  tt0303758   \n",
       "1183204                                   NaN  227506  tt0008536   \n",
       "1183205                                   NaN  461257  tt6980792   \n",
       "\n",
       "        original_language               original_title  \\\n",
       "45                     en             Grumpier Old Men   \n",
       "46                     en            Waiting to Exhale   \n",
       "47                     en  Father of the Bride Part II   \n",
       "269                    en                      Sabrina   \n",
       "270                    en                 Tom and Huck   \n",
       "...                   ...                          ...   \n",
       "1183200                en                   Robin Hood   \n",
       "1183201                fa                      رگ خواب   \n",
       "1183203                en                     Betrayal   \n",
       "1183204                en          Satana likuyushchiy   \n",
       "1183205                en                     Queerama   \n",
       "\n",
       "                                                  overview  ...  video  \\\n",
       "45       A family wedding reignites the ancient feud be...  ...  False   \n",
       "46       Cheated on, mistreated and stepped on, the wom...  ...  False   \n",
       "47       Just when George Banks has recovered from his ...  ...  False   \n",
       "269      An ugly duckling having undergone a remarkable...  ...  False   \n",
       "270      A mischievous young boy, Tom Sawyer, witnesses...  ...  False   \n",
       "...                                                    ...  ...    ...   \n",
       "1183200  Yet another version of the classic epic, with ...  ...  False   \n",
       "1183201        Rising and falling between a man and woman.  ...  False   \n",
       "1183203  When one of her hits goes wrong, a professiona...  ...  False   \n",
       "1183204  In a small town live two brothers, one a minis...  ...  False   \n",
       "1183205  50 years after decriminalisation of homosexual...  ...  False   \n",
       "\n",
       "        vote_average vote_count    year   day  month  num_genres userId  \\\n",
       "45               6.5       92.0  1995.0  22.0   12.0           2    NaN   \n",
       "46               6.1       34.0  1995.0  22.0   12.0           3    NaN   \n",
       "47               5.7      173.0  1995.0  10.0    2.0           1    NaN   \n",
       "269              6.2      141.0  1995.0  15.0   12.0           2    NaN   \n",
       "270              5.4       45.0  1995.0  22.0   12.0           4    NaN   \n",
       "...              ...        ...     ...   ...    ...         ...    ...   \n",
       "1183200          5.7       26.0  1991.0  13.0    5.0           3    NaN   \n",
       "1183201          4.0        1.0     NaN   NaN    NaN           2    NaN   \n",
       "1183203          3.8        6.0  2003.0   1.0    8.0           3    NaN   \n",
       "1183204          0.0        0.0  1917.0  21.0   10.0           0    NaN   \n",
       "1183205          0.0        0.0  2017.0   9.0    6.0           0    NaN   \n",
       "\n",
       "        rating timestamp  \n",
       "45         NaN       NaN  \n",
       "46         NaN       NaN  \n",
       "47         NaN       NaN  \n",
       "269        NaN       NaN  \n",
       "270        NaN       NaN  \n",
       "...        ...       ...  \n",
       "1183200    NaN       NaN  \n",
       "1183201    NaN       NaN  \n",
       "1183203    NaN       NaN  \n",
       "1183204    NaN       NaN  \n",
       "1183205    NaN       NaN  \n",
       "\n",
       "[39635 rows x 30 columns]"
      ]
     },
     "execution_count": 181,
     "metadata": {},
     "output_type": "execute_result"
    }
   ],
   "source": [
    "combined_df[combined_df['rating'].isnull()]"
   ]
  },
  {
   "cell_type": "code",
   "execution_count": 182,
   "metadata": {
    "ExecuteTime": {
     "end_time": "2020-12-23T07:00:43.631056Z",
     "start_time": "2020-12-23T07:00:43.524342Z"
    }
   },
   "outputs": [
    {
     "data": {
      "text/plain": [
       "Released           1180955\n",
       "Rumored               1876\n",
       "Post Production        146\n",
       "In Production           62\n",
       "Planned                 15\n",
       "Canceled                 2\n",
       "Name: status, dtype: int64"
      ]
     },
     "execution_count": 182,
     "metadata": {},
     "output_type": "execute_result"
    }
   ],
   "source": [
    "combined_df['status'].value_counts()"
   ]
  },
  {
   "cell_type": "code",
   "execution_count": 183,
   "metadata": {
    "ExecuteTime": {
     "end_time": "2020-12-23T07:00:44.164629Z",
     "start_time": "2020-12-23T07:00:43.633051Z"
    }
   },
   "outputs": [],
   "source": [
    "combined_df = combined_df.dropna(subset=['year','month','day','rating'])"
   ]
  },
  {
   "cell_type": "code",
   "execution_count": 184,
   "metadata": {
    "ExecuteTime": {
     "end_time": "2020-12-23T07:00:44.327228Z",
     "start_time": "2020-12-23T07:00:44.166624Z"
    }
   },
   "outputs": [],
   "source": [
    "model_df = combined_df.drop(['tagline', 'overview', 'poster_path', \n",
    "                               'imdb_id', 'id', 'userId', 'video', 'release_date', 'status','timestamp'], axis = 1)"
   ]
  },
  {
   "cell_type": "code",
   "execution_count": 185,
   "metadata": {
    "ExecuteTime": {
     "end_time": "2020-12-23T07:00:44.332180Z",
     "start_time": "2020-12-23T07:00:44.328191Z"
    }
   },
   "outputs": [],
   "source": [
    "#fill_cols = ['belongs_to_collection', 'homepage', 'tagline', 'overview', 'poster_path', \n",
    "#             'original_language', 'status', 'imdb_id', 'release_date']\n",
    "#for col in fill_cols:\n",
    "#    combined_df[col].fillna(' ', inplace=True)"
   ]
  },
  {
   "cell_type": "code",
   "execution_count": 186,
   "metadata": {
    "ExecuteTime": {
     "end_time": "2020-12-23T07:00:44.702259Z",
     "start_time": "2020-12-23T07:00:44.335173Z"
    }
   },
   "outputs": [
    {
     "data": {
      "text/plain": [
       "belongs_to_collection    870552\n",
       "homepage                 868936\n",
       "runtime                      91\n",
       "original_language             3\n",
       "rating                        0\n",
       "production_companies          0\n",
       "budget                        0\n",
       "genres                        0\n",
       "original_title                0\n",
       "popularity                    0\n",
       "production_countries          0\n",
       "num_genres                    0\n",
       "revenue                       0\n",
       "spoken_languages              0\n",
       "vote_average                  0\n",
       "vote_count                    0\n",
       "year                          0\n",
       "day                           0\n",
       "month                         0\n",
       "adult                         0\n",
       "dtype: int64"
      ]
     },
     "execution_count": 186,
     "metadata": {},
     "output_type": "execute_result"
    }
   ],
   "source": [
    "model_df.isnull().sum().sort_values(ascending=False)"
   ]
  },
  {
   "cell_type": "code",
   "execution_count": 187,
   "metadata": {
    "ExecuteTime": {
     "end_time": "2020-12-23T07:00:44.719150Z",
     "start_time": "2020-12-23T07:00:44.711168Z"
    }
   },
   "outputs": [],
   "source": [
    "#combined_df['runtime'].fillna(combined_df['runtime'].mean(), inplace=True)"
   ]
  },
  {
   "cell_type": "code",
   "execution_count": 188,
   "metadata": {
    "ExecuteTime": {
     "end_time": "2020-12-23T07:00:44.729120Z",
     "start_time": "2020-12-23T07:00:44.725132Z"
    }
   },
   "outputs": [],
   "source": [
    "#cols_fill = ['year', 'month', 'day']\n",
    "#for col in cols_fill:\n",
    "#    combined_df[col] = combined_df[col].fillna(combined_df[col].mean())"
   ]
  },
  {
   "cell_type": "code",
   "execution_count": 189,
   "metadata": {
    "ExecuteTime": {
     "end_time": "2020-12-23T07:00:44.768015Z",
     "start_time": "2020-12-23T07:00:44.733123Z"
    }
   },
   "outputs": [
    {
     "data": {
      "text/plain": [
       "8.0     313827\n",
       "6.0     258086\n",
       "10.0    177612\n",
       "7.0     115695\n",
       "4.0      81467\n",
       "9.0      80798\n",
       "5.0      47032\n",
       "2.0      39270\n",
       "3.0      14859\n",
       "1.0      14204\n",
       "Name: rating, dtype: int64"
      ]
     },
     "execution_count": 189,
     "metadata": {},
     "output_type": "execute_result"
    }
   ],
   "source": [
    "combined_df['rating'].value_counts().head(10)"
   ]
  },
  {
   "cell_type": "code",
   "execution_count": 190,
   "metadata": {
    "ExecuteTime": {
     "end_time": "2020-12-23T07:00:44.795942Z",
     "start_time": "2020-12-23T07:00:44.770010Z"
    }
   },
   "outputs": [
    {
     "data": {
      "text/plain": [
       "5792"
      ]
     },
     "execution_count": 190,
     "metadata": {},
     "output_type": "execute_result"
    }
   ],
   "source": [
    "combined_df['id'].nunique()"
   ]
  },
  {
   "cell_type": "code",
   "execution_count": 191,
   "metadata": {
    "ExecuteTime": {
     "end_time": "2020-12-23T07:00:44.865755Z",
     "start_time": "2020-12-23T07:00:44.800928Z"
    }
   },
   "outputs": [
    {
     "data": {
      "text/plain": [
       "26543"
      ]
     },
     "execution_count": 191,
     "metadata": {},
     "output_type": "execute_result"
    }
   ],
   "source": [
    "combined_df['userId'].nunique()"
   ]
  },
  {
   "cell_type": "code",
   "execution_count": 192,
   "metadata": {
    "ExecuteTime": {
     "end_time": "2020-12-23T07:00:44.872737Z",
     "start_time": "2020-12-23T07:00:44.867750Z"
    }
   },
   "outputs": [],
   "source": [
    "#combined_df['userId'] = combined_df['userId'].astype(int)"
   ]
  },
  {
   "cell_type": "code",
   "execution_count": 193,
   "metadata": {
    "ExecuteTime": {
     "end_time": "2020-12-23T07:00:44.988429Z",
     "start_time": "2020-12-23T07:00:44.875728Z"
    }
   },
   "outputs": [
    {
     "data": {
      "text/plain": [
       "8659.0     3022\n",
       "24025.0    1346\n",
       "3437.0     1092\n",
       "25808.0    1059\n",
       "5829.0     1059\n",
       "5620.0     1024\n",
       "13839.0    1003\n",
       "19580.0     998\n",
       "6513.0      974\n",
       "17211.0     973\n",
       "Name: userId, dtype: int64"
      ]
     },
     "execution_count": 193,
     "metadata": {},
     "output_type": "execute_result"
    }
   ],
   "source": [
    "combined_df['userId'].value_counts().head(10)"
   ]
  },
  {
   "cell_type": "code",
   "execution_count": 194,
   "metadata": {
    "ExecuteTime": {
     "end_time": "2020-12-23T07:00:45.146005Z",
     "start_time": "2020-12-23T07:00:44.991420Z"
    }
   },
   "outputs": [
    {
     "data": {
      "text/html": [
       "<div>\n",
       "<style scoped>\n",
       "    .dataframe tbody tr th:only-of-type {\n",
       "        vertical-align: middle;\n",
       "    }\n",
       "\n",
       "    .dataframe tbody tr th {\n",
       "        vertical-align: top;\n",
       "    }\n",
       "\n",
       "    .dataframe thead th {\n",
       "        text-align: right;\n",
       "    }\n",
       "</style>\n",
       "<table border=\"1\" class=\"dataframe\">\n",
       "  <thead>\n",
       "    <tr style=\"text-align: right;\">\n",
       "      <th></th>\n",
       "      <th>original_title</th>\n",
       "      <th>rating</th>\n",
       "    </tr>\n",
       "  </thead>\n",
       "  <tbody>\n",
       "    <tr>\n",
       "      <th>0</th>\n",
       "      <td>!Women Art Revolution</td>\n",
       "      <td>6.119565</td>\n",
       "    </tr>\n",
       "    <tr>\n",
       "      <th>1</th>\n",
       "      <td>$5 a Day</td>\n",
       "      <td>4.888889</td>\n",
       "    </tr>\n",
       "    <tr>\n",
       "      <th>2</th>\n",
       "      <td>'Gator Bait</td>\n",
       "      <td>7.047619</td>\n",
       "    </tr>\n",
       "    <tr>\n",
       "      <th>3</th>\n",
       "      <td>'R Xmas</td>\n",
       "      <td>6.600000</td>\n",
       "    </tr>\n",
       "    <tr>\n",
       "      <th>4</th>\n",
       "      <td>'Twas the Night Before Christmas</td>\n",
       "      <td>7.512195</td>\n",
       "    </tr>\n",
       "    <tr>\n",
       "      <th>...</th>\n",
       "      <td>...</td>\n",
       "      <td>...</td>\n",
       "    </tr>\n",
       "    <tr>\n",
       "      <th>5709</th>\n",
       "      <td>헬로우 고스트</td>\n",
       "      <td>6.588235</td>\n",
       "    </tr>\n",
       "    <tr>\n",
       "      <th>5710</th>\n",
       "      <td>형사 Duelist</td>\n",
       "      <td>7.000000</td>\n",
       "    </tr>\n",
       "    <tr>\n",
       "      <th>5711</th>\n",
       "      <td>활</td>\n",
       "      <td>7.714894</td>\n",
       "    </tr>\n",
       "    <tr>\n",
       "      <th>5712</th>\n",
       "      <td>회사원</td>\n",
       "      <td>7.000000</td>\n",
       "    </tr>\n",
       "    <tr>\n",
       "      <th>5713</th>\n",
       "      <td>２０世紀少年&lt; 第1章&gt; 終わりの始まり</td>\n",
       "      <td>6.000000</td>\n",
       "    </tr>\n",
       "  </tbody>\n",
       "</table>\n",
       "<p>5714 rows × 2 columns</p>\n",
       "</div>"
      ],
      "text/plain": [
       "                        original_title    rating\n",
       "0                !Women Art Revolution  6.119565\n",
       "1                             $5 a Day  4.888889\n",
       "2                          'Gator Bait  7.047619\n",
       "3                              'R Xmas  6.600000\n",
       "4     'Twas the Night Before Christmas  7.512195\n",
       "...                                ...       ...\n",
       "5709                           헬로우 고스트  6.588235\n",
       "5710                        형사 Duelist  7.000000\n",
       "5711                                 활  7.714894\n",
       "5712                               회사원  7.000000\n",
       "5713              ２０世紀少年< 第1章> 終わりの始まり  6.000000\n",
       "\n",
       "[5714 rows x 2 columns]"
      ]
     },
     "execution_count": 194,
     "metadata": {},
     "output_type": "execute_result"
    }
   ],
   "source": [
    "combined_df.groupby('original_title')['rating'].mean().reset_index(name= 'rating')"
   ]
  },
  {
   "cell_type": "code",
   "execution_count": 195,
   "metadata": {
    "ExecuteTime": {
     "end_time": "2020-12-23T07:00:45.414288Z",
     "start_time": "2020-12-23T07:00:45.153984Z"
    }
   },
   "outputs": [
    {
     "data": {
      "text/html": [
       "<div>\n",
       "<style scoped>\n",
       "    .dataframe tbody tr th:only-of-type {\n",
       "        vertical-align: middle;\n",
       "    }\n",
       "\n",
       "    .dataframe tbody tr th {\n",
       "        vertical-align: top;\n",
       "    }\n",
       "\n",
       "    .dataframe thead th {\n",
       "        text-align: right;\n",
       "    }\n",
       "</style>\n",
       "<table border=\"1\" class=\"dataframe\">\n",
       "  <thead>\n",
       "    <tr style=\"text-align: right;\">\n",
       "      <th></th>\n",
       "      <th>rating</th>\n",
       "      <th>num_ratings</th>\n",
       "    </tr>\n",
       "    <tr>\n",
       "      <th>original_title</th>\n",
       "      <th></th>\n",
       "      <th></th>\n",
       "    </tr>\n",
       "  </thead>\n",
       "  <tbody>\n",
       "    <tr>\n",
       "      <th>The Million Dollar Hotel</th>\n",
       "      <td>8.833604</td>\n",
       "      <td>9231</td>\n",
       "    </tr>\n",
       "    <tr>\n",
       "      <th>Terminator 3: Rise of the Machines</th>\n",
       "      <td>8.370379</td>\n",
       "      <td>8764</td>\n",
       "    </tr>\n",
       "    <tr>\n",
       "      <th>Солярис</th>\n",
       "      <td>8.298545</td>\n",
       "      <td>8451</td>\n",
       "    </tr>\n",
       "    <tr>\n",
       "      <th>The 39 Steps</th>\n",
       "      <td>8.243449</td>\n",
       "      <td>7747</td>\n",
       "    </tr>\n",
       "    <tr>\n",
       "      <th>Monsoon Wedding</th>\n",
       "      <td>7.305544</td>\n",
       "      <td>7521</td>\n",
       "    </tr>\n",
       "    <tr>\n",
       "      <th>Once Were Warriors</th>\n",
       "      <td>8.508099</td>\n",
       "      <td>6853</td>\n",
       "    </tr>\n",
       "    <tr>\n",
       "      <th>Trois couleurs : Rouge</th>\n",
       "      <td>8.023949</td>\n",
       "      <td>6639</td>\n",
       "    </tr>\n",
       "    <tr>\n",
       "      <th>License to Wed</th>\n",
       "      <td>8.448151</td>\n",
       "      <td>6056</td>\n",
       "    </tr>\n",
       "    <tr>\n",
       "      <th>La passion de Jeanne d'Arc</th>\n",
       "      <td>6.774511</td>\n",
       "      <td>5783</td>\n",
       "    </tr>\n",
       "    <tr>\n",
       "      <th>48 Hrs.</th>\n",
       "      <td>7.744198</td>\n",
       "      <td>5774</td>\n",
       "    </tr>\n",
       "  </tbody>\n",
       "</table>\n",
       "</div>"
      ],
      "text/plain": [
       "                                      rating  num_ratings\n",
       "original_title                                           \n",
       "The Million Dollar Hotel            8.833604         9231\n",
       "Terminator 3: Rise of the Machines  8.370379         8764\n",
       "Солярис                             8.298545         8451\n",
       "The 39 Steps                        8.243449         7747\n",
       "Monsoon Wedding                     7.305544         7521\n",
       "Once Were Warriors                  8.508099         6853\n",
       "Trois couleurs : Rouge              8.023949         6639\n",
       "License to Wed                      8.448151         6056\n",
       "La passion de Jeanne d'Arc          6.774511         5783\n",
       "48 Hrs.                             7.744198         5774"
      ]
     },
     "execution_count": 195,
     "metadata": {},
     "output_type": "execute_result"
    }
   ],
   "source": [
    "ratings_df = pd.DataFrame(combined_df.groupby('original_title')['rating'].mean())  \n",
    "  \n",
    "ratings_df['num_ratings'] = pd.DataFrame(combined_df.groupby('original_title')['rating'].count()) \n",
    "  \n",
    "ratings_df.sort_values(by='num_ratings', ascending=False).head(10) "
   ]
  },
  {
   "cell_type": "code",
   "execution_count": 196,
   "metadata": {
    "ExecuteTime": {
     "end_time": "2020-12-23T07:00:45.570873Z",
     "start_time": "2020-12-23T07:00:45.417280Z"
    }
   },
   "outputs": [
    {
     "data": {
      "text/html": [
       "<div>\n",
       "<style scoped>\n",
       "    .dataframe tbody tr th:only-of-type {\n",
       "        vertical-align: middle;\n",
       "    }\n",
       "\n",
       "    .dataframe tbody tr th {\n",
       "        vertical-align: top;\n",
       "    }\n",
       "\n",
       "    .dataframe thead th {\n",
       "        text-align: right;\n",
       "    }\n",
       "</style>\n",
       "<table border=\"1\" class=\"dataframe\">\n",
       "  <thead>\n",
       "    <tr style=\"text-align: right;\">\n",
       "      <th></th>\n",
       "      <th>budget</th>\n",
       "      <th>revenue</th>\n",
       "      <th>profit</th>\n",
       "    </tr>\n",
       "    <tr>\n",
       "      <th>original_title</th>\n",
       "      <th></th>\n",
       "      <th></th>\n",
       "      <th></th>\n",
       "    </tr>\n",
       "  </thead>\n",
       "  <tbody>\n",
       "    <tr>\n",
       "      <th>Titanic</th>\n",
       "      <td>1.469177e+08</td>\n",
       "      <td>1.321298e+09</td>\n",
       "      <td>1.174380e+09</td>\n",
       "    </tr>\n",
       "    <tr>\n",
       "      <th>Avengers: Age of Ultron</th>\n",
       "      <td>2.800000e+08</td>\n",
       "      <td>1.405404e+09</td>\n",
       "      <td>1.125404e+09</td>\n",
       "    </tr>\n",
       "    <tr>\n",
       "      <th>The Lord of the Rings: The Return of the King</th>\n",
       "      <td>9.400000e+07</td>\n",
       "      <td>1.118889e+09</td>\n",
       "      <td>1.024889e+09</td>\n",
       "    </tr>\n",
       "    <tr>\n",
       "      <th>Pirates of the Caribbean: Dead Man's Chest</th>\n",
       "      <td>2.000000e+08</td>\n",
       "      <td>1.065660e+09</td>\n",
       "      <td>8.656598e+08</td>\n",
       "    </tr>\n",
       "    <tr>\n",
       "      <th>Jurassic Park</th>\n",
       "      <td>6.300000e+07</td>\n",
       "      <td>9.201000e+08</td>\n",
       "      <td>8.571000e+08</td>\n",
       "    </tr>\n",
       "    <tr>\n",
       "      <th>Harry Potter and the Philosopher's Stone</th>\n",
       "      <td>1.250000e+08</td>\n",
       "      <td>9.764756e+08</td>\n",
       "      <td>8.514756e+08</td>\n",
       "    </tr>\n",
       "    <tr>\n",
       "      <th>The Lord of the Rings: The Two Towers</th>\n",
       "      <td>7.900000e+07</td>\n",
       "      <td>9.262874e+08</td>\n",
       "      <td>8.472874e+08</td>\n",
       "    </tr>\n",
       "    <tr>\n",
       "      <th>Finding Nemo</th>\n",
       "      <td>9.400000e+07</td>\n",
       "      <td>9.403355e+08</td>\n",
       "      <td>8.463355e+08</td>\n",
       "    </tr>\n",
       "    <tr>\n",
       "      <th>The Dark Knight</th>\n",
       "      <td>1.850000e+08</td>\n",
       "      <td>1.004558e+09</td>\n",
       "      <td>8.195584e+08</td>\n",
       "    </tr>\n",
       "  </tbody>\n",
       "</table>\n",
       "</div>"
      ],
      "text/plain": [
       "                                                     budget       revenue  \\\n",
       "original_title                                                              \n",
       "Titanic                                        1.469177e+08  1.321298e+09   \n",
       "Avengers: Age of Ultron                        2.800000e+08  1.405404e+09   \n",
       "The Lord of the Rings: The Return of the King  9.400000e+07  1.118889e+09   \n",
       "Pirates of the Caribbean: Dead Man's Chest     2.000000e+08  1.065660e+09   \n",
       "Jurassic Park                                  6.300000e+07  9.201000e+08   \n",
       "Harry Potter and the Philosopher's Stone       1.250000e+08  9.764756e+08   \n",
       "The Lord of the Rings: The Two Towers          7.900000e+07  9.262874e+08   \n",
       "Finding Nemo                                   9.400000e+07  9.403355e+08   \n",
       "The Dark Knight                                1.850000e+08  1.004558e+09   \n",
       "\n",
       "                                                     profit  \n",
       "original_title                                               \n",
       "Titanic                                        1.174380e+09  \n",
       "Avengers: Age of Ultron                        1.125404e+09  \n",
       "The Lord of the Rings: The Return of the King  1.024889e+09  \n",
       "Pirates of the Caribbean: Dead Man's Chest     8.656598e+08  \n",
       "Jurassic Park                                  8.571000e+08  \n",
       "Harry Potter and the Philosopher's Stone       8.514756e+08  \n",
       "The Lord of the Rings: The Two Towers          8.472874e+08  \n",
       "Finding Nemo                                   8.463355e+08  \n",
       "The Dark Knight                                8.195584e+08  "
      ]
     },
     "execution_count": 196,
     "metadata": {},
     "output_type": "execute_result"
    }
   ],
   "source": [
    "return_df = pd.DataFrame(combined_df.groupby('original_title')[['budget', 'revenue']].mean())\n",
    "return_df['profit'] = return_df['revenue'] - return_df['budget']\n",
    "return_df.sort_values(by='profit', ascending=False)[0:9]"
   ]
  },
  {
   "cell_type": "code",
   "execution_count": 197,
   "metadata": {
    "ExecuteTime": {
     "end_time": "2020-12-23T07:00:46.191789Z",
     "start_time": "2020-12-23T07:00:45.573862Z"
    }
   },
   "outputs": [
    {
     "name": "stderr",
     "output_type": "stream",
     "text": [
      "C:\\Users\\sathw\\anaconda3\\lib\\site-packages\\seaborn\\distributions.py:2551: FutureWarning: `distplot` is a deprecated function and will be removed in a future version. Please adapt your code to use either `displot` (a figure-level function with similar flexibility) or `histplot` (an axes-level function for histograms).\n",
      "  warnings.warn(msg, FutureWarning)\n"
     ]
    },
    {
     "data": {
      "image/png": "[encoded data removed]",
      "text/plain": [
       "<Figure size 432x288 with 1 Axes>"
      ]
     },
     "metadata": {
      "needs_background": "light"
     },
     "output_type": "display_data"
    }
   ],
   "source": [
    "_ = sns.distplot(ratings_df['num_ratings'])\n",
    "_ = plt.xlim([0,500])\n",
    "plt.show()"
   ]
  },
  {
   "cell_type": "code",
   "execution_count": 198,
   "metadata": {
    "ExecuteTime": {
     "end_time": "2020-12-23T07:00:46.505949Z",
     "start_time": "2020-12-23T07:00:46.194782Z"
    }
   },
   "outputs": [
    {
     "name": "stderr",
     "output_type": "stream",
     "text": [
      "C:\\Users\\sathw\\anaconda3\\lib\\site-packages\\seaborn\\distributions.py:2551: FutureWarning: `distplot` is a deprecated function and will be removed in a future version. Please adapt your code to use either `displot` (a figure-level function with similar flexibility) or `histplot` (an axes-level function for histograms).\n",
      "  warnings.warn(msg, FutureWarning)\n"
     ]
    },
    {
     "data": {
      "image/png": "[encoded data removed]",
      "text/plain": [
       "<Figure size 432x288 with 1 Axes>"
      ]
     },
     "metadata": {
      "needs_background": "light"
     },
     "output_type": "display_data"
    }
   ],
   "source": [
    "_ = sns.distplot(ratings_df['rating'])\n",
    "_ = plt.xlim([0,10])\n",
    "plt.show()"
   ]
  },
  {
   "cell_type": "code",
   "execution_count": 199,
   "metadata": {
    "ExecuteTime": {
     "end_time": "2020-12-23T07:00:46.675341Z",
     "start_time": "2020-12-23T07:00:46.507943Z"
    }
   },
   "outputs": [
    {
     "data": {
      "image/png": "[encoded data removed]",
      "text/plain": [
       "<Figure size 432x288 with 1 Axes>"
      ]
     },
     "metadata": {
      "needs_background": "light"
     },
     "output_type": "display_data"
    }
   ],
   "source": [
    "_ = plt.hist(ratings_df['rating'], bins=10)\n",
    "_ = plt.xlim([0,10])\n",
    "plt.show()"
   ]
  },
  {
   "cell_type": "code",
   "execution_count": 200,
   "metadata": {
    "ExecuteTime": {
     "end_time": "2020-12-23T07:00:49.438303Z",
     "start_time": "2020-12-23T07:00:46.678266Z"
    }
   },
   "outputs": [
    {
     "data": {
      "image/png": "[encoded data removed]",
      "text/plain": [
       "<Figure size 1440x720 with 2 Axes>"
      ]
     },
     "metadata": {
      "needs_background": "light"
     },
     "output_type": "display_data"
    }
   ],
   "source": [
    "_ = plt.figure(figsize=(20,10))\n",
    "_ = sns.heatmap(model_df.corr(), square=True, cmap=\"YlGnBu\", annot=True)\n",
    "_ = plt.title(\"Heatmap for Features\")\n",
    "plt.show()"
   ]
  },
  {
   "cell_type": "code",
   "execution_count": 201,
   "metadata": {
    "ExecuteTime": {
     "end_time": "2020-12-23T07:00:49.450310Z",
     "start_time": "2020-12-23T07:00:49.441294Z"
    }
   },
   "outputs": [
    {
     "data": {
      "text/plain": [
       "adult                       bool\n",
       "belongs_to_collection     object\n",
       "budget                   float64\n",
       "genres                    object\n",
       "homepage                  object\n",
       "original_language         object\n",
       "original_title            object\n",
       "popularity               float64\n",
       "production_companies      object\n",
       "production_countries      object\n",
       "revenue                  float64\n",
       "runtime                  float64\n",
       "spoken_languages          object\n",
       "vote_average             float64\n",
       "vote_count               float64\n",
       "year                     float64\n",
       "day                      float64\n",
       "month                    float64\n",
       "num_genres                 int64\n",
       "rating                   float64\n",
       "dtype: object"
      ]
     },
     "execution_count": 201,
     "metadata": {},
     "output_type": "execute_result"
    }
   ],
   "source": [
    "model_df.dtypes"
   ]
  },
  {
   "cell_type": "code",
   "execution_count": 202,
   "metadata": {
    "ExecuteTime": {
     "end_time": "2020-12-23T07:00:49.549007Z",
     "start_time": "2020-12-23T07:00:49.453265Z"
    }
   },
   "outputs": [],
   "source": [
    "model_df['original_language'].fillna('', inplace=True)"
   ]
  },
  {
   "cell_type": "code",
   "execution_count": 203,
   "metadata": {
    "ExecuteTime": {
     "end_time": "2020-12-23T07:00:49.556985Z",
     "start_time": "2020-12-23T07:00:49.551999Z"
    }
   },
   "outputs": [],
   "source": [
    "#model_df = model_df.dropna(['rating','month', 'day', 'year'])"
   ]
  },
  {
   "cell_type": "code",
   "execution_count": 204,
   "metadata": {
    "ExecuteTime": {
     "end_time": "2020-12-23T07:00:49.961902Z",
     "start_time": "2020-12-23T07:00:49.559977Z"
    }
   },
   "outputs": [
    {
     "data": {
      "text/plain": [
       "adult                         0\n",
       "belongs_to_collection    870552\n",
       "budget                        0\n",
       "genres                        0\n",
       "homepage                 868936\n",
       "original_language             0\n",
       "original_title                0\n",
       "popularity                    0\n",
       "production_companies          0\n",
       "production_countries          0\n",
       "revenue                       0\n",
       "runtime                      91\n",
       "spoken_languages              0\n",
       "vote_average                  0\n",
       "vote_count                    0\n",
       "year                          0\n",
       "day                           0\n",
       "month                         0\n",
       "num_genres                    0\n",
       "rating                        0\n",
       "dtype: int64"
      ]
     },
     "execution_count": 204,
     "metadata": {},
     "output_type": "execute_result"
    }
   ],
   "source": [
    "model_df.isnull().sum()"
   ]
  },
  {
   "cell_type": "code",
   "execution_count": 205,
   "metadata": {
    "ExecuteTime": {
     "end_time": "2020-12-23T07:00:51.230041Z",
     "start_time": "2020-12-23T07:00:49.963898Z"
    }
   },
   "outputs": [
    {
     "data": {
      "text/html": [
       "<div>\n",
       "<style scoped>\n",
       "    .dataframe tbody tr th:only-of-type {\n",
       "        vertical-align: middle;\n",
       "    }\n",
       "\n",
       "    .dataframe tbody tr th {\n",
       "        vertical-align: top;\n",
       "    }\n",
       "\n",
       "    .dataframe thead th {\n",
       "        text-align: right;\n",
       "    }\n",
       "</style>\n",
       "<table border=\"1\" class=\"dataframe\">\n",
       "  <thead>\n",
       "    <tr style=\"text-align: right;\">\n",
       "      <th></th>\n",
       "      <th>count</th>\n",
       "      <th>% of 0s</th>\n",
       "    </tr>\n",
       "  </thead>\n",
       "  <tbody>\n",
       "    <tr>\n",
       "      <th>adult</th>\n",
       "      <td>1142820</td>\n",
       "      <td>99.997375</td>\n",
       "    </tr>\n",
       "    <tr>\n",
       "      <th>revenue</th>\n",
       "      <td>528494</td>\n",
       "      <td>46.243514</td>\n",
       "    </tr>\n",
       "    <tr>\n",
       "      <th>budget</th>\n",
       "      <td>504085</td>\n",
       "      <td>44.107713</td>\n",
       "    </tr>\n",
       "    <tr>\n",
       "      <th>vote_average</th>\n",
       "      <td>6639</td>\n",
       "      <td>0.580916</td>\n",
       "    </tr>\n",
       "    <tr>\n",
       "      <th>vote_count</th>\n",
       "      <td>5103</td>\n",
       "      <td>0.446515</td>\n",
       "    </tr>\n",
       "    <tr>\n",
       "      <th>num_genres</th>\n",
       "      <td>4788</td>\n",
       "      <td>0.418953</td>\n",
       "    </tr>\n",
       "    <tr>\n",
       "      <th>runtime</th>\n",
       "      <td>2087</td>\n",
       "      <td>0.182614</td>\n",
       "    </tr>\n",
       "    <tr>\n",
       "      <th>popularity</th>\n",
       "      <td>1</td>\n",
       "      <td>0.000088</td>\n",
       "    </tr>\n",
       "    <tr>\n",
       "      <th>production_companies</th>\n",
       "      <td>0</td>\n",
       "      <td>0.000000</td>\n",
       "    </tr>\n",
       "    <tr>\n",
       "      <th>production_countries</th>\n",
       "      <td>0</td>\n",
       "      <td>0.000000</td>\n",
       "    </tr>\n",
       "    <tr>\n",
       "      <th>belongs_to_collection</th>\n",
       "      <td>0</td>\n",
       "      <td>0.000000</td>\n",
       "    </tr>\n",
       "    <tr>\n",
       "      <th>genres</th>\n",
       "      <td>0</td>\n",
       "      <td>0.000000</td>\n",
       "    </tr>\n",
       "    <tr>\n",
       "      <th>spoken_languages</th>\n",
       "      <td>0</td>\n",
       "      <td>0.000000</td>\n",
       "    </tr>\n",
       "    <tr>\n",
       "      <th>original_title</th>\n",
       "      <td>0</td>\n",
       "      <td>0.000000</td>\n",
       "    </tr>\n",
       "    <tr>\n",
       "      <th>original_language</th>\n",
       "      <td>0</td>\n",
       "      <td>0.000000</td>\n",
       "    </tr>\n",
       "    <tr>\n",
       "      <th>year</th>\n",
       "      <td>0</td>\n",
       "      <td>0.000000</td>\n",
       "    </tr>\n",
       "    <tr>\n",
       "      <th>day</th>\n",
       "      <td>0</td>\n",
       "      <td>0.000000</td>\n",
       "    </tr>\n",
       "    <tr>\n",
       "      <th>month</th>\n",
       "      <td>0</td>\n",
       "      <td>0.000000</td>\n",
       "    </tr>\n",
       "    <tr>\n",
       "      <th>homepage</th>\n",
       "      <td>0</td>\n",
       "      <td>0.000000</td>\n",
       "    </tr>\n",
       "    <tr>\n",
       "      <th>rating</th>\n",
       "      <td>0</td>\n",
       "      <td>0.000000</td>\n",
       "    </tr>\n",
       "  </tbody>\n",
       "</table>\n",
       "</div>"
      ],
      "text/plain": [
       "                         count    % of 0s\n",
       "adult                  1142820  99.997375\n",
       "revenue                 528494  46.243514\n",
       "budget                  504085  44.107713\n",
       "vote_average              6639   0.580916\n",
       "vote_count                5103   0.446515\n",
       "num_genres                4788   0.418953\n",
       "runtime                   2087   0.182614\n",
       "popularity                   1   0.000088\n",
       "production_companies         0   0.000000\n",
       "production_countries         0   0.000000\n",
       "belongs_to_collection        0   0.000000\n",
       "genres                       0   0.000000\n",
       "spoken_languages             0   0.000000\n",
       "original_title               0   0.000000\n",
       "original_language            0   0.000000\n",
       "year                         0   0.000000\n",
       "day                          0   0.000000\n",
       "month                        0   0.000000\n",
       "homepage                     0   0.000000\n",
       "rating                       0   0.000000"
      ]
     },
     "execution_count": 205,
     "metadata": {},
     "output_type": "execute_result"
    }
   ],
   "source": [
    "zeros = pd.concat([(model_df == 0).astype(int).sum(axis=0), 100 * (model_df == 0).astype(int).mean(axis=0)], axis=1)\n",
    "zeros.columns=['count', '% of 0s']\n",
    "zeros.sort_values(by='% of 0s', ascending = False)"
   ]
  },
  {
   "cell_type": "code",
   "execution_count": 206,
   "metadata": {
    "ExecuteTime": {
     "end_time": "2020-12-23T07:00:51.244003Z",
     "start_time": "2020-12-23T07:00:51.234031Z"
    }
   },
   "outputs": [],
   "source": [
    "def total_nums(df, genre):    \n",
    "    pattern = [genre] \n",
    "    jk= '|'.join(pattern)\n",
    "    return df.genres.str.contains(jk).sum()"
   ]
  },
  {
   "cell_type": "code",
   "execution_count": 207,
   "metadata": {
    "ExecuteTime": {
     "end_time": "2020-12-23T07:00:51.257966Z",
     "start_time": "2020-12-23T07:00:51.248996Z"
    }
   },
   "outputs": [],
   "source": [
    "def contains_genre(df, genre):\n",
    "    pattern = [genre] \n",
    "    jk= '|'.join(pattern)\n",
    "    df['is_' + str(genre)] = df.genres.str.contains(jk).astype(int)\n",
    "    return df['is_' + str(genre)]"
   ]
  },
  {
   "cell_type": "code",
   "execution_count": 208,
   "metadata": {
    "ExecuteTime": {
     "end_time": "2020-12-23T07:00:51.479374Z",
     "start_time": "2020-12-23T07:00:51.261955Z"
    },
    "scrolled": true
   },
   "outputs": [
    {
     "data": {
      "text/plain": [
       "['Drama']                         126664\n",
       "['Comedy']                         50701\n",
       "['Drama', 'Romance']               41699\n",
       "['Comedy', 'Drama', 'Romance']     38080\n",
       "['Comedy', 'Drama']                32820\n",
       "['Drama', 'Thriller']              21889\n",
       "['Drama', 'History']               18696\n",
       "['Comedy', 'Romance']              18223\n",
       "['Crime', 'Drama']                 17331\n",
       "['Horror']                         16171\n",
       "Name: genres, dtype: int64"
      ]
     },
     "execution_count": 208,
     "metadata": {},
     "output_type": "execute_result"
    }
   ],
   "source": [
    "model_df.genres.value_counts().sort_values(ascending=False).head(10)"
   ]
  },
  {
   "cell_type": "code",
   "execution_count": 209,
   "metadata": {
    "ExecuteTime": {
     "end_time": "2020-12-23T07:01:00.109248Z",
     "start_time": "2020-12-23T07:00:51.482366Z"
    }
   },
   "outputs": [
    {
     "name": "stdout",
     "output_type": "stream",
     "text": [
      "Science Fiction:  138751\n",
      "Western:  26287\n",
      "Drama:  659031\n",
      "Romance:  210300\n",
      "Comedy:  324476\n",
      "Thriller:  290268\n",
      "Horror:  92486\n",
      "Crime:  196502\n",
      "Family:  58157\n",
      "Action:  226776\n",
      "Adventure:  159896\n",
      "Fantasy:  85903\n"
     ]
    }
   ],
   "source": [
    "cols = ['Science Fiction', 'Western', 'Drama', 'Romance', 'Comedy', 'Thriller', 'Horror', \n",
    "        'Crime', 'Family', 'Action', 'Adventure', 'Fantasy']\n",
    "for col in cols:\n",
    "    print(col + ': ', total_nums(model_df,col))"
   ]
  },
  {
   "cell_type": "code",
   "execution_count": 210,
   "metadata": {
    "ExecuteTime": {
     "end_time": "2020-12-23T07:01:00.125231Z",
     "start_time": "2020-12-23T07:01:00.109248Z"
    }
   },
   "outputs": [
    {
     "data": {
      "text/plain": [
       "0          ['Pixar Animation Studios']\n",
       "1          ['Pixar Animation Studios']\n",
       "2          ['Pixar Animation Studios']\n",
       "3          ['Pixar Animation Studios']\n",
       "4          ['Pixar Animation Studios']\n",
       "                      ...             \n",
       "1183187          ['Star Film Company']\n",
       "1183188          ['Star Film Company']\n",
       "1183189          ['Star Film Company']\n",
       "1183190          ['Star Film Company']\n",
       "1183202                ['Sine Olivia']\n",
       "Name: production_companies, Length: 1142850, dtype: object"
      ]
     },
     "execution_count": 210,
     "metadata": {},
     "output_type": "execute_result"
    }
   ],
   "source": [
    "model_df['production_companies']"
   ]
  },
  {
   "cell_type": "markdown",
   "metadata": {},
   "source": [
    "## Feature Engineering<a id='1.4_Feature_Engineering'></a>"
   ]
  },
  {
   "cell_type": "markdown",
   "metadata": {},
   "source": [
    "Feature Engineering Tasks:  \n",
    "- **is_\" \"** : boolean variable, indicates 1 if the rating contains one of the most popular genres otherwise 0  \n",
    "- **original_language**: turned into a binary feature, indicates 1 if the film was originally shot in english otherwise 0  \n",
    "- **is_Summer**: boolean variable, indicates 1 if the release date month  of film falls during the summer time (May-September)    \n",
    "- **runtime**: imputed null values with mean"
   ]
  },
  {
   "cell_type": "code",
   "execution_count": 211,
   "metadata": {
    "ExecuteTime": {
     "end_time": "2020-12-23T07:01:00.139698Z",
     "start_time": "2020-12-23T07:01:00.129220Z"
    }
   },
   "outputs": [],
   "source": [
    "def feat_eng(df):\n",
    "    \n",
    "    #df['belongs_to_collection'] = df['belongs_to_collection'].apply(lambda b: 0 if b == np.nan else 1)\n",
    "    #df['homepage'] = df['homepage'].apply(lambda b: 0 if b == np.nan else 1)\n",
    "    genres = ['Drama', 'Comedy', 'Thriller']\n",
    "    for genre in genres:\n",
    "        df['is_' + str(genre)] = contains_genre(df, genre)\n",
    "    \n",
    "    df['original_language'] = df['original_language'].apply(lambda l: 1 if l == 'en' else 0)\n",
    "    \n",
    "    #df['production_companies'] = df['production_companies'].apply(lambda x: len(x))\n",
    "    #df['production_countries'] = df['production_countries'].apply(lambda x: len(x))\n",
    "    df['is_Summer'] = df['month'].apply(lambda x: 1 if x in [5.0,6.0,7.0,8.0,9.0] else 0)\n",
    "    \n",
    "    #df['spoken_languages'] = df['spoken_languages'].apply(lambda s: 1 if s == 'English' else 0)\n",
    "    df['runtime'] = df['runtime'].fillna(combined_df['runtime'].mean())\n",
    "    df = df.drop(['original_title', 'adult','genres', 'homepage', 'belongs_to_collection', \n",
    "                  'production_companies', 'production_countries','spoken_languages'], axis=1)\n",
    "    return df"
   ]
  },
  {
   "cell_type": "markdown",
   "metadata": {},
   "source": [
    "This function one hot encodes columns production companies and production countries. After performing pd.get_dummies(), only keeping the top 10 best performing combinations as features for the models."
   ]
  },
  {
   "cell_type": "code",
   "execution_count": 212,
   "metadata": {
    "ExecuteTime": {
     "end_time": "2020-12-23T07:01:00.149671Z",
     "start_time": "2020-12-23T07:01:00.143691Z"
    }
   },
   "outputs": [],
   "source": [
    "def one_hot_top_x(df, variable, top_x_labels):\n",
    "    for label in top_x_labels:\n",
    "        df[variable + \"_\" + label] = np.where(small_df[variable] == label, 1,0) "
   ]
  },
  {
   "cell_type": "code",
   "execution_count": 213,
   "metadata": {
    "ExecuteTime": {
     "end_time": "2020-12-23T07:01:00.160642Z",
     "start_time": "2020-12-23T07:01:00.152663Z"
    }
   },
   "outputs": [
    {
     "data": {
      "text/plain": [
       "pandas.core.frame.DataFrame"
      ]
     },
     "execution_count": 213,
     "metadata": {},
     "output_type": "execute_result"
    }
   ],
   "source": [
    "type(model_df)"
   ]
  },
  {
   "cell_type": "code",
   "execution_count": 214,
   "metadata": {
    "ExecuteTime": {
     "end_time": "2020-12-23T07:01:00.199540Z",
     "start_time": "2020-12-23T07:01:00.163635Z"
    }
   },
   "outputs": [
    {
     "name": "stdout",
     "output_type": "stream",
     "text": [
      "shape of the dataset:  (1142850, 20)\n"
     ]
    }
   ],
   "source": [
    "print(\"shape of the dataset: \", model_df.shape)"
   ]
  },
  {
   "cell_type": "markdown",
   "metadata": {},
   "source": [
    "## Model Building<a id='1.5_Model_Building'></a>"
   ]
  },
  {
   "cell_type": "code",
   "execution_count": 215,
   "metadata": {
    "ExecuteTime": {
     "end_time": "2020-12-23T07:01:00.366198Z",
     "start_time": "2020-12-23T07:01:00.203528Z"
    }
   },
   "outputs": [],
   "source": [
    "model_df = model_df[(model_df.revenue >0) & (model_df.budget >0) & (model_df.vote_count > 0) & (model_df.runtime >0)]"
   ]
  },
  {
   "cell_type": "code",
   "execution_count": 216,
   "metadata": {
    "ExecuteTime": {
     "end_time": "2020-12-23T07:01:00.414293Z",
     "start_time": "2020-12-23T07:01:00.366198Z"
    }
   },
   "outputs": [],
   "source": [
    "small_df = model_df.sample(frac = 0.01, axis=0)"
   ]
  },
  {
   "cell_type": "code",
   "execution_count": 217,
   "metadata": {
    "ExecuteTime": {
     "end_time": "2020-12-23T07:01:00.425331Z",
     "start_time": "2020-12-23T07:01:00.416289Z"
    }
   },
   "outputs": [
    {
     "data": {
      "text/plain": [
       "(5421, 20)"
      ]
     },
     "execution_count": 217,
     "metadata": {},
     "output_type": "execute_result"
    }
   ],
   "source": [
    "small_df.shape"
   ]
  },
  {
   "cell_type": "code",
   "execution_count": 218,
   "metadata": {
    "ExecuteTime": {
     "end_time": "2020-12-23T07:01:00.434928Z",
     "start_time": "2020-12-23T07:01:00.425331Z"
    }
   },
   "outputs": [
    {
     "data": {
      "text/plain": [
       "pandas.core.frame.DataFrame"
      ]
     },
     "execution_count": 218,
     "metadata": {},
     "output_type": "execute_result"
    }
   ],
   "source": [
    "type(small_df)"
   ]
  },
  {
   "cell_type": "code",
   "execution_count": 219,
   "metadata": {
    "ExecuteTime": {
     "end_time": "2020-12-23T07:01:00.443904Z",
     "start_time": "2020-12-23T07:01:00.438918Z"
    }
   },
   "outputs": [],
   "source": [
    "def change(col):\n",
    "    print(col)\n",
    "    if not col:\n",
    "        return \"missing\"\n",
    "    return \"_\".join(col)\n",
    "#if-else"
   ]
  },
  {
   "cell_type": "code",
   "execution_count": 220,
   "metadata": {
    "ExecuteTime": {
     "end_time": "2020-12-23T07:01:00.451988Z",
     "start_time": "2020-12-23T07:01:00.445186Z"
    }
   },
   "outputs": [],
   "source": [
    "#small_df['production_companies'] = small_df['production_companies'].apply(change)"
   ]
  },
  {
   "cell_type": "code",
   "execution_count": 221,
   "metadata": {
    "ExecuteTime": {
     "end_time": "2020-12-23T07:01:00.602140Z",
     "start_time": "2020-12-23T07:01:00.454982Z"
    }
   },
   "outputs": [
    {
     "data": {
      "text/html": [
       "<div>\n",
       "<style scoped>\n",
       "    .dataframe tbody tr th:only-of-type {\n",
       "        vertical-align: middle;\n",
       "    }\n",
       "\n",
       "    .dataframe tbody tr th {\n",
       "        vertical-align: top;\n",
       "    }\n",
       "\n",
       "    .dataframe thead th {\n",
       "        text-align: right;\n",
       "    }\n",
       "</style>\n",
       "<table border=\"1\" class=\"dataframe\">\n",
       "  <thead>\n",
       "    <tr style=\"text-align: right;\">\n",
       "      <th></th>\n",
       "      <th>adult</th>\n",
       "      <th>belongs_to_collection</th>\n",
       "      <th>budget</th>\n",
       "      <th>genres</th>\n",
       "      <th>homepage</th>\n",
       "      <th>original_language</th>\n",
       "      <th>original_title</th>\n",
       "      <th>popularity</th>\n",
       "      <th>revenue</th>\n",
       "      <th>runtime</th>\n",
       "      <th>...</th>\n",
       "      <th>production_countries_['United States of America', 'Hong Kong', 'United Kingdom']</th>\n",
       "      <th>production_countries_['United States of America', 'India', 'France']</th>\n",
       "      <th>production_countries_['United States of America', 'Italy', 'Spain', 'Germany']</th>\n",
       "      <th>production_countries_['United States of America', 'Morocco']</th>\n",
       "      <th>production_countries_['United States of America', 'Spain']</th>\n",
       "      <th>production_countries_['United States of America', 'United Kingdom', 'Romania', 'Italy']</th>\n",
       "      <th>production_countries_['United States of America', 'United Kingdom']</th>\n",
       "      <th>production_countries_['United States of America']</th>\n",
       "      <th>production_countries_['Uruguay', 'United States of America', 'Germany', 'Paraguay']</th>\n",
       "      <th>production_countries_[]</th>\n",
       "    </tr>\n",
       "  </thead>\n",
       "  <tbody>\n",
       "    <tr>\n",
       "      <th>798284</th>\n",
       "      <td>False</td>\n",
       "      <td>NaN</td>\n",
       "      <td>50000000.0</td>\n",
       "      <td>['Drama', 'Thriller']</td>\n",
       "      <td>http://syrianamovie.warnerbros.com/</td>\n",
       "      <td>en</td>\n",
       "      <td>Syriana</td>\n",
       "      <td>5.768575</td>\n",
       "      <td>94000000.0</td>\n",
       "      <td>128.0</td>\n",
       "      <td>...</td>\n",
       "      <td>0.0</td>\n",
       "      <td>0.0</td>\n",
       "      <td>0.0</td>\n",
       "      <td>0.0</td>\n",
       "      <td>0.0</td>\n",
       "      <td>0.0</td>\n",
       "      <td>0.0</td>\n",
       "      <td>1.0</td>\n",
       "      <td>0.0</td>\n",
       "      <td>0.0</td>\n",
       "    </tr>\n",
       "    <tr>\n",
       "      <th>411777</th>\n",
       "      <td>False</td>\n",
       "      <td>{'id': 1960, 'name': 'Evil Dead Collection', '...</td>\n",
       "      <td>350000.0</td>\n",
       "      <td>['Horror']</td>\n",
       "      <td>NaN</td>\n",
       "      <td>en</td>\n",
       "      <td>The Evil Dead</td>\n",
       "      <td>10.421679</td>\n",
       "      <td>29400000.0</td>\n",
       "      <td>85.0</td>\n",
       "      <td>...</td>\n",
       "      <td>0.0</td>\n",
       "      <td>0.0</td>\n",
       "      <td>0.0</td>\n",
       "      <td>0.0</td>\n",
       "      <td>0.0</td>\n",
       "      <td>0.0</td>\n",
       "      <td>0.0</td>\n",
       "      <td>1.0</td>\n",
       "      <td>0.0</td>\n",
       "      <td>0.0</td>\n",
       "    </tr>\n",
       "    <tr>\n",
       "      <th>181835</th>\n",
       "      <td>False</td>\n",
       "      <td>NaN</td>\n",
       "      <td>900000.0</td>\n",
       "      <td>['Drama']</td>\n",
       "      <td>NaN</td>\n",
       "      <td>fr</td>\n",
       "      <td>Le Mépris</td>\n",
       "      <td>7.543337</td>\n",
       "      <td>528428.0</td>\n",
       "      <td>103.0</td>\n",
       "      <td>...</td>\n",
       "      <td>0.0</td>\n",
       "      <td>0.0</td>\n",
       "      <td>0.0</td>\n",
       "      <td>0.0</td>\n",
       "      <td>0.0</td>\n",
       "      <td>0.0</td>\n",
       "      <td>0.0</td>\n",
       "      <td>0.0</td>\n",
       "      <td>0.0</td>\n",
       "      <td>0.0</td>\n",
       "    </tr>\n",
       "    <tr>\n",
       "      <th>34708</th>\n",
       "      <td>False</td>\n",
       "      <td>NaN</td>\n",
       "      <td>17000000.0</td>\n",
       "      <td>['Comedy', 'Drama', 'Romance']</td>\n",
       "      <td>NaN</td>\n",
       "      <td>en</td>\n",
       "      <td>While You Were Sleeping</td>\n",
       "      <td>15.783615</td>\n",
       "      <td>182057016.0</td>\n",
       "      <td>103.0</td>\n",
       "      <td>...</td>\n",
       "      <td>0.0</td>\n",
       "      <td>0.0</td>\n",
       "      <td>0.0</td>\n",
       "      <td>0.0</td>\n",
       "      <td>0.0</td>\n",
       "      <td>0.0</td>\n",
       "      <td>0.0</td>\n",
       "      <td>1.0</td>\n",
       "      <td>0.0</td>\n",
       "      <td>0.0</td>\n",
       "    </tr>\n",
       "    <tr>\n",
       "      <th>76323</th>\n",
       "      <td>False</td>\n",
       "      <td>NaN</td>\n",
       "      <td>1288000.0</td>\n",
       "      <td>['Drama', 'Mystery']</td>\n",
       "      <td>NaN</td>\n",
       "      <td>en</td>\n",
       "      <td>Rebecca</td>\n",
       "      <td>8.590813</td>\n",
       "      <td>6000000.0</td>\n",
       "      <td>130.0</td>\n",
       "      <td>...</td>\n",
       "      <td>0.0</td>\n",
       "      <td>0.0</td>\n",
       "      <td>0.0</td>\n",
       "      <td>0.0</td>\n",
       "      <td>0.0</td>\n",
       "      <td>0.0</td>\n",
       "      <td>0.0</td>\n",
       "      <td>1.0</td>\n",
       "      <td>0.0</td>\n",
       "      <td>0.0</td>\n",
       "    </tr>\n",
       "    <tr>\n",
       "      <th>...</th>\n",
       "      <td>...</td>\n",
       "      <td>...</td>\n",
       "      <td>...</td>\n",
       "      <td>...</td>\n",
       "      <td>...</td>\n",
       "      <td>...</td>\n",
       "      <td>...</td>\n",
       "      <td>...</td>\n",
       "      <td>...</td>\n",
       "      <td>...</td>\n",
       "      <td>...</td>\n",
       "      <td>...</td>\n",
       "      <td>...</td>\n",
       "      <td>...</td>\n",
       "      <td>...</td>\n",
       "      <td>...</td>\n",
       "      <td>...</td>\n",
       "      <td>...</td>\n",
       "      <td>...</td>\n",
       "      <td>...</td>\n",
       "      <td>...</td>\n",
       "    </tr>\n",
       "    <tr>\n",
       "      <th>43543</th>\n",
       "      <td>False</td>\n",
       "      <td>{'id': 412680, 'name': 'Hard Target Collection...</td>\n",
       "      <td>18000000.0</td>\n",
       "      <td>['Action', 'Adventure', 'Crime', 'Thriller']</td>\n",
       "      <td>NaN</td>\n",
       "      <td>en</td>\n",
       "      <td>Hard Target</td>\n",
       "      <td>7.834351</td>\n",
       "      <td>74189677.0</td>\n",
       "      <td>97.0</td>\n",
       "      <td>...</td>\n",
       "      <td>0.0</td>\n",
       "      <td>0.0</td>\n",
       "      <td>0.0</td>\n",
       "      <td>0.0</td>\n",
       "      <td>0.0</td>\n",
       "      <td>0.0</td>\n",
       "      <td>0.0</td>\n",
       "      <td>1.0</td>\n",
       "      <td>0.0</td>\n",
       "      <td>0.0</td>\n",
       "    </tr>\n",
       "    <tr>\n",
       "      <th>80304</th>\n",
       "      <td>False</td>\n",
       "      <td>NaN</td>\n",
       "      <td>1020000.0</td>\n",
       "      <td>['Drama', 'Mystery']</td>\n",
       "      <td>NaN</td>\n",
       "      <td>en</td>\n",
       "      <td>Laura</td>\n",
       "      <td>9.884516</td>\n",
       "      <td>2000000.0</td>\n",
       "      <td>88.0</td>\n",
       "      <td>...</td>\n",
       "      <td>0.0</td>\n",
       "      <td>0.0</td>\n",
       "      <td>0.0</td>\n",
       "      <td>0.0</td>\n",
       "      <td>0.0</td>\n",
       "      <td>0.0</td>\n",
       "      <td>0.0</td>\n",
       "      <td>1.0</td>\n",
       "      <td>0.0</td>\n",
       "      <td>0.0</td>\n",
       "    </tr>\n",
       "    <tr>\n",
       "      <th>77596</th>\n",
       "      <td>False</td>\n",
       "      <td>NaN</td>\n",
       "      <td>1288000.0</td>\n",
       "      <td>['Drama', 'Mystery']</td>\n",
       "      <td>NaN</td>\n",
       "      <td>en</td>\n",
       "      <td>Rebecca</td>\n",
       "      <td>8.590813</td>\n",
       "      <td>6000000.0</td>\n",
       "      <td>130.0</td>\n",
       "      <td>...</td>\n",
       "      <td>0.0</td>\n",
       "      <td>0.0</td>\n",
       "      <td>0.0</td>\n",
       "      <td>0.0</td>\n",
       "      <td>0.0</td>\n",
       "      <td>0.0</td>\n",
       "      <td>0.0</td>\n",
       "      <td>1.0</td>\n",
       "      <td>0.0</td>\n",
       "      <td>0.0</td>\n",
       "    </tr>\n",
       "    <tr>\n",
       "      <th>558782</th>\n",
       "      <td>False</td>\n",
       "      <td>NaN</td>\n",
       "      <td>8000000.0</td>\n",
       "      <td>['Drama', 'Family']</td>\n",
       "      <td>http://www.whaleriderthemovie.com/</td>\n",
       "      <td>en</td>\n",
       "      <td>Whale Rider</td>\n",
       "      <td>11.040186</td>\n",
       "      <td>41400000.0</td>\n",
       "      <td>101.0</td>\n",
       "      <td>...</td>\n",
       "      <td>0.0</td>\n",
       "      <td>0.0</td>\n",
       "      <td>0.0</td>\n",
       "      <td>0.0</td>\n",
       "      <td>0.0</td>\n",
       "      <td>0.0</td>\n",
       "      <td>0.0</td>\n",
       "      <td>0.0</td>\n",
       "      <td>0.0</td>\n",
       "      <td>0.0</td>\n",
       "    </tr>\n",
       "    <tr>\n",
       "      <th>224318</th>\n",
       "      <td>False</td>\n",
       "      <td>NaN</td>\n",
       "      <td>160000.0</td>\n",
       "      <td>['Documentary', 'History']</td>\n",
       "      <td>NaN</td>\n",
       "      <td>en</td>\n",
       "      <td>Roger &amp; Me</td>\n",
       "      <td>4.877009</td>\n",
       "      <td>6706368.0</td>\n",
       "      <td>91.0</td>\n",
       "      <td>...</td>\n",
       "      <td>0.0</td>\n",
       "      <td>0.0</td>\n",
       "      <td>0.0</td>\n",
       "      <td>0.0</td>\n",
       "      <td>0.0</td>\n",
       "      <td>0.0</td>\n",
       "      <td>0.0</td>\n",
       "      <td>1.0</td>\n",
       "      <td>0.0</td>\n",
       "      <td>0.0</td>\n",
       "    </tr>\n",
       "  </tbody>\n",
       "</table>\n",
       "<p>5421 rows × 749 columns</p>\n",
       "</div>"
      ],
      "text/plain": [
       "        adult                              belongs_to_collection      budget  \\\n",
       "798284  False                                                NaN  50000000.0   \n",
       "411777  False  {'id': 1960, 'name': 'Evil Dead Collection', '...    350000.0   \n",
       "181835  False                                                NaN    900000.0   \n",
       "34708   False                                                NaN  17000000.0   \n",
       "76323   False                                                NaN   1288000.0   \n",
       "...       ...                                                ...         ...   \n",
       "43543   False  {'id': 412680, 'name': 'Hard Target Collection...  18000000.0   \n",
       "80304   False                                                NaN   1020000.0   \n",
       "77596   False                                                NaN   1288000.0   \n",
       "558782  False                                                NaN   8000000.0   \n",
       "224318  False                                                NaN    160000.0   \n",
       "\n",
       "                                              genres  \\\n",
       "798284                         ['Drama', 'Thriller']   \n",
       "411777                                    ['Horror']   \n",
       "181835                                     ['Drama']   \n",
       "34708                 ['Comedy', 'Drama', 'Romance']   \n",
       "76323                           ['Drama', 'Mystery']   \n",
       "...                                              ...   \n",
       "43543   ['Action', 'Adventure', 'Crime', 'Thriller']   \n",
       "80304                           ['Drama', 'Mystery']   \n",
       "77596                           ['Drama', 'Mystery']   \n",
       "558782                           ['Drama', 'Family']   \n",
       "224318                    ['Documentary', 'History']   \n",
       "\n",
       "                                   homepage original_language  \\\n",
       "798284  http://syrianamovie.warnerbros.com/                en   \n",
       "411777                                  NaN                en   \n",
       "181835                                  NaN                fr   \n",
       "34708                                   NaN                en   \n",
       "76323                                   NaN                en   \n",
       "...                                     ...               ...   \n",
       "43543                                   NaN                en   \n",
       "80304                                   NaN                en   \n",
       "77596                                   NaN                en   \n",
       "558782   http://www.whaleriderthemovie.com/                en   \n",
       "224318                                  NaN                en   \n",
       "\n",
       "                 original_title  popularity      revenue  runtime  ...  \\\n",
       "798284                  Syriana    5.768575   94000000.0    128.0  ...   \n",
       "411777            The Evil Dead   10.421679   29400000.0     85.0  ...   \n",
       "181835                Le Mépris    7.543337     528428.0    103.0  ...   \n",
       "34708   While You Were Sleeping   15.783615  182057016.0    103.0  ...   \n",
       "76323                   Rebecca    8.590813    6000000.0    130.0  ...   \n",
       "...                         ...         ...          ...      ...  ...   \n",
       "43543               Hard Target    7.834351   74189677.0     97.0  ...   \n",
       "80304                     Laura    9.884516    2000000.0     88.0  ...   \n",
       "77596                   Rebecca    8.590813    6000000.0    130.0  ...   \n",
       "558782              Whale Rider   11.040186   41400000.0    101.0  ...   \n",
       "224318               Roger & Me    4.877009    6706368.0     91.0  ...   \n",
       "\n",
       "       production_countries_['United States of America', 'Hong Kong', 'United Kingdom']  \\\n",
       "798284                                                0.0                                 \n",
       "411777                                                0.0                                 \n",
       "181835                                                0.0                                 \n",
       "34708                                                 0.0                                 \n",
       "76323                                                 0.0                                 \n",
       "...                                                   ...                                 \n",
       "43543                                                 0.0                                 \n",
       "80304                                                 0.0                                 \n",
       "77596                                                 0.0                                 \n",
       "558782                                                0.0                                 \n",
       "224318                                                0.0                                 \n",
       "\n",
       "        production_countries_['United States of America', 'India', 'France']  \\\n",
       "798284                                                0.0                      \n",
       "411777                                                0.0                      \n",
       "181835                                                0.0                      \n",
       "34708                                                 0.0                      \n",
       "76323                                                 0.0                      \n",
       "...                                                   ...                      \n",
       "43543                                                 0.0                      \n",
       "80304                                                 0.0                      \n",
       "77596                                                 0.0                      \n",
       "558782                                                0.0                      \n",
       "224318                                                0.0                      \n",
       "\n",
       "        production_countries_['United States of America', 'Italy', 'Spain', 'Germany']  \\\n",
       "798284                                                0.0                                \n",
       "411777                                                0.0                                \n",
       "181835                                                0.0                                \n",
       "34708                                                 0.0                                \n",
       "76323                                                 0.0                                \n",
       "...                                                   ...                                \n",
       "43543                                                 0.0                                \n",
       "80304                                                 0.0                                \n",
       "77596                                                 0.0                                \n",
       "558782                                                0.0                                \n",
       "224318                                                0.0                                \n",
       "\n",
       "        production_countries_['United States of America', 'Morocco']  \\\n",
       "798284                                                0.0              \n",
       "411777                                                0.0              \n",
       "181835                                                0.0              \n",
       "34708                                                 0.0              \n",
       "76323                                                 0.0              \n",
       "...                                                   ...              \n",
       "43543                                                 0.0              \n",
       "80304                                                 0.0              \n",
       "77596                                                 0.0              \n",
       "558782                                                0.0              \n",
       "224318                                                0.0              \n",
       "\n",
       "        production_countries_['United States of America', 'Spain']  \\\n",
       "798284                                                0.0            \n",
       "411777                                                0.0            \n",
       "181835                                                0.0            \n",
       "34708                                                 0.0            \n",
       "76323                                                 0.0            \n",
       "...                                                   ...            \n",
       "43543                                                 0.0            \n",
       "80304                                                 0.0            \n",
       "77596                                                 0.0            \n",
       "558782                                                0.0            \n",
       "224318                                                0.0            \n",
       "\n",
       "        production_countries_['United States of America', 'United Kingdom', 'Romania', 'Italy']  \\\n",
       "798284                                                0.0                                         \n",
       "411777                                                0.0                                         \n",
       "181835                                                0.0                                         \n",
       "34708                                                 0.0                                         \n",
       "76323                                                 0.0                                         \n",
       "...                                                   ...                                         \n",
       "43543                                                 0.0                                         \n",
       "80304                                                 0.0                                         \n",
       "77596                                                 0.0                                         \n",
       "558782                                                0.0                                         \n",
       "224318                                                0.0                                         \n",
       "\n",
       "        production_countries_['United States of America', 'United Kingdom']  \\\n",
       "798284                                                0.0                     \n",
       "411777                                                0.0                     \n",
       "181835                                                0.0                     \n",
       "34708                                                 0.0                     \n",
       "76323                                                 0.0                     \n",
       "...                                                   ...                     \n",
       "43543                                                 0.0                     \n",
       "80304                                                 0.0                     \n",
       "77596                                                 0.0                     \n",
       "558782                                                0.0                     \n",
       "224318                                                0.0                     \n",
       "\n",
       "        production_countries_['United States of America']  \\\n",
       "798284                                                1.0   \n",
       "411777                                                1.0   \n",
       "181835                                                0.0   \n",
       "34708                                                 1.0   \n",
       "76323                                                 1.0   \n",
       "...                                                   ...   \n",
       "43543                                                 1.0   \n",
       "80304                                                 1.0   \n",
       "77596                                                 1.0   \n",
       "558782                                                0.0   \n",
       "224318                                                1.0   \n",
       "\n",
       "        production_countries_['Uruguay', 'United States of America', 'Germany', 'Paraguay']  \\\n",
       "798284                                                0.0                                     \n",
       "411777                                                0.0                                     \n",
       "181835                                                0.0                                     \n",
       "34708                                                 0.0                                     \n",
       "76323                                                 0.0                                     \n",
       "...                                                   ...                                     \n",
       "43543                                                 0.0                                     \n",
       "80304                                                 0.0                                     \n",
       "77596                                                 0.0                                     \n",
       "558782                                                0.0                                     \n",
       "224318                                                0.0                                     \n",
       "\n",
       "        production_countries_[]  \n",
       "798284                      0.0  \n",
       "411777                      0.0  \n",
       "181835                      0.0  \n",
       "34708                       0.0  \n",
       "76323                       0.0  \n",
       "...                         ...  \n",
       "43543                       0.0  \n",
       "80304                       0.0  \n",
       "77596                       0.0  \n",
       "558782                      0.0  \n",
       "224318                      0.0  \n",
       "\n",
       "[5421 rows x 749 columns]"
      ]
     },
     "execution_count": 221,
     "metadata": {},
     "output_type": "execute_result"
    }
   ],
   "source": [
    "# one hot encode these two columns for better results\n",
    "pd.get_dummies(data=small_df, columns = ['production_companies', 'production_countries'],dtype=float)"
   ]
  },
  {
   "cell_type": "code",
   "execution_count": 222,
   "metadata": {
    "ExecuteTime": {
     "end_time": "2020-12-23T07:01:00.619120Z",
     "start_time": "2020-12-23T07:01:00.602140Z"
    }
   },
   "outputs": [
    {
     "data": {
      "text/plain": [
       "['Paramount Pictures']                                                                                                                                                          170\n",
       "['Columbia Pictures', 'Intermedia Films', 'Warner Bros.', 'C-2 Pictures', 'IMF Internationale Medien und Film GmbH & Co. 3. Produktions KG', 'Mostow/Lieberman Productions']     93\n",
       "['TriStar Pictures']                                                                                                                                                             85\n",
       "['Universal Pictures']                                                                                                                                                           84\n",
       "['United Artists']                                                                                                                                                               59\n",
       "['Columbia Pictures', 'Amblin Entertainment', 'Columbia Pictures Corporation', 'Parkes+MacDonald Image Nation']                                                                  56\n",
       "['Village Roadshow Pictures', 'Robert Simonds Productions', 'Warner Bros.', 'Phoenix Pictures', 'Underground', 'Proposal Productions']                                           55\n",
       "['Universal Pictures', 'Amblin Entertainment', 'U-Drive Productions']                                                                                                            54\n",
       "['United Artists', 'Star Partners II Ltd.']                                                                                                                                      51\n",
       "['TriStar Pictures', 'Carolco Pictures']                                                                                                                                         50\n",
       "['Silent Hill DCP Inc.', 'Davis-Films', 'TriStar Pictures', 'Konami']                                                                                                            48\n",
       "['PolyGram Filmed Entertainment', 'Warner Bros.']                                                                                                                                48\n",
       "['Paramount Pictures', 'The Coppola Company', 'The Directors Company']                                                                                                           47\n",
       "['Transatlantic Pictures', 'Warner Bros.', 'Metro-Goldwyn-Mayer (MGM)']                                                                                                          46\n",
       "['Walden Media', 'Hal Lieberman Company', 'Lauren Levine Productions Inc.']                                                                                                      45\n",
       "['Paramount Pictures', 'Miramax Films', 'Timnick Films', 'Mirage Enterprises']                                                                                                   45\n",
       "['Paramount Pictures', 'Miramax Films', 'Scott Rudin Productions']                                                                                                               44\n",
       "['New Line Cinema', 'Smart Egg Pictures']                                                                                                                                        43\n",
       "['American Zoetrope']                                                                                                                                                            42\n",
       "['Paramount Pictures', 'Universal Pictures', 'Shamley Productions']                                                                                                              38\n",
       "Name: production_companies, dtype: int64"
      ]
     },
     "execution_count": 222,
     "metadata": {},
     "output_type": "execute_result"
    }
   ],
   "source": [
    "small_df.production_companies.value_counts().sort_values(ascending=False).head(20)"
   ]
  },
  {
   "cell_type": "code",
   "execution_count": 223,
   "metadata": {
    "ExecuteTime": {
     "end_time": "2020-12-23T07:01:00.638393Z",
     "start_time": "2020-12-23T07:01:00.622113Z"
    }
   },
   "outputs": [
    {
     "data": {
      "text/plain": [
       "['United States of America']                                            3576\n",
       "['United Kingdom', 'United States of America']                           329\n",
       "['Germany', 'United States of America']                                  126\n",
       "['United Kingdom']                                                       115\n",
       "['Germany', 'United Kingdom', 'United States of America']                101\n",
       "                                                                        ... \n",
       "['United States of America', 'Germany', 'Canada']                          1\n",
       "['South Africa']                                                           1\n",
       "['Finland']                                                                1\n",
       "['Netherlands', 'United States of America']                                1\n",
       "['Ireland', 'United States of America', 'Germany', 'United Kingdom']       1\n",
       "Name: production_countries, Length: 112, dtype: int64"
      ]
     },
     "execution_count": 223,
     "metadata": {},
     "output_type": "execute_result"
    }
   ],
   "source": [
    "small_df.production_countries.value_counts().sort_values(ascending=False)"
   ]
  },
  {
   "cell_type": "markdown",
   "metadata": {},
   "source": [
    "Here, the top 10 popular combinations of the production_companies and production_countries are chosen to be put in the model to help predict ratings. This will be used as a parameter for the function. "
   ]
  },
  {
   "cell_type": "code",
   "execution_count": 224,
   "metadata": {
    "ExecuteTime": {
     "end_time": "2020-12-23T07:01:00.656345Z",
     "start_time": "2020-12-23T07:01:00.641386Z"
    }
   },
   "outputs": [],
   "source": [
    "# encode the top 10 most frequent\n",
    "top_10_comp = [x for x in small_df.production_companies.value_counts().sort_values(ascending=False).head(10).index]\n",
    "top_10_count = [x for x in small_df.production_countries.value_counts().sort_values(ascending=False).head(10).index]"
   ]
  },
  {
   "cell_type": "code",
   "execution_count": 225,
   "metadata": {
    "ExecuteTime": {
     "end_time": "2020-12-23T07:01:00.670308Z",
     "start_time": "2020-12-23T07:01:00.659337Z"
    }
   },
   "outputs": [
    {
     "data": {
      "text/plain": [
       "[\"['Paramount Pictures']\",\n",
       " \"['Columbia Pictures', 'Intermedia Films', 'Warner Bros.', 'C-2 Pictures', 'IMF Internationale Medien und Film GmbH & Co. 3. Produktions KG', 'Mostow/Lieberman Productions']\",\n",
       " \"['TriStar Pictures']\",\n",
       " \"['Universal Pictures']\",\n",
       " \"['United Artists']\",\n",
       " \"['Columbia Pictures', 'Amblin Entertainment', 'Columbia Pictures Corporation', 'Parkes+MacDonald Image Nation']\",\n",
       " \"['Village Roadshow Pictures', 'Robert Simonds Productions', 'Warner Bros.', 'Phoenix Pictures', 'Underground', 'Proposal Productions']\",\n",
       " \"['Universal Pictures', 'Amblin Entertainment', 'U-Drive Productions']\",\n",
       " \"['United Artists', 'Star Partners II Ltd.']\",\n",
       " \"['TriStar Pictures', 'Carolco Pictures']\"]"
      ]
     },
     "execution_count": 225,
     "metadata": {},
     "output_type": "execute_result"
    }
   ],
   "source": [
    "top_10_comp"
   ]
  },
  {
   "cell_type": "code",
   "execution_count": 226,
   "metadata": {
    "ExecuteTime": {
     "end_time": "2020-12-23T07:01:00.679287Z",
     "start_time": "2020-12-23T07:01:00.673306Z"
    }
   },
   "outputs": [
    {
     "data": {
      "text/plain": [
       "[\"['United States of America']\",\n",
       " \"['United Kingdom', 'United States of America']\",\n",
       " \"['Germany', 'United States of America']\",\n",
       " \"['United Kingdom']\",\n",
       " \"['Germany', 'United Kingdom', 'United States of America']\",\n",
       " \"['Australia', 'United States of America']\",\n",
       " \"['France', 'United States of America']\",\n",
       " \"['Germany']\",\n",
       " \"['Japan', 'United States of America']\",\n",
       " \"['Canada', 'France', 'Japan', 'United States of America']\"]"
      ]
     },
     "execution_count": 226,
     "metadata": {},
     "output_type": "execute_result"
    }
   ],
   "source": [
    "top_10_count"
   ]
  },
  {
   "cell_type": "code",
   "execution_count": 227,
   "metadata": {
    "ExecuteTime": {
     "end_time": "2020-12-23T07:01:00.710236Z",
     "start_time": "2020-12-23T07:01:00.682277Z"
    }
   },
   "outputs": [],
   "source": [
    "one_hot_top_x(small_df, 'production_companies', top_10_comp)"
   ]
  },
  {
   "cell_type": "code",
   "execution_count": 228,
   "metadata": {
    "ExecuteTime": {
     "end_time": "2020-12-23T07:01:00.733009Z",
     "start_time": "2020-12-23T07:01:00.713196Z"
    }
   },
   "outputs": [],
   "source": [
    "one_hot_top_x(small_df, 'production_countries', top_10_count)"
   ]
  },
  {
   "cell_type": "code",
   "execution_count": 229,
   "metadata": {
    "ExecuteTime": {
     "end_time": "2020-12-23T07:01:00.743979Z",
     "start_time": "2020-12-23T07:01:00.736000Z"
    }
   },
   "outputs": [
    {
     "data": {
      "text/plain": [
       "(5421, 40)"
      ]
     },
     "execution_count": 229,
     "metadata": {},
     "output_type": "execute_result"
    }
   ],
   "source": [
    "small_df.shape"
   ]
  },
  {
   "cell_type": "code",
   "execution_count": 230,
   "metadata": {
    "ExecuteTime": {
     "end_time": "2020-12-23T07:01:00.754220Z",
     "start_time": "2020-12-23T07:01:00.746971Z"
    }
   },
   "outputs": [
    {
     "data": {
      "text/plain": [
       "5421"
      ]
     },
     "execution_count": 230,
     "metadata": {},
     "output_type": "execute_result"
    }
   ],
   "source": [
    "len(small_df.production_companies)"
   ]
  },
  {
   "cell_type": "code",
   "execution_count": 231,
   "metadata": {
    "ExecuteTime": {
     "end_time": "2020-12-23T07:01:00.769180Z",
     "start_time": "2020-12-23T07:01:00.757213Z"
    }
   },
   "outputs": [],
   "source": [
    "X,y=small_df.drop(['rating'], axis=1), small_df['rating']"
   ]
  },
  {
   "cell_type": "code",
   "execution_count": 232,
   "metadata": {
    "ExecuteTime": {
     "end_time": "2020-12-23T07:01:00.817894Z",
     "start_time": "2020-12-23T07:01:00.771231Z"
    }
   },
   "outputs": [],
   "source": [
    "X = feat_eng(X)"
   ]
  },
  {
   "cell_type": "code",
   "execution_count": 233,
   "metadata": {
    "ExecuteTime": {
     "end_time": "2020-12-23T07:01:00.828560Z",
     "start_time": "2020-12-23T07:01:00.817894Z"
    }
   },
   "outputs": [
    {
     "data": {
      "text/plain": [
       "pandas.core.frame.DataFrame"
      ]
     },
     "execution_count": 233,
     "metadata": {},
     "output_type": "execute_result"
    }
   ],
   "source": [
    "type(X)"
   ]
  },
  {
   "cell_type": "code",
   "execution_count": 234,
   "metadata": {
    "ExecuteTime": {
     "end_time": "2020-12-23T07:01:00.839531Z",
     "start_time": "2020-12-23T07:01:00.831552Z"
    }
   },
   "outputs": [
    {
     "data": {
      "text/plain": [
       "(5421, 35)"
      ]
     },
     "execution_count": 234,
     "metadata": {},
     "output_type": "execute_result"
    }
   ],
   "source": [
    "X.shape"
   ]
  },
  {
   "cell_type": "code",
   "execution_count": 235,
   "metadata": {
    "ExecuteTime": {
     "end_time": "2020-12-23T07:01:00.873432Z",
     "start_time": "2020-12-23T07:01:00.842523Z"
    }
   },
   "outputs": [
    {
     "data": {
      "text/html": [
       "<div>\n",
       "<style scoped>\n",
       "    .dataframe tbody tr th:only-of-type {\n",
       "        vertical-align: middle;\n",
       "    }\n",
       "\n",
       "    .dataframe tbody tr th {\n",
       "        vertical-align: top;\n",
       "    }\n",
       "\n",
       "    .dataframe thead th {\n",
       "        text-align: right;\n",
       "    }\n",
       "</style>\n",
       "<table border=\"1\" class=\"dataframe\">\n",
       "  <thead>\n",
       "    <tr style=\"text-align: right;\">\n",
       "      <th></th>\n",
       "      <th>budget</th>\n",
       "      <th>original_language</th>\n",
       "      <th>popularity</th>\n",
       "      <th>revenue</th>\n",
       "      <th>runtime</th>\n",
       "      <th>vote_average</th>\n",
       "      <th>vote_count</th>\n",
       "      <th>year</th>\n",
       "      <th>day</th>\n",
       "      <th>month</th>\n",
       "      <th>...</th>\n",
       "      <th>production_countries_['Germany', 'United Kingdom', 'United States of America']</th>\n",
       "      <th>production_countries_['Australia', 'United States of America']</th>\n",
       "      <th>production_countries_['France', 'United States of America']</th>\n",
       "      <th>production_countries_['Germany']</th>\n",
       "      <th>production_countries_['Japan', 'United States of America']</th>\n",
       "      <th>production_countries_['Canada', 'France', 'Japan', 'United States of America']</th>\n",
       "      <th>is_Drama</th>\n",
       "      <th>is_Comedy</th>\n",
       "      <th>is_Thriller</th>\n",
       "      <th>is_Summer</th>\n",
       "    </tr>\n",
       "  </thead>\n",
       "  <tbody>\n",
       "    <tr>\n",
       "      <th>798284</th>\n",
       "      <td>50000000.0</td>\n",
       "      <td>1</td>\n",
       "      <td>5.768575</td>\n",
       "      <td>94000000.0</td>\n",
       "      <td>128.0</td>\n",
       "      <td>6.3</td>\n",
       "      <td>455.0</td>\n",
       "      <td>2005.0</td>\n",
       "      <td>23.0</td>\n",
       "      <td>11.0</td>\n",
       "      <td>...</td>\n",
       "      <td>0</td>\n",
       "      <td>0</td>\n",
       "      <td>0</td>\n",
       "      <td>0</td>\n",
       "      <td>0</td>\n",
       "      <td>0</td>\n",
       "      <td>1</td>\n",
       "      <td>0</td>\n",
       "      <td>1</td>\n",
       "      <td>0</td>\n",
       "    </tr>\n",
       "    <tr>\n",
       "      <th>411777</th>\n",
       "      <td>350000.0</td>\n",
       "      <td>1</td>\n",
       "      <td>10.421679</td>\n",
       "      <td>29400000.0</td>\n",
       "      <td>85.0</td>\n",
       "      <td>7.3</td>\n",
       "      <td>913.0</td>\n",
       "      <td>1981.0</td>\n",
       "      <td>15.0</td>\n",
       "      <td>10.0</td>\n",
       "      <td>...</td>\n",
       "      <td>0</td>\n",
       "      <td>0</td>\n",
       "      <td>0</td>\n",
       "      <td>0</td>\n",
       "      <td>0</td>\n",
       "      <td>0</td>\n",
       "      <td>0</td>\n",
       "      <td>0</td>\n",
       "      <td>0</td>\n",
       "      <td>0</td>\n",
       "    </tr>\n",
       "    <tr>\n",
       "      <th>181835</th>\n",
       "      <td>900000.0</td>\n",
       "      <td>0</td>\n",
       "      <td>7.543337</td>\n",
       "      <td>528428.0</td>\n",
       "      <td>103.0</td>\n",
       "      <td>7.5</td>\n",
       "      <td>138.0</td>\n",
       "      <td>1963.0</td>\n",
       "      <td>21.0</td>\n",
       "      <td>10.0</td>\n",
       "      <td>...</td>\n",
       "      <td>0</td>\n",
       "      <td>0</td>\n",
       "      <td>0</td>\n",
       "      <td>0</td>\n",
       "      <td>0</td>\n",
       "      <td>0</td>\n",
       "      <td>1</td>\n",
       "      <td>0</td>\n",
       "      <td>0</td>\n",
       "      <td>0</td>\n",
       "    </tr>\n",
       "    <tr>\n",
       "      <th>34708</th>\n",
       "      <td>17000000.0</td>\n",
       "      <td>1</td>\n",
       "      <td>15.783615</td>\n",
       "      <td>182057016.0</td>\n",
       "      <td>103.0</td>\n",
       "      <td>6.5</td>\n",
       "      <td>340.0</td>\n",
       "      <td>1995.0</td>\n",
       "      <td>21.0</td>\n",
       "      <td>4.0</td>\n",
       "      <td>...</td>\n",
       "      <td>0</td>\n",
       "      <td>0</td>\n",
       "      <td>0</td>\n",
       "      <td>0</td>\n",
       "      <td>0</td>\n",
       "      <td>0</td>\n",
       "      <td>1</td>\n",
       "      <td>1</td>\n",
       "      <td>0</td>\n",
       "      <td>0</td>\n",
       "    </tr>\n",
       "    <tr>\n",
       "      <th>76323</th>\n",
       "      <td>1288000.0</td>\n",
       "      <td>1</td>\n",
       "      <td>8.590813</td>\n",
       "      <td>6000000.0</td>\n",
       "      <td>130.0</td>\n",
       "      <td>7.7</td>\n",
       "      <td>346.0</td>\n",
       "      <td>1940.0</td>\n",
       "      <td>12.0</td>\n",
       "      <td>4.0</td>\n",
       "      <td>...</td>\n",
       "      <td>0</td>\n",
       "      <td>0</td>\n",
       "      <td>0</td>\n",
       "      <td>0</td>\n",
       "      <td>0</td>\n",
       "      <td>0</td>\n",
       "      <td>1</td>\n",
       "      <td>0</td>\n",
       "      <td>0</td>\n",
       "      <td>0</td>\n",
       "    </tr>\n",
       "  </tbody>\n",
       "</table>\n",
       "<p>5 rows × 35 columns</p>\n",
       "</div>"
      ],
      "text/plain": [
       "            budget  original_language  popularity      revenue  runtime  \\\n",
       "798284  50000000.0                  1    5.768575   94000000.0    128.0   \n",
       "411777    350000.0                  1   10.421679   29400000.0     85.0   \n",
       "181835    900000.0                  0    7.543337     528428.0    103.0   \n",
       "34708   17000000.0                  1   15.783615  182057016.0    103.0   \n",
       "76323    1288000.0                  1    8.590813    6000000.0    130.0   \n",
       "\n",
       "        vote_average  vote_count    year   day  month  ...  \\\n",
       "798284           6.3       455.0  2005.0  23.0   11.0  ...   \n",
       "411777           7.3       913.0  1981.0  15.0   10.0  ...   \n",
       "181835           7.5       138.0  1963.0  21.0   10.0  ...   \n",
       "34708            6.5       340.0  1995.0  21.0    4.0  ...   \n",
       "76323            7.7       346.0  1940.0  12.0    4.0  ...   \n",
       "\n",
       "        production_countries_['Germany', 'United Kingdom', 'United States of America']  \\\n",
       "798284                                                  0                                \n",
       "411777                                                  0                                \n",
       "181835                                                  0                                \n",
       "34708                                                   0                                \n",
       "76323                                                   0                                \n",
       "\n",
       "        production_countries_['Australia', 'United States of America']  \\\n",
       "798284                                                  0                \n",
       "411777                                                  0                \n",
       "181835                                                  0                \n",
       "34708                                                   0                \n",
       "76323                                                   0                \n",
       "\n",
       "        production_countries_['France', 'United States of America']  \\\n",
       "798284                                                  0             \n",
       "411777                                                  0             \n",
       "181835                                                  0             \n",
       "34708                                                   0             \n",
       "76323                                                   0             \n",
       "\n",
       "        production_countries_['Germany']  \\\n",
       "798284                                 0   \n",
       "411777                                 0   \n",
       "181835                                 0   \n",
       "34708                                  0   \n",
       "76323                                  0   \n",
       "\n",
       "        production_countries_['Japan', 'United States of America']  \\\n",
       "798284                                                  0            \n",
       "411777                                                  0            \n",
       "181835                                                  0            \n",
       "34708                                                   0            \n",
       "76323                                                   0            \n",
       "\n",
       "        production_countries_['Canada', 'France', 'Japan', 'United States of America']  \\\n",
       "798284                                                  0                                \n",
       "411777                                                  0                                \n",
       "181835                                                  0                                \n",
       "34708                                                   0                                \n",
       "76323                                                   0                                \n",
       "\n",
       "        is_Drama  is_Comedy  is_Thriller  is_Summer  \n",
       "798284         1          0            1          0  \n",
       "411777         0          0            0          0  \n",
       "181835         1          0            0          0  \n",
       "34708          1          1            0          0  \n",
       "76323          1          0            0          0  \n",
       "\n",
       "[5 rows x 35 columns]"
      ]
     },
     "execution_count": 235,
     "metadata": {},
     "output_type": "execute_result"
    }
   ],
   "source": [
    "X.head()"
   ]
  },
  {
   "cell_type": "code",
   "execution_count": 236,
   "metadata": {
    "ExecuteTime": {
     "end_time": "2020-12-23T07:01:00.885400Z",
     "start_time": "2020-12-23T07:01:00.876424Z"
    }
   },
   "outputs": [
    {
     "data": {
      "text/plain": [
       "Index(['budget', 'original_language', 'popularity', 'revenue', 'runtime',\n",
       "       'vote_average', 'vote_count', 'year', 'day', 'month', 'num_genres',\n",
       "       'production_companies_['Paramount Pictures']',\n",
       "       'production_companies_['Columbia Pictures', 'Intermedia Films', 'Warner Bros.', 'C-2 Pictures', 'IMF Internationale Medien und Film GmbH & Co. 3. Produktions KG', 'Mostow/Lieberman Productions']',\n",
       "       'production_companies_['TriStar Pictures']',\n",
       "       'production_companies_['Universal Pictures']',\n",
       "       'production_companies_['United Artists']',\n",
       "       'production_companies_['Columbia Pictures', 'Amblin Entertainment', 'Columbia Pictures Corporation', 'Parkes+MacDonald Image Nation']',\n",
       "       'production_companies_['Village Roadshow Pictures', 'Robert Simonds Productions', 'Warner Bros.', 'Phoenix Pictures', 'Underground', 'Proposal Productions']',\n",
       "       'production_companies_['Universal Pictures', 'Amblin Entertainment', 'U-Drive Productions']',\n",
       "       'production_companies_['United Artists', 'Star Partners II Ltd.']',\n",
       "       'production_companies_['TriStar Pictures', 'Carolco Pictures']',\n",
       "       'production_countries_['United States of America']',\n",
       "       'production_countries_['United Kingdom', 'United States of America']',\n",
       "       'production_countries_['Germany', 'United States of America']',\n",
       "       'production_countries_['United Kingdom']',\n",
       "       'production_countries_['Germany', 'United Kingdom', 'United States of America']',\n",
       "       'production_countries_['Australia', 'United States of America']',\n",
       "       'production_countries_['France', 'United States of America']',\n",
       "       'production_countries_['Germany']',\n",
       "       'production_countries_['Japan', 'United States of America']',\n",
       "       'production_countries_['Canada', 'France', 'Japan', 'United States of America']',\n",
       "       'is_Drama', 'is_Comedy', 'is_Thriller', 'is_Summer'],\n",
       "      dtype='object')"
      ]
     },
     "execution_count": 236,
     "metadata": {},
     "output_type": "execute_result"
    }
   ],
   "source": [
    "X.columns"
   ]
  },
  {
   "cell_type": "code",
   "execution_count": 237,
   "metadata": {
    "ExecuteTime": {
     "end_time": "2020-12-23T07:01:00.891786Z",
     "start_time": "2020-12-23T07:01:00.888393Z"
    }
   },
   "outputs": [],
   "source": [
    "#X.production_companies.value_counts().sort_values(ascending = False) "
   ]
  },
  {
   "cell_type": "code",
   "execution_count": 238,
   "metadata": {
    "ExecuteTime": {
     "end_time": "2020-12-23T07:01:00.905921Z",
     "start_time": "2020-12-23T07:01:00.894950Z"
    }
   },
   "outputs": [
    {
     "data": {
      "text/plain": [
       "1    5068\n",
       "0     353\n",
       "Name: original_language, dtype: int64"
      ]
     },
     "execution_count": 238,
     "metadata": {},
     "output_type": "execute_result"
    }
   ],
   "source": [
    "X.original_language.value_counts()"
   ]
  },
  {
   "cell_type": "markdown",
   "metadata": {},
   "source": [
    "### Random Forest<a id='1.5.1_Random_Forest'></a>"
   ]
  },
  {
   "cell_type": "code",
   "execution_count": 124,
   "metadata": {
    "ExecuteTime": {
     "end_time": "2020-12-23T06:27:28.325969Z",
     "start_time": "2020-12-23T06:27:28.294056Z"
    }
   },
   "outputs": [],
   "source": [
    "from sklearn.model_selection import train_test_split\n",
    "X_train, X_test, y_train, y_test = train_test_split(X, y, test_size = 0.25, random_state = 241)"
   ]
  },
  {
   "cell_type": "code",
   "execution_count": 68,
   "metadata": {
    "ExecuteTime": {
     "end_time": "2020-12-23T00:19:09.578011Z",
     "start_time": "2020-12-23T00:19:06.192935Z"
    }
   },
   "outputs": [
    {
     "name": "stdout",
     "output_type": "stream",
     "text": [
      "R^2 Training Score: 0.317\n",
      "score on test set: 0.062\n",
      "budget = 0.09117388196826935\n",
      "original_language = 0.0058332620730295074\n",
      "popularity = 0.11560377685806765\n",
      "revenue = 0.11107043840317615\n",
      "runtime = 0.1002343392911539\n",
      "vote_average = 0.07549808433423691\n",
      "vote_count = 0.10200326763890287\n",
      "year = 0.09537946075988811\n",
      "day = 0.08428576000274537\n",
      "month = 0.04933702163459317\n",
      "num_genres = 0.03651529996139018\n",
      "production_companies_['Paramount Pictures'] = 0.012509505553658382\n",
      "production_companies_['Columbia Pictures', 'Intermedia Films', 'Warner Bros.', 'C-2 Pictures', 'IMF Internationale Medien und Film GmbH & Co. 3. Produktions KG', 'Mostow/Lieberman Productions'] = 0.006307329801572763\n",
      "production_companies_['TriStar Pictures'] = 0.013397152888329244\n",
      "production_companies_['Universal Pictures'] = 0.0012358256065501893\n",
      "production_companies_['Paramount Pictures', 'The Coppola Company', 'The Directors Company'] = 0.00021310155706292047\n",
      "production_companies_['United Artists', 'Star Partners II Ltd.'] = 4.271869939344163e-05\n",
      "production_companies_['Universal Pictures', 'Amblin Entertainment', 'U-Drive Productions'] = 0.00011721275497938043\n",
      "production_companies_['United Artists'] = 0.0003066213284564862\n",
      "production_companies_['Village Roadshow Pictures', 'Robert Simonds Productions', 'Warner Bros.', 'Phoenix Pictures', 'Underground', 'Proposal Productions'] = 0.011927926177218351\n",
      "production_companies_['Paramount Pictures', 'Miramax Films', 'Scott Rudin Productions'] = 0.0004236924940578827\n",
      "production_countries_['United States of America'] = 0.010991305006165037\n",
      "production_countries_['United Kingdom', 'United States of America'] = 0.006915947797899656\n",
      "production_countries_['Germany', 'United States of America'] = 0.004144514413188645\n",
      "production_countries_['United Kingdom'] = 0.0038588867949535506\n",
      "production_countries_['Germany', 'United Kingdom', 'United States of America'] = 0.005889927808860415\n",
      "production_countries_['Australia', 'United States of America'] = 0.007619059533668368\n",
      "production_countries_['France', 'United States of America'] = 0.0016029264468762994\n",
      "production_countries_['Germany'] = 0.0009336005350507926\n",
      "production_countries_['Canada', 'France', 'Japan', 'United States of America'] = 0.00011480952428082163\n",
      "production_countries_['United States of America', 'United Kingdom'] = 0.0003911995174048849\n",
      "is_Drama = 0.009770016658564234\n",
      "is_Comedy = 0.010593270763282488\n",
      "is_Thriller = 0.01115398394149896\n",
      "is_Summer = 0.012604871471573725\n"
     ]
    }
   ],
   "source": [
    "from sklearn.ensemble import RandomForestRegressor\n",
    "#from sklearn.pipeline import Pipeline\n",
    "from sklearn.model_selection import cross_val_score\n",
    "\n",
    "rf_model = RandomForestRegressor(random_state = 241)\n",
    "rf_model.fit(X_train,y_train)\n",
    "\n",
    "print(\"R^2 Training Score: {:.3f}\".format(rf_model.score(X_train, y_train)))\n",
    "print('score on test set: {:.3f}'.format(rf_model.score(X_test, y_test)))\n",
    "\n",
    "for name, importance in zip(X_train.columns, rf_model.feature_importances_):\n",
    "    print(name, \"=\", importance)"
   ]
  },
  {
   "cell_type": "code",
   "execution_count": 256,
   "metadata": {
    "ExecuteTime": {
     "end_time": "2020-12-23T08:15:14.529524Z",
     "start_time": "2020-12-23T08:15:13.823622Z"
    }
   },
   "outputs": [
    {
     "data": {
      "text/plain": [
       "<matplotlib.axes._subplots.AxesSubplot at 0x215805b7160>"
      ]
     },
     "execution_count": 256,
     "metadata": {},
     "output_type": "execute_result"
    },
    {
     "data": {
      "image/png": "[encoded data removed]",
      "text/plain": [
       "<Figure size 216x720 with 1 Axes>"
      ]
     },
     "metadata": {},
     "output_type": "display_data"
    }
   ],
   "source": [
    "sns.set_style('whitegrid')\n",
    "plt.figure(figsize=(3,10))\n",
    "sns.barplot(x=rf_model.feature_importances_, y=X.columns)"
   ]
  },
  {
   "cell_type": "code",
   "execution_count": 69,
   "metadata": {
    "ExecuteTime": {
     "end_time": "2020-12-23T00:19:09.590977Z",
     "start_time": "2020-12-23T00:19:09.580007Z"
    }
   },
   "outputs": [
    {
     "data": {
      "text/plain": [
       "(array([ 1.,  2.,  3.,  4.,  5.,  6.,  7.,  8.,  9., 10.]),\n",
       " array([ 19,  63,  16,  99,  47, 309, 119, 381,  69, 234], dtype=int64))"
      ]
     },
     "execution_count": 69,
     "metadata": {},
     "output_type": "execute_result"
    }
   ],
   "source": [
    "np.unique(y_test, return_counts=True)"
   ]
  },
  {
   "cell_type": "code",
   "execution_count": 70,
   "metadata": {
    "ExecuteTime": {
     "end_time": "2020-12-23T00:19:09.675972Z",
     "start_time": "2020-12-23T00:19:09.592972Z"
    }
   },
   "outputs": [],
   "source": [
    "y_pred = rf_model.predict(X_test)"
   ]
  },
  {
   "cell_type": "code",
   "execution_count": 71,
   "metadata": {
    "ExecuteTime": {
     "end_time": "2020-12-23T00:19:09.686942Z",
     "start_time": "2020-12-23T00:19:09.679961Z"
    }
   },
   "outputs": [
    {
     "name": "stdout",
     "output_type": "stream",
     "text": [
      "[6.42114305 5.94725703 8.67646504 5.73657548 5.32514578 8.69579639\n",
      " 8.09206786 6.32014496 7.51487593 6.68093194]\n"
     ]
    }
   ],
   "source": [
    "print(y_pred[:10])"
   ]
  },
  {
   "cell_type": "code",
   "execution_count": 72,
   "metadata": {
    "ExecuteTime": {
     "end_time": "2020-12-23T00:19:09.702899Z",
     "start_time": "2020-12-23T00:19:09.691929Z"
    }
   },
   "outputs": [
    {
     "name": "stdout",
     "output_type": "stream",
     "text": [
      "(4065, 35) (1356, 35)\n"
     ]
    }
   ],
   "source": [
    "print(X_train.shape, X_test.shape)"
   ]
  },
  {
   "cell_type": "code",
   "execution_count": 73,
   "metadata": {
    "ExecuteTime": {
     "end_time": "2020-12-23T00:19:09.727142Z",
     "start_time": "2020-12-23T00:19:09.706197Z"
    }
   },
   "outputs": [
    {
     "name": "stdout",
     "output_type": "stream",
     "text": [
      "The explained variance score of this model is:  0.0626910306767503\n",
      "The mean absolute error of this model is:  1.6726428979854182\n",
      "The mean squared error of this model is:  4.609120281339649\n",
      "The mean squared log error of this model is:  0.11631323429329714\n",
      "the median absolute error of this model is:  1.380929744795834\n",
      "The r2 score of this model is:  0.062329847693978646\n"
     ]
    }
   ],
   "source": [
    "from sklearn.metrics import explained_variance_score\n",
    "from sklearn.metrics import mean_absolute_error\n",
    "from sklearn.metrics import mean_squared_error\n",
    "from sklearn.metrics import mean_squared_log_error\n",
    "from sklearn.metrics import r2_score\n",
    "from sklearn.metrics import median_absolute_error\n",
    "\n",
    "evc_rf = explained_variance_score(y_test, y_pred)\n",
    "print(\"The explained variance score of this model is: \", evc_rf)\n",
    "\n",
    "mae_rf = mean_absolute_error(y_test, y_pred)\n",
    "print(\"The mean absolute error of this model is: \", mae_rf)\n",
    "\n",
    "mse_rf = mean_squared_error(y_test, y_pred)\n",
    "print(\"The mean squared error of this model is: \", mse_rf)\n",
    "\n",
    "msle_rf = mean_squared_log_error(y_test, y_pred)\n",
    "print(\"The mean squared log error of this model is: \",msle_rf)\n",
    "\n",
    "med_rf = median_absolute_error(y_test, y_pred)\n",
    "print(\"the median absolute error of this model is: \", med_rf)\n",
    "\n",
    "r2_rf = r2_score(y_test, y_pred, multioutput='variance_weighted')\n",
    "print(\"The r2 score of this model is: \", r2_rf)"
   ]
  },
  {
   "cell_type": "code",
   "execution_count": 74,
   "metadata": {
    "ExecuteTime": {
     "end_time": "2020-12-23T00:19:09.738111Z",
     "start_time": "2020-12-23T00:19:09.730133Z"
    }
   },
   "outputs": [
    {
     "name": "stdout",
     "output_type": "stream",
     "text": [
      "RMSE for RF: 2.146886\n"
     ]
    }
   ],
   "source": [
    "rmse_rf = np.sqrt(mean_squared_error(y_test, y_pred))\n",
    "print('RMSE for RF: %f' % (rmse_rf))"
   ]
  },
  {
   "cell_type": "code",
   "execution_count": 75,
   "metadata": {
    "ExecuteTime": {
     "end_time": "2020-12-23T00:19:36.316599Z",
     "start_time": "2020-12-23T00:19:09.742100Z"
    }
   },
   "outputs": [
    {
     "name": "stdout",
     "output_type": "stream",
     "text": [
      "Final RMSE:  2.04055450982102\n"
     ]
    }
   ],
   "source": [
    "scores = cross_val_score(rf_model, X, y, scoring='neg_mean_squared_error', cv=10)\n",
    "final_avg_rmse = np.mean(np.sqrt(np.abs(scores)))\n",
    "print(\"Final RMSE: \", final_avg_rmse)"
   ]
  },
  {
   "cell_type": "markdown",
   "metadata": {},
   "source": [
    "#### Hyperparamter Tuning RF<a id='1.5.1.1_Hyperparameter_Tuning_RF'></a>"
   ]
  },
  {
   "cell_type": "code",
   "execution_count": 76,
   "metadata": {
    "ExecuteTime": {
     "end_time": "2020-12-23T00:32:34.831330Z",
     "start_time": "2020-12-23T00:19:36.316599Z"
    }
   },
   "outputs": [
    {
     "name": "stdout",
     "output_type": "stream",
     "text": [
      "Fitting 5 folds for each of 100 candidates, totalling 500 fits\n"
     ]
    },
    {
     "name": "stderr",
     "output_type": "stream",
     "text": [
      "[Parallel(n_jobs=-1)]: Using backend LokyBackend with 4 concurrent workers.\n",
      "[Parallel(n_jobs=-1)]: Done  42 tasks      | elapsed:  1.2min\n",
      "[Parallel(n_jobs=-1)]: Done 192 tasks      | elapsed:  5.4min\n",
      "[Parallel(n_jobs=-1)]: Done 442 tasks      | elapsed: 11.4min\n",
      "[Parallel(n_jobs=-1)]: Done 500 out of 500 | elapsed: 12.8min finished\n"
     ]
    },
    {
     "data": {
      "text/plain": [
       "RandomizedSearchCV(cv=5, estimator=RandomForestRegressor(random_state=241),\n",
       "                   n_iter=100, n_jobs=-1,\n",
       "                   param_distributions={'bootstrap': [True],\n",
       "                                        'max_depth': [1, 5, 10, 15, 20],\n",
       "                                        'min_samples_leaf': [1, 2, 4],\n",
       "                                        'min_samples_split': [2, 5, 10],\n",
       "                                        'n_estimators': [50, 162, 275, 387,\n",
       "                                                         500]},\n",
       "                   random_state=241, verbose=1)"
      ]
     },
     "execution_count": 76,
     "metadata": {},
     "output_type": "execute_result"
    }
   ],
   "source": [
    "from sklearn.model_selection import RandomizedSearchCV\n",
    "n_estimators = [int(x) for x in np.linspace(start = 50, stop=500,num=5)]\n",
    "max_depth = [int(x) for x in np.linspace(start = 1, stop= 20, num=5)]\n",
    "min_samples_split = [2,5,10]\n",
    "min_samples_leaf = [1,2,4]\n",
    "bootstrap =[True]\n",
    "\n",
    "random_grid = {'n_estimators': n_estimators,\n",
    "               'max_depth': max_depth,\n",
    "               'min_samples_split': min_samples_split,\n",
    "               'min_samples_leaf': min_samples_leaf, \n",
    "               'bootstrap': bootstrap}\n",
    "rf_random = RandomizedSearchCV(rf_model,random_grid,n_iter=100,cv=5,verbose=1,random_state=241,n_jobs=-1)\n",
    "rf_random.fit(X_train,y_train)"
   ]
  },
  {
   "cell_type": "code",
   "execution_count": 77,
   "metadata": {
    "ExecuteTime": {
     "end_time": "2020-12-23T00:32:35.022058Z",
     "start_time": "2020-12-23T00:32:34.831330Z"
    }
   },
   "outputs": [
    {
     "name": "stdout",
     "output_type": "stream",
     "text": [
      "[6.55733273 6.02230317 8.2250544  5.78440433 5.46553179 8.70618404\n",
      " 7.98088991 7.08652847 7.36011877 6.68425131]\n"
     ]
    }
   ],
   "source": [
    "ypred_rf = rf_random.predict(X_test)\n",
    "print(ypred_rf[:10])"
   ]
  },
  {
   "cell_type": "code",
   "execution_count": 78,
   "metadata": {
    "ExecuteTime": {
     "end_time": "2020-12-23T00:32:35.035157Z",
     "start_time": "2020-12-23T00:32:35.022058Z"
    }
   },
   "outputs": [
    {
     "name": "stdout",
     "output_type": "stream",
     "text": [
      "{'n_estimators': 387, 'min_samples_split': 10, 'min_samples_leaf': 4, 'max_depth': 15, 'bootstrap': True}\n"
     ]
    }
   ],
   "source": [
    "print(rf_random.best_params_)"
   ]
  },
  {
   "cell_type": "code",
   "execution_count": 79,
   "metadata": {
    "ExecuteTime": {
     "end_time": "2020-12-23T00:32:35.047314Z",
     "start_time": "2020-12-23T00:32:35.040223Z"
    }
   },
   "outputs": [
    {
     "name": "stdout",
     "output_type": "stream",
     "text": [
      "lowest RMSE found:  0.31778770984255483\n"
     ]
    }
   ],
   "source": [
    "print(\"lowest RMSE found: \", np.sqrt(np.abs(rf_random.best_score_)))"
   ]
  },
  {
   "cell_type": "code",
   "execution_count": 80,
   "metadata": {
    "ExecuteTime": {
     "end_time": "2020-12-23T00:32:35.075742Z",
     "start_time": "2020-12-23T00:32:35.051303Z"
    }
   },
   "outputs": [
    {
     "name": "stdout",
     "output_type": "stream",
     "text": [
      "The explained variance score of this model is:  0.08424148663421382\n",
      "The mean absolute error of this model is:  1.6669561969265323\n",
      "The mean squared error of this model is:  4.503083771797108\n",
      "The mean squared log error of this model is:  0.11529351921971674\n",
      "the median absolute error of this model is:  1.3205523280854101\n",
      "The r2 score of this model is:  0.08390170175369838\n"
     ]
    }
   ],
   "source": [
    "evc_rf_t = explained_variance_score(y_test, ypred_rf)\n",
    "print(\"The explained variance score of this model is: \", evc_rf_t)\n",
    "\n",
    "mae_rf_t = mean_absolute_error(y_test, ypred_rf)\n",
    "print(\"The mean absolute error of this model is: \", mae_rf_t)\n",
    "\n",
    "mse_rf_t = mean_squared_error(y_test, ypred_rf)\n",
    "print(\"The mean squared error of this model is: \", mse_rf_t)\n",
    "\n",
    "msle_rf_t = mean_squared_log_error(y_test, ypred_rf)\n",
    "print(\"The mean squared log error of this model is: \",msle_rf_t)\n",
    "\n",
    "med_rf_t = median_absolute_error(y_test, ypred_rf)\n",
    "print(\"the median absolute error of this model is: \", med_rf_t)\n",
    "\n",
    "r2_rf_t = r2_score(y_test, ypred_rf, multioutput='variance_weighted')\n",
    "print(\"The r2 score of this model is: \", r2_rf_t)"
   ]
  },
  {
   "cell_type": "code",
   "execution_count": 83,
   "metadata": {
    "ExecuteTime": {
     "end_time": "2020-12-23T00:33:14.480558Z",
     "start_time": "2020-12-23T00:33:14.472564Z"
    }
   },
   "outputs": [
    {
     "name": "stdout",
     "output_type": "stream",
     "text": [
      "RMSE for tuned RF: 2.122047\n"
     ]
    }
   ],
   "source": [
    "rmse_rf_tuned = np.sqrt(mean_squared_error(y_test, ypred_rf))\n",
    "print('RMSE for tuned RF: %f' % (rmse_rf_tuned))"
   ]
  },
  {
   "cell_type": "code",
   "execution_count": 84,
   "metadata": {
    "ExecuteTime": {
     "end_time": "2020-12-23T00:33:14.498041Z",
     "start_time": "2020-12-23T00:33:14.488553Z"
    }
   },
   "outputs": [],
   "source": [
    "true_val = pd.DataFrame(data = {'prediction': ypred_rf, 'actual': y_test})"
   ]
  },
  {
   "cell_type": "code",
   "execution_count": 85,
   "metadata": {
    "ExecuteTime": {
     "end_time": "2020-12-23T00:33:14.512004Z",
     "start_time": "2020-12-23T00:33:14.501032Z"
    }
   },
   "outputs": [],
   "source": [
    "error = ypred_rf - y_test"
   ]
  },
  {
   "cell_type": "code",
   "execution_count": 86,
   "metadata": {
    "ExecuteTime": {
     "end_time": "2020-12-23T00:33:14.527960Z",
     "start_time": "2020-12-23T00:33:14.515992Z"
    }
   },
   "outputs": [
    {
     "data": {
      "text/plain": [
       "265526   -1.442667\n",
       "799840    0.022303\n",
       "439869    0.225054\n",
       "407832   -4.215596\n",
       "551304    3.465532\n",
       "Name: rating, dtype: float64"
      ]
     },
     "execution_count": 86,
     "metadata": {},
     "output_type": "execute_result"
    }
   ],
   "source": [
    "error.head()"
   ]
  },
  {
   "cell_type": "code",
   "execution_count": 87,
   "metadata": {
    "ExecuteTime": {
     "end_time": "2020-12-23T00:33:15.145145Z",
     "start_time": "2020-12-23T00:33:14.532947Z"
    }
   },
   "outputs": [
    {
     "data": {
      "text/plain": [
       "<matplotlib.axes._subplots.AxesSubplot at 0x21581c4bb80>"
      ]
     },
     "execution_count": 87,
     "metadata": {},
     "output_type": "execute_result"
    },
    {
     "data": {
      "image/png": "[encoded data removed]",
      "text/plain": [
       "<Figure size 432x288 with 1 Axes>"
      ]
     },
     "metadata": {
      "needs_background": "light"
     },
     "output_type": "display_data"
    }
   ],
   "source": [
    "error.plot(kind='hist',bins=40)"
   ]
  },
  {
   "cell_type": "markdown",
   "metadata": {},
   "source": [
    "### Gradient Boosting<a id='1.5.2_Gradient_Boosting'></a>"
   ]
  },
  {
   "cell_type": "code",
   "execution_count": 88,
   "metadata": {
    "ExecuteTime": {
     "end_time": "2020-12-23T00:33:16.329177Z",
     "start_time": "2020-12-23T00:33:15.145145Z"
    }
   },
   "outputs": [
    {
     "name": "stdout",
     "output_type": "stream",
     "text": [
      "budget = 0.059534310762710665\n",
      "original_language = 0.000571101954595266\n",
      "popularity = 0.14634835212943112\n",
      "revenue = 0.14292337127492025\n",
      "runtime = 0.0649829134994863\n",
      "vote_average = 0.0668998717558137\n",
      "vote_count = 0.0981742236029774\n",
      "year = 0.10887137296183097\n",
      "day = 0.09298315746286873\n",
      "month = 0.018844277938356566\n",
      "num_genres = 0.02659845112647418\n",
      "production_companies_['Paramount Pictures'] = 0.014574314379083613\n",
      "production_companies_['Columbia Pictures', 'Intermedia Films', 'Warner Bros.', 'C-2 Pictures', 'IMF Internationale Medien und Film GmbH & Co. 3. Produktions KG', 'Mostow/Lieberman Productions'] = 0.01503925370540189\n",
      "production_companies_['TriStar Pictures'] = 0.031686624187829575\n",
      "production_companies_['Universal Pictures'] = 0.003797710295416866\n",
      "production_companies_['Paramount Pictures', 'The Coppola Company', 'The Directors Company'] = 0.0\n",
      "production_companies_['United Artists', 'Star Partners II Ltd.'] = 0.0\n",
      "production_companies_['Universal Pictures', 'Amblin Entertainment', 'U-Drive Productions'] = 0.0\n",
      "production_companies_['United Artists'] = 0.0\n",
      "production_companies_['Village Roadshow Pictures', 'Robert Simonds Productions', 'Warner Bros.', 'Phoenix Pictures', 'Underground', 'Proposal Productions'] = 0.02147449275429772\n",
      "production_companies_['Paramount Pictures', 'Miramax Films', 'Scott Rudin Productions'] = 0.0\n",
      "production_countries_['United States of America'] = 0.000315190039333456\n",
      "production_countries_['United Kingdom', 'United States of America'] = 0.009201631437518254\n",
      "production_countries_['Germany', 'United States of America'] = 0.0015358889862198608\n",
      "production_countries_['United Kingdom'] = 0.013112411802161857\n",
      "production_countries_['Germany', 'United Kingdom', 'United States of America'] = 0.013120840332655977\n",
      "production_countries_['Australia', 'United States of America'] = 0.01568229955123931\n",
      "production_countries_['France', 'United States of America'] = 0.0\n",
      "production_countries_['Germany'] = 0.01037333460155329\n",
      "production_countries_['Canada', 'France', 'Japan', 'United States of America'] = 0.0\n",
      "production_countries_['United States of America', 'United Kingdom'] = 0.0\n",
      "is_Drama = 0.0002945202430632217\n",
      "is_Comedy = 0.004433137974454518\n",
      "is_Thriller = 0.0014565441267968115\n",
      "is_Summer = 0.01717040111350874\n"
     ]
    }
   ],
   "source": [
    "from sklearn.ensemble import GradientBoostingRegressor\n",
    "gbr = GradientBoostingRegressor(random_state=241)\n",
    "gbr.fit(X_train, y_train)\n",
    "gbr.score(X_test, y_test)\n",
    "\n",
    "\n",
    "for name, importance in zip(X_train.columns, gbr.feature_importances_):\n",
    "    print(name, \"=\", importance)"
   ]
  },
  {
   "cell_type": "code",
   "execution_count": 255,
   "metadata": {
    "ExecuteTime": {
     "end_time": "2020-12-23T08:14:58.517663Z",
     "start_time": "2020-12-23T08:14:57.891407Z"
    }
   },
   "outputs": [
    {
     "data": {
      "text/plain": [
       "<matplotlib.axes._subplots.AxesSubplot at 0x21590fb23d0>"
      ]
     },
     "execution_count": 255,
     "metadata": {},
     "output_type": "execute_result"
    },
    {
     "data": {
      "image/png": "[encoded data removed]",
      "text/plain": [
       "<Figure size 216x720 with 1 Axes>"
      ]
     },
     "metadata": {},
     "output_type": "display_data"
    }
   ],
   "source": [
    "sns.set_style('whitegrid')\n",
    "plt.figure(figsize=(3,10))\n",
    "sns.barplot(x=gbr.feature_importances_, y=X.columns)"
   ]
  },
  {
   "cell_type": "code",
   "execution_count": 89,
   "metadata": {
    "ExecuteTime": {
     "end_time": "2020-12-23T00:33:16.353159Z",
     "start_time": "2020-12-23T00:33:16.329177Z"
    }
   },
   "outputs": [],
   "source": [
    "ypred_gbr = gbr.predict(X_test)"
   ]
  },
  {
   "cell_type": "code",
   "execution_count": 90,
   "metadata": {
    "ExecuteTime": {
     "end_time": "2020-12-23T00:33:16.385139Z",
     "start_time": "2020-12-23T00:33:16.353159Z"
    }
   },
   "outputs": [
    {
     "name": "stdout",
     "output_type": "stream",
     "text": [
      "The explained variance score of this model is:  0.06656230891243675\n",
      "The mean absolute error of this model is:  1.7082280451922314\n",
      "The mean squared error of this model is:  4.588548426082603\n",
      "The mean squared log error of this model is:  0.11789524398040026\n",
      "the median absolute error of this model is:  1.2485437272786686\n",
      "The r2 score of this model is:  0.06651494451824391\n"
     ]
    }
   ],
   "source": [
    "evc_gbr= explained_variance_score(y_test, ypred_gbr)\n",
    "print(\"The explained variance score of this model is: \", evc_gbr)\n",
    "\n",
    "mae_gbr = mean_absolute_error(y_test, ypred_gbr)\n",
    "print(\"The mean absolute error of this model is: \", mae_gbr)\n",
    "\n",
    "mse_gbr = mean_squared_error(y_test, ypred_gbr)\n",
    "print(\"The mean squared error of this model is: \", mse_gbr)\n",
    "\n",
    "msle_gbr = mean_squared_log_error(y_test, ypred_gbr)\n",
    "print(\"The mean squared log error of this model is: \",msle_gbr)\n",
    "\n",
    "med_gbr = median_absolute_error(y_test, ypred_gbr)\n",
    "print(\"the median absolute error of this model is: \", med_gbr)\n",
    "\n",
    "r2_gbr = r2_score(y_test, ypred_gbr, multioutput='variance_weighted')\n",
    "print(\"The r2 score of this model is: \", r2_gbr)"
   ]
  },
  {
   "cell_type": "code",
   "execution_count": 91,
   "metadata": {
    "ExecuteTime": {
     "end_time": "2020-12-23T00:33:22.856592Z",
     "start_time": "2020-12-23T00:33:16.385139Z"
    }
   },
   "outputs": [
    {
     "name": "stdout",
     "output_type": "stream",
     "text": [
      "Final RMSE:  2.051139987469864\n"
     ]
    }
   ],
   "source": [
    "scores_gbr = cross_val_score(gbr, X, y, scoring='neg_mean_squared_error', cv=5)\n",
    "final_avg_rmse_gbr = np.mean(np.sqrt(np.abs(scores_gbr)))\n",
    "print(\"Final RMSE: \", final_avg_rmse_gbr)"
   ]
  },
  {
   "cell_type": "code",
   "execution_count": 92,
   "metadata": {
    "ExecuteTime": {
     "end_time": "2020-12-23T00:33:22.867854Z",
     "start_time": "2020-12-23T00:33:22.857613Z"
    }
   },
   "outputs": [
    {
     "name": "stdout",
     "output_type": "stream",
     "text": [
      "RMSE for GB: 2.142090\n"
     ]
    }
   ],
   "source": [
    "rmse_gb = np.sqrt(mean_squared_error(y_test, ypred_gbr))\n",
    "print('RMSE for GB: %f' % (rmse_gb))"
   ]
  },
  {
   "cell_type": "markdown",
   "metadata": {},
   "source": [
    "#### Hyperparamter Tuning GB<a id='1.5.2.1_Hyperparameter_Tuning_GB'></a>"
   ]
  },
  {
   "cell_type": "code",
   "execution_count": 93,
   "metadata": {
    "ExecuteTime": {
     "end_time": "2020-12-23T01:06:02.348546Z",
     "start_time": "2020-12-23T00:33:22.871826Z"
    }
   },
   "outputs": [
    {
     "name": "stdout",
     "output_type": "stream",
     "text": [
      "Fitting 5 folds for each of 100 candidates, totalling 500 fits\n"
     ]
    },
    {
     "name": "stderr",
     "output_type": "stream",
     "text": [
      "[Parallel(n_jobs=-1)]: Using backend LokyBackend with 4 concurrent workers.\n",
      "[Parallel(n_jobs=-1)]: Done  42 tasks      | elapsed:  2.0min\n",
      "[Parallel(n_jobs=-1)]: Done 192 tasks      | elapsed: 12.0min\n",
      "[Parallel(n_jobs=-1)]: Done 442 tasks      | elapsed: 28.5min\n",
      "[Parallel(n_jobs=-1)]: Done 500 out of 500 | elapsed: 32.6min finished\n"
     ]
    },
    {
     "data": {
      "text/plain": [
       "RandomizedSearchCV(cv=5, estimator=GradientBoostingRegressor(), n_iter=100,\n",
       "                   n_jobs=-1,\n",
       "                   param_distributions={'learning_rate': [0.001, 0.01, 0.1,\n",
       "                                                          0.2],\n",
       "                                        'max_depth': [6, 9, 13, 16, 20],\n",
       "                                        'min_samples_leaf': [1, 2, 4],\n",
       "                                        'min_samples_split': [2, 5, 10],\n",
       "                                        'n_estimators': [100, 250, 400, 550,\n",
       "                                                         700]},\n",
       "                   random_state=241, verbose=1)"
      ]
     },
     "execution_count": 93,
     "metadata": {},
     "output_type": "execute_result"
    }
   ],
   "source": [
    "from sklearn.ensemble import GradientBoostingRegressor\n",
    "#from sklearn.model_selection import GridSearchCV\n",
    "\n",
    "#params = {'learning_rate': [0.01,0.05,0.10,0.20],\n",
    "#          'subsample'    : [0.9, 0.5, 0.2, 0.1],\n",
    "#          'n_estimators' : [100,500,1000, 1500],\n",
    "#         'max_depth'    : [6,8,10,12]}\n",
    "\n",
    "\n",
    "n_estimators = [int(x) for x in np.linspace(start = 100, stop=700,num=5)]\n",
    "max_depth = [int(x) for x in np.linspace(start = 6, stop= 20, num=5)]\n",
    "min_samples_split = [2,5,10]\n",
    "min_samples_leaf = [1,2,4]\n",
    "bootstrap =[True,False]\n",
    "\n",
    "random_grid = {'learning_rate': [0.001,0.01,0.10,0.20],\n",
    "               'n_estimators': n_estimators,\n",
    "               'max_depth': max_depth,\n",
    "               'min_samples_split': min_samples_split,\n",
    "               'min_samples_leaf': min_samples_leaf}\n",
    "gcv_random = RandomizedSearchCV(GradientBoostingRegressor(),random_grid,n_iter=100,cv=5,verbose=1,random_state=241,n_jobs=-1)\n",
    "gcv_random.fit(X_train,y_train)\n",
    "\n",
    "#gcv = GridSearchCV(GradientBoostingRegressor(),param_grid= params, scoring = 'neg_mean_squared_error', cv=5, verbose=1,n_jobs=-1)\n",
    "#gcv.fit(X_train, y_train)"
   ]
  },
  {
   "cell_type": "code",
   "execution_count": 94,
   "metadata": {
    "ExecuteTime": {
     "end_time": "2020-12-23T01:06:02.367596Z",
     "start_time": "2020-12-23T01:06:02.350569Z"
    }
   },
   "outputs": [
    {
     "name": "stdout",
     "output_type": "stream",
     "text": [
      "Best parameters:  {'n_estimators': 100, 'min_samples_split': 2, 'min_samples_leaf': 4, 'max_depth': 13, 'learning_rate': 0.01}\n",
      "lowest RMSE found:  0.3102596737774572\n"
     ]
    }
   ],
   "source": [
    "print(\"Best parameters: \", gcv_random.best_params_)\n",
    "print(\"lowest RMSE found: \", np.sqrt(np.abs(gcv_random.best_score_)))"
   ]
  },
  {
   "cell_type": "code",
   "execution_count": 95,
   "metadata": {
    "ExecuteTime": {
     "end_time": "2020-12-23T01:06:02.404497Z",
     "start_time": "2020-12-23T01:06:02.372582Z"
    }
   },
   "outputs": [],
   "source": [
    "ygcv_pred = gcv_random.predict(X_test)"
   ]
  },
  {
   "cell_type": "code",
   "execution_count": 96,
   "metadata": {
    "ExecuteTime": {
     "end_time": "2020-12-23T01:06:02.433419Z",
     "start_time": "2020-12-23T01:06:02.408486Z"
    }
   },
   "outputs": [
    {
     "name": "stdout",
     "output_type": "stream",
     "text": [
      "The explained variance score of this model is:  0.0846103398155279\n",
      "The mean absolute error of this model is:  1.6807407582535758\n",
      "The mean squared error of this model is:  4.499927684178725\n",
      "The mean squared log error of this model is:  0.11609848751620722\n",
      "the median absolute error of this model is:  1.2460015055571025\n",
      "The r2 score of this model is:  0.08454376986587198\n"
     ]
    }
   ],
   "source": [
    "evc_gcv= explained_variance_score(y_test, ygcv_pred)\n",
    "print(\"The explained variance score of this model is: \", evc_gcv)\n",
    "\n",
    "mae_gcv = mean_absolute_error(y_test, ygcv_pred)\n",
    "print(\"The mean absolute error of this model is: \", mae_gcv)\n",
    "\n",
    "mse_gcv = mean_squared_error(y_test, ygcv_pred)\n",
    "print(\"The mean squared error of this model is: \", mse_gcv)\n",
    "\n",
    "msle_gcv = mean_squared_log_error(y_test, ygcv_pred)\n",
    "print(\"The mean squared log error of this model is: \",msle_gcv)\n",
    "\n",
    "med_gcv = median_absolute_error(y_test, ygcv_pred)\n",
    "print(\"the median absolute error of this model is: \", med_gcv)\n",
    "\n",
    "r2_gcv= r2_score(y_test, ygcv_pred, multioutput='variance_weighted')\n",
    "print(\"The r2 score of this model is: \", r2_gcv)"
   ]
  },
  {
   "cell_type": "code",
   "execution_count": 99,
   "metadata": {
    "ExecuteTime": {
     "end_time": "2020-12-23T01:22:25.513840Z",
     "start_time": "2020-12-23T01:22:25.497849Z"
    }
   },
   "outputs": [
    {
     "name": "stdout",
     "output_type": "stream",
     "text": [
      "RMSE for tuned GB: 2.121303\n"
     ]
    }
   ],
   "source": [
    "rmse_gb_tuned = np.sqrt(mean_squared_error(y_test, ygcv_pred))\n",
    "print('RMSE for tuned GB: %f' % (rmse_gb_tuned))"
   ]
  },
  {
   "cell_type": "code",
   "execution_count": 100,
   "metadata": {
    "ExecuteTime": {
     "end_time": "2020-12-23T01:22:25.539757Z",
     "start_time": "2020-12-23T01:22:25.513840Z"
    },
    "scrolled": false
   },
   "outputs": [
    {
     "data": {
      "text/plain": [
       "dict_keys(['cv', 'error_score', 'estimator__alpha', 'estimator__ccp_alpha', 'estimator__criterion', 'estimator__init', 'estimator__learning_rate', 'estimator__loss', 'estimator__max_depth', 'estimator__max_features', 'estimator__max_leaf_nodes', 'estimator__min_impurity_decrease', 'estimator__min_impurity_split', 'estimator__min_samples_leaf', 'estimator__min_samples_split', 'estimator__min_weight_fraction_leaf', 'estimator__n_estimators', 'estimator__n_iter_no_change', 'estimator__presort', 'estimator__random_state', 'estimator__subsample', 'estimator__tol', 'estimator__validation_fraction', 'estimator__verbose', 'estimator__warm_start', 'estimator', 'iid', 'n_iter', 'n_jobs', 'param_distributions', 'pre_dispatch', 'random_state', 'refit', 'return_train_score', 'scoring', 'verbose'])"
      ]
     },
     "execution_count": 100,
     "metadata": {},
     "output_type": "execute_result"
    }
   ],
   "source": [
    "gcv_random.get_params().keys()"
   ]
  },
  {
   "cell_type": "markdown",
   "metadata": {},
   "source": [
    "### XGBoost<a id='1.5.3_XGBoost'></a>"
   ]
  },
  {
   "cell_type": "code",
   "execution_count": 101,
   "metadata": {
    "ExecuteTime": {
     "end_time": "2020-12-23T01:22:27.967255Z",
     "start_time": "2020-12-23T01:22:25.543184Z"
    }
   },
   "outputs": [],
   "source": [
    "import re\n",
    "import xgboost as xgb\n",
    "regex = re.compile(r\"\\[|\\]|<\", re.IGNORECASE)\n",
    "\n",
    "X_train.columns = [regex.sub(\"_\", col) if any(x in str(col) for x in set(('[', ']', '<'))) else col for col in X_train.columns.values]\n",
    "X_test.columns= [regex.sub(\"_\", col) if any(x in str(col) for x in set(('[', ']', '<'))) else col for col in X_test.columns.values]\n",
    "\n",
    "xg_reg = xgb.XGBRegressor(objective='reg:squarederror', seed=241)\n",
    "xg_reg.fit(X_train,y_train)\n",
    "\n",
    "preds = xg_reg.predict(X_test)"
   ]
  },
  {
   "cell_type": "code",
   "execution_count": 102,
   "metadata": {
    "ExecuteTime": {
     "end_time": "2020-12-23T01:22:28.195820Z",
     "start_time": "2020-12-23T01:22:27.967255Z"
    }
   },
   "outputs": [
    {
     "name": "stdout",
     "output_type": "stream",
     "text": [
      "Untuned rmse: 2.007509\n"
     ]
    }
   ],
   "source": [
    "housing_dmatrix = xgb.DMatrix(data=X_train,label=y_train)\n",
    "untuned_params={\"objective\":\"reg:squarederror\"}\n",
    "rmse = xgb.cv(dtrain=housing_dmatrix,params=untuned_params,nfold=4,metrics=\"rmse\",as_pandas=True,seed=123)\n",
    "print(\"Untuned rmse: %f\" %((rmse[\"test-rmse-mean\"]).tail(1)))"
   ]
  },
  {
   "cell_type": "code",
   "execution_count": 103,
   "metadata": {
    "ExecuteTime": {
     "end_time": "2020-12-23T01:22:28.352529Z",
     "start_time": "2020-12-23T01:22:28.203815Z"
    }
   },
   "outputs": [
    {
     "name": "stdout",
     "output_type": "stream",
     "text": [
      "budget = 0.008236867\n",
      "original_language = 0.004688622\n",
      "popularity = 0.013387132\n",
      "revenue = 0.017441476\n",
      "runtime = 0.013994532\n",
      "vote_average = 0.012562379\n",
      "vote_count = 0.016320555\n",
      "year = 0.025902169\n",
      "day = 0.022536678\n",
      "month = 0.015107603\n",
      "num_genres = 0.017210523\n",
      "production_companies__'Paramount Pictures'_ = 0.021931456\n",
      "production_companies__'Columbia Pictures', 'Intermedia Films', 'Warner Bros.', 'C-2 Pictures', 'IMF Internationale Medien und Film GmbH & Co. 3. Produktions KG', 'Mostow/Lieberman Productions'_ = 0.0\n",
      "production_companies__'TriStar Pictures'_ = 0.041855678\n",
      "production_companies__'Universal Pictures'_ = 0.0074717063\n",
      "production_companies__'Paramount Pictures', 'The Coppola Company', 'The Directors Company'_ = 0.0\n",
      "production_companies__'United Artists', 'Star Partners II Ltd.'_ = 0.0\n",
      "production_companies__'Universal Pictures', 'Amblin Entertainment', 'U-Drive Productions'_ = 0.007934191\n",
      "production_companies__'United Artists'_ = 0.0\n",
      "production_companies__'Village Roadshow Pictures', 'Robert Simonds Productions', 'Warner Bros.', 'Phoenix Pictures', 'Underground', 'Proposal Productions'_ = 0.18169852\n",
      "production_companies__'Paramount Pictures', 'Miramax Films', 'Scott Rudin Productions'_ = 0.0\n",
      "production_countries__'United States of America'_ = 0.00564464\n",
      "production_countries__'United Kingdom', 'United States of America'_ = 0.016584031\n",
      "production_countries__'Germany', 'United States of America'_ = 0.030801307\n",
      "production_countries__'United Kingdom'_ = 0.019681621\n",
      "production_countries__'Germany', 'United Kingdom', 'United States of America'_ = 0.1594376\n",
      "production_countries__'Australia', 'United States of America'_ = 0.04460622\n",
      "production_countries__'France', 'United States of America'_ = 0.0067974487\n",
      "production_countries__'Germany'_ = 0.2316415\n",
      "production_countries__'Canada', 'France', 'Japan', 'United States of America'_ = 0.0\n",
      "production_countries__'United States of America', 'United Kingdom'_ = 0.0004825911\n",
      "is_Drama = 0.0075654066\n",
      "is_Comedy = 0.012827538\n",
      "is_Thriller = 0.009137152\n",
      "is_Summer = 0.026512867\n"
     ]
    }
   ],
   "source": [
    "for name, importance in zip(X_train.columns, xg_reg.feature_importances_):\n",
    "    print(name, \"=\", importance)"
   ]
  },
  {
   "cell_type": "code",
   "execution_count": 254,
   "metadata": {
    "ExecuteTime": {
     "end_time": "2020-12-23T08:14:42.659392Z",
     "start_time": "2020-12-23T08:14:41.854169Z"
    }
   },
   "outputs": [
    {
     "data": {
      "text/plain": [
       "<matplotlib.axes._subplots.AxesSubplot at 0x2158e409d00>"
      ]
     },
     "execution_count": 254,
     "metadata": {},
     "output_type": "execute_result"
    },
    {
     "data": {
      "image/png": "[encoded data removed]",
      "text/plain": [
       "<Figure size 216x720 with 1 Axes>"
      ]
     },
     "metadata": {},
     "output_type": "display_data"
    }
   ],
   "source": [
    "sns.set_style('whitegrid')\n",
    "plt.figure(figsize=(3,10))\n",
    "sns.barplot(x=xg_reg.feature_importances_, y=X.columns)"
   ]
  },
  {
   "cell_type": "code",
   "execution_count": 104,
   "metadata": {
    "ExecuteTime": {
     "end_time": "2020-12-23T01:22:28.374510Z",
     "start_time": "2020-12-23T01:22:28.352529Z"
    }
   },
   "outputs": [
    {
     "name": "stdout",
     "output_type": "stream",
     "text": [
      "The explained variance score of this model is:  0.0406769113859925\n",
      "The mean absolute error of this model is:  1.686499668257778\n",
      "The mean squared error of this model is:  4.716064834939784\n",
      "The mean squared log error of this model is:  0.1197750742454588\n",
      "the median absolute error of this model is:  1.377427101135254\n",
      "The r2 score of this model is:  0.040573262978990006\n"
     ]
    }
   ],
   "source": [
    "evc_xgb = explained_variance_score(y_test, preds)\n",
    "print(\"The explained variance score of this model is: \", evc_xgb)\n",
    "\n",
    "mae_xgb = mean_absolute_error(y_test, preds)\n",
    "print(\"The mean absolute error of this model is: \", mae_xgb)\n",
    "\n",
    "mse_xgb = mean_squared_error(y_test, preds)\n",
    "print(\"The mean squared error of this model is: \", mse_xgb)\n",
    "\n",
    "msle_xgb = mean_squared_log_error(y_test, preds)\n",
    "print(\"The mean squared log error of this model is: \",msle_xgb)\n",
    "\n",
    "med_xgb = median_absolute_error(y_test, preds)\n",
    "print(\"the median absolute error of this model is: \", med_xgb)\n",
    "\n",
    "r2_xgb = r2_score(y_test, preds, multioutput='variance_weighted')\n",
    "print(\"The r2 score of this model is: \", r2_xgb)"
   ]
  },
  {
   "cell_type": "code",
   "execution_count": 105,
   "metadata": {
    "ExecuteTime": {
     "end_time": "2020-12-23T01:22:28.384556Z",
     "start_time": "2020-12-23T01:22:28.376504Z"
    }
   },
   "outputs": [
    {
     "name": "stdout",
     "output_type": "stream",
     "text": [
      "RMSE for XGB: 2.171650\n"
     ]
    }
   ],
   "source": [
    "rmse_xgb = np.sqrt(mean_squared_error(y_test, preds))\n",
    "print('RMSE for XGB: %f' % (rmse_xgb))"
   ]
  },
  {
   "cell_type": "markdown",
   "metadata": {},
   "source": [
    "#### Hyperparameter Tuning XGB<a id='1.5.3.1_Hyperparameter_Tuning_XGB'></a>"
   ]
  },
  {
   "cell_type": "code",
   "execution_count": 106,
   "metadata": {
    "ExecuteTime": {
     "end_time": "2020-12-23T01:35:03.143593Z",
     "start_time": "2020-12-23T01:22:28.386332Z"
    }
   },
   "outputs": [
    {
     "name": "stdout",
     "output_type": "stream",
     "text": [
      "Fitting 5 folds for each of 100 candidates, totalling 500 fits\n"
     ]
    },
    {
     "name": "stderr",
     "output_type": "stream",
     "text": [
      "[Parallel(n_jobs=-1)]: Using backend LokyBackend with 4 concurrent workers.\n",
      "[Parallel(n_jobs=-1)]: Done  42 tasks      | elapsed:   41.0s\n",
      "[Parallel(n_jobs=-1)]: Done 192 tasks      | elapsed:  3.7min\n",
      "[Parallel(n_jobs=-1)]: Done 442 tasks      | elapsed: 10.6min\n",
      "[Parallel(n_jobs=-1)]: Done 500 out of 500 | elapsed: 12.5min finished\n"
     ]
    },
    {
     "name": "stdout",
     "output_type": "stream",
     "text": [
      "Best parameters found:  {'subsample': 0.1, 'n_estimators': 550, 'min_child_weight': 3, 'max_depth': 9, 'learning_rate': 0.01}\n",
      "Lowest RMSE found:  1.9880419252221695\n"
     ]
    }
   ],
   "source": [
    "movies_dmatrix = xgb.DMatrix(data = X_train, label = y_train)\n",
    "n_estimators = [int(x) for x in np.linspace(start = 100, stop=1000,num=5)]\n",
    "xgbparam_grid = { 'learning_rate': [0.01, 0.05, 0.1, 0.9],\n",
    "                  'n_estimators':n_estimators,\n",
    "                  'subsample': [0.01, 0.10, 0.50], \n",
    "                  'max_depth': range(3,15,3),\n",
    "                  'min_child_weight': range(1,6,2)\n",
    "                }\n",
    "gbm = xgb.XGBRegressor()\n",
    "random_mse = RandomizedSearchCV(estimator=gbm, param_distributions= xgbparam_grid,n_iter=100, \n",
    "                                scoring='neg_mean_squared_error', cv=5, verbose=1, n_jobs=-1)\n",
    "random_mse.fit(X_train, y_train)\n",
    "print('Best parameters found: ',random_mse.best_params_)\n",
    "print(\"Lowest RMSE found: \", np.sqrt(np.abs(random_mse.best_score_)))"
   ]
  },
  {
   "cell_type": "code",
   "execution_count": 107,
   "metadata": {
    "ExecuteTime": {
     "end_time": "2020-12-23T01:35:03.209874Z",
     "start_time": "2020-12-23T01:35:03.147583Z"
    }
   },
   "outputs": [],
   "source": [
    "xgb_preds = random_mse.predict(X_test)"
   ]
  },
  {
   "cell_type": "code",
   "execution_count": 108,
   "metadata": {
    "ExecuteTime": {
     "end_time": "2020-12-23T01:35:03.239855Z",
     "start_time": "2020-12-23T01:35:03.211897Z"
    }
   },
   "outputs": [
    {
     "name": "stdout",
     "output_type": "stream",
     "text": [
      "The explained variance score of this model is:  0.07885630740895089\n",
      "The mean absolute error of this model is:  1.6705398953418114\n",
      "The mean squared error of this model is:  4.528082653248118\n",
      "The mean squared log error of this model is:  0.11569059653858453\n",
      "the median absolute error of this model is:  1.389585256576538\n",
      "The r2 score of this model is:  0.07881597963172414\n"
     ]
    }
   ],
   "source": [
    "evc_xgb_t = explained_variance_score(y_test, xgb_preds)\n",
    "print(\"The explained variance score of this model is: \", evc_xgb_t)\n",
    "\n",
    "mae_xgb_t = mean_absolute_error(y_test, xgb_preds)\n",
    "print(\"The mean absolute error of this model is: \", mae_xgb_t)\n",
    "\n",
    "mse_xgb_t = mean_squared_error(y_test, xgb_preds)\n",
    "print(\"The mean squared error of this model is: \", mse_xgb_t)\n",
    "\n",
    "msle_xgb_t = mean_squared_log_error(y_test, xgb_preds)\n",
    "print(\"The mean squared log error of this model is: \",msle_xgb_t)\n",
    "\n",
    "med_xgb_t = median_absolute_error(y_test, xgb_preds)\n",
    "print(\"the median absolute error of this model is: \", med_xgb_t)\n",
    "\n",
    "r2_xgb_t = r2_score(y_test, xgb_preds, multioutput='variance_weighted')\n",
    "print(\"The r2 score of this model is: \", r2_xgb_t)"
   ]
  },
  {
   "cell_type": "code",
   "execution_count": 109,
   "metadata": {
    "ExecuteTime": {
     "end_time": "2020-12-23T01:35:03.249283Z",
     "start_time": "2020-12-23T01:35:03.242849Z"
    }
   },
   "outputs": [
    {
     "name": "stdout",
     "output_type": "stream",
     "text": [
      "RMSE for tuned XGB: 2.127929\n"
     ]
    }
   ],
   "source": [
    "rmse_xgb_tuned = np.sqrt(mean_squared_error(y_test, xgb_preds))\n",
    "print('RMSE for tuned XGB: %f' % (rmse_xgb_tuned))"
   ]
  },
  {
   "cell_type": "code",
   "execution_count": 110,
   "metadata": {
    "ExecuteTime": {
     "end_time": "2020-12-23T02:42:46.065818Z",
     "start_time": "2020-12-23T01:35:03.251788Z"
    }
   },
   "outputs": [
    {
     "name": "stdout",
     "output_type": "stream",
     "text": [
      "Fitting 5 folds for each of 100 candidates, totalling 500 fits\n"
     ]
    },
    {
     "name": "stderr",
     "output_type": "stream",
     "text": [
      "[Parallel(n_jobs=-1)]: Using backend LokyBackend with 4 concurrent workers.\n",
      "[Parallel(n_jobs=-1)]: Done  42 tasks      | elapsed:   56.1s\n",
      "[Parallel(n_jobs=-1)]: Done 192 tasks      | elapsed:  4.8min\n",
      "[Parallel(n_jobs=-1)]: Done 442 tasks      | elapsed: 11.4min\n",
      "[Parallel(n_jobs=-1)]: Done 500 out of 500 | elapsed: 12.5min finished\n"
     ]
    },
    {
     "name": "stdout",
     "output_type": "stream",
     "text": [
      "Fitting 5 folds for each of 100 candidates, totalling 500 fits\n"
     ]
    },
    {
     "name": "stderr",
     "output_type": "stream",
     "text": [
      "[Parallel(n_jobs=-1)]: Using backend LokyBackend with 4 concurrent workers.\n",
      "[Parallel(n_jobs=-1)]: Done  42 tasks      | elapsed:   58.4s\n",
      "[Parallel(n_jobs=-1)]: Done 192 tasks      | elapsed:  4.9min\n",
      "[Parallel(n_jobs=-1)]: Done 442 tasks      | elapsed: 11.1min\n",
      "[Parallel(n_jobs=-1)]: Done 500 out of 500 | elapsed: 12.3min finished\n"
     ]
    },
    {
     "name": "stdout",
     "output_type": "stream",
     "text": [
      "Fitting 5 folds for each of 100 candidates, totalling 500 fits\n"
     ]
    },
    {
     "name": "stderr",
     "output_type": "stream",
     "text": [
      "[Parallel(n_jobs=-1)]: Using backend LokyBackend with 4 concurrent workers.\n",
      "[Parallel(n_jobs=-1)]: Done  42 tasks      | elapsed:   57.3s\n",
      "[Parallel(n_jobs=-1)]: Done 192 tasks      | elapsed:  5.1min\n",
      "[Parallel(n_jobs=-1)]: Done 442 tasks      | elapsed: 11.9min\n",
      "[Parallel(n_jobs=-1)]: Done 500 out of 500 | elapsed: 13.2min finished\n"
     ]
    },
    {
     "name": "stdout",
     "output_type": "stream",
     "text": [
      "Fitting 5 folds for each of 100 candidates, totalling 500 fits\n"
     ]
    },
    {
     "name": "stderr",
     "output_type": "stream",
     "text": [
      "[Parallel(n_jobs=-1)]: Using backend LokyBackend with 4 concurrent workers.\n",
      "[Parallel(n_jobs=-1)]: Done  42 tasks      | elapsed:  1.2min\n",
      "[Parallel(n_jobs=-1)]: Done 192 tasks      | elapsed:  5.7min\n",
      "[Parallel(n_jobs=-1)]: Done 442 tasks      | elapsed: 13.0min\n",
      "[Parallel(n_jobs=-1)]: Done 500 out of 500 | elapsed: 14.3min finished\n"
     ]
    },
    {
     "name": "stdout",
     "output_type": "stream",
     "text": [
      "Fitting 5 folds for each of 100 candidates, totalling 500 fits\n"
     ]
    },
    {
     "name": "stderr",
     "output_type": "stream",
     "text": [
      "[Parallel(n_jobs=-1)]: Using backend LokyBackend with 4 concurrent workers.\n",
      "[Parallel(n_jobs=-1)]: Done  42 tasks      | elapsed:  1.3min\n",
      "[Parallel(n_jobs=-1)]: Done 192 tasks      | elapsed:  5.8min\n",
      "[Parallel(n_jobs=-1)]: Done 442 tasks      | elapsed: 13.0min\n",
      "[Parallel(n_jobs=-1)]: Done 500 out of 500 | elapsed: 14.3min finished\n"
     ]
    },
    {
     "name": "stdout",
     "output_type": "stream",
     "text": [
      "Final RMSE:  2.029523391349953\n"
     ]
    }
   ],
   "source": [
    "scores_rf = cross_val_score(rf_random, X, y, scoring='neg_mean_squared_error', cv=5)\n",
    "final_avg_rmse_rf = np.mean(np.sqrt(np.abs(scores_rf)))\n",
    "print(\"Final RMSE: \", final_avg_rmse_rf)"
   ]
  },
  {
   "cell_type": "code",
   "execution_count": 111,
   "metadata": {
    "ExecuteTime": {
     "end_time": "2020-12-23T06:00:03.838583Z",
     "start_time": "2020-12-23T02:42:46.086762Z"
    }
   },
   "outputs": [
    {
     "name": "stdout",
     "output_type": "stream",
     "text": [
      "Fitting 5 folds for each of 100 candidates, totalling 500 fits\n"
     ]
    },
    {
     "name": "stderr",
     "output_type": "stream",
     "text": [
      "[Parallel(n_jobs=-1)]: Using backend LokyBackend with 4 concurrent workers.\n",
      "[Parallel(n_jobs=-1)]: Done  42 tasks      | elapsed:  2.4min\n",
      "[Parallel(n_jobs=-1)]: Done 192 tasks      | elapsed: 12.9min\n",
      "[Parallel(n_jobs=-1)]: Done 442 tasks      | elapsed: 31.2min\n",
      "[Parallel(n_jobs=-1)]: Done 500 out of 500 | elapsed: 35.6min finished\n"
     ]
    },
    {
     "name": "stdout",
     "output_type": "stream",
     "text": [
      "Fitting 5 folds for each of 100 candidates, totalling 500 fits\n"
     ]
    },
    {
     "name": "stderr",
     "output_type": "stream",
     "text": [
      "[Parallel(n_jobs=-1)]: Using backend LokyBackend with 4 concurrent workers.\n",
      "[Parallel(n_jobs=-1)]: Done  42 tasks      | elapsed:  2.3min\n",
      "[Parallel(n_jobs=-1)]: Done 192 tasks      | elapsed: 13.4min\n",
      "[Parallel(n_jobs=-1)]: Done 442 tasks      | elapsed: 33.2min\n",
      "[Parallel(n_jobs=-1)]: Done 500 out of 500 | elapsed: 38.3min finished\n"
     ]
    },
    {
     "name": "stdout",
     "output_type": "stream",
     "text": [
      "Fitting 5 folds for each of 100 candidates, totalling 500 fits\n"
     ]
    },
    {
     "name": "stderr",
     "output_type": "stream",
     "text": [
      "[Parallel(n_jobs=-1)]: Using backend LokyBackend with 4 concurrent workers.\n",
      "[Parallel(n_jobs=-1)]: Done  42 tasks      | elapsed:  2.6min\n",
      "[Parallel(n_jobs=-1)]: Done 192 tasks      | elapsed: 14.8min\n",
      "[Parallel(n_jobs=-1)]: Done 442 tasks      | elapsed: 35.8min\n",
      "[Parallel(n_jobs=-1)]: Done 500 out of 500 | elapsed: 41.8min finished\n"
     ]
    },
    {
     "name": "stdout",
     "output_type": "stream",
     "text": [
      "Fitting 5 folds for each of 100 candidates, totalling 500 fits\n"
     ]
    },
    {
     "name": "stderr",
     "output_type": "stream",
     "text": [
      "[Parallel(n_jobs=-1)]: Using backend LokyBackend with 4 concurrent workers.\n",
      "[Parallel(n_jobs=-1)]: Done  42 tasks      | elapsed:  2.8min\n",
      "[Parallel(n_jobs=-1)]: Done 192 tasks      | elapsed: 15.0min\n",
      "[Parallel(n_jobs=-1)]: Done 442 tasks      | elapsed: 35.2min\n",
      "[Parallel(n_jobs=-1)]: Done 500 out of 500 | elapsed: 40.4min finished\n"
     ]
    },
    {
     "name": "stdout",
     "output_type": "stream",
     "text": [
      "Fitting 5 folds for each of 100 candidates, totalling 500 fits\n"
     ]
    },
    {
     "name": "stderr",
     "output_type": "stream",
     "text": [
      "[Parallel(n_jobs=-1)]: Using backend LokyBackend with 4 concurrent workers.\n",
      "[Parallel(n_jobs=-1)]: Done  42 tasks      | elapsed:  2.5min\n",
      "[Parallel(n_jobs=-1)]: Done 192 tasks      | elapsed: 13.7min\n",
      "[Parallel(n_jobs=-1)]: Done 442 tasks      | elapsed: 33.7min\n",
      "[Parallel(n_jobs=-1)]: Done 500 out of 500 | elapsed: 39.1min finished\n"
     ]
    },
    {
     "name": "stdout",
     "output_type": "stream",
     "text": [
      "Final RMSE:  2.0272104410877647\n"
     ]
    }
   ],
   "source": [
    "scores_gcv = cross_val_score(gcv_random, X, y, scoring='neg_mean_squared_error', cv=5)\n",
    "final_avg_rmse_gcv = np.mean(np.sqrt(np.abs(scores_gcv)))\n",
    "print(\"Final RMSE: \", final_avg_rmse_gcv)"
   ]
  },
  {
   "cell_type": "code",
   "execution_count": 240,
   "metadata": {
    "ExecuteTime": {
     "end_time": "2020-12-23T07:02:29.354767Z",
     "start_time": "2020-12-23T07:02:18.999477Z"
    }
   },
   "outputs": [
    {
     "name": "stdout",
     "output_type": "stream",
     "text": [
      "Fitting 5 folds for each of 100 candidates, totalling 500 fits\n"
     ]
    },
    {
     "name": "stderr",
     "output_type": "stream",
     "text": [
      "[Parallel(n_jobs=-1)]: Using backend LokyBackend with 4 concurrent workers.\n",
      "[Parallel(n_jobs=-1)]: Done 280 tasks      | elapsed:    1.1s\n",
      "[Parallel(n_jobs=-1)]: Done 500 out of 500 | elapsed:    1.9s finished\n",
      "C:\\Users\\sathw\\anaconda3\\lib\\site-packages\\sklearn\\model_selection\\_validation.py:548: FitFailedWarning: Estimator fit failed. The score on this train-test partition for these parameters will be set to nan. Details: \n",
      "Traceback (most recent call last):\n",
      "  File \"C:\\Users\\sathw\\anaconda3\\lib\\site-packages\\sklearn\\model_selection\\_validation.py\", line 531, in _fit_and_score\n",
      "    estimator.fit(X_train, y_train, **fit_params)\n",
      "  File \"C:\\Users\\sathw\\anaconda3\\lib\\site-packages\\sklearn\\utils\\validation.py\", line 73, in inner_f\n",
      "    return f(**kwargs)\n",
      "  File \"C:\\Users\\sathw\\anaconda3\\lib\\site-packages\\sklearn\\model_selection\\_search.py\", line 765, in fit\n",
      "    self.best_estimator_.fit(X, y, **fit_params)\n",
      "  File \"C:\\Users\\sathw\\anaconda3\\lib\\site-packages\\xgboost\\sklearn.py\", line 504, in fit\n",
      "    train_dmatrix = DMatrix(data=X, label=y, weight=sample_weight,\n",
      "  File \"C:\\Users\\sathw\\anaconda3\\lib\\site-packages\\xgboost\\core.py\", line 444, in __init__\n",
      "    self.feature_names = feature_names\n",
      "  File \"C:\\Users\\sathw\\anaconda3\\lib\\site-packages\\xgboost\\core.py\", line 761, in feature_names\n",
      "    raise ValueError('feature_names must be string, and may not contain [, ] or <')\n",
      "ValueError: feature_names must be string, and may not contain [, ] or <\n",
      "\n",
      "  warnings.warn(\"Estimator fit failed. The score on this train-test\"\n",
      "[Parallel(n_jobs=-1)]: Using backend LokyBackend with 4 concurrent workers.\n"
     ]
    },
    {
     "name": "stdout",
     "output_type": "stream",
     "text": [
      "Fitting 5 folds for each of 100 candidates, totalling 500 fits\n"
     ]
    },
    {
     "name": "stderr",
     "output_type": "stream",
     "text": [
      "[Parallel(n_jobs=-1)]: Done 280 tasks      | elapsed:    1.0s\n",
      "[Parallel(n_jobs=-1)]: Done 500 out of 500 | elapsed:    1.7s finished\n",
      "[Parallel(n_jobs=-1)]: Using backend LokyBackend with 4 concurrent workers.\n"
     ]
    },
    {
     "name": "stdout",
     "output_type": "stream",
     "text": [
      "Fitting 5 folds for each of 100 candidates, totalling 500 fits\n"
     ]
    },
    {
     "name": "stderr",
     "output_type": "stream",
     "text": [
      "[Parallel(n_jobs=-1)]: Done  96 tasks      | elapsed:    0.4s\n",
      "[Parallel(n_jobs=-1)]: Done 493 out of 500 | elapsed:    1.8s remaining:    0.0s\n",
      "[Parallel(n_jobs=-1)]: Done 500 out of 500 | elapsed:    1.9s finished\n",
      "[Parallel(n_jobs=-1)]: Using backend LokyBackend with 4 concurrent workers.\n"
     ]
    },
    {
     "name": "stdout",
     "output_type": "stream",
     "text": [
      "Fitting 5 folds for each of 100 candidates, totalling 500 fits\n"
     ]
    },
    {
     "name": "stderr",
     "output_type": "stream",
     "text": [
      "[Parallel(n_jobs=-1)]: Done 280 tasks      | elapsed:    1.3s\n",
      "[Parallel(n_jobs=-1)]: Done 500 out of 500 | elapsed:    2.2s finished\n",
      "[Parallel(n_jobs=-1)]: Using backend LokyBackend with 4 concurrent workers.\n"
     ]
    },
    {
     "name": "stdout",
     "output_type": "stream",
     "text": [
      "Fitting 5 folds for each of 100 candidates, totalling 500 fits\n"
     ]
    },
    {
     "name": "stderr",
     "output_type": "stream",
     "text": [
      "[Parallel(n_jobs=-1)]: Done 280 tasks      | elapsed:    1.3s\n"
     ]
    },
    {
     "name": "stdout",
     "output_type": "stream",
     "text": [
      "Final RMSE:  nan\n"
     ]
    },
    {
     "name": "stderr",
     "output_type": "stream",
     "text": [
      "[Parallel(n_jobs=-1)]: Done 500 out of 500 | elapsed:    2.0s finished\n"
     ]
    }
   ],
   "source": [
    "#X = [regex.sub(\"_\", col) if any(x in str(col) for x in set(('[', ']', '<'))) else col for col in X.columns.values]\n",
    "scores_xgb = cross_val_score(random_mse, X_train, y_train, scoring='neg_mean_squared_error', cv=5)\n",
    "final_avg_rmse_xgb = np.mean(np.sqrt(np.abs(scores_xgb)))\n",
    "print(\"Final RMSE: \", final_avg_rmse_xgb)"
   ]
  }
 ],
 "metadata": {
  "kernelspec": {
   "display_name": "Python 3",
   "language": "python",
   "name": "python3"
  },
  "language_info": {
   "codemirror_mode": {
    "name": "ipython",
    "version": 3
   },
   "file_extension": ".py",
   "mimetype": "text/x-python",
   "name": "python",
   "nbconvert_exporter": "python",
   "pygments_lexer": "ipython3",
   "version": "3.8.3"
  },
  "toc": {
   "base_numbering": 1,
   "nav_menu": {},
   "number_sections": true,
   "sideBar": true,
   "skip_h1_title": false,
   "title_cell": "Table of Contents",
   "title_sidebar": "Contents",
   "toc_cell": false,
   "toc_position": {
    "height": "calc(100% - 180px)",
    "left": "10px",
    "top": "150px",
    "width": "302px"
   },
   "toc_section_display": true,
   "toc_window_display": false
  }
 },
 "nbformat": 4,
 "nbformat_minor": 4
}
