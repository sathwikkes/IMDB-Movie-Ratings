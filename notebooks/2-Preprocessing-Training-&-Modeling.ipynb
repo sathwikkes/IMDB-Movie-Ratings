{
 "cells": [
  {
   "cell_type": "markdown",
   "metadata": {},
   "source": [
    "# Preprocessing, Training, & Modeling"
   ]
  },
  {
   "cell_type": "markdown",
   "metadata": {},
   "source": [
    "## Table of Contents<a id='Table_of_Contents'></a>\n",
    "* [1 Processing, Training, & Modeling](#1_Processing_,_Training_,_Modeling)\n",
    "    * [1.1 Table of Contents](#1.1_Table_of_Contents)\n",
    "    * [1.2 Imports](#1.2_Imports)\n",
    "    * [1.3 Load Data](#1.3_Load_Data)\n",
    "    * [1.4 Basic Data Exploration](#1.4_Basic_Data_Exploration)\n",
    "    * [1.5 Feature Engineering](#1.4_Feature_Engineering)\n",
    "    * [1.6 Regression: Predicting Movie Ratings](#1.6_Regression_:_Predicting_Movie_Ratings) \n",
    "        * [1.6.1 Random Forest](#1.6.1_Random_Forest)\n",
    "            * [1.6.1.1 Hyperparameter Tuning RF](#1.6.1.1_Hyperparameter_Tuning_RF)\n",
    "        * [1.6.2 Gradient Boosting](#1.6.2_Gradient_Boosting)\n",
    "            * [1.6.2.1 Hyperparameter Tuning GB](#1.6.2.1_Hyperparameter_Tuning_GB)\n",
    "        * [1.6.3 XGBoost](#1.6.3_XGBoost)\n",
    "            * [1.6.3.1 Hyperparameter Tuning XGB](#1.6.3.1_Hyperparamter_Tuning_XGB)"
   ]
  },
  {
   "cell_type": "markdown",
   "metadata": {},
   "source": [
    "**Predicting on the Ratings** "
   ]
  },
  {
   "cell_type": "markdown",
   "metadata": {},
   "source": [
    "## Imports<a id='1.2_Imports'></a>"
   ]
  },
  {
   "cell_type": "code",
   "execution_count": 1,
   "metadata": {
    "ExecuteTime": {
     "end_time": "2020-12-29T11:34:41.457031Z",
     "start_time": "2020-12-29T11:34:37.822747Z"
    }
   },
   "outputs": [],
   "source": [
    "#call all import statements and their necessary pacakges\n",
    "import pandas as pd\n",
    "import matplotlib.pyplot as plt \n",
    "import numpy as np\n",
    "import seaborn as sns"
   ]
  },
  {
   "cell_type": "markdown",
   "metadata": {},
   "source": [
    "## Load Data<a id='1.3_Imports'></a>"
   ]
  },
  {
   "cell_type": "code",
   "execution_count": 2,
   "metadata": {
    "ExecuteTime": {
     "end_time": "2020-12-29T11:34:47.137847Z",
     "start_time": "2020-12-29T11:34:41.461022Z"
    }
   },
   "outputs": [],
   "source": [
    "movies = pd.read_csv('C:/Users/sathw/OneDrive/Desktop/Springboard_work/TMDB-Movie-Ratings/data/movies_cleaned.csv')\n",
    "ratings = pd.read_csv('C:/Users/sathw/OneDrive/Desktop/Springboard_work/TMDB-Movie-Ratings/data/ratings_cleaned.csv')"
   ]
  },
  {
   "cell_type": "markdown",
   "metadata": {},
   "source": [
    "The motivation behind combining these two datasets is to be able to understand which features play a key role in predicting the rating of a film to a certain degree. "
   ]
  },
  {
   "cell_type": "markdown",
   "metadata": {},
   "source": [
    "## Basic Data Exploration<a id='1.4_Basic_Data_Exploration'></a>"
   ]
  },
  {
   "cell_type": "code",
   "execution_count": 3,
   "metadata": {
    "ExecuteTime": {
     "end_time": "2020-12-29T11:34:51.735557Z",
     "start_time": "2020-12-29T11:34:47.148818Z"
    }
   },
   "outputs": [],
   "source": [
    "combined_df = pd.merge(movies,ratings, on ='id', how='left')"
   ]
  },
  {
   "cell_type": "code",
   "execution_count": 4,
   "metadata": {
    "ExecuteTime": {
     "end_time": "2020-12-29T11:34:53.488870Z",
     "start_time": "2020-12-29T11:34:51.738550Z"
    }
   },
   "outputs": [
    {
     "name": "stdout",
     "output_type": "stream",
     "text": [
      "<class 'pandas.core.frame.DataFrame'>\n",
      "Int64Index: 1183206 entries, 0 to 1183205\n",
      "Data columns (total 30 columns):\n",
      " #   Column                 Non-Null Count    Dtype  \n",
      "---  ------                 --------------    -----  \n",
      " 0   adult                  1183206 non-null  bool   \n",
      " 1   belongs_to_collection  275952 non-null   object \n",
      " 2   budget                 1183206 non-null  float64\n",
      " 3   genres                 1183206 non-null  object \n",
      " 4   homepage               281360 non-null   object \n",
      " 5   id                     1183206 non-null  int64  \n",
      " 6   imdb_id                1183180 non-null  object \n",
      " 7   original_language      1183193 non-null  object \n",
      " 8   original_title         1183206 non-null  object \n",
      " 9   overview               1178266 non-null  object \n",
      " 10  popularity             1183206 non-null  float64\n",
      " 11  poster_path            1181842 non-null  object \n",
      " 12  production_companies   1183206 non-null  object \n",
      " 13  production_countries   1183206 non-null  object \n",
      " 14  release_date           1182404 non-null  object \n",
      " 15  revenue                1183206 non-null  float64\n",
      " 16  runtime                1182867 non-null  float64\n",
      " 17  spoken_languages       1183206 non-null  object \n",
      " 18  status                 1183056 non-null  object \n",
      " 19  tagline                811748 non-null   object \n",
      " 20  video                  1183206 non-null  bool   \n",
      " 21  vote_average           1183206 non-null  float64\n",
      " 22  vote_count             1183206 non-null  float64\n",
      " 23  year                   1182404 non-null  float64\n",
      " 24  day                    1182404 non-null  float64\n",
      " 25  month                  1182404 non-null  float64\n",
      " 26  num_genres             1183206 non-null  int64  \n",
      " 27  userId                 1143571 non-null  float64\n",
      " 28  rating                 1143571 non-null  float64\n",
      " 29  timestamp              1143571 non-null  object \n",
      "dtypes: bool(2), float64(11), int64(2), object(15)\n",
      "memory usage: 264.0+ MB\n"
     ]
    }
   ],
   "source": [
    "combined_df.info()           "
   ]
  },
  {
   "cell_type": "code",
   "execution_count": 5,
   "metadata": {
    "ExecuteTime": {
     "end_time": "2020-12-29T11:34:53.501836Z",
     "start_time": "2020-12-29T11:34:53.491863Z"
    }
   },
   "outputs": [
    {
     "data": {
      "text/plain": [
       "(1183206, 30)"
      ]
     },
     "execution_count": 5,
     "metadata": {},
     "output_type": "execute_result"
    }
   ],
   "source": [
    "combined_df.shape"
   ]
  },
  {
   "cell_type": "code",
   "execution_count": 6,
   "metadata": {
    "ExecuteTime": {
     "end_time": "2020-12-29T11:34:55.951288Z",
     "start_time": "2020-12-29T11:34:53.505825Z"
    }
   },
   "outputs": [
    {
     "data": {
      "text/html": [
       "<div>\n",
       "<style scoped>\n",
       "    .dataframe tbody tr th:only-of-type {\n",
       "        vertical-align: middle;\n",
       "    }\n",
       "\n",
       "    .dataframe tbody tr th {\n",
       "        vertical-align: top;\n",
       "    }\n",
       "\n",
       "    .dataframe thead th {\n",
       "        text-align: right;\n",
       "    }\n",
       "</style>\n",
       "<table border=\"1\" class=\"dataframe\">\n",
       "  <thead>\n",
       "    <tr style=\"text-align: right;\">\n",
       "      <th></th>\n",
       "      <th>budget</th>\n",
       "      <th>id</th>\n",
       "      <th>popularity</th>\n",
       "      <th>revenue</th>\n",
       "      <th>runtime</th>\n",
       "      <th>vote_average</th>\n",
       "      <th>vote_count</th>\n",
       "      <th>year</th>\n",
       "      <th>day</th>\n",
       "      <th>month</th>\n",
       "      <th>num_genres</th>\n",
       "      <th>userId</th>\n",
       "      <th>rating</th>\n",
       "    </tr>\n",
       "  </thead>\n",
       "  <tbody>\n",
       "    <tr>\n",
       "      <th>count</th>\n",
       "      <td>1.183206e+06</td>\n",
       "      <td>1.183206e+06</td>\n",
       "      <td>1.183206e+06</td>\n",
       "      <td>1.183206e+06</td>\n",
       "      <td>1.182867e+06</td>\n",
       "      <td>1.183206e+06</td>\n",
       "      <td>1.183206e+06</td>\n",
       "      <td>1.182404e+06</td>\n",
       "      <td>1.182404e+06</td>\n",
       "      <td>1.182404e+06</td>\n",
       "      <td>1.183206e+06</td>\n",
       "      <td>1.143571e+06</td>\n",
       "      <td>1.143571e+06</td>\n",
       "    </tr>\n",
       "    <tr>\n",
       "      <th>mean</th>\n",
       "      <td>1.912366e+07</td>\n",
       "      <td>1.079739e+04</td>\n",
       "      <td>7.854956e+00</td>\n",
       "      <td>7.237566e+07</td>\n",
       "      <td>1.080995e+02</td>\n",
       "      <td>6.584738e+00</td>\n",
       "      <td>6.413840e+02</td>\n",
       "      <td>1.987447e+03</td>\n",
       "      <td>1.518177e+01</td>\n",
       "      <td>6.932811e+00</td>\n",
       "      <td>2.409820e+00</td>\n",
       "      <td>1.347564e+04</td>\n",
       "      <td>7.062312e+00</td>\n",
       "    </tr>\n",
       "    <tr>\n",
       "      <th>std</th>\n",
       "      <td>3.731519e+07</td>\n",
       "      <td>3.423603e+04</td>\n",
       "      <td>6.648255e+00</td>\n",
       "      <td>1.727673e+08</td>\n",
       "      <td>2.598008e+01</td>\n",
       "      <td>1.125276e+00</td>\n",
       "      <td>1.201326e+03</td>\n",
       "      <td>2.156605e+01</td>\n",
       "      <td>9.149474e+00</td>\n",
       "      <td>3.533301e+00</td>\n",
       "      <td>1.057717e+00</td>\n",
       "      <td>7.803694e+03</td>\n",
       "      <td>2.120801e+00</td>\n",
       "    </tr>\n",
       "    <tr>\n",
       "      <th>min</th>\n",
       "      <td>0.000000e+00</td>\n",
       "      <td>2.000000e+00</td>\n",
       "      <td>0.000000e+00</td>\n",
       "      <td>0.000000e+00</td>\n",
       "      <td>0.000000e+00</td>\n",
       "      <td>0.000000e+00</td>\n",
       "      <td>0.000000e+00</td>\n",
       "      <td>1.874000e+03</td>\n",
       "      <td>1.000000e+00</td>\n",
       "      <td>1.000000e+00</td>\n",
       "      <td>0.000000e+00</td>\n",
       "      <td>1.000000e+00</td>\n",
       "      <td>1.000000e+00</td>\n",
       "    </tr>\n",
       "    <tr>\n",
       "      <th>25%</th>\n",
       "      <td>0.000000e+00</td>\n",
       "      <td>5.090000e+02</td>\n",
       "      <td>2.686234e+00</td>\n",
       "      <td>0.000000e+00</td>\n",
       "      <td>9.400000e+01</td>\n",
       "      <td>6.100000e+00</td>\n",
       "      <td>2.500000e+01</td>\n",
       "      <td>1.975000e+03</td>\n",
       "      <td>7.000000e+00</td>\n",
       "      <td>4.000000e+00</td>\n",
       "      <td>2.000000e+00</td>\n",
       "      <td>6.672000e+03</td>\n",
       "      <td>6.000000e+00</td>\n",
       "    </tr>\n",
       "    <tr>\n",
       "      <th>50%</th>\n",
       "      <td>1.073000e+06</td>\n",
       "      <td>1.580000e+03</td>\n",
       "      <td>7.274948e+00</td>\n",
       "      <td>1.108462e+06</td>\n",
       "      <td>1.050000e+02</td>\n",
       "      <td>6.800000e+00</td>\n",
       "      <td>1.470000e+02</td>\n",
       "      <td>1.996000e+03</td>\n",
       "      <td>1.500000e+01</td>\n",
       "      <td>7.000000e+00</td>\n",
       "      <td>2.000000e+00</td>\n",
       "      <td>1.338700e+04</td>\n",
       "      <td>8.000000e+00</td>\n",
       "    </tr>\n",
       "    <tr>\n",
       "      <th>75%</th>\n",
       "      <td>2.200000e+07</td>\n",
       "      <td>3.396000e+03</td>\n",
       "      <td>1.126747e+01</td>\n",
       "      <td>6.867323e+07</td>\n",
       "      <td>1.200000e+02</td>\n",
       "      <td>7.300000e+00</td>\n",
       "      <td>6.300000e+02</td>\n",
       "      <td>2.004000e+03</td>\n",
       "      <td>2.300000e+01</td>\n",
       "      <td>1.000000e+01</td>\n",
       "      <td>3.000000e+00</td>\n",
       "      <td>2.028400e+04</td>\n",
       "      <td>8.000000e+00</td>\n",
       "    </tr>\n",
       "    <tr>\n",
       "      <th>max</th>\n",
       "      <td>3.800000e+08</td>\n",
       "      <td>4.691720e+05</td>\n",
       "      <td>5.474883e+02</td>\n",
       "      <td>2.787965e+09</td>\n",
       "      <td>1.256000e+03</td>\n",
       "      <td>1.000000e+01</td>\n",
       "      <td>1.407500e+04</td>\n",
       "      <td>2.020000e+03</td>\n",
       "      <td>3.100000e+01</td>\n",
       "      <td>1.200000e+01</td>\n",
       "      <td>8.000000e+00</td>\n",
       "      <td>2.704700e+04</td>\n",
       "      <td>1.000000e+01</td>\n",
       "    </tr>\n",
       "  </tbody>\n",
       "</table>\n",
       "</div>"
      ],
      "text/plain": [
       "             budget            id    popularity       revenue       runtime  \\\n",
       "count  1.183206e+06  1.183206e+06  1.183206e+06  1.183206e+06  1.182867e+06   \n",
       "mean   1.912366e+07  1.079739e+04  7.854956e+00  7.237566e+07  1.080995e+02   \n",
       "std    3.731519e+07  3.423603e+04  6.648255e+00  1.727673e+08  2.598008e+01   \n",
       "min    0.000000e+00  2.000000e+00  0.000000e+00  0.000000e+00  0.000000e+00   \n",
       "25%    0.000000e+00  5.090000e+02  2.686234e+00  0.000000e+00  9.400000e+01   \n",
       "50%    1.073000e+06  1.580000e+03  7.274948e+00  1.108462e+06  1.050000e+02   \n",
       "75%    2.200000e+07  3.396000e+03  1.126747e+01  6.867323e+07  1.200000e+02   \n",
       "max    3.800000e+08  4.691720e+05  5.474883e+02  2.787965e+09  1.256000e+03   \n",
       "\n",
       "       vote_average    vote_count          year           day         month  \\\n",
       "count  1.183206e+06  1.183206e+06  1.182404e+06  1.182404e+06  1.182404e+06   \n",
       "mean   6.584738e+00  6.413840e+02  1.987447e+03  1.518177e+01  6.932811e+00   \n",
       "std    1.125276e+00  1.201326e+03  2.156605e+01  9.149474e+00  3.533301e+00   \n",
       "min    0.000000e+00  0.000000e+00  1.874000e+03  1.000000e+00  1.000000e+00   \n",
       "25%    6.100000e+00  2.500000e+01  1.975000e+03  7.000000e+00  4.000000e+00   \n",
       "50%    6.800000e+00  1.470000e+02  1.996000e+03  1.500000e+01  7.000000e+00   \n",
       "75%    7.300000e+00  6.300000e+02  2.004000e+03  2.300000e+01  1.000000e+01   \n",
       "max    1.000000e+01  1.407500e+04  2.020000e+03  3.100000e+01  1.200000e+01   \n",
       "\n",
       "         num_genres        userId        rating  \n",
       "count  1.183206e+06  1.143571e+06  1.143571e+06  \n",
       "mean   2.409820e+00  1.347564e+04  7.062312e+00  \n",
       "std    1.057717e+00  7.803694e+03  2.120801e+00  \n",
       "min    0.000000e+00  1.000000e+00  1.000000e+00  \n",
       "25%    2.000000e+00  6.672000e+03  6.000000e+00  \n",
       "50%    2.000000e+00  1.338700e+04  8.000000e+00  \n",
       "75%    3.000000e+00  2.028400e+04  8.000000e+00  \n",
       "max    8.000000e+00  2.704700e+04  1.000000e+01  "
      ]
     },
     "execution_count": 6,
     "metadata": {},
     "output_type": "execute_result"
    }
   ],
   "source": [
    "combined_df.describe()"
   ]
  },
  {
   "cell_type": "code",
   "execution_count": 7,
   "metadata": {
    "ExecuteTime": {
     "end_time": "2020-12-29T11:34:56.017113Z",
     "start_time": "2020-12-29T11:34:55.960264Z"
    }
   },
   "outputs": [
    {
     "data": {
      "text/plain": [
       "318       9231\n",
       "296       8764\n",
       "593       8451\n",
       "260       7747\n",
       "480       7521\n",
       "          ... \n",
       "52639        1\n",
       "81313        1\n",
       "75170        1\n",
       "226792       1\n",
       "58904        1\n",
       "Name: id, Length: 45430, dtype: int64"
      ]
     },
     "execution_count": 7,
     "metadata": {},
     "output_type": "execute_result"
    }
   ],
   "source": [
    "combined_df['id'].value_counts()"
   ]
  },
  {
   "cell_type": "code",
   "execution_count": 8,
   "metadata": {
    "ExecuteTime": {
     "end_time": "2020-12-29T11:34:56.413053Z",
     "start_time": "2020-12-29T11:34:56.022099Z"
    }
   },
   "outputs": [
    {
     "data": {
      "text/plain": [
       "original_title\n",
       "The Million Dollar Hotel              9231\n",
       "Terminator 3: Rise of the Machines    8764\n",
       "Солярис                               8451\n",
       "The 39 Steps                          7747\n",
       "Monsoon Wedding                       7521\n",
       "Once Were Warriors                    6853\n",
       "Trois couleurs : Rouge                6639\n",
       "License to Wed                        6056\n",
       "La passion de Jeanne d'Arc            5783\n",
       "48 Hrs.                               5774\n",
       "Name: rating, dtype: int64"
      ]
     },
     "execution_count": 8,
     "metadata": {},
     "output_type": "execute_result"
    }
   ],
   "source": [
    "combined_df.groupby(by='original_title')['rating'].count().sort_values(ascending=False).head(10)"
   ]
  },
  {
   "cell_type": "code",
   "execution_count": 9,
   "metadata": {
    "ExecuteTime": {
     "end_time": "2020-12-29T11:34:58.116503Z",
     "start_time": "2020-12-29T11:34:56.416047Z"
    }
   },
   "outputs": [
    {
     "data": {
      "text/plain": [
       "belongs_to_collection    907254\n",
       "homepage                 901846\n",
       "tagline                  371458\n",
       "timestamp                 39635\n",
       "userId                    39635\n",
       "rating                    39635\n",
       "overview                   4940\n",
       "poster_path                1364\n",
       "month                       802\n",
       "year                        802\n",
       "release_date                802\n",
       "day                         802\n",
       "runtime                     339\n",
       "status                      150\n",
       "imdb_id                      26\n",
       "original_language            13\n",
       "num_genres                    0\n",
       "video                         0\n",
       "vote_count                    0\n",
       "vote_average                  0\n",
       "adult                         0\n",
       "spoken_languages              0\n",
       "production_countries          0\n",
       "production_companies          0\n",
       "popularity                    0\n",
       "original_title                0\n",
       "id                            0\n",
       "genres                        0\n",
       "budget                        0\n",
       "revenue                       0\n",
       "dtype: int64"
      ]
     },
     "execution_count": 9,
     "metadata": {},
     "output_type": "execute_result"
    }
   ],
   "source": [
    "combined_df.isnull().sum().sort_values(ascending=False)"
   ]
  },
  {
   "cell_type": "code",
   "execution_count": 10,
   "metadata": {
    "ExecuteTime": {
     "end_time": "2020-12-29T11:34:58.314971Z",
     "start_time": "2020-12-29T11:34:58.119496Z"
    }
   },
   "outputs": [
    {
     "data": {
      "text/html": [
       "<div>\n",
       "<style scoped>\n",
       "    .dataframe tbody tr th:only-of-type {\n",
       "        vertical-align: middle;\n",
       "    }\n",
       "\n",
       "    .dataframe tbody tr th {\n",
       "        vertical-align: top;\n",
       "    }\n",
       "\n",
       "    .dataframe thead th {\n",
       "        text-align: right;\n",
       "    }\n",
       "</style>\n",
       "<table border=\"1\" class=\"dataframe\">\n",
       "  <thead>\n",
       "    <tr style=\"text-align: right;\">\n",
       "      <th></th>\n",
       "      <th>adult</th>\n",
       "      <th>belongs_to_collection</th>\n",
       "      <th>budget</th>\n",
       "      <th>genres</th>\n",
       "      <th>homepage</th>\n",
       "      <th>id</th>\n",
       "      <th>imdb_id</th>\n",
       "      <th>original_language</th>\n",
       "      <th>original_title</th>\n",
       "      <th>overview</th>\n",
       "      <th>...</th>\n",
       "      <th>video</th>\n",
       "      <th>vote_average</th>\n",
       "      <th>vote_count</th>\n",
       "      <th>year</th>\n",
       "      <th>day</th>\n",
       "      <th>month</th>\n",
       "      <th>num_genres</th>\n",
       "      <th>userId</th>\n",
       "      <th>rating</th>\n",
       "      <th>timestamp</th>\n",
       "    </tr>\n",
       "  </thead>\n",
       "  <tbody>\n",
       "    <tr>\n",
       "      <th>45</th>\n",
       "      <td>False</td>\n",
       "      <td>{'id': 119050, 'name': 'Grumpy Old Men Collect...</td>\n",
       "      <td>0.0</td>\n",
       "      <td>['Romance', 'Comedy']</td>\n",
       "      <td>NaN</td>\n",
       "      <td>15602</td>\n",
       "      <td>tt0113228</td>\n",
       "      <td>en</td>\n",
       "      <td>Grumpier Old Men</td>\n",
       "      <td>A family wedding reignites the ancient feud be...</td>\n",
       "      <td>...</td>\n",
       "      <td>False</td>\n",
       "      <td>6.5</td>\n",
       "      <td>92.0</td>\n",
       "      <td>1995.0</td>\n",
       "      <td>22.0</td>\n",
       "      <td>12.0</td>\n",
       "      <td>2</td>\n",
       "      <td>NaN</td>\n",
       "      <td>NaN</td>\n",
       "      <td>NaN</td>\n",
       "    </tr>\n",
       "    <tr>\n",
       "      <th>46</th>\n",
       "      <td>False</td>\n",
       "      <td>NaN</td>\n",
       "      <td>16000000.0</td>\n",
       "      <td>['Comedy', 'Drama', 'Romance']</td>\n",
       "      <td>NaN</td>\n",
       "      <td>31357</td>\n",
       "      <td>tt0114885</td>\n",
       "      <td>en</td>\n",
       "      <td>Waiting to Exhale</td>\n",
       "      <td>Cheated on, mistreated and stepped on, the wom...</td>\n",
       "      <td>...</td>\n",
       "      <td>False</td>\n",
       "      <td>6.1</td>\n",
       "      <td>34.0</td>\n",
       "      <td>1995.0</td>\n",
       "      <td>22.0</td>\n",
       "      <td>12.0</td>\n",
       "      <td>3</td>\n",
       "      <td>NaN</td>\n",
       "      <td>NaN</td>\n",
       "      <td>NaN</td>\n",
       "    </tr>\n",
       "    <tr>\n",
       "      <th>47</th>\n",
       "      <td>False</td>\n",
       "      <td>{'id': 96871, 'name': 'Father of the Bride Col...</td>\n",
       "      <td>0.0</td>\n",
       "      <td>['Comedy']</td>\n",
       "      <td>NaN</td>\n",
       "      <td>11862</td>\n",
       "      <td>tt0113041</td>\n",
       "      <td>en</td>\n",
       "      <td>Father of the Bride Part II</td>\n",
       "      <td>Just when George Banks has recovered from his ...</td>\n",
       "      <td>...</td>\n",
       "      <td>False</td>\n",
       "      <td>5.7</td>\n",
       "      <td>173.0</td>\n",
       "      <td>1995.0</td>\n",
       "      <td>10.0</td>\n",
       "      <td>2.0</td>\n",
       "      <td>1</td>\n",
       "      <td>NaN</td>\n",
       "      <td>NaN</td>\n",
       "      <td>NaN</td>\n",
       "    </tr>\n",
       "    <tr>\n",
       "      <th>269</th>\n",
       "      <td>False</td>\n",
       "      <td>NaN</td>\n",
       "      <td>58000000.0</td>\n",
       "      <td>['Comedy', 'Romance']</td>\n",
       "      <td>NaN</td>\n",
       "      <td>11860</td>\n",
       "      <td>tt0114319</td>\n",
       "      <td>en</td>\n",
       "      <td>Sabrina</td>\n",
       "      <td>An ugly duckling having undergone a remarkable...</td>\n",
       "      <td>...</td>\n",
       "      <td>False</td>\n",
       "      <td>6.2</td>\n",
       "      <td>141.0</td>\n",
       "      <td>1995.0</td>\n",
       "      <td>15.0</td>\n",
       "      <td>12.0</td>\n",
       "      <td>2</td>\n",
       "      <td>NaN</td>\n",
       "      <td>NaN</td>\n",
       "      <td>NaN</td>\n",
       "    </tr>\n",
       "    <tr>\n",
       "      <th>270</th>\n",
       "      <td>False</td>\n",
       "      <td>NaN</td>\n",
       "      <td>0.0</td>\n",
       "      <td>['Action', 'Adventure', 'Drama', 'Family']</td>\n",
       "      <td>NaN</td>\n",
       "      <td>45325</td>\n",
       "      <td>tt0112302</td>\n",
       "      <td>en</td>\n",
       "      <td>Tom and Huck</td>\n",
       "      <td>A mischievous young boy, Tom Sawyer, witnesses...</td>\n",
       "      <td>...</td>\n",
       "      <td>False</td>\n",
       "      <td>5.4</td>\n",
       "      <td>45.0</td>\n",
       "      <td>1995.0</td>\n",
       "      <td>22.0</td>\n",
       "      <td>12.0</td>\n",
       "      <td>4</td>\n",
       "      <td>NaN</td>\n",
       "      <td>NaN</td>\n",
       "      <td>NaN</td>\n",
       "    </tr>\n",
       "    <tr>\n",
       "      <th>...</th>\n",
       "      <td>...</td>\n",
       "      <td>...</td>\n",
       "      <td>...</td>\n",
       "      <td>...</td>\n",
       "      <td>...</td>\n",
       "      <td>...</td>\n",
       "      <td>...</td>\n",
       "      <td>...</td>\n",
       "      <td>...</td>\n",
       "      <td>...</td>\n",
       "      <td>...</td>\n",
       "      <td>...</td>\n",
       "      <td>...</td>\n",
       "      <td>...</td>\n",
       "      <td>...</td>\n",
       "      <td>...</td>\n",
       "      <td>...</td>\n",
       "      <td>...</td>\n",
       "      <td>...</td>\n",
       "      <td>...</td>\n",
       "      <td>...</td>\n",
       "    </tr>\n",
       "    <tr>\n",
       "      <th>1183200</th>\n",
       "      <td>False</td>\n",
       "      <td>NaN</td>\n",
       "      <td>0.0</td>\n",
       "      <td>['Drama', 'Action', 'Romance']</td>\n",
       "      <td>NaN</td>\n",
       "      <td>30840</td>\n",
       "      <td>tt0102797</td>\n",
       "      <td>en</td>\n",
       "      <td>Robin Hood</td>\n",
       "      <td>Yet another version of the classic epic, with ...</td>\n",
       "      <td>...</td>\n",
       "      <td>False</td>\n",
       "      <td>5.7</td>\n",
       "      <td>26.0</td>\n",
       "      <td>1991.0</td>\n",
       "      <td>13.0</td>\n",
       "      <td>5.0</td>\n",
       "      <td>3</td>\n",
       "      <td>NaN</td>\n",
       "      <td>NaN</td>\n",
       "      <td>NaN</td>\n",
       "    </tr>\n",
       "    <tr>\n",
       "      <th>1183201</th>\n",
       "      <td>False</td>\n",
       "      <td>NaN</td>\n",
       "      <td>0.0</td>\n",
       "      <td>['Drama', 'Family']</td>\n",
       "      <td>http://www.imdb.com/title/tt6209470/</td>\n",
       "      <td>439050</td>\n",
       "      <td>tt6209470</td>\n",
       "      <td>fa</td>\n",
       "      <td>رگ خواب</td>\n",
       "      <td>Rising and falling between a man and woman.</td>\n",
       "      <td>...</td>\n",
       "      <td>False</td>\n",
       "      <td>4.0</td>\n",
       "      <td>1.0</td>\n",
       "      <td>NaN</td>\n",
       "      <td>NaN</td>\n",
       "      <td>NaN</td>\n",
       "      <td>2</td>\n",
       "      <td>NaN</td>\n",
       "      <td>NaN</td>\n",
       "      <td>NaN</td>\n",
       "    </tr>\n",
       "    <tr>\n",
       "      <th>1183203</th>\n",
       "      <td>False</td>\n",
       "      <td>NaN</td>\n",
       "      <td>0.0</td>\n",
       "      <td>['Action', 'Drama', 'Thriller']</td>\n",
       "      <td>NaN</td>\n",
       "      <td>67758</td>\n",
       "      <td>tt0303758</td>\n",
       "      <td>en</td>\n",
       "      <td>Betrayal</td>\n",
       "      <td>When one of her hits goes wrong, a professiona...</td>\n",
       "      <td>...</td>\n",
       "      <td>False</td>\n",
       "      <td>3.8</td>\n",
       "      <td>6.0</td>\n",
       "      <td>2003.0</td>\n",
       "      <td>1.0</td>\n",
       "      <td>8.0</td>\n",
       "      <td>3</td>\n",
       "      <td>NaN</td>\n",
       "      <td>NaN</td>\n",
       "      <td>NaN</td>\n",
       "    </tr>\n",
       "    <tr>\n",
       "      <th>1183204</th>\n",
       "      <td>False</td>\n",
       "      <td>NaN</td>\n",
       "      <td>0.0</td>\n",
       "      <td>[]</td>\n",
       "      <td>NaN</td>\n",
       "      <td>227506</td>\n",
       "      <td>tt0008536</td>\n",
       "      <td>en</td>\n",
       "      <td>Satana likuyushchiy</td>\n",
       "      <td>In a small town live two brothers, one a minis...</td>\n",
       "      <td>...</td>\n",
       "      <td>False</td>\n",
       "      <td>0.0</td>\n",
       "      <td>0.0</td>\n",
       "      <td>1917.0</td>\n",
       "      <td>21.0</td>\n",
       "      <td>10.0</td>\n",
       "      <td>0</td>\n",
       "      <td>NaN</td>\n",
       "      <td>NaN</td>\n",
       "      <td>NaN</td>\n",
       "    </tr>\n",
       "    <tr>\n",
       "      <th>1183205</th>\n",
       "      <td>False</td>\n",
       "      <td>NaN</td>\n",
       "      <td>0.0</td>\n",
       "      <td>[]</td>\n",
       "      <td>NaN</td>\n",
       "      <td>461257</td>\n",
       "      <td>tt6980792</td>\n",
       "      <td>en</td>\n",
       "      <td>Queerama</td>\n",
       "      <td>50 years after decriminalisation of homosexual...</td>\n",
       "      <td>...</td>\n",
       "      <td>False</td>\n",
       "      <td>0.0</td>\n",
       "      <td>0.0</td>\n",
       "      <td>2017.0</td>\n",
       "      <td>9.0</td>\n",
       "      <td>6.0</td>\n",
       "      <td>0</td>\n",
       "      <td>NaN</td>\n",
       "      <td>NaN</td>\n",
       "      <td>NaN</td>\n",
       "    </tr>\n",
       "  </tbody>\n",
       "</table>\n",
       "<p>39635 rows × 30 columns</p>\n",
       "</div>"
      ],
      "text/plain": [
       "         adult                              belongs_to_collection      budget  \\\n",
       "45       False  {'id': 119050, 'name': 'Grumpy Old Men Collect...         0.0   \n",
       "46       False                                                NaN  16000000.0   \n",
       "47       False  {'id': 96871, 'name': 'Father of the Bride Col...         0.0   \n",
       "269      False                                                NaN  58000000.0   \n",
       "270      False                                                NaN         0.0   \n",
       "...        ...                                                ...         ...   \n",
       "1183200  False                                                NaN         0.0   \n",
       "1183201  False                                                NaN         0.0   \n",
       "1183203  False                                                NaN         0.0   \n",
       "1183204  False                                                NaN         0.0   \n",
       "1183205  False                                                NaN         0.0   \n",
       "\n",
       "                                             genres  \\\n",
       "45                            ['Romance', 'Comedy']   \n",
       "46                   ['Comedy', 'Drama', 'Romance']   \n",
       "47                                       ['Comedy']   \n",
       "269                           ['Comedy', 'Romance']   \n",
       "270      ['Action', 'Adventure', 'Drama', 'Family']   \n",
       "...                                             ...   \n",
       "1183200              ['Drama', 'Action', 'Romance']   \n",
       "1183201                         ['Drama', 'Family']   \n",
       "1183203             ['Action', 'Drama', 'Thriller']   \n",
       "1183204                                          []   \n",
       "1183205                                          []   \n",
       "\n",
       "                                     homepage      id    imdb_id  \\\n",
       "45                                        NaN   15602  tt0113228   \n",
       "46                                        NaN   31357  tt0114885   \n",
       "47                                        NaN   11862  tt0113041   \n",
       "269                                       NaN   11860  tt0114319   \n",
       "270                                       NaN   45325  tt0112302   \n",
       "...                                       ...     ...        ...   \n",
       "1183200                                   NaN   30840  tt0102797   \n",
       "1183201  http://www.imdb.com/title/tt6209470/  439050  tt6209470   \n",
       "1183203                                   NaN   67758  tt0303758   \n",
       "1183204                                   NaN  227506  tt0008536   \n",
       "1183205                                   NaN  461257  tt6980792   \n",
       "\n",
       "        original_language               original_title  \\\n",
       "45                     en             Grumpier Old Men   \n",
       "46                     en            Waiting to Exhale   \n",
       "47                     en  Father of the Bride Part II   \n",
       "269                    en                      Sabrina   \n",
       "270                    en                 Tom and Huck   \n",
       "...                   ...                          ...   \n",
       "1183200                en                   Robin Hood   \n",
       "1183201                fa                      رگ خواب   \n",
       "1183203                en                     Betrayal   \n",
       "1183204                en          Satana likuyushchiy   \n",
       "1183205                en                     Queerama   \n",
       "\n",
       "                                                  overview  ...  video  \\\n",
       "45       A family wedding reignites the ancient feud be...  ...  False   \n",
       "46       Cheated on, mistreated and stepped on, the wom...  ...  False   \n",
       "47       Just when George Banks has recovered from his ...  ...  False   \n",
       "269      An ugly duckling having undergone a remarkable...  ...  False   \n",
       "270      A mischievous young boy, Tom Sawyer, witnesses...  ...  False   \n",
       "...                                                    ...  ...    ...   \n",
       "1183200  Yet another version of the classic epic, with ...  ...  False   \n",
       "1183201        Rising and falling between a man and woman.  ...  False   \n",
       "1183203  When one of her hits goes wrong, a professiona...  ...  False   \n",
       "1183204  In a small town live two brothers, one a minis...  ...  False   \n",
       "1183205  50 years after decriminalisation of homosexual...  ...  False   \n",
       "\n",
       "        vote_average vote_count    year   day  month  num_genres userId  \\\n",
       "45               6.5       92.0  1995.0  22.0   12.0           2    NaN   \n",
       "46               6.1       34.0  1995.0  22.0   12.0           3    NaN   \n",
       "47               5.7      173.0  1995.0  10.0    2.0           1    NaN   \n",
       "269              6.2      141.0  1995.0  15.0   12.0           2    NaN   \n",
       "270              5.4       45.0  1995.0  22.0   12.0           4    NaN   \n",
       "...              ...        ...     ...   ...    ...         ...    ...   \n",
       "1183200          5.7       26.0  1991.0  13.0    5.0           3    NaN   \n",
       "1183201          4.0        1.0     NaN   NaN    NaN           2    NaN   \n",
       "1183203          3.8        6.0  2003.0   1.0    8.0           3    NaN   \n",
       "1183204          0.0        0.0  1917.0  21.0   10.0           0    NaN   \n",
       "1183205          0.0        0.0  2017.0   9.0    6.0           0    NaN   \n",
       "\n",
       "        rating timestamp  \n",
       "45         NaN       NaN  \n",
       "46         NaN       NaN  \n",
       "47         NaN       NaN  \n",
       "269        NaN       NaN  \n",
       "270        NaN       NaN  \n",
       "...        ...       ...  \n",
       "1183200    NaN       NaN  \n",
       "1183201    NaN       NaN  \n",
       "1183203    NaN       NaN  \n",
       "1183204    NaN       NaN  \n",
       "1183205    NaN       NaN  \n",
       "\n",
       "[39635 rows x 30 columns]"
      ]
     },
     "execution_count": 10,
     "metadata": {},
     "output_type": "execute_result"
    }
   ],
   "source": [
    "combined_df[combined_df['rating'].isnull()]"
   ]
  },
  {
   "cell_type": "code",
   "execution_count": 11,
   "metadata": {
    "ExecuteTime": {
     "end_time": "2020-12-29T11:34:58.550342Z",
     "start_time": "2020-12-29T11:34:58.317963Z"
    }
   },
   "outputs": [
    {
     "data": {
      "text/plain": [
       "Released           1180955\n",
       "Rumored               1876\n",
       "Post Production        146\n",
       "In Production           62\n",
       "Planned                 15\n",
       "Canceled                 2\n",
       "Name: status, dtype: int64"
      ]
     },
     "execution_count": 11,
     "metadata": {},
     "output_type": "execute_result"
    }
   ],
   "source": [
    "combined_df['status'].value_counts()"
   ]
  },
  {
   "cell_type": "markdown",
   "metadata": {},
   "source": [
    "Since the objective is to predict on the rating of a film based on historical data (ratings already given from a user), dropping null ratings is acceptable because people who haven't seen a film will not be able to rate it. Having unvaluable data affects modeling. "
   ]
  },
  {
   "cell_type": "code",
   "execution_count": 12,
   "metadata": {
    "ExecuteTime": {
     "end_time": "2020-12-29T11:34:59.433980Z",
     "start_time": "2020-12-29T11:34:58.553334Z"
    }
   },
   "outputs": [],
   "source": [
    "combined_df = combined_df.dropna(subset=['year','month','day','rating'])"
   ]
  },
  {
   "cell_type": "markdown",
   "metadata": {},
   "source": [
    "Moving forward, only focusing on numerical columns. This is a regression problem. "
   ]
  },
  {
   "cell_type": "code",
   "execution_count": 13,
   "metadata": {
    "ExecuteTime": {
     "end_time": "2020-12-29T11:34:59.762101Z",
     "start_time": "2020-12-29T11:34:59.436972Z"
    }
   },
   "outputs": [],
   "source": [
    "model_df = combined_df.drop(['tagline', 'overview', 'poster_path', \n",
    "                               'imdb_id', 'id', 'userId', 'video', 'release_date', 'status','timestamp'], axis = 1)"
   ]
  },
  {
   "cell_type": "code",
   "execution_count": 14,
   "metadata": {
    "ExecuteTime": {
     "end_time": "2020-12-29T11:34:59.770081Z",
     "start_time": "2020-12-29T11:34:59.765094Z"
    }
   },
   "outputs": [],
   "source": [
    "#fill_cols = ['belongs_to_collection', 'homepage', 'tagline', 'overview', 'poster_path', \n",
    "#             'original_language', 'status', 'imdb_id', 'release_date']\n",
    "#for col in fill_cols:\n",
    "#    combined_df[col].fillna(' ', inplace=True)"
   ]
  },
  {
   "cell_type": "code",
   "execution_count": 15,
   "metadata": {
    "ExecuteTime": {
     "end_time": "2020-12-29T11:35:00.779385Z",
     "start_time": "2020-12-29T11:34:59.774072Z"
    }
   },
   "outputs": [
    {
     "data": {
      "text/plain": [
       "belongs_to_collection    870552\n",
       "homepage                 868936\n",
       "runtime                      91\n",
       "original_language             3\n",
       "adult                         0\n",
       "spoken_languages              0\n",
       "num_genres                    0\n",
       "month                         0\n",
       "day                           0\n",
       "year                          0\n",
       "vote_count                    0\n",
       "vote_average                  0\n",
       "revenue                       0\n",
       "production_countries          0\n",
       "production_companies          0\n",
       "popularity                    0\n",
       "original_title                0\n",
       "genres                        0\n",
       "budget                        0\n",
       "rating                        0\n",
       "dtype: int64"
      ]
     },
     "execution_count": 15,
     "metadata": {},
     "output_type": "execute_result"
    }
   ],
   "source": [
    "model_df.isnull().sum().sort_values(ascending=False)"
   ]
  },
  {
   "cell_type": "code",
   "execution_count": 16,
   "metadata": {
    "ExecuteTime": {
     "end_time": "2020-12-29T11:35:00.789358Z",
     "start_time": "2020-12-29T11:35:00.783372Z"
    }
   },
   "outputs": [],
   "source": [
    "#combined_df['runtime'].fillna(combined_df['runtime'].mean(), inplace=True)"
   ]
  },
  {
   "cell_type": "code",
   "execution_count": 17,
   "metadata": {
    "ExecuteTime": {
     "end_time": "2020-12-29T11:35:00.799331Z",
     "start_time": "2020-12-29T11:35:00.794344Z"
    }
   },
   "outputs": [],
   "source": [
    "#cols_fill = ['year', 'month', 'day']\n",
    "#for col in cols_fill:\n",
    "#    combined_df[col] = combined_df[col].fillna(combined_df[col].mean())"
   ]
  },
  {
   "cell_type": "code",
   "execution_count": 18,
   "metadata": {
    "ExecuteTime": {
     "end_time": "2020-12-29T11:35:00.885101Z",
     "start_time": "2020-12-29T11:35:00.829250Z"
    }
   },
   "outputs": [
    {
     "data": {
      "text/plain": [
       "8.0     313827\n",
       "6.0     258086\n",
       "10.0    177612\n",
       "7.0     115695\n",
       "4.0      81467\n",
       "9.0      80798\n",
       "5.0      47032\n",
       "2.0      39270\n",
       "3.0      14859\n",
       "1.0      14204\n",
       "Name: rating, dtype: int64"
      ]
     },
     "execution_count": 18,
     "metadata": {},
     "output_type": "execute_result"
    }
   ],
   "source": [
    "combined_df['rating'].value_counts().head(10)"
   ]
  },
  {
   "cell_type": "code",
   "execution_count": 19,
   "metadata": {
    "ExecuteTime": {
     "end_time": "2020-12-29T11:35:00.968876Z",
     "start_time": "2020-12-29T11:35:00.888092Z"
    }
   },
   "outputs": [
    {
     "data": {
      "text/plain": [
       "5792"
      ]
     },
     "execution_count": 19,
     "metadata": {},
     "output_type": "execute_result"
    }
   ],
   "source": [
    "combined_df['id'].nunique()"
   ]
  },
  {
   "cell_type": "code",
   "execution_count": 20,
   "metadata": {
    "ExecuteTime": {
     "end_time": "2020-12-29T11:35:01.180313Z",
     "start_time": "2020-12-29T11:35:00.972866Z"
    }
   },
   "outputs": [
    {
     "data": {
      "text/plain": [
       "26543"
      ]
     },
     "execution_count": 20,
     "metadata": {},
     "output_type": "execute_result"
    }
   ],
   "source": [
    "combined_df['userId'].nunique()"
   ]
  },
  {
   "cell_type": "code",
   "execution_count": 21,
   "metadata": {
    "ExecuteTime": {
     "end_time": "2020-12-29T11:35:01.187292Z",
     "start_time": "2020-12-29T11:35:01.183304Z"
    }
   },
   "outputs": [],
   "source": [
    "#combined_df['userId'] = combined_df['userId'].astype(int)"
   ]
  },
  {
   "cell_type": "code",
   "execution_count": 22,
   "metadata": {
    "ExecuteTime": {
     "end_time": "2020-12-29T11:35:01.383768Z",
     "start_time": "2020-12-29T11:35:01.198263Z"
    }
   },
   "outputs": [
    {
     "data": {
      "text/plain": [
       "8659.0     3022\n",
       "24025.0    1346\n",
       "3437.0     1092\n",
       "25808.0    1059\n",
       "5829.0     1059\n",
       "5620.0     1024\n",
       "13839.0    1003\n",
       "19580.0     998\n",
       "6513.0      974\n",
       "17211.0     973\n",
       "Name: userId, dtype: int64"
      ]
     },
     "execution_count": 22,
     "metadata": {},
     "output_type": "execute_result"
    }
   ],
   "source": [
    "combined_df['userId'].value_counts().head(10)"
   ]
  },
  {
   "cell_type": "code",
   "execution_count": 23,
   "metadata": {
    "ExecuteTime": {
     "end_time": "2020-12-29T11:35:01.658034Z",
     "start_time": "2020-12-29T11:35:01.389752Z"
    }
   },
   "outputs": [
    {
     "data": {
      "text/html": [
       "<div>\n",
       "<style scoped>\n",
       "    .dataframe tbody tr th:only-of-type {\n",
       "        vertical-align: middle;\n",
       "    }\n",
       "\n",
       "    .dataframe tbody tr th {\n",
       "        vertical-align: top;\n",
       "    }\n",
       "\n",
       "    .dataframe thead th {\n",
       "        text-align: right;\n",
       "    }\n",
       "</style>\n",
       "<table border=\"1\" class=\"dataframe\">\n",
       "  <thead>\n",
       "    <tr style=\"text-align: right;\">\n",
       "      <th></th>\n",
       "      <th>original_title</th>\n",
       "      <th>rating</th>\n",
       "    </tr>\n",
       "  </thead>\n",
       "  <tbody>\n",
       "    <tr>\n",
       "      <th>0</th>\n",
       "      <td>!Women Art Revolution</td>\n",
       "      <td>6.119565</td>\n",
       "    </tr>\n",
       "    <tr>\n",
       "      <th>1</th>\n",
       "      <td>$5 a Day</td>\n",
       "      <td>4.888889</td>\n",
       "    </tr>\n",
       "    <tr>\n",
       "      <th>2</th>\n",
       "      <td>'Gator Bait</td>\n",
       "      <td>7.047619</td>\n",
       "    </tr>\n",
       "    <tr>\n",
       "      <th>3</th>\n",
       "      <td>'R Xmas</td>\n",
       "      <td>6.600000</td>\n",
       "    </tr>\n",
       "    <tr>\n",
       "      <th>4</th>\n",
       "      <td>'Twas the Night Before Christmas</td>\n",
       "      <td>7.512195</td>\n",
       "    </tr>\n",
       "    <tr>\n",
       "      <th>...</th>\n",
       "      <td>...</td>\n",
       "      <td>...</td>\n",
       "    </tr>\n",
       "    <tr>\n",
       "      <th>5709</th>\n",
       "      <td>헬로우 고스트</td>\n",
       "      <td>6.588235</td>\n",
       "    </tr>\n",
       "    <tr>\n",
       "      <th>5710</th>\n",
       "      <td>형사 Duelist</td>\n",
       "      <td>7.000000</td>\n",
       "    </tr>\n",
       "    <tr>\n",
       "      <th>5711</th>\n",
       "      <td>활</td>\n",
       "      <td>7.714894</td>\n",
       "    </tr>\n",
       "    <tr>\n",
       "      <th>5712</th>\n",
       "      <td>회사원</td>\n",
       "      <td>7.000000</td>\n",
       "    </tr>\n",
       "    <tr>\n",
       "      <th>5713</th>\n",
       "      <td>２０世紀少年&lt; 第1章&gt; 終わりの始まり</td>\n",
       "      <td>6.000000</td>\n",
       "    </tr>\n",
       "  </tbody>\n",
       "</table>\n",
       "<p>5714 rows × 2 columns</p>\n",
       "</div>"
      ],
      "text/plain": [
       "                        original_title    rating\n",
       "0                !Women Art Revolution  6.119565\n",
       "1                             $5 a Day  4.888889\n",
       "2                          'Gator Bait  7.047619\n",
       "3                              'R Xmas  6.600000\n",
       "4     'Twas the Night Before Christmas  7.512195\n",
       "...                                ...       ...\n",
       "5709                           헬로우 고스트  6.588235\n",
       "5710                        형사 Duelist  7.000000\n",
       "5711                                 활  7.714894\n",
       "5712                               회사원  7.000000\n",
       "5713              ２０世紀少年< 第1章> 終わりの始まり  6.000000\n",
       "\n",
       "[5714 rows x 2 columns]"
      ]
     },
     "execution_count": 23,
     "metadata": {},
     "output_type": "execute_result"
    }
   ],
   "source": [
    "combined_df.groupby('original_title')['rating'].mean().reset_index(name= 'rating')"
   ]
  },
  {
   "cell_type": "markdown",
   "metadata": {},
   "source": [
    "Ranking a film based on the number of ratings and the average of ratings given. This is the chart of the top 10!"
   ]
  },
  {
   "cell_type": "code",
   "execution_count": 24,
   "metadata": {
    "ExecuteTime": {
     "end_time": "2020-12-29T11:35:02.203576Z",
     "start_time": "2020-12-29T11:35:01.661026Z"
    }
   },
   "outputs": [
    {
     "data": {
      "text/html": [
       "<div>\n",
       "<style scoped>\n",
       "    .dataframe tbody tr th:only-of-type {\n",
       "        vertical-align: middle;\n",
       "    }\n",
       "\n",
       "    .dataframe tbody tr th {\n",
       "        vertical-align: top;\n",
       "    }\n",
       "\n",
       "    .dataframe thead th {\n",
       "        text-align: right;\n",
       "    }\n",
       "</style>\n",
       "<table border=\"1\" class=\"dataframe\">\n",
       "  <thead>\n",
       "    <tr style=\"text-align: right;\">\n",
       "      <th></th>\n",
       "      <th>rating</th>\n",
       "      <th>num_ratings</th>\n",
       "    </tr>\n",
       "    <tr>\n",
       "      <th>original_title</th>\n",
       "      <th></th>\n",
       "      <th></th>\n",
       "    </tr>\n",
       "  </thead>\n",
       "  <tbody>\n",
       "    <tr>\n",
       "      <th>The Million Dollar Hotel</th>\n",
       "      <td>8.833604</td>\n",
       "      <td>9231</td>\n",
       "    </tr>\n",
       "    <tr>\n",
       "      <th>Terminator 3: Rise of the Machines</th>\n",
       "      <td>8.370379</td>\n",
       "      <td>8764</td>\n",
       "    </tr>\n",
       "    <tr>\n",
       "      <th>Солярис</th>\n",
       "      <td>8.298545</td>\n",
       "      <td>8451</td>\n",
       "    </tr>\n",
       "    <tr>\n",
       "      <th>The 39 Steps</th>\n",
       "      <td>8.243449</td>\n",
       "      <td>7747</td>\n",
       "    </tr>\n",
       "    <tr>\n",
       "      <th>Monsoon Wedding</th>\n",
       "      <td>7.305544</td>\n",
       "      <td>7521</td>\n",
       "    </tr>\n",
       "    <tr>\n",
       "      <th>Once Were Warriors</th>\n",
       "      <td>8.508099</td>\n",
       "      <td>6853</td>\n",
       "    </tr>\n",
       "    <tr>\n",
       "      <th>Trois couleurs : Rouge</th>\n",
       "      <td>8.023949</td>\n",
       "      <td>6639</td>\n",
       "    </tr>\n",
       "    <tr>\n",
       "      <th>License to Wed</th>\n",
       "      <td>8.448151</td>\n",
       "      <td>6056</td>\n",
       "    </tr>\n",
       "    <tr>\n",
       "      <th>La passion de Jeanne d'Arc</th>\n",
       "      <td>6.774511</td>\n",
       "      <td>5783</td>\n",
       "    </tr>\n",
       "    <tr>\n",
       "      <th>48 Hrs.</th>\n",
       "      <td>7.744198</td>\n",
       "      <td>5774</td>\n",
       "    </tr>\n",
       "  </tbody>\n",
       "</table>\n",
       "</div>"
      ],
      "text/plain": [
       "                                      rating  num_ratings\n",
       "original_title                                           \n",
       "The Million Dollar Hotel            8.833604         9231\n",
       "Terminator 3: Rise of the Machines  8.370379         8764\n",
       "Солярис                             8.298545         8451\n",
       "The 39 Steps                        8.243449         7747\n",
       "Monsoon Wedding                     7.305544         7521\n",
       "Once Were Warriors                  8.508099         6853\n",
       "Trois couleurs : Rouge              8.023949         6639\n",
       "License to Wed                      8.448151         6056\n",
       "La passion de Jeanne d'Arc          6.774511         5783\n",
       "48 Hrs.                             7.744198         5774"
      ]
     },
     "execution_count": 24,
     "metadata": {},
     "output_type": "execute_result"
    }
   ],
   "source": [
    "ratings_df = pd.DataFrame(combined_df.groupby('original_title')['rating'].mean())  \n",
    "  \n",
    "ratings_df['num_ratings'] = pd.DataFrame(combined_df.groupby('original_title')['rating'].count()) \n",
    "  \n",
    "ratings_df.sort_values(by='num_ratings', ascending=False).head(10) "
   ]
  },
  {
   "cell_type": "code",
   "execution_count": 25,
   "metadata": {
    "ExecuteTime": {
     "end_time": "2020-12-29T11:35:02.533694Z",
     "start_time": "2020-12-29T11:35:02.206568Z"
    }
   },
   "outputs": [
    {
     "data": {
      "text/html": [
       "<div>\n",
       "<style scoped>\n",
       "    .dataframe tbody tr th:only-of-type {\n",
       "        vertical-align: middle;\n",
       "    }\n",
       "\n",
       "    .dataframe tbody tr th {\n",
       "        vertical-align: top;\n",
       "    }\n",
       "\n",
       "    .dataframe thead th {\n",
       "        text-align: right;\n",
       "    }\n",
       "</style>\n",
       "<table border=\"1\" class=\"dataframe\">\n",
       "  <thead>\n",
       "    <tr style=\"text-align: right;\">\n",
       "      <th></th>\n",
       "      <th>budget</th>\n",
       "      <th>revenue</th>\n",
       "      <th>profit</th>\n",
       "    </tr>\n",
       "    <tr>\n",
       "      <th>original_title</th>\n",
       "      <th></th>\n",
       "      <th></th>\n",
       "      <th></th>\n",
       "    </tr>\n",
       "  </thead>\n",
       "  <tbody>\n",
       "    <tr>\n",
       "      <th>Titanic</th>\n",
       "      <td>1.469177e+08</td>\n",
       "      <td>1.321298e+09</td>\n",
       "      <td>1.174380e+09</td>\n",
       "    </tr>\n",
       "    <tr>\n",
       "      <th>Avengers: Age of Ultron</th>\n",
       "      <td>2.800000e+08</td>\n",
       "      <td>1.405404e+09</td>\n",
       "      <td>1.125404e+09</td>\n",
       "    </tr>\n",
       "    <tr>\n",
       "      <th>The Lord of the Rings: The Return of the King</th>\n",
       "      <td>9.400000e+07</td>\n",
       "      <td>1.118889e+09</td>\n",
       "      <td>1.024889e+09</td>\n",
       "    </tr>\n",
       "    <tr>\n",
       "      <th>Pirates of the Caribbean: Dead Man's Chest</th>\n",
       "      <td>2.000000e+08</td>\n",
       "      <td>1.065660e+09</td>\n",
       "      <td>8.656598e+08</td>\n",
       "    </tr>\n",
       "    <tr>\n",
       "      <th>Jurassic Park</th>\n",
       "      <td>6.300000e+07</td>\n",
       "      <td>9.201000e+08</td>\n",
       "      <td>8.571000e+08</td>\n",
       "    </tr>\n",
       "    <tr>\n",
       "      <th>Harry Potter and the Philosopher's Stone</th>\n",
       "      <td>1.250000e+08</td>\n",
       "      <td>9.764756e+08</td>\n",
       "      <td>8.514756e+08</td>\n",
       "    </tr>\n",
       "    <tr>\n",
       "      <th>The Lord of the Rings: The Two Towers</th>\n",
       "      <td>7.900000e+07</td>\n",
       "      <td>9.262874e+08</td>\n",
       "      <td>8.472874e+08</td>\n",
       "    </tr>\n",
       "    <tr>\n",
       "      <th>Finding Nemo</th>\n",
       "      <td>9.400000e+07</td>\n",
       "      <td>9.403355e+08</td>\n",
       "      <td>8.463355e+08</td>\n",
       "    </tr>\n",
       "    <tr>\n",
       "      <th>The Dark Knight</th>\n",
       "      <td>1.850000e+08</td>\n",
       "      <td>1.004558e+09</td>\n",
       "      <td>8.195584e+08</td>\n",
       "    </tr>\n",
       "  </tbody>\n",
       "</table>\n",
       "</div>"
      ],
      "text/plain": [
       "                                                     budget       revenue  \\\n",
       "original_title                                                              \n",
       "Titanic                                        1.469177e+08  1.321298e+09   \n",
       "Avengers: Age of Ultron                        2.800000e+08  1.405404e+09   \n",
       "The Lord of the Rings: The Return of the King  9.400000e+07  1.118889e+09   \n",
       "Pirates of the Caribbean: Dead Man's Chest     2.000000e+08  1.065660e+09   \n",
       "Jurassic Park                                  6.300000e+07  9.201000e+08   \n",
       "Harry Potter and the Philosopher's Stone       1.250000e+08  9.764756e+08   \n",
       "The Lord of the Rings: The Two Towers          7.900000e+07  9.262874e+08   \n",
       "Finding Nemo                                   9.400000e+07  9.403355e+08   \n",
       "The Dark Knight                                1.850000e+08  1.004558e+09   \n",
       "\n",
       "                                                     profit  \n",
       "original_title                                               \n",
       "Titanic                                        1.174380e+09  \n",
       "Avengers: Age of Ultron                        1.125404e+09  \n",
       "The Lord of the Rings: The Return of the King  1.024889e+09  \n",
       "Pirates of the Caribbean: Dead Man's Chest     8.656598e+08  \n",
       "Jurassic Park                                  8.571000e+08  \n",
       "Harry Potter and the Philosopher's Stone       8.514756e+08  \n",
       "The Lord of the Rings: The Two Towers          8.472874e+08  \n",
       "Finding Nemo                                   8.463355e+08  \n",
       "The Dark Knight                                8.195584e+08  "
      ]
     },
     "execution_count": 25,
     "metadata": {},
     "output_type": "execute_result"
    }
   ],
   "source": [
    "return_df = pd.DataFrame(combined_df.groupby('original_title')[['budget', 'revenue']].mean())\n",
    "return_df['profit'] = return_df['revenue'] - return_df['budget']\n",
    "return_df.sort_values(by='profit', ascending=False)[0:9]"
   ]
  },
  {
   "cell_type": "code",
   "execution_count": 26,
   "metadata": {
    "ExecuteTime": {
     "end_time": "2020-12-29T11:35:03.492132Z",
     "start_time": "2020-12-29T11:35:02.537684Z"
    }
   },
   "outputs": [
    {
     "name": "stderr",
     "output_type": "stream",
     "text": [
      "C:\\Users\\sathw\\anaconda3\\lib\\site-packages\\seaborn\\distributions.py:2557: FutureWarning: `distplot` is a deprecated function and will be removed in a future version. Please adapt your code to use either `displot` (a figure-level function with similar flexibility) or `histplot` (an axes-level function for histograms).\n",
      "  warnings.warn(msg, FutureWarning)\n"
     ]
    },
    {
     "data": {
      "image/png": "[encoded data removed]",
      "text/plain": [
       "<Figure size 432x288 with 1 Axes>"
      ]
     },
     "metadata": {
      "needs_background": "light"
     },
     "output_type": "display_data"
    }
   ],
   "source": [
    "_ = sns.distplot(ratings_df['num_ratings'])\n",
    "_ = plt.xlim([0,500])\n",
    "plt.show()"
   ]
  },
  {
   "cell_type": "code",
   "execution_count": 27,
   "metadata": {
    "ExecuteTime": {
     "end_time": "2020-12-29T11:35:04.141397Z",
     "start_time": "2020-12-29T11:35:03.495125Z"
    }
   },
   "outputs": [
    {
     "name": "stderr",
     "output_type": "stream",
     "text": [
      "C:\\Users\\sathw\\anaconda3\\lib\\site-packages\\seaborn\\distributions.py:2557: FutureWarning: `distplot` is a deprecated function and will be removed in a future version. Please adapt your code to use either `displot` (a figure-level function with similar flexibility) or `histplot` (an axes-level function for histograms).\n",
      "  warnings.warn(msg, FutureWarning)\n"
     ]
    },
    {
     "data": {
      "image/png": "[encoded data removed]",
      "text/plain": [
       "<Figure size 432x288 with 1 Axes>"
      ]
     },
     "metadata": {
      "needs_background": "light"
     },
     "output_type": "display_data"
    }
   ],
   "source": [
    "_ = sns.distplot(ratings_df['rating'])\n",
    "_ = plt.xlim([0,10])\n",
    "plt.show()"
   ]
  },
  {
   "cell_type": "code",
   "execution_count": 28,
   "metadata": {
    "ExecuteTime": {
     "end_time": "2020-12-29T11:35:04.547311Z",
     "start_time": "2020-12-29T11:35:04.145388Z"
    }
   },
   "outputs": [
    {
     "data": {
      "image/png": "[encoded data removed]",
      "text/plain": [
       "<Figure size 432x288 with 1 Axes>"
      ]
     },
     "metadata": {
      "needs_background": "light"
     },
     "output_type": "display_data"
    }
   ],
   "source": [
    "_ = plt.hist(ratings_df['rating'], bins=10)\n",
    "_ = plt.xlim([0,10])\n",
    "plt.show()"
   ]
  },
  {
   "cell_type": "markdown",
   "metadata": {},
   "source": [
    "After doing some quick exploration, ending with a heatmap because it helps show the relationship between each variable in the dataset."
   ]
  },
  {
   "cell_type": "code",
   "execution_count": 29,
   "metadata": {
    "ExecuteTime": {
     "end_time": "2020-12-29T11:35:10.008712Z",
     "start_time": "2020-12-29T11:35:04.550304Z"
    }
   },
   "outputs": [
    {
     "data": {
      "image/png": "[encoded data removed]",
      "text/plain": [
       "<Figure size 1440x720 with 2 Axes>"
      ]
     },
     "metadata": {
      "needs_background": "light"
     },
     "output_type": "display_data"
    }
   ],
   "source": [
    "_ = plt.figure(figsize=(20,10))\n",
    "_ = sns.heatmap(model_df.corr(), square=True, cmap=\"YlGnBu\", annot=True)\n",
    "_ = plt.title(\"Heatmap for Features\")\n",
    "plt.show()"
   ]
  },
  {
   "cell_type": "code",
   "execution_count": 30,
   "metadata": {
    "ExecuteTime": {
     "end_time": "2020-12-29T11:35:10.039630Z",
     "start_time": "2020-12-29T11:35:10.026665Z"
    }
   },
   "outputs": [
    {
     "data": {
      "text/plain": [
       "adult                       bool\n",
       "belongs_to_collection     object\n",
       "budget                   float64\n",
       "genres                    object\n",
       "homepage                  object\n",
       "original_language         object\n",
       "original_title            object\n",
       "popularity               float64\n",
       "production_companies      object\n",
       "production_countries      object\n",
       "revenue                  float64\n",
       "runtime                  float64\n",
       "spoken_languages          object\n",
       "vote_average             float64\n",
       "vote_count               float64\n",
       "year                     float64\n",
       "day                      float64\n",
       "month                    float64\n",
       "num_genres                 int64\n",
       "rating                   float64\n",
       "dtype: object"
      ]
     },
     "execution_count": 30,
     "metadata": {},
     "output_type": "execute_result"
    }
   ],
   "source": [
    "model_df.dtypes"
   ]
  },
  {
   "cell_type": "code",
   "execution_count": 31,
   "metadata": {
    "ExecuteTime": {
     "end_time": "2020-12-29T11:35:10.157317Z",
     "start_time": "2020-12-29T11:35:10.042623Z"
    }
   },
   "outputs": [],
   "source": [
    "model_df['original_language'].fillna('', inplace=True)"
   ]
  },
  {
   "cell_type": "code",
   "execution_count": 32,
   "metadata": {
    "ExecuteTime": {
     "end_time": "2020-12-29T11:35:10.165295Z",
     "start_time": "2020-12-29T11:35:10.160308Z"
    }
   },
   "outputs": [],
   "source": [
    "#model_df = model_df.dropna(['rating','month', 'day', 'year'])"
   ]
  },
  {
   "cell_type": "code",
   "execution_count": 33,
   "metadata": {
    "ExecuteTime": {
     "end_time": "2020-12-29T11:35:10.938230Z",
     "start_time": "2020-12-29T11:35:10.168287Z"
    }
   },
   "outputs": [
    {
     "data": {
      "text/plain": [
       "adult                         0\n",
       "belongs_to_collection    870552\n",
       "budget                        0\n",
       "genres                        0\n",
       "homepage                 868936\n",
       "original_language             0\n",
       "original_title                0\n",
       "popularity                    0\n",
       "production_companies          0\n",
       "production_countries          0\n",
       "revenue                       0\n",
       "runtime                      91\n",
       "spoken_languages              0\n",
       "vote_average                  0\n",
       "vote_count                    0\n",
       "year                          0\n",
       "day                           0\n",
       "month                         0\n",
       "num_genres                    0\n",
       "rating                        0\n",
       "dtype: int64"
      ]
     },
     "execution_count": 33,
     "metadata": {},
     "output_type": "execute_result"
    }
   ],
   "source": [
    "model_df.isnull().sum()"
   ]
  },
  {
   "cell_type": "code",
   "execution_count": 34,
   "metadata": {
    "ExecuteTime": {
     "end_time": "2020-12-29T11:35:13.664940Z",
     "start_time": "2020-12-29T11:35:10.942217Z"
    }
   },
   "outputs": [
    {
     "data": {
      "text/html": [
       "<div>\n",
       "<style scoped>\n",
       "    .dataframe tbody tr th:only-of-type {\n",
       "        vertical-align: middle;\n",
       "    }\n",
       "\n",
       "    .dataframe tbody tr th {\n",
       "        vertical-align: top;\n",
       "    }\n",
       "\n",
       "    .dataframe thead th {\n",
       "        text-align: right;\n",
       "    }\n",
       "</style>\n",
       "<table border=\"1\" class=\"dataframe\">\n",
       "  <thead>\n",
       "    <tr style=\"text-align: right;\">\n",
       "      <th></th>\n",
       "      <th>count</th>\n",
       "      <th>% of 0s</th>\n",
       "    </tr>\n",
       "  </thead>\n",
       "  <tbody>\n",
       "    <tr>\n",
       "      <th>adult</th>\n",
       "      <td>1142820</td>\n",
       "      <td>99.997375</td>\n",
       "    </tr>\n",
       "    <tr>\n",
       "      <th>revenue</th>\n",
       "      <td>528494</td>\n",
       "      <td>46.243514</td>\n",
       "    </tr>\n",
       "    <tr>\n",
       "      <th>budget</th>\n",
       "      <td>504085</td>\n",
       "      <td>44.107713</td>\n",
       "    </tr>\n",
       "    <tr>\n",
       "      <th>vote_average</th>\n",
       "      <td>6639</td>\n",
       "      <td>0.580916</td>\n",
       "    </tr>\n",
       "    <tr>\n",
       "      <th>vote_count</th>\n",
       "      <td>5103</td>\n",
       "      <td>0.446515</td>\n",
       "    </tr>\n",
       "    <tr>\n",
       "      <th>num_genres</th>\n",
       "      <td>4788</td>\n",
       "      <td>0.418953</td>\n",
       "    </tr>\n",
       "    <tr>\n",
       "      <th>runtime</th>\n",
       "      <td>2087</td>\n",
       "      <td>0.182614</td>\n",
       "    </tr>\n",
       "    <tr>\n",
       "      <th>popularity</th>\n",
       "      <td>1</td>\n",
       "      <td>0.000088</td>\n",
       "    </tr>\n",
       "    <tr>\n",
       "      <th>production_companies</th>\n",
       "      <td>0</td>\n",
       "      <td>0.000000</td>\n",
       "    </tr>\n",
       "    <tr>\n",
       "      <th>production_countries</th>\n",
       "      <td>0</td>\n",
       "      <td>0.000000</td>\n",
       "    </tr>\n",
       "    <tr>\n",
       "      <th>belongs_to_collection</th>\n",
       "      <td>0</td>\n",
       "      <td>0.000000</td>\n",
       "    </tr>\n",
       "    <tr>\n",
       "      <th>genres</th>\n",
       "      <td>0</td>\n",
       "      <td>0.000000</td>\n",
       "    </tr>\n",
       "    <tr>\n",
       "      <th>spoken_languages</th>\n",
       "      <td>0</td>\n",
       "      <td>0.000000</td>\n",
       "    </tr>\n",
       "    <tr>\n",
       "      <th>original_title</th>\n",
       "      <td>0</td>\n",
       "      <td>0.000000</td>\n",
       "    </tr>\n",
       "    <tr>\n",
       "      <th>original_language</th>\n",
       "      <td>0</td>\n",
       "      <td>0.000000</td>\n",
       "    </tr>\n",
       "    <tr>\n",
       "      <th>year</th>\n",
       "      <td>0</td>\n",
       "      <td>0.000000</td>\n",
       "    </tr>\n",
       "    <tr>\n",
       "      <th>day</th>\n",
       "      <td>0</td>\n",
       "      <td>0.000000</td>\n",
       "    </tr>\n",
       "    <tr>\n",
       "      <th>month</th>\n",
       "      <td>0</td>\n",
       "      <td>0.000000</td>\n",
       "    </tr>\n",
       "    <tr>\n",
       "      <th>homepage</th>\n",
       "      <td>0</td>\n",
       "      <td>0.000000</td>\n",
       "    </tr>\n",
       "    <tr>\n",
       "      <th>rating</th>\n",
       "      <td>0</td>\n",
       "      <td>0.000000</td>\n",
       "    </tr>\n",
       "  </tbody>\n",
       "</table>\n",
       "</div>"
      ],
      "text/plain": [
       "                         count    % of 0s\n",
       "adult                  1142820  99.997375\n",
       "revenue                 528494  46.243514\n",
       "budget                  504085  44.107713\n",
       "vote_average              6639   0.580916\n",
       "vote_count                5103   0.446515\n",
       "num_genres                4788   0.418953\n",
       "runtime                   2087   0.182614\n",
       "popularity                   1   0.000088\n",
       "production_companies         0   0.000000\n",
       "production_countries         0   0.000000\n",
       "belongs_to_collection        0   0.000000\n",
       "genres                       0   0.000000\n",
       "spoken_languages             0   0.000000\n",
       "original_title               0   0.000000\n",
       "original_language            0   0.000000\n",
       "year                         0   0.000000\n",
       "day                          0   0.000000\n",
       "month                        0   0.000000\n",
       "homepage                     0   0.000000\n",
       "rating                       0   0.000000"
      ]
     },
     "execution_count": 34,
     "metadata": {},
     "output_type": "execute_result"
    }
   ],
   "source": [
    "zeros = pd.concat([(model_df == 0).astype(int).sum(axis=0), 100 * (model_df == 0).astype(int).mean(axis=0)], axis=1)\n",
    "zeros.columns=['count', '% of 0s']\n",
    "zeros.sort_values(by='% of 0s', ascending = False)"
   ]
  },
  {
   "cell_type": "code",
   "execution_count": 35,
   "metadata": {
    "ExecuteTime": {
     "end_time": "2020-12-29T11:35:13.679901Z",
     "start_time": "2020-12-29T11:35:13.668930Z"
    }
   },
   "outputs": [],
   "source": [
    "def total_nums(df, genre): \n",
    "    \"\"\"\n",
    "    @params: dataframe, column (in this situation genre)\n",
    "    @output: number of ratings of films that contains a specific genre\n",
    "    \"\"\"\n",
    "    pattern = [genre] \n",
    "    jk= '|'.join(pattern)\n",
    "    return df.genres.str.contains(jk).sum()"
   ]
  },
  {
   "cell_type": "code",
   "execution_count": 36,
   "metadata": {
    "ExecuteTime": {
     "end_time": "2020-12-29T11:35:13.691868Z",
     "start_time": "2020-12-29T11:35:13.683889Z"
    }
   },
   "outputs": [],
   "source": [
    "def contains_genre(df, genre):\n",
    "    \"\"\"\n",
    "    @params: dataframe, column (in this situation genre)\n",
    "    @output: a feature used for modeling\n",
    "    \"\"\"\n",
    "    pattern = [genre] \n",
    "    jk= '|'.join(pattern)\n",
    "    df['is_' + str(genre)] = df.genres.str.contains(jk).astype(int)\n",
    "    return df['is_' + str(genre)]"
   ]
  },
  {
   "cell_type": "code",
   "execution_count": 37,
   "metadata": {
    "ExecuteTime": {
     "end_time": "2020-12-29T11:35:13.950179Z",
     "start_time": "2020-12-29T11:35:13.695857Z"
    },
    "scrolled": true
   },
   "outputs": [
    {
     "data": {
      "text/plain": [
       "['Drama']                         126664\n",
       "['Comedy']                         50701\n",
       "['Drama', 'Romance']               41699\n",
       "['Comedy', 'Drama', 'Romance']     38080\n",
       "['Comedy', 'Drama']                32820\n",
       "['Drama', 'Thriller']              21889\n",
       "['Drama', 'History']               18696\n",
       "['Comedy', 'Romance']              18223\n",
       "['Crime', 'Drama']                 17331\n",
       "['Horror']                         16171\n",
       "Name: genres, dtype: int64"
      ]
     },
     "execution_count": 37,
     "metadata": {},
     "output_type": "execute_result"
    }
   ],
   "source": [
    "model_df.genres.value_counts().sort_values(ascending=False).head(10)"
   ]
  },
  {
   "cell_type": "code",
   "execution_count": 38,
   "metadata": {
    "ExecuteTime": {
     "end_time": "2020-12-29T11:35:29.963374Z",
     "start_time": "2020-12-29T11:35:13.953170Z"
    }
   },
   "outputs": [
    {
     "name": "stdout",
     "output_type": "stream",
     "text": [
      "Science Fiction:  138751\n",
      "Western:  26287\n",
      "Drama:  659031\n",
      "Romance:  210300\n",
      "Comedy:  324476\n",
      "Thriller:  290268\n",
      "Horror:  92486\n",
      "Crime:  196502\n",
      "Family:  58157\n",
      "Action:  226776\n",
      "Adventure:  159896\n",
      "Fantasy:  85903\n"
     ]
    }
   ],
   "source": [
    "cols = ['Science Fiction', 'Western', 'Drama', 'Romance', 'Comedy', 'Thriller', 'Horror', \n",
    "        'Crime', 'Family', 'Action', 'Adventure', 'Fantasy']\n",
    "for col in cols:\n",
    "    print(col + ': ', total_nums(model_df,col))"
   ]
  },
  {
   "cell_type": "code",
   "execution_count": 39,
   "metadata": {
    "ExecuteTime": {
     "end_time": "2020-12-29T11:35:29.978333Z",
     "start_time": "2020-12-29T11:35:29.966366Z"
    }
   },
   "outputs": [
    {
     "data": {
      "text/plain": [
       "0          ['Pixar Animation Studios']\n",
       "1          ['Pixar Animation Studios']\n",
       "2          ['Pixar Animation Studios']\n",
       "3          ['Pixar Animation Studios']\n",
       "4          ['Pixar Animation Studios']\n",
       "                      ...             \n",
       "1183187          ['Star Film Company']\n",
       "1183188          ['Star Film Company']\n",
       "1183189          ['Star Film Company']\n",
       "1183190          ['Star Film Company']\n",
       "1183202                ['Sine Olivia']\n",
       "Name: production_companies, Length: 1142850, dtype: object"
      ]
     },
     "execution_count": 39,
     "metadata": {},
     "output_type": "execute_result"
    }
   ],
   "source": [
    "model_df['production_companies']"
   ]
  },
  {
   "cell_type": "markdown",
   "metadata": {},
   "source": [
    "## Feature Engineering<a id='1.5_Feature_Engineering'></a>"
   ]
  },
  {
   "cell_type": "markdown",
   "metadata": {},
   "source": [
    "Feature Engineering Tasks:  \n",
    "- **is_\" \"** : boolean variable, indicates 1 if the rating contains one of the most popular genres otherwise 0  \n",
    "- **original_language**: turned into a binary feature, indicates 1 if the film was originally shot in english otherwise 0  \n",
    "- **is_Summer**: boolean variable, indicates 1 if the release date month  of film falls during the summer time (May-September)    \n",
    "- **runtime**: imputed null values with mean"
   ]
  },
  {
   "cell_type": "code",
   "execution_count": 40,
   "metadata": {
    "ExecuteTime": {
     "end_time": "2020-12-29T11:35:29.996286Z",
     "start_time": "2020-12-29T11:35:29.983321Z"
    }
   },
   "outputs": [],
   "source": [
    "def feat_eng(df):\n",
    "    \n",
    "    #df['belongs_to_collection'] = df['belongs_to_collection'].apply(lambda b: 0 if b == np.nan else 1)\n",
    "    #df['homepage'] = df['homepage'].apply(lambda b: 0 if b == np.nan else 1)\n",
    "    genres = ['Drama', 'Comedy', 'Thriller']\n",
    "    for genre in genres:\n",
    "        df['is_' + str(genre)] = contains_genre(df, genre)\n",
    "    \n",
    "    df['original_language'] = df['original_language'].apply(lambda l: 1 if l == 'en' else 0)\n",
    "    \n",
    "    #df['production_companies'] = df['production_companies'].apply(lambda x: len(x))\n",
    "    #df['production_countries'] = df['production_countries'].apply(lambda x: len(x))\n",
    "    df['is_Summer'] = df['month'].apply(lambda x: 1 if x in [5.0,6.0,7.0,8.0,9.0] else 0)\n",
    "    \n",
    "    #df['spoken_languages'] = df['spoken_languages'].apply(lambda s: 1 if s == 'English' else 0)\n",
    "    #impute\n",
    "    df['runtime'] = df['runtime'].fillna(combined_df['runtime'].mean())\n",
    "    df = df.drop(['original_title', 'adult','genres', 'homepage', 'belongs_to_collection', \n",
    "                  'production_companies', 'production_countries','spoken_languages'], axis=1)\n",
    "    return df"
   ]
  },
  {
   "cell_type": "markdown",
   "metadata": {},
   "source": [
    "This function one hot encodes columns production companies and production countries. After performing pd.get_dummies(), only keeping the top 10 best performing combinations as features for the models."
   ]
  },
  {
   "cell_type": "code",
   "execution_count": 41,
   "metadata": {
    "ExecuteTime": {
     "end_time": "2020-12-29T11:35:30.006260Z",
     "start_time": "2020-12-29T11:35:29.999278Z"
    }
   },
   "outputs": [],
   "source": [
    "def one_hot_top_x(df, variable, top_x_labels):\n",
    "    for label in top_x_labels:\n",
    "        df[variable + \"_\" + label] = np.where(small_df[variable] == label, 1,0) "
   ]
  },
  {
   "cell_type": "code",
   "execution_count": 42,
   "metadata": {
    "ExecuteTime": {
     "end_time": "2020-12-29T11:35:30.020229Z",
     "start_time": "2020-12-29T11:35:30.010249Z"
    }
   },
   "outputs": [
    {
     "data": {
      "text/plain": [
       "pandas.core.frame.DataFrame"
      ]
     },
     "execution_count": 42,
     "metadata": {},
     "output_type": "execute_result"
    }
   ],
   "source": [
    "type(model_df)"
   ]
  },
  {
   "cell_type": "code",
   "execution_count": 43,
   "metadata": {
    "ExecuteTime": {
     "end_time": "2020-12-29T11:35:30.033188Z",
     "start_time": "2020-12-29T11:35:30.024212Z"
    }
   },
   "outputs": [
    {
     "name": "stdout",
     "output_type": "stream",
     "text": [
      "shape of the dataset:  (1142850, 20)\n"
     ]
    }
   ],
   "source": [
    "print(\"shape of the dataset: \", model_df.shape)"
   ]
  },
  {
   "cell_type": "markdown",
   "metadata": {},
   "source": [
    "## Regression: Predicting Movie Ratings <a id='1.6_Regression_:_Predicting_Movie_Ratings'></a>"
   ]
  },
  {
   "cell_type": "markdown",
   "metadata": {},
   "source": [
    "What's the point of working with films that have lots of records filled with zeros. It hinders the model's performance and since the dataset is massive, subsetting the values is for the best. "
   ]
  },
  {
   "cell_type": "code",
   "execution_count": 44,
   "metadata": {
    "ExecuteTime": {
     "end_time": "2020-12-29T11:35:30.286510Z",
     "start_time": "2020-12-29T11:35:30.052137Z"
    }
   },
   "outputs": [],
   "source": [
    "model_df = model_df[(model_df.revenue >0) & (model_df.budget >0) & (model_df.vote_count > 0) & (model_df.runtime >0)]"
   ]
  },
  {
   "cell_type": "code",
   "execution_count": 45,
   "metadata": {
    "ExecuteTime": {
     "end_time": "2020-12-29T11:35:30.364301Z",
     "start_time": "2020-12-29T11:35:30.290500Z"
    }
   },
   "outputs": [],
   "source": [
    "small_df = model_df.sample(frac = 0.02, axis=0)"
   ]
  },
  {
   "cell_type": "code",
   "execution_count": 46,
   "metadata": {
    "ExecuteTime": {
     "end_time": "2020-12-29T11:35:30.375273Z",
     "start_time": "2020-12-29T11:35:30.367295Z"
    }
   },
   "outputs": [
    {
     "data": {
      "text/plain": [
       "(10841, 20)"
      ]
     },
     "execution_count": 46,
     "metadata": {},
     "output_type": "execute_result"
    }
   ],
   "source": [
    "small_df.shape"
   ]
  },
  {
   "cell_type": "code",
   "execution_count": 47,
   "metadata": {
    "ExecuteTime": {
     "end_time": "2020-12-29T11:35:30.387241Z",
     "start_time": "2020-12-29T11:35:30.379262Z"
    }
   },
   "outputs": [
    {
     "data": {
      "text/plain": [
       "pandas.core.frame.DataFrame"
      ]
     },
     "execution_count": 47,
     "metadata": {},
     "output_type": "execute_result"
    }
   ],
   "source": [
    "type(small_df)"
   ]
  },
  {
   "cell_type": "code",
   "execution_count": 48,
   "metadata": {
    "ExecuteTime": {
     "end_time": "2020-12-29T11:35:30.400206Z",
     "start_time": "2020-12-29T11:35:30.391230Z"
    }
   },
   "outputs": [],
   "source": [
    "def change(col):\n",
    "    print(col)\n",
    "    if not col:\n",
    "        return \"missing\"\n",
    "    return \"_\".join(col)\n",
    "#if-else"
   ]
  },
  {
   "cell_type": "code",
   "execution_count": 49,
   "metadata": {
    "ExecuteTime": {
     "end_time": "2020-12-29T11:35:30.408185Z",
     "start_time": "2020-12-29T11:35:30.404195Z"
    }
   },
   "outputs": [],
   "source": [
    "#small_df['production_companies'] = small_df['production_companies'].apply(change)"
   ]
  },
  {
   "cell_type": "markdown",
   "metadata": {},
   "source": [
    "To add important features to the model, need to one hot encode production companies and production countries columns. "
   ]
  },
  {
   "cell_type": "code",
   "execution_count": 50,
   "metadata": {
    "ExecuteTime": {
     "end_time": "2020-12-29T11:35:30.774206Z",
     "start_time": "2020-12-29T11:35:30.412176Z"
    }
   },
   "outputs": [
    {
     "data": {
      "text/html": [
       "<div>\n",
       "<style scoped>\n",
       "    .dataframe tbody tr th:only-of-type {\n",
       "        vertical-align: middle;\n",
       "    }\n",
       "\n",
       "    .dataframe tbody tr th {\n",
       "        vertical-align: top;\n",
       "    }\n",
       "\n",
       "    .dataframe thead th {\n",
       "        text-align: right;\n",
       "    }\n",
       "</style>\n",
       "<table border=\"1\" class=\"dataframe\">\n",
       "  <thead>\n",
       "    <tr style=\"text-align: right;\">\n",
       "      <th></th>\n",
       "      <th>adult</th>\n",
       "      <th>belongs_to_collection</th>\n",
       "      <th>budget</th>\n",
       "      <th>genres</th>\n",
       "      <th>homepage</th>\n",
       "      <th>original_language</th>\n",
       "      <th>original_title</th>\n",
       "      <th>popularity</th>\n",
       "      <th>revenue</th>\n",
       "      <th>runtime</th>\n",
       "      <th>...</th>\n",
       "      <th>production_countries_['United States of America', 'Malta', 'France', 'United Kingdom']</th>\n",
       "      <th>production_countries_['United States of America', 'Morocco']</th>\n",
       "      <th>production_countries_['United States of America', 'South Africa']</th>\n",
       "      <th>production_countries_['United States of America', 'Spain']</th>\n",
       "      <th>production_countries_['United States of America', 'United Kingdom', 'France']</th>\n",
       "      <th>production_countries_['United States of America', 'United Kingdom', 'Romania', 'Italy']</th>\n",
       "      <th>production_countries_['United States of America', 'United Kingdom']</th>\n",
       "      <th>production_countries_['United States of America']</th>\n",
       "      <th>production_countries_['Uruguay', 'United States of America', 'Germany', 'Paraguay']</th>\n",
       "      <th>production_countries_[]</th>\n",
       "    </tr>\n",
       "  </thead>\n",
       "  <tbody>\n",
       "    <tr>\n",
       "      <th>828931</th>\n",
       "      <td>False</td>\n",
       "      <td>NaN</td>\n",
       "      <td>35000000.0</td>\n",
       "      <td>['Comedy', 'Drama', 'Romance']</td>\n",
       "      <td>http://www.devilwearspradamovie.com/</td>\n",
       "      <td>en</td>\n",
       "      <td>The Devil Wears Prada</td>\n",
       "      <td>13.102384</td>\n",
       "      <td>326551094.0</td>\n",
       "      <td>109.0</td>\n",
       "      <td>...</td>\n",
       "      <td>0.0</td>\n",
       "      <td>0.0</td>\n",
       "      <td>0.0</td>\n",
       "      <td>0.0</td>\n",
       "      <td>0.0</td>\n",
       "      <td>0.0</td>\n",
       "      <td>0.0</td>\n",
       "      <td>1.0</td>\n",
       "      <td>0.0</td>\n",
       "      <td>0.0</td>\n",
       "    </tr>\n",
       "    <tr>\n",
       "      <th>437454</th>\n",
       "      <td>False</td>\n",
       "      <td>NaN</td>\n",
       "      <td>24000000.0</td>\n",
       "      <td>['Action', 'Thriller', 'Crime']</td>\n",
       "      <td>NaN</td>\n",
       "      <td>en</td>\n",
       "      <td>Point Break</td>\n",
       "      <td>11.453093</td>\n",
       "      <td>83531958.0</td>\n",
       "      <td>120.0</td>\n",
       "      <td>...</td>\n",
       "      <td>0.0</td>\n",
       "      <td>0.0</td>\n",
       "      <td>0.0</td>\n",
       "      <td>0.0</td>\n",
       "      <td>0.0</td>\n",
       "      <td>0.0</td>\n",
       "      <td>0.0</td>\n",
       "      <td>1.0</td>\n",
       "      <td>0.0</td>\n",
       "      <td>0.0</td>\n",
       "    </tr>\n",
       "    <tr>\n",
       "      <th>179035</th>\n",
       "      <td>False</td>\n",
       "      <td>NaN</td>\n",
       "      <td>38000000.0</td>\n",
       "      <td>['Comedy', 'Romance']</td>\n",
       "      <td>NaN</td>\n",
       "      <td>en</td>\n",
       "      <td>My Best Friend's Wedding</td>\n",
       "      <td>4.678572</td>\n",
       "      <td>299288605.0</td>\n",
       "      <td>105.0</td>\n",
       "      <td>...</td>\n",
       "      <td>0.0</td>\n",
       "      <td>0.0</td>\n",
       "      <td>0.0</td>\n",
       "      <td>0.0</td>\n",
       "      <td>0.0</td>\n",
       "      <td>0.0</td>\n",
       "      <td>0.0</td>\n",
       "      <td>1.0</td>\n",
       "      <td>0.0</td>\n",
       "      <td>0.0</td>\n",
       "    </tr>\n",
       "    <tr>\n",
       "      <th>724969</th>\n",
       "      <td>False</td>\n",
       "      <td>NaN</td>\n",
       "      <td>10000000.0</td>\n",
       "      <td>['Action', 'Adventure', 'Crime', 'Drama', 'Rom...</td>\n",
       "      <td>http://www.rumblefishdvd.com/</td>\n",
       "      <td>en</td>\n",
       "      <td>Rumble Fish</td>\n",
       "      <td>8.205190</td>\n",
       "      <td>2494480.0</td>\n",
       "      <td>94.0</td>\n",
       "      <td>...</td>\n",
       "      <td>0.0</td>\n",
       "      <td>0.0</td>\n",
       "      <td>0.0</td>\n",
       "      <td>0.0</td>\n",
       "      <td>0.0</td>\n",
       "      <td>0.0</td>\n",
       "      <td>0.0</td>\n",
       "      <td>1.0</td>\n",
       "      <td>0.0</td>\n",
       "      <td>0.0</td>\n",
       "    </tr>\n",
       "    <tr>\n",
       "      <th>395566</th>\n",
       "      <td>False</td>\n",
       "      <td>{'id': 498, 'name': 'Heart of Gold Collection'...</td>\n",
       "      <td>12800000.0</td>\n",
       "      <td>['Drama', 'Crime', 'Music']</td>\n",
       "      <td>NaN</td>\n",
       "      <td>en</td>\n",
       "      <td>Dancer in the Dark</td>\n",
       "      <td>10.684806</td>\n",
       "      <td>40031879.0</td>\n",
       "      <td>140.0</td>\n",
       "      <td>...</td>\n",
       "      <td>0.0</td>\n",
       "      <td>0.0</td>\n",
       "      <td>0.0</td>\n",
       "      <td>0.0</td>\n",
       "      <td>0.0</td>\n",
       "      <td>0.0</td>\n",
       "      <td>0.0</td>\n",
       "      <td>0.0</td>\n",
       "      <td>0.0</td>\n",
       "      <td>0.0</td>\n",
       "    </tr>\n",
       "    <tr>\n",
       "      <th>...</th>\n",
       "      <td>...</td>\n",
       "      <td>...</td>\n",
       "      <td>...</td>\n",
       "      <td>...</td>\n",
       "      <td>...</td>\n",
       "      <td>...</td>\n",
       "      <td>...</td>\n",
       "      <td>...</td>\n",
       "      <td>...</td>\n",
       "      <td>...</td>\n",
       "      <td>...</td>\n",
       "      <td>...</td>\n",
       "      <td>...</td>\n",
       "      <td>...</td>\n",
       "      <td>...</td>\n",
       "      <td>...</td>\n",
       "      <td>...</td>\n",
       "      <td>...</td>\n",
       "      <td>...</td>\n",
       "      <td>...</td>\n",
       "      <td>...</td>\n",
       "    </tr>\n",
       "    <tr>\n",
       "      <th>60742</th>\n",
       "      <td>False</td>\n",
       "      <td>NaN</td>\n",
       "      <td>12500000.0</td>\n",
       "      <td>['Action', 'Thriller', 'Crime', 'Romance']</td>\n",
       "      <td>NaN</td>\n",
       "      <td>en</td>\n",
       "      <td>True Romance</td>\n",
       "      <td>17.189328</td>\n",
       "      <td>12281551.0</td>\n",
       "      <td>120.0</td>\n",
       "      <td>...</td>\n",
       "      <td>0.0</td>\n",
       "      <td>0.0</td>\n",
       "      <td>0.0</td>\n",
       "      <td>0.0</td>\n",
       "      <td>0.0</td>\n",
       "      <td>0.0</td>\n",
       "      <td>0.0</td>\n",
       "      <td>1.0</td>\n",
       "      <td>0.0</td>\n",
       "      <td>0.0</td>\n",
       "    </tr>\n",
       "    <tr>\n",
       "      <th>572511</th>\n",
       "      <td>False</td>\n",
       "      <td>{'id': 528, 'name': 'The Terminator Collection...</td>\n",
       "      <td>200000000.0</td>\n",
       "      <td>['Action', 'Thriller', 'Science Fiction']</td>\n",
       "      <td>NaN</td>\n",
       "      <td>en</td>\n",
       "      <td>Terminator 3: Rise of the Machines</td>\n",
       "      <td>20.818907</td>\n",
       "      <td>435000000.0</td>\n",
       "      <td>109.0</td>\n",
       "      <td>...</td>\n",
       "      <td>0.0</td>\n",
       "      <td>0.0</td>\n",
       "      <td>0.0</td>\n",
       "      <td>0.0</td>\n",
       "      <td>0.0</td>\n",
       "      <td>0.0</td>\n",
       "      <td>0.0</td>\n",
       "      <td>0.0</td>\n",
       "      <td>0.0</td>\n",
       "      <td>0.0</td>\n",
       "    </tr>\n",
       "    <tr>\n",
       "      <th>575349</th>\n",
       "      <td>False</td>\n",
       "      <td>{'id': 14890, 'name': 'Bad Boys Collection', '...</td>\n",
       "      <td>130000000.0</td>\n",
       "      <td>['Adventure', 'Action', 'Comedy', 'Thriller', ...</td>\n",
       "      <td>NaN</td>\n",
       "      <td>en</td>\n",
       "      <td>Bad Boys II</td>\n",
       "      <td>8.191436</td>\n",
       "      <td>273339556.0</td>\n",
       "      <td>147.0</td>\n",
       "      <td>...</td>\n",
       "      <td>0.0</td>\n",
       "      <td>0.0</td>\n",
       "      <td>0.0</td>\n",
       "      <td>0.0</td>\n",
       "      <td>0.0</td>\n",
       "      <td>0.0</td>\n",
       "      <td>0.0</td>\n",
       "      <td>1.0</td>\n",
       "      <td>0.0</td>\n",
       "      <td>0.0</td>\n",
       "    </tr>\n",
       "    <tr>\n",
       "      <th>282355</th>\n",
       "      <td>False</td>\n",
       "      <td>NaN</td>\n",
       "      <td>16000000.0</td>\n",
       "      <td>['Thriller', 'Science Fiction', 'Mystery']</td>\n",
       "      <td>NaN</td>\n",
       "      <td>en</td>\n",
       "      <td>The Thirteenth Floor</td>\n",
       "      <td>9.356587</td>\n",
       "      <td>18564088.0</td>\n",
       "      <td>100.0</td>\n",
       "      <td>...</td>\n",
       "      <td>0.0</td>\n",
       "      <td>0.0</td>\n",
       "      <td>0.0</td>\n",
       "      <td>0.0</td>\n",
       "      <td>0.0</td>\n",
       "      <td>0.0</td>\n",
       "      <td>0.0</td>\n",
       "      <td>1.0</td>\n",
       "      <td>0.0</td>\n",
       "      <td>0.0</td>\n",
       "    </tr>\n",
       "    <tr>\n",
       "      <th>121476</th>\n",
       "      <td>False</td>\n",
       "      <td>{'id': 119674, 'name': 'Psycho Collection', 'p...</td>\n",
       "      <td>806948.0</td>\n",
       "      <td>['Drama', 'Horror', 'Thriller']</td>\n",
       "      <td>NaN</td>\n",
       "      <td>en</td>\n",
       "      <td>Psycho</td>\n",
       "      <td>36.826309</td>\n",
       "      <td>32000000.0</td>\n",
       "      <td>109.0</td>\n",
       "      <td>...</td>\n",
       "      <td>0.0</td>\n",
       "      <td>0.0</td>\n",
       "      <td>0.0</td>\n",
       "      <td>0.0</td>\n",
       "      <td>0.0</td>\n",
       "      <td>0.0</td>\n",
       "      <td>0.0</td>\n",
       "      <td>1.0</td>\n",
       "      <td>0.0</td>\n",
       "      <td>0.0</td>\n",
       "    </tr>\n",
       "  </tbody>\n",
       "</table>\n",
       "<p>10841 rows × 881 columns</p>\n",
       "</div>"
      ],
      "text/plain": [
       "        adult                              belongs_to_collection       budget  \\\n",
       "828931  False                                                NaN   35000000.0   \n",
       "437454  False                                                NaN   24000000.0   \n",
       "179035  False                                                NaN   38000000.0   \n",
       "724969  False                                                NaN   10000000.0   \n",
       "395566  False  {'id': 498, 'name': 'Heart of Gold Collection'...   12800000.0   \n",
       "...       ...                                                ...          ...   \n",
       "60742   False                                                NaN   12500000.0   \n",
       "572511  False  {'id': 528, 'name': 'The Terminator Collection...  200000000.0   \n",
       "575349  False  {'id': 14890, 'name': 'Bad Boys Collection', '...  130000000.0   \n",
       "282355  False                                                NaN   16000000.0   \n",
       "121476  False  {'id': 119674, 'name': 'Psycho Collection', 'p...     806948.0   \n",
       "\n",
       "                                                   genres  \\\n",
       "828931                     ['Comedy', 'Drama', 'Romance']   \n",
       "437454                    ['Action', 'Thriller', 'Crime']   \n",
       "179035                              ['Comedy', 'Romance']   \n",
       "724969  ['Action', 'Adventure', 'Crime', 'Drama', 'Rom...   \n",
       "395566                        ['Drama', 'Crime', 'Music']   \n",
       "...                                                   ...   \n",
       "60742          ['Action', 'Thriller', 'Crime', 'Romance']   \n",
       "572511          ['Action', 'Thriller', 'Science Fiction']   \n",
       "575349  ['Adventure', 'Action', 'Comedy', 'Thriller', ...   \n",
       "282355         ['Thriller', 'Science Fiction', 'Mystery']   \n",
       "121476                    ['Drama', 'Horror', 'Thriller']   \n",
       "\n",
       "                                    homepage original_language  \\\n",
       "828931  http://www.devilwearspradamovie.com/                en   \n",
       "437454                                   NaN                en   \n",
       "179035                                   NaN                en   \n",
       "724969         http://www.rumblefishdvd.com/                en   \n",
       "395566                                   NaN                en   \n",
       "...                                      ...               ...   \n",
       "60742                                    NaN                en   \n",
       "572511                                   NaN                en   \n",
       "575349                                   NaN                en   \n",
       "282355                                   NaN                en   \n",
       "121476                                   NaN                en   \n",
       "\n",
       "                            original_title  popularity      revenue  runtime  \\\n",
       "828931               The Devil Wears Prada   13.102384  326551094.0    109.0   \n",
       "437454                         Point Break   11.453093   83531958.0    120.0   \n",
       "179035            My Best Friend's Wedding    4.678572  299288605.0    105.0   \n",
       "724969                         Rumble Fish    8.205190    2494480.0     94.0   \n",
       "395566                  Dancer in the Dark   10.684806   40031879.0    140.0   \n",
       "...                                    ...         ...          ...      ...   \n",
       "60742                         True Romance   17.189328   12281551.0    120.0   \n",
       "572511  Terminator 3: Rise of the Machines   20.818907  435000000.0    109.0   \n",
       "575349                         Bad Boys II    8.191436  273339556.0    147.0   \n",
       "282355                The Thirteenth Floor    9.356587   18564088.0    100.0   \n",
       "121476                              Psycho   36.826309   32000000.0    109.0   \n",
       "\n",
       "        ...  \\\n",
       "828931  ...   \n",
       "437454  ...   \n",
       "179035  ...   \n",
       "724969  ...   \n",
       "395566  ...   \n",
       "...     ...   \n",
       "60742   ...   \n",
       "572511  ...   \n",
       "575349  ...   \n",
       "282355  ...   \n",
       "121476  ...   \n",
       "\n",
       "       production_countries_['United States of America', 'Malta', 'France', 'United Kingdom']  \\\n",
       "828931                                                0.0                                       \n",
       "437454                                                0.0                                       \n",
       "179035                                                0.0                                       \n",
       "724969                                                0.0                                       \n",
       "395566                                                0.0                                       \n",
       "...                                                   ...                                       \n",
       "60742                                                 0.0                                       \n",
       "572511                                                0.0                                       \n",
       "575349                                                0.0                                       \n",
       "282355                                                0.0                                       \n",
       "121476                                                0.0                                       \n",
       "\n",
       "        production_countries_['United States of America', 'Morocco']  \\\n",
       "828931                                                0.0              \n",
       "437454                                                0.0              \n",
       "179035                                                0.0              \n",
       "724969                                                0.0              \n",
       "395566                                                0.0              \n",
       "...                                                   ...              \n",
       "60742                                                 0.0              \n",
       "572511                                                0.0              \n",
       "575349                                                0.0              \n",
       "282355                                                0.0              \n",
       "121476                                                0.0              \n",
       "\n",
       "        production_countries_['United States of America', 'South Africa']  \\\n",
       "828931                                                0.0                   \n",
       "437454                                                0.0                   \n",
       "179035                                                0.0                   \n",
       "724969                                                0.0                   \n",
       "395566                                                0.0                   \n",
       "...                                                   ...                   \n",
       "60742                                                 0.0                   \n",
       "572511                                                0.0                   \n",
       "575349                                                0.0                   \n",
       "282355                                                0.0                   \n",
       "121476                                                0.0                   \n",
       "\n",
       "        production_countries_['United States of America', 'Spain']  \\\n",
       "828931                                                0.0            \n",
       "437454                                                0.0            \n",
       "179035                                                0.0            \n",
       "724969                                                0.0            \n",
       "395566                                                0.0            \n",
       "...                                                   ...            \n",
       "60742                                                 0.0            \n",
       "572511                                                0.0            \n",
       "575349                                                0.0            \n",
       "282355                                                0.0            \n",
       "121476                                                0.0            \n",
       "\n",
       "        production_countries_['United States of America', 'United Kingdom', 'France']  \\\n",
       "828931                                                0.0                               \n",
       "437454                                                0.0                               \n",
       "179035                                                0.0                               \n",
       "724969                                                0.0                               \n",
       "395566                                                0.0                               \n",
       "...                                                   ...                               \n",
       "60742                                                 0.0                               \n",
       "572511                                                0.0                               \n",
       "575349                                                0.0                               \n",
       "282355                                                0.0                               \n",
       "121476                                                0.0                               \n",
       "\n",
       "        production_countries_['United States of America', 'United Kingdom', 'Romania', 'Italy']  \\\n",
       "828931                                                0.0                                         \n",
       "437454                                                0.0                                         \n",
       "179035                                                0.0                                         \n",
       "724969                                                0.0                                         \n",
       "395566                                                0.0                                         \n",
       "...                                                   ...                                         \n",
       "60742                                                 0.0                                         \n",
       "572511                                                0.0                                         \n",
       "575349                                                0.0                                         \n",
       "282355                                                0.0                                         \n",
       "121476                                                0.0                                         \n",
       "\n",
       "        production_countries_['United States of America', 'United Kingdom']  \\\n",
       "828931                                                0.0                     \n",
       "437454                                                0.0                     \n",
       "179035                                                0.0                     \n",
       "724969                                                0.0                     \n",
       "395566                                                0.0                     \n",
       "...                                                   ...                     \n",
       "60742                                                 0.0                     \n",
       "572511                                                0.0                     \n",
       "575349                                                0.0                     \n",
       "282355                                                0.0                     \n",
       "121476                                                0.0                     \n",
       "\n",
       "        production_countries_['United States of America']  \\\n",
       "828931                                                1.0   \n",
       "437454                                                1.0   \n",
       "179035                                                1.0   \n",
       "724969                                                1.0   \n",
       "395566                                                0.0   \n",
       "...                                                   ...   \n",
       "60742                                                 1.0   \n",
       "572511                                                0.0   \n",
       "575349                                                1.0   \n",
       "282355                                                1.0   \n",
       "121476                                                1.0   \n",
       "\n",
       "        production_countries_['Uruguay', 'United States of America', 'Germany', 'Paraguay']  \\\n",
       "828931                                                0.0                                     \n",
       "437454                                                0.0                                     \n",
       "179035                                                0.0                                     \n",
       "724969                                                0.0                                     \n",
       "395566                                                0.0                                     \n",
       "...                                                   ...                                     \n",
       "60742                                                 0.0                                     \n",
       "572511                                                0.0                                     \n",
       "575349                                                0.0                                     \n",
       "282355                                                0.0                                     \n",
       "121476                                                0.0                                     \n",
       "\n",
       "        production_countries_[]  \n",
       "828931                      0.0  \n",
       "437454                      0.0  \n",
       "179035                      0.0  \n",
       "724969                      0.0  \n",
       "395566                      0.0  \n",
       "...                         ...  \n",
       "60742                       0.0  \n",
       "572511                      0.0  \n",
       "575349                      0.0  \n",
       "282355                      0.0  \n",
       "121476                      0.0  \n",
       "\n",
       "[10841 rows x 881 columns]"
      ]
     },
     "execution_count": 50,
     "metadata": {},
     "output_type": "execute_result"
    }
   ],
   "source": [
    "# one hot encode these two columns for better results\n",
    "pd.get_dummies(data=small_df, columns = ['production_companies', 'production_countries'],dtype=float)"
   ]
  },
  {
   "cell_type": "code",
   "execution_count": 51,
   "metadata": {
    "ExecuteTime": {
     "end_time": "2020-12-29T11:35:30.796147Z",
     "start_time": "2020-12-29T11:35:30.778196Z"
    }
   },
   "outputs": [
    {
     "data": {
      "text/plain": [
       "['Paramount Pictures']                                                                                                                                                          319\n",
       "['Columbia Pictures', 'Intermedia Films', 'Warner Bros.', 'C-2 Pictures', 'IMF Internationale Medien und Film GmbH & Co. 3. Produktions KG', 'Mostow/Lieberman Productions']    195\n",
       "['Universal Pictures']                                                                                                                                                          180\n",
       "['TriStar Pictures']                                                                                                                                                            167\n",
       "['Universal Pictures', 'Amblin Entertainment', 'U-Drive Productions']                                                                                                           139\n",
       "['Paramount Pictures', 'Miramax Films', 'Scott Rudin Productions']                                                                                                              122\n",
       "['Paramount Pictures', 'The Coppola Company', 'The Directors Company']                                                                                                          118\n",
       "['Village Roadshow Pictures', 'Robert Simonds Productions', 'Warner Bros.', 'Phoenix Pictures', 'Underground', 'Proposal Productions']                                          116\n",
       "['United Artists']                                                                                                                                                              112\n",
       "['Columbia Pictures', 'Amblin Entertainment', 'Columbia Pictures Corporation', 'Parkes+MacDonald Image Nation']                                                                 106\n",
       "['United Artists', 'Star Partners II Ltd.']                                                                                                                                      97\n",
       "['Silent Hill DCP Inc.', 'Davis-Films', 'TriStar Pictures', 'Konami']                                                                                                            97\n",
       "['New Line Cinema', 'Smart Egg Pictures']                                                                                                                                        91\n",
       "['Transatlantic Pictures', 'Warner Bros.', 'Metro-Goldwyn-Mayer (MGM)']                                                                                                          89\n",
       "['TriStar Pictures', 'Carolco Pictures']                                                                                                                                         88\n",
       "['PolyGram Filmed Entertainment', 'Warner Bros.']                                                                                                                                86\n",
       "['Hawk Films', 'Warner Bros.']                                                                                                                                                   76\n",
       "['Walden Media', 'Hal Lieberman Company', 'Lauren Levine Productions Inc.']                                                                                                      74\n",
       "['Paramount Pictures', 'Miramax Films', 'Timnick Films', 'Mirage Enterprises']                                                                                                   73\n",
       "['Live Entertainment', 'Lionsgate', 'Dog Eat Dog Productions Inc.']                                                                                                              73\n",
       "Name: production_companies, dtype: int64"
      ]
     },
     "execution_count": 51,
     "metadata": {},
     "output_type": "execute_result"
    }
   ],
   "source": [
    "small_df.production_companies.value_counts().sort_values(ascending=False).head(20)"
   ]
  },
  {
   "cell_type": "code",
   "execution_count": 52,
   "metadata": {
    "ExecuteTime": {
     "end_time": "2020-12-29T11:35:30.816095Z",
     "start_time": "2020-12-29T11:35:30.799140Z"
    }
   },
   "outputs": [
    {
     "data": {
      "text/plain": [
       "['United States of America']                                          7198\n",
       "['United Kingdom', 'United States of America']                         710\n",
       "['Germany', 'United States of America']                                283\n",
       "['United Kingdom']                                                     236\n",
       "['Germany', 'United Kingdom', 'United States of America']              204\n",
       "                                                                      ... \n",
       "['Spain', 'Germany', 'France']                                           1\n",
       "['Australia', 'Germany', 'United States of America']                     1\n",
       "['Canada', 'Italy', 'United States of America']                          1\n",
       "['Denmark', 'France', 'Germany', 'Italy', 'Netherlands', 'Sweden']       1\n",
       "['Germany', 'Spain', 'United Kingdom', 'Lithuania']                      1\n",
       "Name: production_countries, Length: 126, dtype: int64"
      ]
     },
     "execution_count": 52,
     "metadata": {},
     "output_type": "execute_result"
    }
   ],
   "source": [
    "small_df.production_countries.value_counts().sort_values(ascending=False)"
   ]
  },
  {
   "cell_type": "markdown",
   "metadata": {},
   "source": [
    "Here, the top 10 popular combinations of the production_companies and production_countries are chosen to be put in the model to help predict ratings. This will be used as a parameter for the function. "
   ]
  },
  {
   "cell_type": "code",
   "execution_count": 53,
   "metadata": {
    "ExecuteTime": {
     "end_time": "2020-12-29T11:35:30.851002Z",
     "start_time": "2020-12-29T11:35:30.820084Z"
    }
   },
   "outputs": [],
   "source": [
    "# encode the top 10 most frequent\n",
    "top_10_comp = [x for x in small_df.production_companies.value_counts().sort_values(ascending=False).head(10).index]\n",
    "top_10_count = [x for x in small_df.production_countries.value_counts().sort_values(ascending=False).head(10).index]"
   ]
  },
  {
   "cell_type": "code",
   "execution_count": 54,
   "metadata": {
    "ExecuteTime": {
     "end_time": "2020-12-29T11:35:30.862969Z",
     "start_time": "2020-12-29T11:35:30.854991Z"
    }
   },
   "outputs": [
    {
     "data": {
      "text/plain": [
       "[\"['Paramount Pictures']\",\n",
       " \"['Columbia Pictures', 'Intermedia Films', 'Warner Bros.', 'C-2 Pictures', 'IMF Internationale Medien und Film GmbH & Co. 3. Produktions KG', 'Mostow/Lieberman Productions']\",\n",
       " \"['Universal Pictures']\",\n",
       " \"['TriStar Pictures']\",\n",
       " \"['Universal Pictures', 'Amblin Entertainment', 'U-Drive Productions']\",\n",
       " \"['Paramount Pictures', 'Miramax Films', 'Scott Rudin Productions']\",\n",
       " \"['Paramount Pictures', 'The Coppola Company', 'The Directors Company']\",\n",
       " \"['Village Roadshow Pictures', 'Robert Simonds Productions', 'Warner Bros.', 'Phoenix Pictures', 'Underground', 'Proposal Productions']\",\n",
       " \"['United Artists']\",\n",
       " \"['Columbia Pictures', 'Amblin Entertainment', 'Columbia Pictures Corporation', 'Parkes+MacDonald Image Nation']\"]"
      ]
     },
     "execution_count": 54,
     "metadata": {},
     "output_type": "execute_result"
    }
   ],
   "source": [
    "top_10_comp"
   ]
  },
  {
   "cell_type": "code",
   "execution_count": 55,
   "metadata": {
    "ExecuteTime": {
     "end_time": "2020-12-29T11:35:30.873940Z",
     "start_time": "2020-12-29T11:35:30.866958Z"
    }
   },
   "outputs": [
    {
     "data": {
      "text/plain": [
       "[\"['United States of America']\",\n",
       " \"['United Kingdom', 'United States of America']\",\n",
       " \"['Germany', 'United States of America']\",\n",
       " \"['United Kingdom']\",\n",
       " \"['Germany', 'United Kingdom', 'United States of America']\",\n",
       " \"['Australia', 'United States of America']\",\n",
       " \"['France', 'United States of America']\",\n",
       " \"['Germany']\",\n",
       " \"['Canada', 'France', 'Japan', 'United States of America']\",\n",
       " \"['France', 'Italy']\"]"
      ]
     },
     "execution_count": 55,
     "metadata": {},
     "output_type": "execute_result"
    }
   ],
   "source": [
    "top_10_count"
   ]
  },
  {
   "cell_type": "code",
   "execution_count": 56,
   "metadata": {
    "ExecuteTime": {
     "end_time": "2020-12-29T11:35:30.913833Z",
     "start_time": "2020-12-29T11:35:30.877930Z"
    }
   },
   "outputs": [],
   "source": [
    "one_hot_top_x(small_df, 'production_companies', top_10_comp)"
   ]
  },
  {
   "cell_type": "code",
   "execution_count": 57,
   "metadata": {
    "ExecuteTime": {
     "end_time": "2020-12-29T11:35:30.950735Z",
     "start_time": "2020-12-29T11:35:30.916825Z"
    }
   },
   "outputs": [],
   "source": [
    "one_hot_top_x(small_df, 'production_countries', top_10_count)"
   ]
  },
  {
   "cell_type": "code",
   "execution_count": 58,
   "metadata": {
    "ExecuteTime": {
     "end_time": "2020-12-29T11:35:30.961706Z",
     "start_time": "2020-12-29T11:35:30.953727Z"
    }
   },
   "outputs": [
    {
     "data": {
      "text/plain": [
       "(10841, 40)"
      ]
     },
     "execution_count": 58,
     "metadata": {},
     "output_type": "execute_result"
    }
   ],
   "source": [
    "small_df.shape"
   ]
  },
  {
   "cell_type": "code",
   "execution_count": 59,
   "metadata": {
    "ExecuteTime": {
     "end_time": "2020-12-29T11:35:30.972676Z",
     "start_time": "2020-12-29T11:35:30.964698Z"
    }
   },
   "outputs": [
    {
     "data": {
      "text/plain": [
       "10841"
      ]
     },
     "execution_count": 59,
     "metadata": {},
     "output_type": "execute_result"
    }
   ],
   "source": [
    "len(small_df.production_companies)"
   ]
  },
  {
   "cell_type": "code",
   "execution_count": 60,
   "metadata": {
    "ExecuteTime": {
     "end_time": "2020-12-29T11:35:30.993621Z",
     "start_time": "2020-12-29T11:35:30.975669Z"
    }
   },
   "outputs": [],
   "source": [
    "X,y=small_df.drop(['rating'], axis=1), small_df['rating']"
   ]
  },
  {
   "cell_type": "code",
   "execution_count": 61,
   "metadata": {
    "ExecuteTime": {
     "end_time": "2020-12-29T11:35:31.089364Z",
     "start_time": "2020-12-29T11:35:30.996612Z"
    }
   },
   "outputs": [],
   "source": [
    "X = feat_eng(X)"
   ]
  },
  {
   "cell_type": "code",
   "execution_count": 62,
   "metadata": {
    "ExecuteTime": {
     "end_time": "2020-12-29T11:35:31.100335Z",
     "start_time": "2020-12-29T11:35:31.092356Z"
    }
   },
   "outputs": [
    {
     "data": {
      "text/plain": [
       "pandas.core.frame.DataFrame"
      ]
     },
     "execution_count": 62,
     "metadata": {},
     "output_type": "execute_result"
    }
   ],
   "source": [
    "type(X)"
   ]
  },
  {
   "cell_type": "code",
   "execution_count": 63,
   "metadata": {
    "ExecuteTime": {
     "end_time": "2020-12-29T11:35:31.112303Z",
     "start_time": "2020-12-29T11:35:31.104324Z"
    }
   },
   "outputs": [
    {
     "data": {
      "text/plain": [
       "(10841, 35)"
      ]
     },
     "execution_count": 63,
     "metadata": {},
     "output_type": "execute_result"
    }
   ],
   "source": [
    "X.shape"
   ]
  },
  {
   "cell_type": "code",
   "execution_count": 64,
   "metadata": {
    "ExecuteTime": {
     "end_time": "2020-12-29T11:35:31.171145Z",
     "start_time": "2020-12-29T11:35:31.116293Z"
    }
   },
   "outputs": [
    {
     "data": {
      "text/html": [
       "<div>\n",
       "<style scoped>\n",
       "    .dataframe tbody tr th:only-of-type {\n",
       "        vertical-align: middle;\n",
       "    }\n",
       "\n",
       "    .dataframe tbody tr th {\n",
       "        vertical-align: top;\n",
       "    }\n",
       "\n",
       "    .dataframe thead th {\n",
       "        text-align: right;\n",
       "    }\n",
       "</style>\n",
       "<table border=\"1\" class=\"dataframe\">\n",
       "  <thead>\n",
       "    <tr style=\"text-align: right;\">\n",
       "      <th></th>\n",
       "      <th>budget</th>\n",
       "      <th>original_language</th>\n",
       "      <th>popularity</th>\n",
       "      <th>revenue</th>\n",
       "      <th>runtime</th>\n",
       "      <th>vote_average</th>\n",
       "      <th>vote_count</th>\n",
       "      <th>year</th>\n",
       "      <th>day</th>\n",
       "      <th>month</th>\n",
       "      <th>...</th>\n",
       "      <th>production_countries_['Germany', 'United Kingdom', 'United States of America']</th>\n",
       "      <th>production_countries_['Australia', 'United States of America']</th>\n",
       "      <th>production_countries_['France', 'United States of America']</th>\n",
       "      <th>production_countries_['Germany']</th>\n",
       "      <th>production_countries_['Canada', 'France', 'Japan', 'United States of America']</th>\n",
       "      <th>production_countries_['France', 'Italy']</th>\n",
       "      <th>is_Drama</th>\n",
       "      <th>is_Comedy</th>\n",
       "      <th>is_Thriller</th>\n",
       "      <th>is_Summer</th>\n",
       "    </tr>\n",
       "  </thead>\n",
       "  <tbody>\n",
       "    <tr>\n",
       "      <th>828931</th>\n",
       "      <td>35000000.0</td>\n",
       "      <td>1</td>\n",
       "      <td>13.102384</td>\n",
       "      <td>326551094.0</td>\n",
       "      <td>109.0</td>\n",
       "      <td>7.0</td>\n",
       "      <td>3198.0</td>\n",
       "      <td>2006.0</td>\n",
       "      <td>30.0</td>\n",
       "      <td>6.0</td>\n",
       "      <td>...</td>\n",
       "      <td>0</td>\n",
       "      <td>0</td>\n",
       "      <td>0</td>\n",
       "      <td>0</td>\n",
       "      <td>0</td>\n",
       "      <td>0</td>\n",
       "      <td>1</td>\n",
       "      <td>1</td>\n",
       "      <td>0</td>\n",
       "      <td>1</td>\n",
       "    </tr>\n",
       "    <tr>\n",
       "      <th>437454</th>\n",
       "      <td>24000000.0</td>\n",
       "      <td>1</td>\n",
       "      <td>11.453093</td>\n",
       "      <td>83531958.0</td>\n",
       "      <td>120.0</td>\n",
       "      <td>6.9</td>\n",
       "      <td>861.0</td>\n",
       "      <td>1991.0</td>\n",
       "      <td>12.0</td>\n",
       "      <td>7.0</td>\n",
       "      <td>...</td>\n",
       "      <td>0</td>\n",
       "      <td>0</td>\n",
       "      <td>0</td>\n",
       "      <td>0</td>\n",
       "      <td>0</td>\n",
       "      <td>0</td>\n",
       "      <td>0</td>\n",
       "      <td>0</td>\n",
       "      <td>1</td>\n",
       "      <td>1</td>\n",
       "    </tr>\n",
       "    <tr>\n",
       "      <th>179035</th>\n",
       "      <td>38000000.0</td>\n",
       "      <td>1</td>\n",
       "      <td>4.678572</td>\n",
       "      <td>299288605.0</td>\n",
       "      <td>105.0</td>\n",
       "      <td>6.4</td>\n",
       "      <td>606.0</td>\n",
       "      <td>1997.0</td>\n",
       "      <td>19.0</td>\n",
       "      <td>6.0</td>\n",
       "      <td>...</td>\n",
       "      <td>0</td>\n",
       "      <td>0</td>\n",
       "      <td>0</td>\n",
       "      <td>0</td>\n",
       "      <td>0</td>\n",
       "      <td>0</td>\n",
       "      <td>0</td>\n",
       "      <td>1</td>\n",
       "      <td>0</td>\n",
       "      <td>1</td>\n",
       "    </tr>\n",
       "    <tr>\n",
       "      <th>724969</th>\n",
       "      <td>10000000.0</td>\n",
       "      <td>1</td>\n",
       "      <td>8.205190</td>\n",
       "      <td>2494480.0</td>\n",
       "      <td>94.0</td>\n",
       "      <td>6.8</td>\n",
       "      <td>141.0</td>\n",
       "      <td>1983.0</td>\n",
       "      <td>20.0</td>\n",
       "      <td>10.0</td>\n",
       "      <td>...</td>\n",
       "      <td>0</td>\n",
       "      <td>0</td>\n",
       "      <td>0</td>\n",
       "      <td>0</td>\n",
       "      <td>0</td>\n",
       "      <td>0</td>\n",
       "      <td>1</td>\n",
       "      <td>0</td>\n",
       "      <td>0</td>\n",
       "      <td>0</td>\n",
       "    </tr>\n",
       "    <tr>\n",
       "      <th>395566</th>\n",
       "      <td>12800000.0</td>\n",
       "      <td>1</td>\n",
       "      <td>10.684806</td>\n",
       "      <td>40031879.0</td>\n",
       "      <td>140.0</td>\n",
       "      <td>7.7</td>\n",
       "      <td>392.0</td>\n",
       "      <td>2000.0</td>\n",
       "      <td>17.0</td>\n",
       "      <td>5.0</td>\n",
       "      <td>...</td>\n",
       "      <td>0</td>\n",
       "      <td>0</td>\n",
       "      <td>0</td>\n",
       "      <td>0</td>\n",
       "      <td>0</td>\n",
       "      <td>0</td>\n",
       "      <td>1</td>\n",
       "      <td>0</td>\n",
       "      <td>0</td>\n",
       "      <td>1</td>\n",
       "    </tr>\n",
       "  </tbody>\n",
       "</table>\n",
       "<p>5 rows × 35 columns</p>\n",
       "</div>"
      ],
      "text/plain": [
       "            budget  original_language  popularity      revenue  runtime  \\\n",
       "828931  35000000.0                  1   13.102384  326551094.0    109.0   \n",
       "437454  24000000.0                  1   11.453093   83531958.0    120.0   \n",
       "179035  38000000.0                  1    4.678572  299288605.0    105.0   \n",
       "724969  10000000.0                  1    8.205190    2494480.0     94.0   \n",
       "395566  12800000.0                  1   10.684806   40031879.0    140.0   \n",
       "\n",
       "        vote_average  vote_count    year   day  month  ...  \\\n",
       "828931           7.0      3198.0  2006.0  30.0    6.0  ...   \n",
       "437454           6.9       861.0  1991.0  12.0    7.0  ...   \n",
       "179035           6.4       606.0  1997.0  19.0    6.0  ...   \n",
       "724969           6.8       141.0  1983.0  20.0   10.0  ...   \n",
       "395566           7.7       392.0  2000.0  17.0    5.0  ...   \n",
       "\n",
       "        production_countries_['Germany', 'United Kingdom', 'United States of America']  \\\n",
       "828931                                                  0                                \n",
       "437454                                                  0                                \n",
       "179035                                                  0                                \n",
       "724969                                                  0                                \n",
       "395566                                                  0                                \n",
       "\n",
       "        production_countries_['Australia', 'United States of America']  \\\n",
       "828931                                                  0                \n",
       "437454                                                  0                \n",
       "179035                                                  0                \n",
       "724969                                                  0                \n",
       "395566                                                  0                \n",
       "\n",
       "        production_countries_['France', 'United States of America']  \\\n",
       "828931                                                  0             \n",
       "437454                                                  0             \n",
       "179035                                                  0             \n",
       "724969                                                  0             \n",
       "395566                                                  0             \n",
       "\n",
       "        production_countries_['Germany']  \\\n",
       "828931                                 0   \n",
       "437454                                 0   \n",
       "179035                                 0   \n",
       "724969                                 0   \n",
       "395566                                 0   \n",
       "\n",
       "        production_countries_['Canada', 'France', 'Japan', 'United States of America']  \\\n",
       "828931                                                  0                                \n",
       "437454                                                  0                                \n",
       "179035                                                  0                                \n",
       "724969                                                  0                                \n",
       "395566                                                  0                                \n",
       "\n",
       "        production_countries_['France', 'Italy']  is_Drama  is_Comedy  \\\n",
       "828931                                         0         1          1   \n",
       "437454                                         0         0          0   \n",
       "179035                                         0         0          1   \n",
       "724969                                         0         1          0   \n",
       "395566                                         0         1          0   \n",
       "\n",
       "        is_Thriller  is_Summer  \n",
       "828931            0          1  \n",
       "437454            1          1  \n",
       "179035            0          1  \n",
       "724969            0          0  \n",
       "395566            0          1  \n",
       "\n",
       "[5 rows x 35 columns]"
      ]
     },
     "execution_count": 64,
     "metadata": {},
     "output_type": "execute_result"
    }
   ],
   "source": [
    "X.head()"
   ]
  },
  {
   "cell_type": "code",
   "execution_count": 65,
   "metadata": {
    "ExecuteTime": {
     "end_time": "2020-12-29T11:35:31.205055Z",
     "start_time": "2020-12-29T11:35:31.175135Z"
    }
   },
   "outputs": [
    {
     "data": {
      "text/plain": [
       "1    10145\n",
       "0      696\n",
       "Name: original_language, dtype: int64"
      ]
     },
     "execution_count": 65,
     "metadata": {},
     "output_type": "execute_result"
    }
   ],
   "source": [
    "X.original_language.value_counts()"
   ]
  },
  {
   "cell_type": "markdown",
   "metadata": {},
   "source": [
    "**Model Metrics using to measure a model's performance:  \n",
    "-explained variance score  \n",
    "-mean absolute error  \n",
    "-mean squared error  \n",
    "-mean squared log error  \n",
    "-r2 score  \n",
    "-median absolute error  \n",
    "-RMSE**"
   ]
  },
  {
   "cell_type": "markdown",
   "metadata": {},
   "source": [
    "### Random Forest<a id='1.6.1_Random_Forest'></a>"
   ]
  },
  {
   "cell_type": "code",
   "execution_count": 66,
   "metadata": {
    "ExecuteTime": {
     "end_time": "2020-12-29T11:35:33.032172Z",
     "start_time": "2020-12-29T11:35:31.209045Z"
    }
   },
   "outputs": [],
   "source": [
    "from sklearn.model_selection import train_test_split\n",
    "X_train, X_test, y_train, y_test = train_test_split(X, y, test_size = 0.25, random_state = 241)"
   ]
  },
  {
   "cell_type": "code",
   "execution_count": 67,
   "metadata": {
    "ExecuteTime": {
     "end_time": "2020-12-29T11:35:41.246214Z",
     "start_time": "2020-12-29T11:35:33.036161Z"
    }
   },
   "outputs": [
    {
     "name": "stdout",
     "output_type": "stream",
     "text": [
      "R^2 Training Score: 0.257\n",
      "score on test set: 0.130\n",
      "budget = 0.08358203480415359\n",
      "original_language = 0.0052610699251697006\n",
      "popularity = 0.09988018139332282\n",
      "revenue = 0.10546079159773586\n",
      "runtime = 0.10222368064779166\n",
      "vote_average = 0.08028885541362421\n",
      "vote_count = 0.09217898092380843\n",
      "year = 0.07954891885297873\n",
      "day = 0.09627323793918129\n",
      "month = 0.05522502922579471\n",
      "num_genres = 0.031034288577957123\n",
      "production_companies_['Paramount Pictures'] = 0.006945817224651831\n",
      "production_companies_['Columbia Pictures', 'Intermedia Films', 'Warner Bros.', 'C-2 Pictures', 'IMF Internationale Medien und Film GmbH & Co. 3. Produktions KG', 'Mostow/Lieberman Productions'] = 0.038508438563862636\n",
      "production_companies_['Universal Pictures'] = 0.004268803179573508\n",
      "production_companies_['TriStar Pictures'] = 0.018674623607272713\n",
      "production_companies_['Universal Pictures', 'Amblin Entertainment', 'U-Drive Productions'] = 0.00046091328789632285\n",
      "production_companies_['Paramount Pictures', 'Miramax Films', 'Scott Rudin Productions'] = 0.00028352664434231565\n",
      "production_companies_['Paramount Pictures', 'The Coppola Company', 'The Directors Company'] = 0.0005667337456660038\n",
      "production_companies_['Village Roadshow Pictures', 'Robert Simonds Productions', 'Warner Bros.', 'Phoenix Pictures', 'Underground', 'Proposal Productions'] = 0.01027196298211794\n",
      "production_companies_['United Artists'] = 0.000417209006760722\n",
      "production_companies_['Columbia Pictures', 'Amblin Entertainment', 'Columbia Pictures Corporation', 'Parkes+MacDonald Image Nation'] = 0.015577265511103873\n",
      "production_countries_['United States of America'] = 0.012298157845669691\n",
      "production_countries_['United Kingdom', 'United States of America'] = 0.004911665711566397\n",
      "production_countries_['Germany', 'United States of America'] = 0.006272943248060148\n",
      "production_countries_['United Kingdom'] = 0.0017625513219122547\n",
      "production_countries_['Germany', 'United Kingdom', 'United States of America'] = 0.00535929112587855\n",
      "production_countries_['Australia', 'United States of America'] = 0.0006774499013383814\n",
      "production_countries_['France', 'United States of America'] = 0.0019014875399991657\n",
      "production_countries_['Germany'] = 0.0006097270534479056\n",
      "production_countries_['Canada', 'France', 'Japan', 'United States of America'] = 6.754968584610835e-05\n",
      "production_countries_['France', 'Italy'] = 0.00027251295889788675\n",
      "is_Drama = 0.009916431976060047\n",
      "is_Comedy = 0.009421000034654774\n",
      "is_Thriller = 0.010518910601067686\n",
      "is_Summer = 0.00907795794083495\n"
     ]
    }
   ],
   "source": [
    "from sklearn.ensemble import RandomForestRegressor\n",
    "#from sklearn.pipeline import Pipeline\n",
    "from sklearn.model_selection import cross_val_score\n",
    "\n",
    "rf_model = RandomForestRegressor(random_state = 241)\n",
    "rf_model.fit(X_train,y_train)\n",
    "\n",
    "print(\"R^2 Training Score: {:.3f}\".format(rf_model.score(X_train, y_train)))\n",
    "print('score on test set: {:.3f}'.format(rf_model.score(X_test, y_test)))\n",
    "\n",
    "for name, importance in zip(X_train.columns, rf_model.feature_importances_):\n",
    "    print(name, \"=\", importance)"
   ]
  },
  {
   "cell_type": "code",
   "execution_count": 68,
   "metadata": {
    "ExecuteTime": {
     "end_time": "2020-12-29T11:35:42.767150Z",
     "start_time": "2020-12-29T11:35:41.260177Z"
    }
   },
   "outputs": [
    {
     "data": {
      "text/plain": [
       "<AxesSubplot:>"
      ]
     },
     "execution_count": 68,
     "metadata": {},
     "output_type": "execute_result"
    },
    {
     "data": {
      "image/png": "[encoded data removed]",
      "text/plain": [
       "<Figure size 216x720 with 1 Axes>"
      ]
     },
     "metadata": {},
     "output_type": "display_data"
    }
   ],
   "source": [
    "sns.set_style('whitegrid')\n",
    "plt.figure(figsize=(3,10))\n",
    "sns.barplot(x=rf_model.feature_importances_, y=X.columns)"
   ]
  },
  {
   "cell_type": "markdown",
   "metadata": {},
   "source": [
    "According to the Random Forest, **revenue** is the most important feature, then follows **runtime**, which was imputed by its mean in feauture engineering,  and **popularity** for determining the rating of a film."
   ]
  },
  {
   "cell_type": "code",
   "execution_count": 69,
   "metadata": {
    "ExecuteTime": {
     "end_time": "2020-12-29T11:35:42.781113Z",
     "start_time": "2020-12-29T11:35:42.770142Z"
    }
   },
   "outputs": [
    {
     "data": {
      "text/plain": [
       "(array([ 1.,  2.,  3.,  4.,  5.,  6.,  7.,  8.,  9., 10.]),\n",
       " array([ 31, 111,  36, 193,  81, 637, 239, 768, 177, 438], dtype=int64))"
      ]
     },
     "execution_count": 69,
     "metadata": {},
     "output_type": "execute_result"
    }
   ],
   "source": [
    "np.unique(y_test, return_counts=True)"
   ]
  },
  {
   "cell_type": "code",
   "execution_count": 70,
   "metadata": {
    "ExecuteTime": {
     "end_time": "2020-12-29T11:35:42.907774Z",
     "start_time": "2020-12-29T11:35:42.787097Z"
    }
   },
   "outputs": [],
   "source": [
    "y_pred = rf_model.predict(X_test)"
   ]
  },
  {
   "cell_type": "code",
   "execution_count": 71,
   "metadata": {
    "ExecuteTime": {
     "end_time": "2020-12-29T11:35:42.917747Z",
     "start_time": "2020-12-29T11:35:42.910766Z"
    }
   },
   "outputs": [
    {
     "name": "stdout",
     "output_type": "stream",
     "text": [
      "[6.99416542 7.63143473 6.99175383 5.09557937 8.40532471 8.07670414\n",
      " 6.43253952 6.86585846 7.33479213 8.58541528]\n"
     ]
    }
   ],
   "source": [
    "print(y_pred[:10])"
   ]
  },
  {
   "cell_type": "code",
   "execution_count": 72,
   "metadata": {
    "ExecuteTime": {
     "end_time": "2020-12-29T11:35:42.927720Z",
     "start_time": "2020-12-29T11:35:42.921736Z"
    }
   },
   "outputs": [
    {
     "name": "stdout",
     "output_type": "stream",
     "text": [
      "(8130, 35) (2711, 35)\n"
     ]
    }
   ],
   "source": [
    "print(X_train.shape, X_test.shape)"
   ]
  },
  {
   "cell_type": "code",
   "execution_count": 73,
   "metadata": {
    "ExecuteTime": {
     "end_time": "2020-12-29T11:35:42.961629Z",
     "start_time": "2020-12-29T11:35:42.931710Z"
    }
   },
   "outputs": [
    {
     "name": "stdout",
     "output_type": "stream",
     "text": [
      "The explained variance score of this model is:  0.131030762508756\n",
      "The mean absolute error of this model is:  1.5725646492824534\n",
      "The mean squared error of this model is:  4.03308626644064\n",
      "The mean squared log error of this model is:  0.09948670819014094\n",
      "the median absolute error of this model is:  1.2809137806637825\n",
      "The r2 score of this model is:  0.1303108881058701\n"
     ]
    }
   ],
   "source": [
    "from sklearn.metrics import explained_variance_score\n",
    "from sklearn.metrics import mean_absolute_error\n",
    "from sklearn.metrics import mean_squared_error\n",
    "from sklearn.metrics import mean_squared_log_error\n",
    "from sklearn.metrics import r2_score\n",
    "from sklearn.metrics import median_absolute_error\n",
    "\n",
    "evc_rf = explained_variance_score(y_test, y_pred)\n",
    "print(\"The explained variance score of this model is: \", evc_rf)\n",
    "\n",
    "mae_rf = mean_absolute_error(y_test, y_pred)\n",
    "print(\"The mean absolute error of this model is: \", mae_rf)\n",
    "\n",
    "mse_rf = mean_squared_error(y_test, y_pred)\n",
    "print(\"The mean squared error of this model is: \", mse_rf)\n",
    "\n",
    "msle_rf = mean_squared_log_error(y_test, y_pred)\n",
    "print(\"The mean squared log error of this model is: \",msle_rf)\n",
    "\n",
    "med_rf = median_absolute_error(y_test, y_pred)\n",
    "print(\"the median absolute error of this model is: \", med_rf)\n",
    "\n",
    "r2_rf = r2_score(y_test, y_pred, multioutput='variance_weighted')\n",
    "print(\"The r2 score of this model is: \", r2_rf)"
   ]
  },
  {
   "cell_type": "code",
   "execution_count": 74,
   "metadata": {
    "ExecuteTime": {
     "end_time": "2020-12-29T11:35:42.973597Z",
     "start_time": "2020-12-29T11:35:42.964622Z"
    }
   },
   "outputs": [
    {
     "name": "stdout",
     "output_type": "stream",
     "text": [
      "RMSE for RF: 2.008255\n"
     ]
    }
   ],
   "source": [
    "rmse_rf = np.sqrt(mean_squared_error(y_test, y_pred))\n",
    "print('RMSE for RF: %f' % (rmse_rf))"
   ]
  },
  {
   "cell_type": "code",
   "execution_count": 75,
   "metadata": {
    "ExecuteTime": {
     "end_time": "2020-12-29T11:37:06.875834Z",
     "start_time": "2020-12-29T11:35:42.976589Z"
    }
   },
   "outputs": [
    {
     "name": "stdout",
     "output_type": "stream",
     "text": [
      "Final RMSE:  2.016450106512065\n"
     ]
    }
   ],
   "source": [
    "scores = cross_val_score(rf_model, X, y, scoring='neg_mean_squared_error', cv=10)\n",
    "final_avg_rmse = np.mean(np.sqrt(np.abs(scores)))\n",
    "print(\"Final RMSE: \", final_avg_rmse)"
   ]
  },
  {
   "cell_type": "markdown",
   "metadata": {},
   "source": [
    "#### Hyperparamter Tuning RF<a id='1.6.1.1_Hyperparameter_Tuning_RF'></a>"
   ]
  },
  {
   "cell_type": "code",
   "execution_count": 76,
   "metadata": {
    "ExecuteTime": {
     "end_time": "2020-12-29T11:53:15.344814Z",
     "start_time": "2020-12-29T11:37:06.878827Z"
    }
   },
   "outputs": [
    {
     "name": "stdout",
     "output_type": "stream",
     "text": [
      "Fitting 5 folds for each of 81 candidates, totalling 405 fits\n"
     ]
    },
    {
     "name": "stderr",
     "output_type": "stream",
     "text": [
      "C:\\Users\\sathw\\anaconda3\\lib\\site-packages\\sklearn\\model_selection\\_search.py:285: UserWarning: The total space of parameters 81 is smaller than n_iter=100. Running 81 iterations. For exhaustive searches, use GridSearchCV.\n",
      "  warnings.warn(\n"
     ]
    },
    {
     "data": {
      "text/plain": [
       "RandomizedSearchCV(cv=5, estimator=RandomForestRegressor(random_state=241),\n",
       "                   n_iter=100, n_jobs=-1,\n",
       "                   param_distributions={'bootstrap': [True],\n",
       "                                        'max_depth': [5, 10, 20],\n",
       "                                        'min_samples_leaf': [1, 2, 4],\n",
       "                                        'min_samples_split': [2, 5, 10],\n",
       "                                        'n_estimators': [50, 100, 500]},\n",
       "                   random_state=241, verbose=1)"
      ]
     },
     "execution_count": 76,
     "metadata": {},
     "output_type": "execute_result"
    }
   ],
   "source": [
    "from sklearn.model_selection import RandomizedSearchCV\n",
    "\n",
    "random_grid = {'n_estimators': [50,100,500],\n",
    "               'max_depth': [5,10,20],\n",
    "               'min_samples_split': [2,5,10],\n",
    "               'min_samples_leaf': [1,2,4], \n",
    "               'bootstrap': [True]}\n",
    "rf_random = RandomizedSearchCV(rf_model,random_grid,n_iter=100,cv=5,verbose=1,random_state=241,n_jobs=-1)\n",
    "rf_random.fit(X_train,y_train)"
   ]
  },
  {
   "cell_type": "code",
   "execution_count": 77,
   "metadata": {
    "ExecuteTime": {
     "end_time": "2020-12-29T11:53:15.759705Z",
     "start_time": "2020-12-29T11:53:15.348804Z"
    }
   },
   "outputs": [
    {
     "name": "stdout",
     "output_type": "stream",
     "text": [
      "[6.91938738 7.54563714 6.96540613 5.28558732 8.12041688 8.02939845\n",
      " 6.47393936 7.11348486 7.33079719 7.99261733]\n"
     ]
    }
   ],
   "source": [
    "ypred_rf = rf_random.predict(X_test)\n",
    "print(ypred_rf[:10])"
   ]
  },
  {
   "cell_type": "code",
   "execution_count": 78,
   "metadata": {
    "ExecuteTime": {
     "end_time": "2020-12-29T11:53:15.769679Z",
     "start_time": "2020-12-29T11:53:15.762699Z"
    }
   },
   "outputs": [
    {
     "name": "stdout",
     "output_type": "stream",
     "text": [
      "{'n_estimators': 500, 'min_samples_split': 10, 'min_samples_leaf': 4, 'max_depth': 20, 'bootstrap': True}\n"
     ]
    }
   ],
   "source": [
    "print(rf_random.best_params_)"
   ]
  },
  {
   "cell_type": "code",
   "execution_count": 79,
   "metadata": {
    "ExecuteTime": {
     "end_time": "2020-12-29T11:53:15.780651Z",
     "start_time": "2020-12-29T11:53:15.772671Z"
    }
   },
   "outputs": [
    {
     "name": "stdout",
     "output_type": "stream",
     "text": [
      "lowest RMSE found:  0.3267446674876412\n"
     ]
    }
   ],
   "source": [
    "print(\"lowest RMSE found: \", np.sqrt(np.abs(rf_random.best_score_)))"
   ]
  },
  {
   "cell_type": "code",
   "execution_count": 80,
   "metadata": {
    "ExecuteTime": {
     "end_time": "2020-12-29T11:53:15.805583Z",
     "start_time": "2020-12-29T11:53:15.785637Z"
    }
   },
   "outputs": [
    {
     "name": "stdout",
     "output_type": "stream",
     "text": [
      "The explained variance score of this model is:  0.13278465781425197\n",
      "The mean absolute error of this model is:  1.5706598825476263\n",
      "The mean squared error of this model is:  4.02510652738682\n",
      "The mean squared log error of this model is:  0.10019545980786183\n",
      "the median absolute error of this model is:  1.2568398235574385\n",
      "The r2 score of this model is:  0.1320316279344751\n"
     ]
    }
   ],
   "source": [
    "evc_rf_t = explained_variance_score(y_test, ypred_rf)\n",
    "print(\"The explained variance score of this model is: \", evc_rf_t)\n",
    "\n",
    "mae_rf_t = mean_absolute_error(y_test, ypred_rf)\n",
    "print(\"The mean absolute error of this model is: \", mae_rf_t)\n",
    "\n",
    "mse_rf_t = mean_squared_error(y_test, ypred_rf)\n",
    "print(\"The mean squared error of this model is: \", mse_rf_t)\n",
    "\n",
    "msle_rf_t = mean_squared_log_error(y_test, ypred_rf)\n",
    "print(\"The mean squared log error of this model is: \",msle_rf_t)\n",
    "\n",
    "med_rf_t = median_absolute_error(y_test, ypred_rf)\n",
    "print(\"the median absolute error of this model is: \", med_rf_t)\n",
    "\n",
    "r2_rf_t = r2_score(y_test, ypred_rf, multioutput='variance_weighted')\n",
    "print(\"The r2 score of this model is: \", r2_rf_t)"
   ]
  },
  {
   "cell_type": "code",
   "execution_count": 81,
   "metadata": {
    "ExecuteTime": {
     "end_time": "2020-12-29T11:53:15.815557Z",
     "start_time": "2020-12-29T11:53:15.808576Z"
    }
   },
   "outputs": [
    {
     "name": "stdout",
     "output_type": "stream",
     "text": [
      "RMSE for tuned RF: 2.006267\n"
     ]
    }
   ],
   "source": [
    "rmse_rf_tuned = np.sqrt(mean_squared_error(y_test, ypred_rf))\n",
    "print('RMSE for tuned RF: %f' % (rmse_rf_tuned))"
   ]
  },
  {
   "cell_type": "code",
   "execution_count": 82,
   "metadata": {
    "ExecuteTime": {
     "end_time": "2020-12-29T11:53:15.825530Z",
     "start_time": "2020-12-29T11:53:15.819546Z"
    }
   },
   "outputs": [],
   "source": [
    "true_val = pd.DataFrame(data = {'prediction': ypred_rf, 'actual': y_test})"
   ]
  },
  {
   "cell_type": "code",
   "execution_count": 83,
   "metadata": {
    "ExecuteTime": {
     "end_time": "2020-12-29T11:53:15.835503Z",
     "start_time": "2020-12-29T11:53:15.828522Z"
    }
   },
   "outputs": [],
   "source": [
    "error = ypred_rf - y_test"
   ]
  },
  {
   "cell_type": "code",
   "execution_count": 84,
   "metadata": {
    "ExecuteTime": {
     "end_time": "2020-12-29T11:53:15.847471Z",
     "start_time": "2020-12-29T11:53:15.838495Z"
    }
   },
   "outputs": [
    {
     "data": {
      "text/plain": [
       "887931   -1.080613\n",
       "556284   -0.454363\n",
       "207245    0.965406\n",
       "315408   -0.714413\n",
       "94134     0.120417\n",
       "Name: rating, dtype: float64"
      ]
     },
     "execution_count": 84,
     "metadata": {},
     "output_type": "execute_result"
    }
   ],
   "source": [
    "error.head()"
   ]
  },
  {
   "cell_type": "code",
   "execution_count": 85,
   "metadata": {
    "ExecuteTime": {
     "end_time": "2020-12-29T11:53:16.386032Z",
     "start_time": "2020-12-29T11:53:15.850463Z"
    }
   },
   "outputs": [
    {
     "data": {
      "text/plain": [
       "<AxesSubplot:ylabel='Frequency'>"
      ]
     },
     "execution_count": 85,
     "metadata": {},
     "output_type": "execute_result"
    },
    {
     "data": {
      "image/png": "[encoded data removed]",
      "text/plain": [
       "<Figure size 432x288 with 1 Axes>"
      ]
     },
     "metadata": {},
     "output_type": "display_data"
    }
   ],
   "source": [
    "error.plot(kind='hist',bins=40)"
   ]
  },
  {
   "cell_type": "markdown",
   "metadata": {},
   "source": [
    "### Gradient Boosting<a id='1.6.2_Gradient_Boosting'></a>"
   ]
  },
  {
   "cell_type": "code",
   "execution_count": 86,
   "metadata": {
    "ExecuteTime": {
     "end_time": "2020-12-29T11:53:18.336818Z",
     "start_time": "2020-12-29T11:53:16.389024Z"
    }
   },
   "outputs": [
    {
     "name": "stdout",
     "output_type": "stream",
     "text": [
      "budget = 0.0826422878990436\n",
      "original_language = 0.0036601321770395813\n",
      "popularity = 0.10643159713514858\n",
      "revenue = 0.1594542865058967\n",
      "runtime = 0.08345665118720236\n",
      "vote_average = 0.058857813628345856\n",
      "vote_count = 0.07511658941494803\n",
      "year = 0.07661127391177522\n",
      "day = 0.07776418409453455\n",
      "month = 0.04122272147108387\n",
      "num_genres = 0.010741391791019034\n",
      "production_companies_['Paramount Pictures'] = 0.014092897046670697\n",
      "production_companies_['Columbia Pictures', 'Intermedia Films', 'Warner Bros.', 'C-2 Pictures', 'IMF Internationale Medien und Film GmbH & Co. 3. Produktions KG', 'Mostow/Lieberman Productions'] = 0.07684166106185905\n",
      "production_companies_['Universal Pictures'] = 0.014077775248510335\n",
      "production_companies_['TriStar Pictures'] = 0.04002707865715224\n",
      "production_companies_['Universal Pictures', 'Amblin Entertainment', 'U-Drive Productions'] = 0.0031670940411572404\n",
      "production_companies_['Paramount Pictures', 'Miramax Films', 'Scott Rudin Productions'] = 0.0\n",
      "production_companies_['Paramount Pictures', 'The Coppola Company', 'The Directors Company'] = 0.0007332547418332591\n",
      "production_companies_['Village Roadshow Pictures', 'Robert Simonds Productions', 'Warner Bros.', 'Phoenix Pictures', 'Underground', 'Proposal Productions'] = 0.016697414897965515\n",
      "production_companies_['United Artists'] = 0.0\n",
      "production_companies_['Columbia Pictures', 'Amblin Entertainment', 'Columbia Pictures Corporation', 'Parkes+MacDonald Image Nation'] = 0.02409419633191734\n",
      "production_countries_['United States of America'] = 0.006719107946820947\n",
      "production_countries_['United Kingdom', 'United States of America'] = 0.000155450403248665\n",
      "production_countries_['Germany', 'United States of America'] = 0.008630383873777289\n",
      "production_countries_['United Kingdom'] = 0.0\n",
      "production_countries_['Germany', 'United Kingdom', 'United States of America'] = 0.009363582555202067\n",
      "production_countries_['Australia', 'United States of America'] = 0.0\n",
      "production_countries_['France', 'United States of America'] = 0.0009458110168787219\n",
      "production_countries_['Germany'] = 0.0\n",
      "production_countries_['Canada', 'France', 'Japan', 'United States of America'] = 0.0\n",
      "production_countries_['France', 'Italy'] = 0.0007273990954760541\n",
      "is_Drama = 0.0020352894111649467\n",
      "is_Comedy = 0.002098593519623969\n",
      "is_Thriller = 0.0\n",
      "is_Summer = 0.0036340809347041704\n"
     ]
    }
   ],
   "source": [
    "from sklearn.ensemble import GradientBoostingRegressor\n",
    "gbr = GradientBoostingRegressor(random_state=241)\n",
    "gbr.fit(X_train, y_train)\n",
    "gbr.score(X_test, y_test)\n",
    "\n",
    "\n",
    "for name, importance in zip(X_train.columns, gbr.feature_importances_):\n",
    "    print(name, \"=\", importance)"
   ]
  },
  {
   "cell_type": "code",
   "execution_count": 87,
   "metadata": {
    "ExecuteTime": {
     "end_time": "2020-12-29T11:53:19.570520Z",
     "start_time": "2020-12-29T11:53:18.343800Z"
    }
   },
   "outputs": [
    {
     "data": {
      "text/plain": [
       "<AxesSubplot:>"
      ]
     },
     "execution_count": 87,
     "metadata": {},
     "output_type": "execute_result"
    },
    {
     "data": {
      "image/png": "[encoded data removed]",
      "text/plain": [
       "<Figure size 216x720 with 1 Axes>"
      ]
     },
     "metadata": {},
     "output_type": "display_data"
    }
   ],
   "source": [
    "sns.set_style('whitegrid')\n",
    "plt.figure(figsize=(3,10))\n",
    "sns.barplot(x=gbr.feature_importances_, y=X.columns)"
   ]
  },
  {
   "cell_type": "markdown",
   "metadata": {},
   "source": [
    "According to Gradient Boosting Regressor, **revenue** is the most important feature, then follows **vote_count** and **popularity**."
   ]
  },
  {
   "cell_type": "code",
   "execution_count": 88,
   "metadata": {
    "ExecuteTime": {
     "end_time": "2020-12-29T11:53:19.589468Z",
     "start_time": "2020-12-29T11:53:19.573512Z"
    }
   },
   "outputs": [],
   "source": [
    "ypred_gbr = gbr.predict(X_test)"
   ]
  },
  {
   "cell_type": "code",
   "execution_count": 89,
   "metadata": {
    "ExecuteTime": {
     "end_time": "2020-12-29T11:53:19.612408Z",
     "start_time": "2020-12-29T11:53:19.592462Z"
    }
   },
   "outputs": [
    {
     "name": "stdout",
     "output_type": "stream",
     "text": [
      "The explained variance score of this model is:  0.08917782891872583\n",
      "The mean absolute error of this model is:  1.636326121908429\n",
      "The mean squared error of this model is:  4.228982929286738\n",
      "The mean squared log error of this model is:  0.10546968815780919\n",
      "the median absolute error of this model is:  1.2417320175161084\n",
      "The r2 score of this model is:  0.08806800425007699\n"
     ]
    }
   ],
   "source": [
    "evc_gbr= explained_variance_score(y_test, ypred_gbr)\n",
    "print(\"The explained variance score of this model is: \", evc_gbr)\n",
    "\n",
    "mae_gbr = mean_absolute_error(y_test, ypred_gbr)\n",
    "print(\"The mean absolute error of this model is: \", mae_gbr)\n",
    "\n",
    "mse_gbr = mean_squared_error(y_test, ypred_gbr)\n",
    "print(\"The mean squared error of this model is: \", mse_gbr)\n",
    "\n",
    "msle_gbr = mean_squared_log_error(y_test, ypred_gbr)\n",
    "print(\"The mean squared log error of this model is: \",msle_gbr)\n",
    "\n",
    "med_gbr = median_absolute_error(y_test, ypred_gbr)\n",
    "print(\"the median absolute error of this model is: \", med_gbr)\n",
    "\n",
    "r2_gbr = r2_score(y_test, ypred_gbr, multioutput='variance_weighted')\n",
    "print(\"The r2 score of this model is: \", r2_gbr)"
   ]
  },
  {
   "cell_type": "code",
   "execution_count": 90,
   "metadata": {
    "ExecuteTime": {
     "end_time": "2020-12-29T11:53:29.683889Z",
     "start_time": "2020-12-29T11:53:19.615400Z"
    }
   },
   "outputs": [
    {
     "name": "stdout",
     "output_type": "stream",
     "text": [
      "Final RMSE:  2.0439629759955613\n"
     ]
    }
   ],
   "source": [
    "scores_gbr = cross_val_score(gbr, X, y, scoring='neg_mean_squared_error', cv=5)\n",
    "final_avg_rmse_gbr = np.mean(np.sqrt(np.abs(scores_gbr)))\n",
    "print(\"Final RMSE: \", final_avg_rmse_gbr)"
   ]
  },
  {
   "cell_type": "code",
   "execution_count": 91,
   "metadata": {
    "ExecuteTime": {
     "end_time": "2020-12-29T11:53:29.697853Z",
     "start_time": "2020-12-29T11:53:29.686883Z"
    }
   },
   "outputs": [
    {
     "name": "stdout",
     "output_type": "stream",
     "text": [
      "RMSE for GB: 2.056449\n"
     ]
    }
   ],
   "source": [
    "rmse_gb = np.sqrt(mean_squared_error(y_test, ypred_gbr))\n",
    "print('RMSE for GB: %f' % (rmse_gb))"
   ]
  },
  {
   "cell_type": "markdown",
   "metadata": {},
   "source": [
    "#### Hyperparamter Tuning GB<a id='1.6.2.1_Hyperparameter_Tuning_GB'></a>"
   ]
  },
  {
   "cell_type": "code",
   "execution_count": 92,
   "metadata": {
    "ExecuteTime": {
     "end_time": "2020-12-29T12:12:08.164684Z",
     "start_time": "2020-12-29T11:53:29.701841Z"
    }
   },
   "outputs": [
    {
     "name": "stdout",
     "output_type": "stream",
     "text": [
      "Fitting 5 folds for each of 100 candidates, totalling 500 fits\n"
     ]
    },
    {
     "data": {
      "text/plain": [
       "RandomizedSearchCV(cv=5, estimator=GradientBoostingRegressor(), n_iter=100,\n",
       "                   n_jobs=-1,\n",
       "                   param_distributions={'learning_rate': [0.001, 0.01, 0.1,\n",
       "                                                          0.2],\n",
       "                                        'max_depth': [5, 10, 20],\n",
       "                                        'min_samples_leaf': [1, 2, 4],\n",
       "                                        'min_samples_split': [2, 5, 10],\n",
       "                                        'n_estimators': [50, 100, 300]},\n",
       "                   random_state=241, verbose=1)"
      ]
     },
     "execution_count": 92,
     "metadata": {},
     "output_type": "execute_result"
    }
   ],
   "source": [
    "from sklearn.ensemble import GradientBoostingRegressor\n",
    "#from sklearn.model_selection import GridSearchCV\n",
    "\n",
    "random_grid = {'learning_rate': [0.001,0.01,0.10,0.20],\n",
    "               'n_estimators': [50,100,300],\n",
    "               'max_depth': [5,10,20],\n",
    "               'min_samples_split': [2,5,10],\n",
    "               'min_samples_leaf': [1,2,4] }\n",
    "gcv_random = RandomizedSearchCV(GradientBoostingRegressor(),random_grid,n_iter=100,cv=5,verbose=1,random_state=241,n_jobs=-1)\n",
    "gcv_random.fit(X_train,y_train)\n",
    "\n",
    "#gcv = GridSearchCV(GradientBoostingRegressor(),param_grid= params, scoring = 'neg_mean_squared_error', cv=5, verbose=1,n_jobs=-1)\n",
    "#gcv.fit(X_train, y_train)"
   ]
  },
  {
   "cell_type": "code",
   "execution_count": 93,
   "metadata": {
    "ExecuteTime": {
     "end_time": "2020-12-29T12:12:08.173662Z",
     "start_time": "2020-12-29T12:12:08.167677Z"
    }
   },
   "outputs": [
    {
     "name": "stdout",
     "output_type": "stream",
     "text": [
      "Best parameters:  {'n_estimators': 300, 'min_samples_split': 5, 'min_samples_leaf': 4, 'max_depth': 10, 'learning_rate': 0.01}\n",
      "lowest RMSE found:  0.3335125388630439\n"
     ]
    }
   ],
   "source": [
    "print(\"Best parameters: \", gcv_random.best_params_)\n",
    "print(\"lowest RMSE found: \", np.sqrt(np.abs(gcv_random.best_score_)))"
   ]
  },
  {
   "cell_type": "code",
   "execution_count": 94,
   "metadata": {
    "ExecuteTime": {
     "end_time": "2020-12-29T12:12:08.256440Z",
     "start_time": "2020-12-29T12:12:08.176656Z"
    }
   },
   "outputs": [],
   "source": [
    "ygcv_pred = gcv_random.predict(X_test)"
   ]
  },
  {
   "cell_type": "code",
   "execution_count": 95,
   "metadata": {
    "ExecuteTime": {
     "end_time": "2020-12-29T12:12:08.280377Z",
     "start_time": "2020-12-29T12:12:08.259432Z"
    }
   },
   "outputs": [
    {
     "name": "stdout",
     "output_type": "stream",
     "text": [
      "The explained variance score of this model is:  0.12982410647970377\n",
      "The mean absolute error of this model is:  1.5804809720205422\n",
      "The mean squared error of this model is:  4.039149221065982\n",
      "The mean squared log error of this model is:  0.10112864291790197\n",
      "the median absolute error of this model is:  1.2558376109278804\n",
      "The r2 score of this model is:  0.12900348100490056\n"
     ]
    }
   ],
   "source": [
    "evc_gcv= explained_variance_score(y_test, ygcv_pred)\n",
    "print(\"The explained variance score of this model is: \", evc_gcv)\n",
    "\n",
    "mae_gcv = mean_absolute_error(y_test, ygcv_pred)\n",
    "print(\"The mean absolute error of this model is: \", mae_gcv)\n",
    "\n",
    "mse_gcv = mean_squared_error(y_test, ygcv_pred)\n",
    "print(\"The mean squared error of this model is: \", mse_gcv)\n",
    "\n",
    "msle_gcv = mean_squared_log_error(y_test, ygcv_pred)\n",
    "print(\"The mean squared log error of this model is: \",msle_gcv)\n",
    "\n",
    "med_gcv = median_absolute_error(y_test, ygcv_pred)\n",
    "print(\"the median absolute error of this model is: \", med_gcv)\n",
    "\n",
    "r2_gcv= r2_score(y_test, ygcv_pred, multioutput='variance_weighted')\n",
    "print(\"The r2 score of this model is: \", r2_gcv)"
   ]
  },
  {
   "cell_type": "code",
   "execution_count": 96,
   "metadata": {
    "ExecuteTime": {
     "end_time": "2020-12-29T12:12:08.292344Z",
     "start_time": "2020-12-29T12:12:08.284366Z"
    }
   },
   "outputs": [
    {
     "name": "stdout",
     "output_type": "stream",
     "text": [
      "RMSE for tuned GB: 2.009763\n"
     ]
    }
   ],
   "source": [
    "rmse_gb_tuned = np.sqrt(mean_squared_error(y_test, ygcv_pred))\n",
    "print('RMSE for tuned GB: %f' % (rmse_gb_tuned))"
   ]
  },
  {
   "cell_type": "code",
   "execution_count": 97,
   "metadata": {
    "ExecuteTime": {
     "end_time": "2020-12-29T12:12:08.303315Z",
     "start_time": "2020-12-29T12:12:08.295336Z"
    },
    "scrolled": true
   },
   "outputs": [
    {
     "data": {
      "text/plain": [
       "dict_keys(['cv', 'error_score', 'estimator__alpha', 'estimator__ccp_alpha', 'estimator__criterion', 'estimator__init', 'estimator__learning_rate', 'estimator__loss', 'estimator__max_depth', 'estimator__max_features', 'estimator__max_leaf_nodes', 'estimator__min_impurity_decrease', 'estimator__min_impurity_split', 'estimator__min_samples_leaf', 'estimator__min_samples_split', 'estimator__min_weight_fraction_leaf', 'estimator__n_estimators', 'estimator__n_iter_no_change', 'estimator__random_state', 'estimator__subsample', 'estimator__tol', 'estimator__validation_fraction', 'estimator__verbose', 'estimator__warm_start', 'estimator', 'n_iter', 'n_jobs', 'param_distributions', 'pre_dispatch', 'random_state', 'refit', 'return_train_score', 'scoring', 'verbose'])"
      ]
     },
     "execution_count": 97,
     "metadata": {},
     "output_type": "execute_result"
    }
   ],
   "source": [
    "gcv_random.get_params().keys()"
   ]
  },
  {
   "cell_type": "markdown",
   "metadata": {},
   "source": [
    "### XGBoost<a id='1.6.3_XGBoost'></a>"
   ]
  },
  {
   "cell_type": "code",
   "execution_count": 98,
   "metadata": {
    "ExecuteTime": {
     "end_time": "2020-12-29T12:12:11.817519Z",
     "start_time": "2020-12-29T12:12:08.306307Z"
    }
   },
   "outputs": [],
   "source": [
    "import re\n",
    "import xgboost as xgb\n",
    "regex = re.compile(r\"\\[|\\]|<\", re.IGNORECASE)\n",
    "\n",
    "X_train.columns = [regex.sub(\"_\", col) if any(x in str(col) for x in set(('[', ']', '<'))) else col for col in X_train.columns.values]\n",
    "X_test.columns= [regex.sub(\"_\", col) if any(x in str(col) for x in set(('[', ']', '<'))) else col for col in X_test.columns.values]\n",
    "\n",
    "xg_reg = xgb.XGBRegressor(objective='reg:squarederror', seed=241)\n",
    "xg_reg.fit(X_train,y_train)\n",
    "\n",
    "preds = xg_reg.predict(X_test)"
   ]
  },
  {
   "cell_type": "code",
   "execution_count": 99,
   "metadata": {
    "ExecuteTime": {
     "end_time": "2020-12-29T12:12:12.266320Z",
     "start_time": "2020-12-29T12:12:11.820513Z"
    }
   },
   "outputs": [
    {
     "name": "stdout",
     "output_type": "stream",
     "text": [
      "Untuned rmse: 2.040757\n"
     ]
    }
   ],
   "source": [
    "housing_dmatrix = xgb.DMatrix(data=X_train,label=y_train)\n",
    "untuned_params={\"objective\":\"reg:squarederror\"}\n",
    "rmse = xgb.cv(dtrain=housing_dmatrix,params=untuned_params,nfold=4,metrics=\"rmse\",as_pandas=True,seed=123)\n",
    "print(\"Untuned rmse: %f\" %((rmse[\"test-rmse-mean\"]).tail(1)))"
   ]
  },
  {
   "cell_type": "code",
   "execution_count": 100,
   "metadata": {
    "ExecuteTime": {
     "end_time": "2020-12-29T12:12:12.435867Z",
     "start_time": "2020-12-29T12:12:12.269313Z"
    }
   },
   "outputs": [
    {
     "name": "stdout",
     "output_type": "stream",
     "text": [
      "budget = 0.00475073\n",
      "original_language = 0.014860892\n",
      "popularity = 0.007364698\n",
      "revenue = 0.0105333\n",
      "runtime = 0.010799651\n",
      "vote_average = 0.009081942\n",
      "vote_count = 0.010897188\n",
      "year = 0.010461397\n",
      "day = 0.010854246\n",
      "month = 0.011394563\n",
      "num_genres = 0.010295349\n",
      "production_companies__'Paramount Pictures'_ = 0.03034542\n",
      "production_companies__'Columbia Pictures', 'Intermedia Films', 'Warner Bros.', 'C-2 Pictures', 'IMF Internationale Medien und Film GmbH & Co. 3. Produktions KG', 'Mostow/Lieberman Productions'_ = 0.3797735\n",
      "production_companies__'Universal Pictures'_ = 0.017077284\n",
      "production_companies__'TriStar Pictures'_ = 0.05444356\n",
      "production_companies__'Universal Pictures', 'Amblin Entertainment', 'U-Drive Productions'_ = 0.0132352635\n",
      "production_companies__'Paramount Pictures', 'Miramax Films', 'Scott Rudin Productions'_ = 0.0013269408\n",
      "production_companies__'Paramount Pictures', 'The Coppola Company', 'The Directors Company'_ = 0.0\n",
      "production_companies__'Village Roadshow Pictures', 'Robert Simonds Productions', 'Warner Bros.', 'Phoenix Pictures', 'Underground', 'Proposal Productions'_ = 0.14386916\n",
      "production_companies__'United Artists'_ = 0.000747077\n",
      "production_companies__'Columbia Pictures', 'Amblin Entertainment', 'Columbia Pictures Corporation', 'Parkes+MacDonald Image Nation'_ = 0.1621169\n",
      "production_countries__'United States of America'_ = 0.020400507\n",
      "production_countries__'United Kingdom', 'United States of America'_ = 0.0020051114\n",
      "production_countries__'Germany', 'United States of America'_ = 0.00622813\n",
      "production_countries__'United Kingdom'_ = 0.0009880736\n",
      "production_countries__'Germany', 'United Kingdom', 'United States of America'_ = 0.010087251\n",
      "production_countries__'Australia', 'United States of America'_ = 0.0\n",
      "production_countries__'France', 'United States of America'_ = 0.0034388707\n",
      "production_countries__'Germany'_ = 0.0017513116\n",
      "production_countries__'Canada', 'France', 'Japan', 'United States of America'_ = 0.0\n",
      "production_countries__'France', 'Italy'_ = 0.002145424\n",
      "is_Drama = 0.00717601\n",
      "is_Comedy = 0.007908536\n",
      "is_Thriller = 0.011744459\n",
      "is_Summer = 0.011897236\n"
     ]
    }
   ],
   "source": [
    "for name, importance in zip(X_train.columns, xg_reg.feature_importances_):\n",
    "    print(name, \"=\", importance)"
   ]
  },
  {
   "cell_type": "code",
   "execution_count": 101,
   "metadata": {
    "ExecuteTime": {
     "end_time": "2020-12-29T12:12:13.816177Z",
     "start_time": "2020-12-29T12:12:12.438859Z"
    }
   },
   "outputs": [
    {
     "data": {
      "text/plain": [
       "<AxesSubplot:>"
      ]
     },
     "execution_count": 101,
     "metadata": {},
     "output_type": "execute_result"
    },
    {
     "data": {
      "image/png": "[encoded data removed]",
      "text/plain": [
       "<Figure size 216x720 with 1 Axes>"
      ]
     },
     "metadata": {},
     "output_type": "display_data"
    }
   ],
   "source": [
    "sns.set_style('whitegrid')\n",
    "plt.figure(figsize=(3,10))\n",
    "sns.barplot(x=xg_reg.feature_importances_, y=X.columns)"
   ]
  },
  {
   "cell_type": "markdown",
   "metadata": {},
   "source": [
    "According to XGBoost, **production_companies['Columbia Pictures','Intermedia Films', 'Warner Bros.', 'C-2 Pictures', 'IMF Internationale Medien und Film GmbH & Co. 3 Produktions KG', 'Mostow/Lieberman Productions']**, which came from pd.get_dummies, is the most important feature, then follows **production_companies['TriStar Productions']** and **production_companies['Columbia Pictures', 'Amblin Entertainment', 'Columbia Pictures Corporation, 'Parkes_MacDonald Image Nation']**"
   ]
  },
  {
   "cell_type": "code",
   "execution_count": 102,
   "metadata": {
    "ExecuteTime": {
     "end_time": "2020-12-29T12:12:13.840113Z",
     "start_time": "2020-12-29T12:12:13.819169Z"
    }
   },
   "outputs": [
    {
     "name": "stdout",
     "output_type": "stream",
     "text": [
      "The explained variance score of this model is:  0.12391716386699347\n",
      "The mean absolute error of this model is:  1.5779201475204643\n",
      "The mean squared error of this model is:  4.066275601797772\n",
      "The mean squared log error of this model is:  0.10008370776533061\n",
      "the median absolute error of this model is:  1.2761650085449219\n",
      "The r2 score of this model is:  0.12315398600058126\n"
     ]
    }
   ],
   "source": [
    "evc_xgb = explained_variance_score(y_test, preds)\n",
    "print(\"The explained variance score of this model is: \", evc_xgb)\n",
    "\n",
    "mae_xgb = mean_absolute_error(y_test, preds)\n",
    "print(\"The mean absolute error of this model is: \", mae_xgb)\n",
    "\n",
    "mse_xgb = mean_squared_error(y_test, preds)\n",
    "print(\"The mean squared error of this model is: \", mse_xgb)\n",
    "\n",
    "msle_xgb = mean_squared_log_error(y_test, preds)\n",
    "print(\"The mean squared log error of this model is: \",msle_xgb)\n",
    "\n",
    "med_xgb = median_absolute_error(y_test, preds)\n",
    "print(\"the median absolute error of this model is: \", med_xgb)\n",
    "\n",
    "r2_xgb = r2_score(y_test, preds, multioutput='variance_weighted')\n",
    "print(\"The r2 score of this model is: \", r2_xgb)"
   ]
  },
  {
   "cell_type": "code",
   "execution_count": 103,
   "metadata": {
    "ExecuteTime": {
     "end_time": "2020-12-29T12:12:13.850087Z",
     "start_time": "2020-12-29T12:12:13.843106Z"
    }
   },
   "outputs": [
    {
     "name": "stdout",
     "output_type": "stream",
     "text": [
      "RMSE for XGB: 2.016501\n"
     ]
    }
   ],
   "source": [
    "rmse_xgb = np.sqrt(mean_squared_error(y_test, preds))\n",
    "print('RMSE for XGB: %f' % (rmse_xgb))"
   ]
  },
  {
   "cell_type": "markdown",
   "metadata": {},
   "source": [
    "#### Hyperparameter Tuning XGB<a id='1.6.3.1_Hyperparameter_Tuning_XGB'></a>"
   ]
  },
  {
   "cell_type": "code",
   "execution_count": 104,
   "metadata": {
    "ExecuteTime": {
     "end_time": "2020-12-29T12:29:01.901478Z",
     "start_time": "2020-12-29T12:12:13.853079Z"
    }
   },
   "outputs": [
    {
     "name": "stdout",
     "output_type": "stream",
     "text": [
      "Fitting 5 folds for each of 100 candidates, totalling 500 fits\n",
      "Best parameters found:  {'subsample': 0.1, 'n_estimators': 500, 'min_child_weight': 5, 'max_depth': 20, 'learning_rate': 0.01}\n",
      "Lowest RMSE found:  2.0148422511264172\n"
     ]
    }
   ],
   "source": [
    "movies_dmatrix = xgb.DMatrix(data = X_train, label = y_train)\n",
    "xgbparam_grid = { 'learning_rate': [0.01, 0.05, 0.1, 0.9],\n",
    "                  'n_estimators':[50,100,500],\n",
    "                  'subsample': [0.01, 0.10, 0.50], \n",
    "                  'max_depth': [5,10,20],\n",
    "                  'min_child_weight': range(1,6,2)\n",
    "                }\n",
    "gbm = xgb.XGBRegressor()\n",
    "random_mse = RandomizedSearchCV(estimator=gbm, param_distributions= xgbparam_grid,n_iter=100, \n",
    "                                scoring='neg_mean_squared_error', cv=5, verbose=1, n_jobs=-1)\n",
    "random_mse.fit(X_train, y_train)\n",
    "print('Best parameters found: ',random_mse.best_params_)\n",
    "print(\"Lowest RMSE found: \", np.sqrt(np.abs(random_mse.best_score_)))"
   ]
  },
  {
   "cell_type": "code",
   "execution_count": 105,
   "metadata": {
    "ExecuteTime": {
     "end_time": "2020-12-29T12:29:02.011185Z",
     "start_time": "2020-12-29T12:29:01.905467Z"
    }
   },
   "outputs": [],
   "source": [
    "xgb_preds = random_mse.predict(X_test)"
   ]
  },
  {
   "cell_type": "code",
   "execution_count": 106,
   "metadata": {
    "ExecuteTime": {
     "end_time": "2020-12-29T12:29:02.038112Z",
     "start_time": "2020-12-29T12:29:02.015175Z"
    }
   },
   "outputs": [
    {
     "name": "stdout",
     "output_type": "stream",
     "text": [
      "The explained variance score of this model is:  0.12951892198553427\n",
      "The mean absolute error of this model is:  1.5822842841392863\n",
      "The mean squared error of this model is:  4.052281043901813\n",
      "The mean squared log error of this model is:  0.10032194373126017\n",
      "the median absolute error of this model is:  1.2944073677062988\n",
      "The r2 score of this model is:  0.1261717529968298\n"
     ]
    }
   ],
   "source": [
    "evc_xgb_t = explained_variance_score(y_test, xgb_preds)\n",
    "print(\"The explained variance score of this model is: \", evc_xgb_t)\n",
    "\n",
    "mae_xgb_t = mean_absolute_error(y_test, xgb_preds)\n",
    "print(\"The mean absolute error of this model is: \", mae_xgb_t)\n",
    "\n",
    "mse_xgb_t = mean_squared_error(y_test, xgb_preds)\n",
    "print(\"The mean squared error of this model is: \", mse_xgb_t)\n",
    "\n",
    "msle_xgb_t = mean_squared_log_error(y_test, xgb_preds)\n",
    "print(\"The mean squared log error of this model is: \",msle_xgb_t)\n",
    "\n",
    "med_xgb_t = median_absolute_error(y_test, xgb_preds)\n",
    "print(\"the median absolute error of this model is: \", med_xgb_t)\n",
    "\n",
    "r2_xgb_t = r2_score(y_test, xgb_preds, multioutput='variance_weighted')\n",
    "print(\"The r2 score of this model is: \", r2_xgb_t)"
   ]
  },
  {
   "cell_type": "code",
   "execution_count": 107,
   "metadata": {
    "ExecuteTime": {
     "end_time": "2020-12-29T12:29:02.048086Z",
     "start_time": "2020-12-29T12:29:02.041105Z"
    }
   },
   "outputs": [
    {
     "name": "stdout",
     "output_type": "stream",
     "text": [
      "RMSE for tuned XGB: 2.013028\n"
     ]
    }
   ],
   "source": [
    "rmse_xgb_tuned = np.sqrt(mean_squared_error(y_test, xgb_preds))\n",
    "print('RMSE for tuned XGB: %f' % (rmse_xgb_tuned))"
   ]
  },
  {
   "cell_type": "code",
   "execution_count": 108,
   "metadata": {
    "ExecuteTime": {
     "end_time": "2020-12-29T13:42:04.300094Z",
     "start_time": "2020-12-29T12:29:02.052075Z"
    }
   },
   "outputs": [
    {
     "name": "stdout",
     "output_type": "stream",
     "text": [
      "Fitting 5 folds for each of 81 candidates, totalling 405 fits\n"
     ]
    },
    {
     "name": "stderr",
     "output_type": "stream",
     "text": [
      "C:\\Users\\sathw\\anaconda3\\lib\\site-packages\\sklearn\\model_selection\\_search.py:285: UserWarning: The total space of parameters 81 is smaller than n_iter=100. Running 81 iterations. For exhaustive searches, use GridSearchCV.\n",
      "  warnings.warn(\n",
      "C:\\Users\\sathw\\anaconda3\\lib\\site-packages\\sklearn\\model_selection\\_search.py:285: UserWarning: The total space of parameters 81 is smaller than n_iter=100. Running 81 iterations. For exhaustive searches, use GridSearchCV.\n",
      "  warnings.warn(\n"
     ]
    },
    {
     "name": "stdout",
     "output_type": "stream",
     "text": [
      "Fitting 5 folds for each of 81 candidates, totalling 405 fits\n"
     ]
    },
    {
     "name": "stderr",
     "output_type": "stream",
     "text": [
      "C:\\Users\\sathw\\anaconda3\\lib\\site-packages\\sklearn\\model_selection\\_search.py:285: UserWarning: The total space of parameters 81 is smaller than n_iter=100. Running 81 iterations. For exhaustive searches, use GridSearchCV.\n",
      "  warnings.warn(\n"
     ]
    },
    {
     "name": "stdout",
     "output_type": "stream",
     "text": [
      "Fitting 5 folds for each of 81 candidates, totalling 405 fits\n"
     ]
    },
    {
     "name": "stderr",
     "output_type": "stream",
     "text": [
      "C:\\Users\\sathw\\anaconda3\\lib\\site-packages\\sklearn\\model_selection\\_search.py:285: UserWarning: The total space of parameters 81 is smaller than n_iter=100. Running 81 iterations. For exhaustive searches, use GridSearchCV.\n",
      "  warnings.warn(\n"
     ]
    },
    {
     "name": "stdout",
     "output_type": "stream",
     "text": [
      "Fitting 5 folds for each of 81 candidates, totalling 405 fits\n"
     ]
    },
    {
     "name": "stderr",
     "output_type": "stream",
     "text": [
      "C:\\Users\\sathw\\anaconda3\\lib\\site-packages\\sklearn\\model_selection\\_search.py:285: UserWarning: The total space of parameters 81 is smaller than n_iter=100. Running 81 iterations. For exhaustive searches, use GridSearchCV.\n",
      "  warnings.warn(\n"
     ]
    },
    {
     "name": "stdout",
     "output_type": "stream",
     "text": [
      "Fitting 5 folds for each of 81 candidates, totalling 405 fits\n",
      "Final RMSE:  2.004274807564918\n"
     ]
    }
   ],
   "source": [
    "scores_rf = cross_val_score(rf_random, X, y, scoring='neg_mean_squared_error', cv=5)\n",
    "final_avg_rmse_rf = np.mean(np.sqrt(np.abs(scores_rf)))\n",
    "print(\"Final RMSE: \", final_avg_rmse_rf)"
   ]
  },
  {
   "cell_type": "code",
   "execution_count": 112,
   "metadata": {
    "ExecuteTime": {
     "end_time": "2020-12-29T18:43:43.464972Z",
     "start_time": "2020-12-29T17:02:04.015670Z"
    }
   },
   "outputs": [
    {
     "name": "stdout",
     "output_type": "stream",
     "text": [
      "Fitting 5 folds for each of 100 candidates, totalling 500 fits\n",
      "Fitting 5 folds for each of 100 candidates, totalling 500 fits\n",
      "Fitting 5 folds for each of 100 candidates, totalling 500 fits\n",
      "Fitting 5 folds for each of 100 candidates, totalling 500 fits\n",
      "Fitting 5 folds for each of 100 candidates, totalling 500 fits\n",
      "Final RMSE:  2.004139798104693\n"
     ]
    }
   ],
   "source": [
    "scores_gcv = cross_val_score(gcv_random, X, y, scoring='neg_mean_squared_error', cv=5)\n",
    "final_avg_rmse_gcv = np.mean(np.sqrt(np.abs(scores_gcv)))\n",
    "print(\"Final RMSE: \", final_avg_rmse_gcv)"
   ]
  },
  {
   "cell_type": "code",
   "execution_count": 113,
   "metadata": {
    "ExecuteTime": {
     "end_time": "2020-12-29T18:59:48.638053Z",
     "start_time": "2020-12-29T18:43:43.475943Z"
    }
   },
   "outputs": [
    {
     "name": "stdout",
     "output_type": "stream",
     "text": [
      "Fitting 5 folds for each of 100 candidates, totalling 500 fits\n",
      "Fitting 5 folds for each of 100 candidates, totalling 500 fits\n",
      "Fitting 5 folds for each of 100 candidates, totalling 500 fits\n",
      "Fitting 5 folds for each of 100 candidates, totalling 500 fits\n",
      "Fitting 5 folds for each of 100 candidates, totalling 500 fits\n",
      "Final RMSE:  2.064004128091853\n"
     ]
    }
   ],
   "source": [
    "#X = [regex.sub(\"_\", col) if any(x in str(col) for x in set(('[', ']', '<'))) else col for col in X.columns.values]\n",
    "scores_xgb = cross_val_score(random_mse, X_test, y_test, scoring='neg_mean_squared_error', cv=5)\n",
    "final_avg_rmse_xgb = np.mean(np.sqrt(np.abs(scores_xgb)))\n",
    "print(\"Final RMSE: \", final_avg_rmse_xgb)"
   ]
  },
  {
   "cell_type": "code",
   "execution_count": 114,
   "metadata": {
    "ExecuteTime": {
     "end_time": "2020-12-29T18:59:52.187565Z",
     "start_time": "2020-12-29T18:59:48.643041Z"
    }
   },
   "outputs": [],
   "source": [
    "!pip freeze > requirements.txt"
   ]
  }
 ],
 "metadata": {
  "kernelspec": {
   "display_name": "Python 3",
   "language": "python",
   "name": "python3"
  },
  "language_info": {
   "codemirror_mode": {
    "name": "ipython",
    "version": 3
   },
   "file_extension": ".py",
   "mimetype": "text/x-python",
   "name": "python",
   "nbconvert_exporter": "python",
   "pygments_lexer": "ipython3",
   "version": "3.8.3"
  },
  "toc": {
   "base_numbering": 1,
   "nav_menu": {},
   "number_sections": true,
   "sideBar": true,
   "skip_h1_title": false,
   "title_cell": "Table of Contents",
   "title_sidebar": "Contents",
   "toc_cell": false,
   "toc_position": {
    "height": "calc(100% - 180px)",
    "left": "10px",
    "top": "150px",
    "width": "302px"
   },
   "toc_section_display": true,
   "toc_window_display": false
  }
 },
 "nbformat": 4,
 "nbformat_minor": 4
}
