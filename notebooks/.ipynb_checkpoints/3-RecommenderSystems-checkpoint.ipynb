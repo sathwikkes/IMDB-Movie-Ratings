{
 "cells": [
  {
   "cell_type": "markdown",
   "metadata": {},
   "source": [
    "# Movie Recommender\n",
    "<a id='Movie_Recommender'></a> "
   ]
  },
  {
   "cell_type": "markdown",
   "metadata": {},
   "source": [
    "## Table of Contents<a id='Table_of_Contents'></a>\n",
    "* [1 Movie Recommender](#1_Movie_Recommender)\n",
    "    * [1.1 Table of Contents](#1.1_Table_of_Contents)\n",
    "    * [1.2 Introduction](#1.2_Introduction)\n",
    "    * [1.3 Imports](#1.3_Imports)\n",
    "    * [1.4 Load Data](#1.4_Load_Data)\n",
    "    * [1.5 Clean Data](#1.5_Clean_Data)\n",
    "    * [1.6 Merge Datasets](#1.6_Merge_Datasets)\n",
    "    * [1.7 Content-Based Filtering](#1.7_Content_Based_Filtering)\n",
    "    * [1.8 Recommender using Correlation](#1.8_Recommender_using_Correlation)\n",
    "    * [1.9 Hybrid Technique: Scaled Weighted Average and Scaled Popularity score based Recommender](#1.9_Hybrid_Technique_Scaled_Weighted_Average_and_Scaled_Popularity_score_based_Recommender)\n",
    "    * [1.10 Simple Collaborative Filtering using Nearest Neighbor](#1.10_Simple_Collaborative_Filtering_using_Nearest_Neighbor)"
   ]
  },
  {
   "cell_type": "markdown",
   "metadata": {},
   "source": [
    "## Introduction<a id='1.2_Introduction'></a>"
   ]
  },
  {
   "cell_type": "markdown",
   "metadata": {},
   "source": [
    "Does the recommended section provide satisfaction? Are the movie suggestions popping up elevate anyone’s mood? Do the advertisements appearing in between Instagram posts catch anybody’s attention? Is there a system that gives better movie suggestions? "
   ]
  },
  {
   "cell_type": "markdown",
   "metadata": {},
   "source": [
    "From the moment an individual unlocks his/her phone till the moment he/she puts it away, every action being committed is tracked and monitored, stored into data, that is confidential information sold to big corporations. Pew Research states that 81% of Americans own smartphones creating a push for relevant and accurate promotions that will influence a user’s decision-making process and attract customers. With complex supervision, people with smartphones are being schemed to stay on their cellular devices for longer periods of time to generate more revenue. Why? Companies with money can afford exceptional marketing. According to Business Wire, 60% of consumers click on cellphone ads every week suggesting how prevalent mobile advertising has become. Given these points, everyone is simply surrounded by recommender systems; people are constantly getting pitched ideas. From a simple Google search to a YouTube video to a Netflix original and to a song on Spotify, there exists a machine that advises its user based off of abundant data. "
   ]
  },
  {
   "cell_type": "markdown",
   "metadata": {},
   "source": [
    "**Recommender systems are everywhere.    \n",
    "-video streaming platforms(youtube, netflix, hulu)  \n",
    "-audio streaming platforms(spotify,apple, pandora)  \n",
    "-shopping(amazon,ebay,bestbuy)  \n",
    "-dating apps(tinder, okCupid, bumble)  \n",
    "-news(medium, la times)**"
   ]
  },
  {
   "cell_type": "markdown",
   "metadata": {},
   "source": [
    "## Imports<a id='1.3_Imports'></a>"
   ]
  },
  {
   "cell_type": "code",
   "execution_count": 1,
   "metadata": {
    "ExecuteTime": {
     "end_time": "2020-12-28T07:22:41.208947Z",
     "start_time": "2020-12-28T07:22:38.073309Z"
    }
   },
   "outputs": [],
   "source": [
    "#import modules and their subpackages required for analysis\n",
    "import ast\n",
    "import pandas as pd\n",
    "import matplotlib.pyplot as plt \n",
    "from datetime import datetime\n",
    "import numpy as np\n",
    "from ast import literal_eval\n",
    "import seaborn as sns \n",
    "sns.set_style('white')"
   ]
  },
  {
   "cell_type": "markdown",
   "metadata": {},
   "source": [
    "## Load Data<a id='1.4_Load_Data'></a>"
   ]
  },
  {
   "cell_type": "code",
   "execution_count": 2,
   "metadata": {
    "ExecuteTime": {
     "end_time": "2020-12-28T07:22:52.782288Z",
     "start_time": "2020-12-28T07:22:41.226900Z"
    }
   },
   "outputs": [],
   "source": [
    "#load data into variable\n",
    "movies = pd.read_csv('C:/Users/sathw/OneDrive/Desktop/Springboard_work/TMDB-Movie-Ratings/rawdata/movies_metadata.csv', index_col = 'title', low_memory = False, nrows = 46000)\n",
    "credits = pd.read_csv('C:/Users/sathw/OneDrive/Desktop/Springboard_work/TMDB-Movie-Ratings/rawdata/credits.csv')\n",
    "keywords = pd.read_csv('C:/Users/sathw/OneDrive/Desktop/Springboard_work/TMDB-Movie-Ratings/rawdata/keywords.csv')\n",
    "ratings = pd.read_csv('C:/Users/sathw/OneDrive/Desktop/Springboard_work/TMDB-Movie-Ratings/data/ratings_cleaned.csv')"
   ]
  },
  {
   "cell_type": "markdown",
   "metadata": {},
   "source": [
    "## Clean Data<a id='1.5_Clean_Data'></a>"
   ]
  },
  {
   "cell_type": "code",
   "execution_count": 3,
   "metadata": {
    "ExecuteTime": {
     "end_time": "2020-12-28T07:22:52.805228Z",
     "start_time": "2020-12-28T07:22:52.793260Z"
    }
   },
   "outputs": [],
   "source": [
    "def clean_col(df,col):\n",
    "    \"\"\" \n",
    "    @ params: dataframe, column\n",
    "    removes irrelevant information and outputs only list of the names in each dictionary\n",
    "    \"\"\"\n",
    "    df[col] = df[col].fillna('[]').apply(literal_eval).apply(lambda x: [i['name'] for i in x] if isinstance(x, list) else[])"
   ]
  },
  {
   "cell_type": "code",
   "execution_count": 4,
   "metadata": {
    "ExecuteTime": {
     "end_time": "2020-12-28T07:23:02.262217Z",
     "start_time": "2020-12-28T07:22:52.812210Z"
    }
   },
   "outputs": [],
   "source": [
    "cols = ['genres', 'production_countries', 'spoken_languages', 'belongs_to_collection']\n",
    "for col in cols:\n",
    "    clean_col(movies, col)"
   ]
  },
  {
   "cell_type": "code",
   "execution_count": 5,
   "metadata": {
    "ExecuteTime": {
     "end_time": "2020-12-28T07:23:02.375441Z",
     "start_time": "2020-12-28T07:23:02.264246Z"
    }
   },
   "outputs": [],
   "source": [
    "movies = movies[~movies.vote_count.isnull()]"
   ]
  },
  {
   "cell_type": "code",
   "execution_count": 6,
   "metadata": {
    "ExecuteTime": {
     "end_time": "2020-12-28T07:23:02.463697Z",
     "start_time": "2020-12-28T07:23:02.377462Z"
    }
   },
   "outputs": [],
   "source": [
    "movies = movies.drop_duplicates(subset=['original_title', 'release_date'])"
   ]
  },
  {
   "cell_type": "code",
   "execution_count": 7,
   "metadata": {
    "ExecuteTime": {
     "end_time": "2020-12-28T07:23:05.870578Z",
     "start_time": "2020-12-28T07:23:02.463697Z"
    }
   },
   "outputs": [],
   "source": [
    "movies['release_date'] = pd.to_datetime(movies['release_date'], errors = 'coerce')"
   ]
  },
  {
   "cell_type": "code",
   "execution_count": 8,
   "metadata": {
    "ExecuteTime": {
     "end_time": "2020-12-28T07:23:05.901163Z",
     "start_time": "2020-12-28T07:23:05.872598Z"
    }
   },
   "outputs": [
    {
     "data": {
      "text/html": [
       "<div>\n",
       "<style scoped>\n",
       "    .dataframe tbody tr th:only-of-type {\n",
       "        vertical-align: middle;\n",
       "    }\n",
       "\n",
       "    .dataframe tbody tr th {\n",
       "        vertical-align: top;\n",
       "    }\n",
       "\n",
       "    .dataframe thead th {\n",
       "        text-align: right;\n",
       "    }\n",
       "</style>\n",
       "<table border=\"1\" class=\"dataframe\">\n",
       "  <thead>\n",
       "    <tr style=\"text-align: right;\">\n",
       "      <th></th>\n",
       "      <th>cast</th>\n",
       "      <th>crew</th>\n",
       "      <th>id</th>\n",
       "    </tr>\n",
       "  </thead>\n",
       "  <tbody>\n",
       "    <tr>\n",
       "      <th>0</th>\n",
       "      <td>[{'cast_id': 14, 'character': 'Woody (voice)',...</td>\n",
       "      <td>[{'credit_id': '52fe4284c3a36847f8024f49', 'de...</td>\n",
       "      <td>862</td>\n",
       "    </tr>\n",
       "    <tr>\n",
       "      <th>1</th>\n",
       "      <td>[{'cast_id': 1, 'character': 'Alan Parrish', '...</td>\n",
       "      <td>[{'credit_id': '52fe44bfc3a36847f80a7cd1', 'de...</td>\n",
       "      <td>8844</td>\n",
       "    </tr>\n",
       "    <tr>\n",
       "      <th>2</th>\n",
       "      <td>[{'cast_id': 2, 'character': 'Max Goldman', 'c...</td>\n",
       "      <td>[{'credit_id': '52fe466a9251416c75077a89', 'de...</td>\n",
       "      <td>15602</td>\n",
       "    </tr>\n",
       "    <tr>\n",
       "      <th>3</th>\n",
       "      <td>[{'cast_id': 1, 'character': \"Savannah 'Vannah...</td>\n",
       "      <td>[{'credit_id': '52fe44779251416c91011acb', 'de...</td>\n",
       "      <td>31357</td>\n",
       "    </tr>\n",
       "    <tr>\n",
       "      <th>4</th>\n",
       "      <td>[{'cast_id': 1, 'character': 'George Banks', '...</td>\n",
       "      <td>[{'credit_id': '52fe44959251416c75039ed7', 'de...</td>\n",
       "      <td>11862</td>\n",
       "    </tr>\n",
       "  </tbody>\n",
       "</table>\n",
       "</div>"
      ],
      "text/plain": [
       "                                                cast  \\\n",
       "0  [{'cast_id': 14, 'character': 'Woody (voice)',...   \n",
       "1  [{'cast_id': 1, 'character': 'Alan Parrish', '...   \n",
       "2  [{'cast_id': 2, 'character': 'Max Goldman', 'c...   \n",
       "3  [{'cast_id': 1, 'character': \"Savannah 'Vannah...   \n",
       "4  [{'cast_id': 1, 'character': 'George Banks', '...   \n",
       "\n",
       "                                                crew     id  \n",
       "0  [{'credit_id': '52fe4284c3a36847f8024f49', 'de...    862  \n",
       "1  [{'credit_id': '52fe44bfc3a36847f80a7cd1', 'de...   8844  \n",
       "2  [{'credit_id': '52fe466a9251416c75077a89', 'de...  15602  \n",
       "3  [{'credit_id': '52fe44779251416c91011acb', 'de...  31357  \n",
       "4  [{'credit_id': '52fe44959251416c75039ed7', 'de...  11862  "
      ]
     },
     "execution_count": 8,
     "metadata": {},
     "output_type": "execute_result"
    }
   ],
   "source": [
    "credits.head()"
   ]
  },
  {
   "cell_type": "code",
   "execution_count": 9,
   "metadata": {
    "ExecuteTime": {
     "end_time": "2020-12-28T07:24:17.337161Z",
     "start_time": "2020-12-28T07:23:05.905152Z"
    }
   },
   "outputs": [],
   "source": [
    "clean_col(credits, 'cast')\n",
    "clean_col(credits, 'crew')\n",
    "clean_col(keywords, 'keywords')"
   ]
  },
  {
   "cell_type": "code",
   "execution_count": 10,
   "metadata": {
    "ExecuteTime": {
     "end_time": "2020-12-28T07:24:17.474795Z",
     "start_time": "2020-12-28T07:24:17.337161Z"
    }
   },
   "outputs": [],
   "source": [
    "credits.id = credits.id.astype(int)\n",
    "movies['id'] = movies['id'].astype(int)\n",
    "keywords['id'] = keywords.id.astype(int)"
   ]
  },
  {
   "cell_type": "markdown",
   "metadata": {},
   "source": [
    "## Merge Datasets<a id='1.6_Merge_Datasets'></a>"
   ]
  },
  {
   "cell_type": "code",
   "execution_count": 11,
   "metadata": {
    "ExecuteTime": {
     "end_time": "2020-12-28T07:24:17.725635Z",
     "start_time": "2020-12-28T07:24:17.474795Z"
    }
   },
   "outputs": [],
   "source": [
    "movies = movies.merge(credits, on = 'id')\n",
    "movies = movies.merge(keywords, on='id')"
   ]
  },
  {
   "cell_type": "code",
   "execution_count": 12,
   "metadata": {
    "ExecuteTime": {
     "end_time": "2020-12-28T07:24:17.794451Z",
     "start_time": "2020-12-28T07:24:17.729625Z"
    }
   },
   "outputs": [
    {
     "data": {
      "text/html": [
       "<div>\n",
       "<style scoped>\n",
       "    .dataframe tbody tr th:only-of-type {\n",
       "        vertical-align: middle;\n",
       "    }\n",
       "\n",
       "    .dataframe tbody tr th {\n",
       "        vertical-align: top;\n",
       "    }\n",
       "\n",
       "    .dataframe thead th {\n",
       "        text-align: right;\n",
       "    }\n",
       "</style>\n",
       "<table border=\"1\" class=\"dataframe\">\n",
       "  <thead>\n",
       "    <tr style=\"text-align: right;\">\n",
       "      <th></th>\n",
       "      <th>adult</th>\n",
       "      <th>belongs_to_collection</th>\n",
       "      <th>budget</th>\n",
       "      <th>genres</th>\n",
       "      <th>homepage</th>\n",
       "      <th>id</th>\n",
       "      <th>imdb_id</th>\n",
       "      <th>original_language</th>\n",
       "      <th>original_title</th>\n",
       "      <th>overview</th>\n",
       "      <th>...</th>\n",
       "      <th>runtime</th>\n",
       "      <th>spoken_languages</th>\n",
       "      <th>status</th>\n",
       "      <th>tagline</th>\n",
       "      <th>video</th>\n",
       "      <th>vote_average</th>\n",
       "      <th>vote_count</th>\n",
       "      <th>cast</th>\n",
       "      <th>crew</th>\n",
       "      <th>keywords</th>\n",
       "    </tr>\n",
       "  </thead>\n",
       "  <tbody>\n",
       "    <tr>\n",
       "      <th>0</th>\n",
       "      <td>FALSE</td>\n",
       "      <td>[]</td>\n",
       "      <td>30000000</td>\n",
       "      <td>[Animation, Comedy, Family]</td>\n",
       "      <td>http://toystory.disney.com/toy-story</td>\n",
       "      <td>862</td>\n",
       "      <td>tt0114709</td>\n",
       "      <td>en</td>\n",
       "      <td>Toy Story</td>\n",
       "      <td>Led by Woody, Andy's toys live happily in his ...</td>\n",
       "      <td>...</td>\n",
       "      <td>81.0</td>\n",
       "      <td>[English]</td>\n",
       "      <td>Released</td>\n",
       "      <td>NaN</td>\n",
       "      <td>False</td>\n",
       "      <td>7.7</td>\n",
       "      <td>5415.0</td>\n",
       "      <td>[Tom Hanks, Tim Allen, Don Rickles, Jim Varney...</td>\n",
       "      <td>[John Lasseter, Joss Whedon, Andrew Stanton, J...</td>\n",
       "      <td>[jealousy, toy, boy, friendship, friends, riva...</td>\n",
       "    </tr>\n",
       "    <tr>\n",
       "      <th>1</th>\n",
       "      <td>FALSE</td>\n",
       "      <td>[]</td>\n",
       "      <td>65000000</td>\n",
       "      <td>[Adventure, Fantasy, Family]</td>\n",
       "      <td>NaN</td>\n",
       "      <td>8844</td>\n",
       "      <td>tt0113497</td>\n",
       "      <td>en</td>\n",
       "      <td>Jumanji</td>\n",
       "      <td>When siblings Judy and Peter discover an encha...</td>\n",
       "      <td>...</td>\n",
       "      <td>104.0</td>\n",
       "      <td>[English, Français]</td>\n",
       "      <td>Released</td>\n",
       "      <td>Roll the dice and unleash the excitement!</td>\n",
       "      <td>False</td>\n",
       "      <td>6.9</td>\n",
       "      <td>2413.0</td>\n",
       "      <td>[Robin Williams, Jonathan Hyde, Kirsten Dunst,...</td>\n",
       "      <td>[Larry J. Franco, Jonathan Hensleigh, James Ho...</td>\n",
       "      <td>[board game, disappearance, based on children'...</td>\n",
       "    </tr>\n",
       "    <tr>\n",
       "      <th>2</th>\n",
       "      <td>FALSE</td>\n",
       "      <td>[]</td>\n",
       "      <td>0</td>\n",
       "      <td>[Romance, Comedy]</td>\n",
       "      <td>NaN</td>\n",
       "      <td>15602</td>\n",
       "      <td>tt0113228</td>\n",
       "      <td>en</td>\n",
       "      <td>Grumpier Old Men</td>\n",
       "      <td>A family wedding reignites the ancient feud be...</td>\n",
       "      <td>...</td>\n",
       "      <td>101.0</td>\n",
       "      <td>[English]</td>\n",
       "      <td>Released</td>\n",
       "      <td>Still Yelling. Still Fighting. Still Ready for...</td>\n",
       "      <td>False</td>\n",
       "      <td>6.5</td>\n",
       "      <td>92.0</td>\n",
       "      <td>[Walter Matthau, Jack Lemmon, Ann-Margret, Sop...</td>\n",
       "      <td>[Howard Deutch, Mark Steven Johnson, Mark Stev...</td>\n",
       "      <td>[fishing, best friend, duringcreditsstinger, o...</td>\n",
       "    </tr>\n",
       "    <tr>\n",
       "      <th>3</th>\n",
       "      <td>FALSE</td>\n",
       "      <td>[]</td>\n",
       "      <td>16000000</td>\n",
       "      <td>[Comedy, Drama, Romance]</td>\n",
       "      <td>NaN</td>\n",
       "      <td>31357</td>\n",
       "      <td>tt0114885</td>\n",
       "      <td>en</td>\n",
       "      <td>Waiting to Exhale</td>\n",
       "      <td>Cheated on, mistreated and stepped on, the wom...</td>\n",
       "      <td>...</td>\n",
       "      <td>127.0</td>\n",
       "      <td>[English]</td>\n",
       "      <td>Released</td>\n",
       "      <td>Friends are the people who let you be yourself...</td>\n",
       "      <td>False</td>\n",
       "      <td>6.1</td>\n",
       "      <td>34.0</td>\n",
       "      <td>[Whitney Houston, Angela Bassett, Loretta Devi...</td>\n",
       "      <td>[Forest Whitaker, Ronald Bass, Ronald Bass, Ez...</td>\n",
       "      <td>[based on novel, interracial relationship, sin...</td>\n",
       "    </tr>\n",
       "    <tr>\n",
       "      <th>4</th>\n",
       "      <td>FALSE</td>\n",
       "      <td>[]</td>\n",
       "      <td>0</td>\n",
       "      <td>[Comedy]</td>\n",
       "      <td>NaN</td>\n",
       "      <td>11862</td>\n",
       "      <td>tt0113041</td>\n",
       "      <td>en</td>\n",
       "      <td>Father of the Bride Part II</td>\n",
       "      <td>Just when George Banks has recovered from his ...</td>\n",
       "      <td>...</td>\n",
       "      <td>106.0</td>\n",
       "      <td>[English]</td>\n",
       "      <td>Released</td>\n",
       "      <td>Just When His World Is Back To Normal... He's ...</td>\n",
       "      <td>False</td>\n",
       "      <td>5.7</td>\n",
       "      <td>173.0</td>\n",
       "      <td>[Steve Martin, Diane Keaton, Martin Short, Kim...</td>\n",
       "      <td>[Alan Silvestri, Elliot Davis, Nancy Meyers, N...</td>\n",
       "      <td>[baby, midlife crisis, confidence, aging, daug...</td>\n",
       "    </tr>\n",
       "  </tbody>\n",
       "</table>\n",
       "<p>5 rows × 26 columns</p>\n",
       "</div>"
      ],
      "text/plain": [
       "   adult belongs_to_collection    budget                        genres  \\\n",
       "0  FALSE                    []  30000000   [Animation, Comedy, Family]   \n",
       "1  FALSE                    []  65000000  [Adventure, Fantasy, Family]   \n",
       "2  FALSE                    []         0             [Romance, Comedy]   \n",
       "3  FALSE                    []  16000000      [Comedy, Drama, Romance]   \n",
       "4  FALSE                    []         0                      [Comedy]   \n",
       "\n",
       "                               homepage     id    imdb_id original_language  \\\n",
       "0  http://toystory.disney.com/toy-story    862  tt0114709                en   \n",
       "1                                   NaN   8844  tt0113497                en   \n",
       "2                                   NaN  15602  tt0113228                en   \n",
       "3                                   NaN  31357  tt0114885                en   \n",
       "4                                   NaN  11862  tt0113041                en   \n",
       "\n",
       "                original_title  \\\n",
       "0                    Toy Story   \n",
       "1                      Jumanji   \n",
       "2             Grumpier Old Men   \n",
       "3            Waiting to Exhale   \n",
       "4  Father of the Bride Part II   \n",
       "\n",
       "                                            overview  ... runtime  \\\n",
       "0  Led by Woody, Andy's toys live happily in his ...  ...    81.0   \n",
       "1  When siblings Judy and Peter discover an encha...  ...   104.0   \n",
       "2  A family wedding reignites the ancient feud be...  ...   101.0   \n",
       "3  Cheated on, mistreated and stepped on, the wom...  ...   127.0   \n",
       "4  Just when George Banks has recovered from his ...  ...   106.0   \n",
       "\n",
       "      spoken_languages    status  \\\n",
       "0            [English]  Released   \n",
       "1  [English, Français]  Released   \n",
       "2            [English]  Released   \n",
       "3            [English]  Released   \n",
       "4            [English]  Released   \n",
       "\n",
       "                                             tagline  video  vote_average  \\\n",
       "0                                                NaN  False           7.7   \n",
       "1          Roll the dice and unleash the excitement!  False           6.9   \n",
       "2  Still Yelling. Still Fighting. Still Ready for...  False           6.5   \n",
       "3  Friends are the people who let you be yourself...  False           6.1   \n",
       "4  Just When His World Is Back To Normal... He's ...  False           5.7   \n",
       "\n",
       "   vote_count                                               cast  \\\n",
       "0      5415.0  [Tom Hanks, Tim Allen, Don Rickles, Jim Varney...   \n",
       "1      2413.0  [Robin Williams, Jonathan Hyde, Kirsten Dunst,...   \n",
       "2        92.0  [Walter Matthau, Jack Lemmon, Ann-Margret, Sop...   \n",
       "3        34.0  [Whitney Houston, Angela Bassett, Loretta Devi...   \n",
       "4       173.0  [Steve Martin, Diane Keaton, Martin Short, Kim...   \n",
       "\n",
       "                                                crew  \\\n",
       "0  [John Lasseter, Joss Whedon, Andrew Stanton, J...   \n",
       "1  [Larry J. Franco, Jonathan Hensleigh, James Ho...   \n",
       "2  [Howard Deutch, Mark Steven Johnson, Mark Stev...   \n",
       "3  [Forest Whitaker, Ronald Bass, Ronald Bass, Ez...   \n",
       "4  [Alan Silvestri, Elliot Davis, Nancy Meyers, N...   \n",
       "\n",
       "                                            keywords  \n",
       "0  [jealousy, toy, boy, friendship, friends, riva...  \n",
       "1  [board game, disappearance, based on children'...  \n",
       "2  [fishing, best friend, duringcreditsstinger, o...  \n",
       "3  [based on novel, interracial relationship, sin...  \n",
       "4  [baby, midlife crisis, confidence, aging, daug...  \n",
       "\n",
       "[5 rows x 26 columns]"
      ]
     },
     "execution_count": 12,
     "metadata": {},
     "output_type": "execute_result"
    }
   ],
   "source": [
    "movies.head()"
   ]
  },
  {
   "cell_type": "code",
   "execution_count": 13,
   "metadata": {
    "ExecuteTime": {
     "end_time": "2020-12-28T07:24:17.827363Z",
     "start_time": "2020-12-28T07:24:17.797444Z"
    }
   },
   "outputs": [],
   "source": [
    "movies.overview = movies.overview.fillna(\" \")\n",
    "movies.tagline = movies.tagline.fillna(\" \")"
   ]
  },
  {
   "cell_type": "markdown",
   "metadata": {},
   "source": [
    "Reducing the dataset by removing irrelevant information"
   ]
  },
  {
   "cell_type": "code",
   "execution_count": 14,
   "metadata": {
    "ExecuteTime": {
     "end_time": "2020-12-28T07:24:17.917005Z",
     "start_time": "2020-12-28T07:24:17.831353Z"
    }
   },
   "outputs": [],
   "source": [
    "movies = movies.drop(columns= ['homepage', 'poster_path', 'belongs_to_collection', 'video'])"
   ]
  },
  {
   "cell_type": "markdown",
   "metadata": {},
   "source": [
    "## Content Based Filtering<a id='1.7_Content_Based_Filtering'></a>"
   ]
  },
  {
   "cell_type": "markdown",
   "metadata": {},
   "source": [
    "Had to only work with a fraction of the dataset because lack of computing power."
   ]
  },
  {
   "cell_type": "code",
   "execution_count": 15,
   "metadata": {
    "ExecuteTime": {
     "end_time": "2020-12-28T07:24:19.215682Z",
     "start_time": "2020-12-28T07:24:17.917005Z"
    }
   },
   "outputs": [],
   "source": [
    "movies['details'] = movies.overview + movies.tagline\n",
    "\n",
    "small_movies = movies.sample(frac = 0.01, axis =0)\n",
    "\n",
    "small_movies.details = small_movies.details.fillna(\" \")\n",
    "small_movies.details = ','.join(map(str, small_movies.details)) \n",
    "small_movies.cast = small_movies.cast.apply(lambda x: [str.lower(i.replace(\" \", \"\")) for i in x])\n",
    "small_movies.cast = ','.join(map(str, small_movies.cast)) \n",
    "small_movies.keywords = small_movies.keywords.apply(lambda x: [str.lower(i.replace(\" \", \"\")) for i in x])\n",
    "small_movies.keywords = ','.join(map(str, small_movies.keywords))  \n",
    "small_movies.genres =','.join(map(str, small_movies.genres))  \n",
    "\n",
    "#small_movies.cast = small_movies.cast.apply(lambda x: [i['name'] for i in x] if isinstance(x, list) else [])\n",
    "#small_movies.keywords=small_movies.keywords.apply(lambda x: [i['name'] for i in x] if isinstance(x, list) else [])\n",
    "#small_movies.genres=small_movies.genres.apply(lambda x: [i['name'] for i in x] if isinstance(x, list) else [])\n",
    "small_movies.cast = small_movies.cast.apply(lambda x: x[:3] if len (x) >= 3 else x)\n",
    "\n",
    "small_movies['mix'] = small_movies.details + small_movies.keywords + small_movies.cast + small_movies.genres\n",
    "#small_movies['mix'] = small_movies.mix.apply(lambda x: \" \".join(x))"
   ]
  },
  {
   "cell_type": "code",
   "execution_count": 16,
   "metadata": {
    "ExecuteTime": {
     "end_time": "2020-12-28T07:24:19.272166Z",
     "start_time": "2020-12-28T07:24:19.220669Z"
    }
   },
   "outputs": [
    {
     "data": {
      "text/plain": [
       "adult                   False\n",
       "budget                  False\n",
       "genres                  False\n",
       "id                      False\n",
       "imdb_id                 False\n",
       "original_language       False\n",
       "original_title          False\n",
       "overview                False\n",
       "popularity              False\n",
       "production_companies    False\n",
       "production_countries     True\n",
       "release_date            False\n",
       "revenue                 False\n",
       "runtime                 False\n",
       "spoken_languages         True\n",
       "status                  False\n",
       "tagline                 False\n",
       "vote_average            False\n",
       "vote_count              False\n",
       "cast                    False\n",
       "crew                     True\n",
       "keywords                False\n",
       "details                 False\n",
       "mix                     False\n",
       "dtype: bool"
      ]
     },
     "execution_count": 16,
     "metadata": {},
     "output_type": "execute_result"
    }
   ],
   "source": [
    "small_movies.applymap(lambda x: isinstance(x,list)).all()"
   ]
  },
  {
   "cell_type": "code",
   "execution_count": 17,
   "metadata": {
    "ExecuteTime": {
     "end_time": "2020-12-28T07:24:59.436507Z",
     "start_time": "2020-12-28T07:24:19.272166Z"
    }
   },
   "outputs": [
    {
     "name": "stdout",
     "output_type": "stream",
     "text": [
      "[[0.01374514 0.00196359 0.00196359 ... 0.00196359 0.00196359 0.00196359]\n",
      " [0.01374514 0.00196359 0.00196359 ... 0.00196359 0.00196359 0.00196359]\n",
      " [0.01374514 0.00196359 0.00196359 ... 0.00196359 0.00196359 0.00196359]\n",
      " ...\n",
      " [0.01374514 0.00196359 0.00196359 ... 0.00196359 0.00196359 0.00196359]\n",
      " [0.01374514 0.00196359 0.00196359 ... 0.00196359 0.00196359 0.00196359]\n",
      " [0.01374514 0.00196359 0.00196359 ... 0.00196359 0.00196359 0.00196359]]\n"
     ]
    }
   ],
   "source": [
    "from sklearn.feature_extraction.text import TfidfVectorizer\n",
    "vectorizer = TfidfVectorizer(analyzer='word',ngram_range=(1, 2),min_df=0,stop_words = 'english')\n",
    "tfidf_matrix = vectorizer.fit_transform(small_movies.mix)  ## Even astype(str) would work\n",
    "print(tfidf_matrix.toarray())"
   ]
  },
  {
   "cell_type": "code",
   "execution_count": 18,
   "metadata": {
    "ExecuteTime": {
     "end_time": "2020-12-28T07:25:16.770376Z",
     "start_time": "2020-12-28T07:24:59.443487Z"
    }
   },
   "outputs": [],
   "source": [
    "from sklearn.metrics.pairwise import linear_kernel\n",
    "# cosine similarity matrix\n",
    "cosine_sim = linear_kernel(tfidf_matrix, tfidf_matrix)"
   ]
  },
  {
   "cell_type": "code",
   "execution_count": 19,
   "metadata": {
    "ExecuteTime": {
     "end_time": "2020-12-28T07:25:16.855143Z",
     "start_time": "2020-12-28T07:25:16.773901Z"
    }
   },
   "outputs": [],
   "source": [
    "## recommender function\n",
    "# Generate mapping between titles and index\n",
    "indices = pd.Series(movies.index, index=movies['original_title']).drop_duplicates()\n",
    "\n",
    "def get_recs(title, cosine_sim, indices):\n",
    "    # Get index of movie that matches title\n",
    "    idx = indices[title]\n",
    "    # Sort the movies based on the similarity scores\n",
    "    sim_scores = list(enumerate(cosine_sim[idx]))\n",
    "    sim_scores = sorted(sim_scores, key=lambda x: x[1], reverse=True)\n",
    "    # Get the scores for 20 most similar movies\n",
    "    sim_scores = sim_scores[1:20]\n",
    "    # Get the movie indices\n",
    "    movie_indices = [i[0] for i in sim_scores]\n",
    "    # Return the top 20 most similar movies\n",
    "    return movies['original_title'].iloc[movie_indices]"
   ]
  },
  {
   "cell_type": "code",
   "execution_count": 20,
   "metadata": {
    "ExecuteTime": {
     "end_time": "2020-12-28T07:25:16.891976Z",
     "start_time": "2020-12-28T07:25:16.855143Z"
    }
   },
   "outputs": [
    {
     "name": "stdout",
     "output_type": "stream",
     "text": [
      "1                            Jumanji\n",
      "2                   Grumpier Old Men\n",
      "3                  Waiting to Exhale\n",
      "4        Father of the Bride Part II\n",
      "5                               Heat\n",
      "6                            Sabrina\n",
      "7                       Tom and Huck\n",
      "8                       Sudden Death\n",
      "9                          GoldenEye\n",
      "10            The American President\n",
      "11       Dracula: Dead and Loving It\n",
      "12                             Balto\n",
      "13                             Nixon\n",
      "14                  Cutthroat Island\n",
      "15                            Casino\n",
      "16             Sense and Sensibility\n",
      "17                        Four Rooms\n",
      "18    Ace Ventura: When Nature Calls\n",
      "19                       Money Train\n",
      "Name: original_title, dtype: object\n"
     ]
    }
   ],
   "source": [
    "print(get_recs('Toy Story',cosine_sim, indices))"
   ]
  },
  {
   "cell_type": "markdown",
   "metadata": {},
   "source": [
    "## Recommender using Correlation<a id='1.8_Recommender_using_Correlation'></a>"
   ]
  },
  {
   "cell_type": "code",
   "execution_count": 21,
   "metadata": {
    "ExecuteTime": {
     "end_time": "2020-12-28T07:25:21.545363Z",
     "start_time": "2020-12-28T07:25:16.896430Z"
    }
   },
   "outputs": [],
   "source": [
    "ratings = pd.merge(movies, ratings,on = 'id' )"
   ]
  },
  {
   "cell_type": "code",
   "execution_count": 22,
   "metadata": {
    "ExecuteTime": {
     "end_time": "2020-12-28T07:25:24.693674Z",
     "start_time": "2020-12-28T07:25:21.547410Z"
    }
   },
   "outputs": [
    {
     "name": "stdout",
     "output_type": "stream",
     "text": [
      "<class 'pandas.core.frame.DataFrame'>\n",
      "Int64Index: 1144418 entries, 0 to 1144417\n",
      "Data columns (total 26 columns):\n",
      " #   Column                Non-Null Count    Dtype         \n",
      "---  ------                --------------    -----         \n",
      " 0   adult                 1144418 non-null  object        \n",
      " 1   budget                1144418 non-null  object        \n",
      " 2   genres                1144418 non-null  object        \n",
      " 3   id                    1144418 non-null  int32         \n",
      " 4   imdb_id               1144408 non-null  object        \n",
      " 5   original_language     1144415 non-null  object        \n",
      " 6   original_title        1144418 non-null  object        \n",
      " 7   overview              1144418 non-null  object        \n",
      " 8   popularity            1144418 non-null  object        \n",
      " 9   production_companies  1144418 non-null  object        \n",
      " 10  production_countries  1144418 non-null  object        \n",
      " 11  release_date          1143697 non-null  datetime64[ns]\n",
      " 12  revenue               1144418 non-null  float64       \n",
      " 13  runtime               1144327 non-null  float64       \n",
      " 14  spoken_languages      1144418 non-null  object        \n",
      " 15  status                1144339 non-null  object        \n",
      " 16  tagline               1144418 non-null  object        \n",
      " 17  vote_average          1144418 non-null  float64       \n",
      " 18  vote_count            1144418 non-null  float64       \n",
      " 19  cast                  1144418 non-null  object        \n",
      " 20  crew                  1144418 non-null  object        \n",
      " 21  keywords              1144418 non-null  object        \n",
      " 22  details               1144418 non-null  object        \n",
      " 23  userId                1144418 non-null  int64         \n",
      " 24  rating                1144418 non-null  float64       \n",
      " 25  timestamp             1144418 non-null  object        \n",
      "dtypes: datetime64[ns](1), float64(5), int32(1), int64(1), object(18)\n",
      "memory usage: 231.4+ MB\n"
     ]
    }
   ],
   "source": [
    "ratings.info()"
   ]
  },
  {
   "cell_type": "markdown",
   "metadata": {},
   "source": [
    "Searching for the best movies using average rating and number of ratings. "
   ]
  },
  {
   "cell_type": "code",
   "execution_count": 23,
   "metadata": {
    "ExecuteTime": {
     "end_time": "2020-12-28T07:25:24.902121Z",
     "start_time": "2020-12-28T07:25:24.709662Z"
    }
   },
   "outputs": [],
   "source": [
    "reviews = pd.DataFrame(ratings.groupby('original_title')['rating'].mean())"
   ]
  },
  {
   "cell_type": "code",
   "execution_count": 24,
   "metadata": {
    "ExecuteTime": {
     "end_time": "2020-12-28T07:25:25.096109Z",
     "start_time": "2020-12-28T07:25:24.907105Z"
    }
   },
   "outputs": [],
   "source": [
    "reviews['num_ratings'] = pd.DataFrame(ratings.groupby('original_title')['rating'].count())"
   ]
  },
  {
   "cell_type": "markdown",
   "metadata": {},
   "source": [
    "few visualizations to better illustrate the dataset. "
   ]
  },
  {
   "cell_type": "code",
   "execution_count": 25,
   "metadata": {
    "ExecuteTime": {
     "end_time": "2020-12-28T07:25:25.623051Z",
     "start_time": "2020-12-28T07:25:25.096109Z"
    }
   },
   "outputs": [
    {
     "data": {
      "text/plain": [
       "<matplotlib.axes._subplots.AxesSubplot at 0x22e6384abb0>"
      ]
     },
     "execution_count": 25,
     "metadata": {},
     "output_type": "execute_result"
    },
    {
     "data": {
      "image/png": "[encoded data removed]",
      "text/plain": [
       "<Figure size 720x432 with 1 Axes>"
      ]
     },
     "metadata": {},
     "output_type": "display_data"
    }
   ],
   "source": [
    "plt.figure(figsize= (10,6))\n",
    "reviews['num_ratings'].hist(bins=5)"
   ]
  },
  {
   "cell_type": "code",
   "execution_count": 26,
   "metadata": {
    "ExecuteTime": {
     "end_time": "2020-12-28T07:25:26.152595Z",
     "start_time": "2020-12-28T07:25:25.623051Z"
    }
   },
   "outputs": [
    {
     "data": {
      "text/plain": [
       "<matplotlib.axes._subplots.AxesSubplot at 0x22e54a25e50>"
      ]
     },
     "execution_count": 26,
     "metadata": {},
     "output_type": "execute_result"
    },
    {
     "data": {
      "image/png": "[encoded data removed]",
      "text/plain": [
       "<Figure size 864x360 with 1 Axes>"
      ]
     },
     "metadata": {},
     "output_type": "display_data"
    }
   ],
   "source": [
    "plt.figure(figsize=(12,5))\n",
    "reviews['rating'].hist(bins=10)"
   ]
  },
  {
   "cell_type": "code",
   "execution_count": 27,
   "metadata": {
    "ExecuteTime": {
     "end_time": "2020-12-28T07:25:30.771997Z",
     "start_time": "2020-12-28T07:25:26.155587Z"
    }
   },
   "outputs": [
    {
     "data": {
      "text/plain": [
       "<seaborn.axisgrid.JointGrid at 0x22e54a255e0>"
      ]
     },
     "execution_count": 27,
     "metadata": {},
     "output_type": "execute_result"
    },
    {
     "data": {
      "image/png": "[encoded data removed]",
      "text/plain": [
       "<Figure size 432x432 with 3 Axes>"
      ]
     },
     "metadata": {},
     "output_type": "display_data"
    }
   ],
   "source": [
    "sns.jointplot(x='rating', y='num_ratings', data=reviews, alpha = 0.5)"
   ]
  },
  {
   "cell_type": "markdown",
   "metadata": {},
   "source": [
    "It is simpler to create a matrix where user Ids are on one axis and movie titles are on another when exploring similar movies. Each record signifies the rating given by the user for each film and null values mean that the person has yet to watch the film."
   ]
  },
  {
   "cell_type": "code",
   "execution_count": 28,
   "metadata": {
    "ExecuteTime": {
     "end_time": "2020-12-28T07:25:48.532246Z",
     "start_time": "2020-12-28T07:25:30.776018Z"
    }
   },
   "outputs": [
    {
     "data": {
      "text/html": [
       "<div>\n",
       "<style scoped>\n",
       "    .dataframe tbody tr th:only-of-type {\n",
       "        vertical-align: middle;\n",
       "    }\n",
       "\n",
       "    .dataframe tbody tr th {\n",
       "        vertical-align: top;\n",
       "    }\n",
       "\n",
       "    .dataframe thead th {\n",
       "        text-align: right;\n",
       "    }\n",
       "</style>\n",
       "<table border=\"1\" class=\"dataframe\">\n",
       "  <thead>\n",
       "    <tr style=\"text-align: right;\">\n",
       "      <th>original_title</th>\n",
       "      <th>!Women Art Revolution</th>\n",
       "      <th>$5 a Day</th>\n",
       "      <th>'Gator Bait</th>\n",
       "      <th>'R Xmas</th>\n",
       "      <th>'Twas the Night Before Christmas</th>\n",
       "      <th>(A)Sexual</th>\n",
       "      <th>...And the Pursuit of Happiness</th>\n",
       "      <th>...Più forte ragazzi!</th>\n",
       "      <th>...altrimenti ci arrabbiamo!</th>\n",
       "      <th>00 Schneider - Jagd auf Nihil Baxter</th>\n",
       "      <th>...</th>\n",
       "      <th>최종병기 활</th>\n",
       "      <th>춘향뎐</th>\n",
       "      <th>친절한 금자씨</th>\n",
       "      <th>파란대문</th>\n",
       "      <th>해안선</th>\n",
       "      <th>헬로우 고스트</th>\n",
       "      <th>형사 Duelist</th>\n",
       "      <th>활</th>\n",
       "      <th>회사원</th>\n",
       "      <th>２０世紀少年&lt; 第1章&gt; 終わりの始まり</th>\n",
       "    </tr>\n",
       "    <tr>\n",
       "      <th>userId</th>\n",
       "      <th></th>\n",
       "      <th></th>\n",
       "      <th></th>\n",
       "      <th></th>\n",
       "      <th></th>\n",
       "      <th></th>\n",
       "      <th></th>\n",
       "      <th></th>\n",
       "      <th></th>\n",
       "      <th></th>\n",
       "      <th></th>\n",
       "      <th></th>\n",
       "      <th></th>\n",
       "      <th></th>\n",
       "      <th></th>\n",
       "      <th></th>\n",
       "      <th></th>\n",
       "      <th></th>\n",
       "      <th></th>\n",
       "      <th></th>\n",
       "      <th></th>\n",
       "    </tr>\n",
       "  </thead>\n",
       "  <tbody>\n",
       "    <tr>\n",
       "      <th>1</th>\n",
       "      <td>NaN</td>\n",
       "      <td>NaN</td>\n",
       "      <td>NaN</td>\n",
       "      <td>NaN</td>\n",
       "      <td>NaN</td>\n",
       "      <td>NaN</td>\n",
       "      <td>NaN</td>\n",
       "      <td>NaN</td>\n",
       "      <td>NaN</td>\n",
       "      <td>NaN</td>\n",
       "      <td>...</td>\n",
       "      <td>NaN</td>\n",
       "      <td>NaN</td>\n",
       "      <td>NaN</td>\n",
       "      <td>NaN</td>\n",
       "      <td>NaN</td>\n",
       "      <td>NaN</td>\n",
       "      <td>NaN</td>\n",
       "      <td>NaN</td>\n",
       "      <td>NaN</td>\n",
       "      <td>NaN</td>\n",
       "    </tr>\n",
       "    <tr>\n",
       "      <th>2</th>\n",
       "      <td>NaN</td>\n",
       "      <td>NaN</td>\n",
       "      <td>NaN</td>\n",
       "      <td>NaN</td>\n",
       "      <td>NaN</td>\n",
       "      <td>NaN</td>\n",
       "      <td>NaN</td>\n",
       "      <td>NaN</td>\n",
       "      <td>NaN</td>\n",
       "      <td>NaN</td>\n",
       "      <td>...</td>\n",
       "      <td>NaN</td>\n",
       "      <td>NaN</td>\n",
       "      <td>NaN</td>\n",
       "      <td>NaN</td>\n",
       "      <td>NaN</td>\n",
       "      <td>NaN</td>\n",
       "      <td>NaN</td>\n",
       "      <td>NaN</td>\n",
       "      <td>NaN</td>\n",
       "      <td>NaN</td>\n",
       "    </tr>\n",
       "    <tr>\n",
       "      <th>3</th>\n",
       "      <td>NaN</td>\n",
       "      <td>NaN</td>\n",
       "      <td>NaN</td>\n",
       "      <td>NaN</td>\n",
       "      <td>NaN</td>\n",
       "      <td>NaN</td>\n",
       "      <td>NaN</td>\n",
       "      <td>NaN</td>\n",
       "      <td>NaN</td>\n",
       "      <td>NaN</td>\n",
       "      <td>...</td>\n",
       "      <td>NaN</td>\n",
       "      <td>NaN</td>\n",
       "      <td>NaN</td>\n",
       "      <td>NaN</td>\n",
       "      <td>NaN</td>\n",
       "      <td>NaN</td>\n",
       "      <td>NaN</td>\n",
       "      <td>NaN</td>\n",
       "      <td>NaN</td>\n",
       "      <td>NaN</td>\n",
       "    </tr>\n",
       "    <tr>\n",
       "      <th>4</th>\n",
       "      <td>NaN</td>\n",
       "      <td>NaN</td>\n",
       "      <td>NaN</td>\n",
       "      <td>NaN</td>\n",
       "      <td>NaN</td>\n",
       "      <td>NaN</td>\n",
       "      <td>NaN</td>\n",
       "      <td>NaN</td>\n",
       "      <td>NaN</td>\n",
       "      <td>NaN</td>\n",
       "      <td>...</td>\n",
       "      <td>NaN</td>\n",
       "      <td>NaN</td>\n",
       "      <td>NaN</td>\n",
       "      <td>NaN</td>\n",
       "      <td>NaN</td>\n",
       "      <td>NaN</td>\n",
       "      <td>NaN</td>\n",
       "      <td>NaN</td>\n",
       "      <td>NaN</td>\n",
       "      <td>NaN</td>\n",
       "    </tr>\n",
       "    <tr>\n",
       "      <th>5</th>\n",
       "      <td>NaN</td>\n",
       "      <td>NaN</td>\n",
       "      <td>NaN</td>\n",
       "      <td>NaN</td>\n",
       "      <td>NaN</td>\n",
       "      <td>NaN</td>\n",
       "      <td>NaN</td>\n",
       "      <td>NaN</td>\n",
       "      <td>NaN</td>\n",
       "      <td>NaN</td>\n",
       "      <td>...</td>\n",
       "      <td>NaN</td>\n",
       "      <td>NaN</td>\n",
       "      <td>NaN</td>\n",
       "      <td>NaN</td>\n",
       "      <td>NaN</td>\n",
       "      <td>NaN</td>\n",
       "      <td>NaN</td>\n",
       "      <td>NaN</td>\n",
       "      <td>NaN</td>\n",
       "      <td>NaN</td>\n",
       "    </tr>\n",
       "    <tr>\n",
       "      <th>6</th>\n",
       "      <td>NaN</td>\n",
       "      <td>NaN</td>\n",
       "      <td>NaN</td>\n",
       "      <td>NaN</td>\n",
       "      <td>NaN</td>\n",
       "      <td>NaN</td>\n",
       "      <td>NaN</td>\n",
       "      <td>NaN</td>\n",
       "      <td>NaN</td>\n",
       "      <td>NaN</td>\n",
       "      <td>...</td>\n",
       "      <td>NaN</td>\n",
       "      <td>NaN</td>\n",
       "      <td>NaN</td>\n",
       "      <td>NaN</td>\n",
       "      <td>NaN</td>\n",
       "      <td>NaN</td>\n",
       "      <td>NaN</td>\n",
       "      <td>NaN</td>\n",
       "      <td>NaN</td>\n",
       "      <td>NaN</td>\n",
       "    </tr>\n",
       "    <tr>\n",
       "      <th>7</th>\n",
       "      <td>NaN</td>\n",
       "      <td>NaN</td>\n",
       "      <td>NaN</td>\n",
       "      <td>NaN</td>\n",
       "      <td>NaN</td>\n",
       "      <td>NaN</td>\n",
       "      <td>NaN</td>\n",
       "      <td>NaN</td>\n",
       "      <td>NaN</td>\n",
       "      <td>NaN</td>\n",
       "      <td>...</td>\n",
       "      <td>NaN</td>\n",
       "      <td>NaN</td>\n",
       "      <td>NaN</td>\n",
       "      <td>NaN</td>\n",
       "      <td>NaN</td>\n",
       "      <td>NaN</td>\n",
       "      <td>NaN</td>\n",
       "      <td>NaN</td>\n",
       "      <td>NaN</td>\n",
       "      <td>NaN</td>\n",
       "    </tr>\n",
       "    <tr>\n",
       "      <th>8</th>\n",
       "      <td>NaN</td>\n",
       "      <td>NaN</td>\n",
       "      <td>NaN</td>\n",
       "      <td>NaN</td>\n",
       "      <td>NaN</td>\n",
       "      <td>NaN</td>\n",
       "      <td>NaN</td>\n",
       "      <td>NaN</td>\n",
       "      <td>NaN</td>\n",
       "      <td>NaN</td>\n",
       "      <td>...</td>\n",
       "      <td>NaN</td>\n",
       "      <td>NaN</td>\n",
       "      <td>NaN</td>\n",
       "      <td>NaN</td>\n",
       "      <td>NaN</td>\n",
       "      <td>NaN</td>\n",
       "      <td>NaN</td>\n",
       "      <td>NaN</td>\n",
       "      <td>NaN</td>\n",
       "      <td>NaN</td>\n",
       "    </tr>\n",
       "    <tr>\n",
       "      <th>9</th>\n",
       "      <td>NaN</td>\n",
       "      <td>NaN</td>\n",
       "      <td>NaN</td>\n",
       "      <td>NaN</td>\n",
       "      <td>NaN</td>\n",
       "      <td>NaN</td>\n",
       "      <td>NaN</td>\n",
       "      <td>NaN</td>\n",
       "      <td>NaN</td>\n",
       "      <td>NaN</td>\n",
       "      <td>...</td>\n",
       "      <td>NaN</td>\n",
       "      <td>NaN</td>\n",
       "      <td>NaN</td>\n",
       "      <td>NaN</td>\n",
       "      <td>NaN</td>\n",
       "      <td>NaN</td>\n",
       "      <td>NaN</td>\n",
       "      <td>NaN</td>\n",
       "      <td>NaN</td>\n",
       "      <td>NaN</td>\n",
       "    </tr>\n",
       "    <tr>\n",
       "      <th>10</th>\n",
       "      <td>NaN</td>\n",
       "      <td>NaN</td>\n",
       "      <td>NaN</td>\n",
       "      <td>NaN</td>\n",
       "      <td>NaN</td>\n",
       "      <td>NaN</td>\n",
       "      <td>NaN</td>\n",
       "      <td>NaN</td>\n",
       "      <td>NaN</td>\n",
       "      <td>NaN</td>\n",
       "      <td>...</td>\n",
       "      <td>NaN</td>\n",
       "      <td>NaN</td>\n",
       "      <td>NaN</td>\n",
       "      <td>NaN</td>\n",
       "      <td>NaN</td>\n",
       "      <td>NaN</td>\n",
       "      <td>NaN</td>\n",
       "      <td>NaN</td>\n",
       "      <td>NaN</td>\n",
       "      <td>NaN</td>\n",
       "    </tr>\n",
       "  </tbody>\n",
       "</table>\n",
       "<p>10 rows × 5717 columns</p>\n",
       "</div>"
      ],
      "text/plain": [
       "original_title  !Women Art Revolution  $5 a Day  'Gator Bait  'R Xmas  \\\n",
       "userId                                                                  \n",
       "1                                 NaN       NaN          NaN      NaN   \n",
       "2                                 NaN       NaN          NaN      NaN   \n",
       "3                                 NaN       NaN          NaN      NaN   \n",
       "4                                 NaN       NaN          NaN      NaN   \n",
       "5                                 NaN       NaN          NaN      NaN   \n",
       "6                                 NaN       NaN          NaN      NaN   \n",
       "7                                 NaN       NaN          NaN      NaN   \n",
       "8                                 NaN       NaN          NaN      NaN   \n",
       "9                                 NaN       NaN          NaN      NaN   \n",
       "10                                NaN       NaN          NaN      NaN   \n",
       "\n",
       "original_title  'Twas the Night Before Christmas  (A)Sexual  \\\n",
       "userId                                                        \n",
       "1                                            NaN        NaN   \n",
       "2                                            NaN        NaN   \n",
       "3                                            NaN        NaN   \n",
       "4                                            NaN        NaN   \n",
       "5                                            NaN        NaN   \n",
       "6                                            NaN        NaN   \n",
       "7                                            NaN        NaN   \n",
       "8                                            NaN        NaN   \n",
       "9                                            NaN        NaN   \n",
       "10                                           NaN        NaN   \n",
       "\n",
       "original_title  ...And the Pursuit of Happiness  ...Più forte ragazzi!  \\\n",
       "userId                                                                   \n",
       "1                                           NaN                    NaN   \n",
       "2                                           NaN                    NaN   \n",
       "3                                           NaN                    NaN   \n",
       "4                                           NaN                    NaN   \n",
       "5                                           NaN                    NaN   \n",
       "6                                           NaN                    NaN   \n",
       "7                                           NaN                    NaN   \n",
       "8                                           NaN                    NaN   \n",
       "9                                           NaN                    NaN   \n",
       "10                                          NaN                    NaN   \n",
       "\n",
       "original_title  ...altrimenti ci arrabbiamo!  \\\n",
       "userId                                         \n",
       "1                                        NaN   \n",
       "2                                        NaN   \n",
       "3                                        NaN   \n",
       "4                                        NaN   \n",
       "5                                        NaN   \n",
       "6                                        NaN   \n",
       "7                                        NaN   \n",
       "8                                        NaN   \n",
       "9                                        NaN   \n",
       "10                                       NaN   \n",
       "\n",
       "original_title  00 Schneider - Jagd auf Nihil Baxter  ...  최종병기 활  춘향뎐  \\\n",
       "userId                                                ...                \n",
       "1                                                NaN  ...     NaN  NaN   \n",
       "2                                                NaN  ...     NaN  NaN   \n",
       "3                                                NaN  ...     NaN  NaN   \n",
       "4                                                NaN  ...     NaN  NaN   \n",
       "5                                                NaN  ...     NaN  NaN   \n",
       "6                                                NaN  ...     NaN  NaN   \n",
       "7                                                NaN  ...     NaN  NaN   \n",
       "8                                                NaN  ...     NaN  NaN   \n",
       "9                                                NaN  ...     NaN  NaN   \n",
       "10                                               NaN  ...     NaN  NaN   \n",
       "\n",
       "original_title  친절한 금자씨  파란대문  해안선  헬로우 고스트  형사 Duelist   활  회사원  \\\n",
       "userId                                                             \n",
       "1                   NaN   NaN  NaN      NaN         NaN NaN  NaN   \n",
       "2                   NaN   NaN  NaN      NaN         NaN NaN  NaN   \n",
       "3                   NaN   NaN  NaN      NaN         NaN NaN  NaN   \n",
       "4                   NaN   NaN  NaN      NaN         NaN NaN  NaN   \n",
       "5                   NaN   NaN  NaN      NaN         NaN NaN  NaN   \n",
       "6                   NaN   NaN  NaN      NaN         NaN NaN  NaN   \n",
       "7                   NaN   NaN  NaN      NaN         NaN NaN  NaN   \n",
       "8                   NaN   NaN  NaN      NaN         NaN NaN  NaN   \n",
       "9                   NaN   NaN  NaN      NaN         NaN NaN  NaN   \n",
       "10                  NaN   NaN  NaN      NaN         NaN NaN  NaN   \n",
       "\n",
       "original_title  ２０世紀少年< 第1章> 終わりの始まり  \n",
       "userId                                \n",
       "1                                NaN  \n",
       "2                                NaN  \n",
       "3                                NaN  \n",
       "4                                NaN  \n",
       "5                                NaN  \n",
       "6                                NaN  \n",
       "7                                NaN  \n",
       "8                                NaN  \n",
       "9                                NaN  \n",
       "10                               NaN  \n",
       "\n",
       "[10 rows x 5717 columns]"
      ]
     },
     "execution_count": 28,
     "metadata": {},
     "output_type": "execute_result"
    }
   ],
   "source": [
    "movie_mat=ratings.pivot_table(index='userId', columns='original_title', values='rating')\n",
    "movie_mat.head(10)"
   ]
  },
  {
   "cell_type": "code",
   "execution_count": 29,
   "metadata": {
    "ExecuteTime": {
     "end_time": "2020-12-28T07:25:48.568152Z",
     "start_time": "2020-12-28T07:25:48.541222Z"
    }
   },
   "outputs": [
    {
     "data": {
      "text/html": [
       "<div>\n",
       "<style scoped>\n",
       "    .dataframe tbody tr th:only-of-type {\n",
       "        vertical-align: middle;\n",
       "    }\n",
       "\n",
       "    .dataframe tbody tr th {\n",
       "        vertical-align: top;\n",
       "    }\n",
       "\n",
       "    .dataframe thead th {\n",
       "        text-align: right;\n",
       "    }\n",
       "</style>\n",
       "<table border=\"1\" class=\"dataframe\">\n",
       "  <thead>\n",
       "    <tr style=\"text-align: right;\">\n",
       "      <th></th>\n",
       "      <th>rating</th>\n",
       "      <th>num_ratings</th>\n",
       "    </tr>\n",
       "    <tr>\n",
       "      <th>original_title</th>\n",
       "      <th></th>\n",
       "      <th></th>\n",
       "    </tr>\n",
       "  </thead>\n",
       "  <tbody>\n",
       "    <tr>\n",
       "      <th>The Million Dollar Hotel</th>\n",
       "      <td>8.833604</td>\n",
       "      <td>9231</td>\n",
       "    </tr>\n",
       "    <tr>\n",
       "      <th>Terminator 3: Rise of the Machines</th>\n",
       "      <td>8.370379</td>\n",
       "      <td>8764</td>\n",
       "    </tr>\n",
       "    <tr>\n",
       "      <th>Солярис</th>\n",
       "      <td>8.298545</td>\n",
       "      <td>8451</td>\n",
       "    </tr>\n",
       "    <tr>\n",
       "      <th>The 39 Steps</th>\n",
       "      <td>8.243449</td>\n",
       "      <td>7747</td>\n",
       "    </tr>\n",
       "    <tr>\n",
       "      <th>Monsoon Wedding</th>\n",
       "      <td>7.305544</td>\n",
       "      <td>7521</td>\n",
       "    </tr>\n",
       "    <tr>\n",
       "      <th>Once Were Warriors</th>\n",
       "      <td>8.508099</td>\n",
       "      <td>6853</td>\n",
       "    </tr>\n",
       "    <tr>\n",
       "      <th>Trois couleurs : Rouge</th>\n",
       "      <td>8.023949</td>\n",
       "      <td>6639</td>\n",
       "    </tr>\n",
       "    <tr>\n",
       "      <th>License to Wed</th>\n",
       "      <td>8.448151</td>\n",
       "      <td>6056</td>\n",
       "    </tr>\n",
       "    <tr>\n",
       "      <th>La passion de Jeanne d'Arc</th>\n",
       "      <td>6.774511</td>\n",
       "      <td>5783</td>\n",
       "    </tr>\n",
       "    <tr>\n",
       "      <th>48 Hrs.</th>\n",
       "      <td>7.744198</td>\n",
       "      <td>5774</td>\n",
       "    </tr>\n",
       "  </tbody>\n",
       "</table>\n",
       "</div>"
      ],
      "text/plain": [
       "                                      rating  num_ratings\n",
       "original_title                                           \n",
       "The Million Dollar Hotel            8.833604         9231\n",
       "Terminator 3: Rise of the Machines  8.370379         8764\n",
       "Солярис                             8.298545         8451\n",
       "The 39 Steps                        8.243449         7747\n",
       "Monsoon Wedding                     7.305544         7521\n",
       "Once Were Warriors                  8.508099         6853\n",
       "Trois couleurs : Rouge              8.023949         6639\n",
       "License to Wed                      8.448151         6056\n",
       "La passion de Jeanne d'Arc          6.774511         5783\n",
       "48 Hrs.                             7.744198         5774"
      ]
     },
     "execution_count": 29,
     "metadata": {},
     "output_type": "execute_result"
    }
   ],
   "source": [
    "reviews.sort_values('num_ratings', ascending=False).head(10)"
   ]
  },
  {
   "cell_type": "code",
   "execution_count": 30,
   "metadata": {
    "ExecuteTime": {
     "end_time": "2020-12-28T07:25:48.587101Z",
     "start_time": "2020-12-28T07:25:48.572142Z"
    }
   },
   "outputs": [
    {
     "data": {
      "text/html": [
       "<div>\n",
       "<style scoped>\n",
       "    .dataframe tbody tr th:only-of-type {\n",
       "        vertical-align: middle;\n",
       "    }\n",
       "\n",
       "    .dataframe tbody tr th {\n",
       "        vertical-align: top;\n",
       "    }\n",
       "\n",
       "    .dataframe thead th {\n",
       "        text-align: right;\n",
       "    }\n",
       "</style>\n",
       "<table border=\"1\" class=\"dataframe\">\n",
       "  <thead>\n",
       "    <tr style=\"text-align: right;\">\n",
       "      <th></th>\n",
       "      <th>rating</th>\n",
       "      <th>num_ratings</th>\n",
       "    </tr>\n",
       "    <tr>\n",
       "      <th>original_title</th>\n",
       "      <th></th>\n",
       "      <th></th>\n",
       "    </tr>\n",
       "  </thead>\n",
       "  <tbody>\n",
       "    <tr>\n",
       "      <th>!Women Art Revolution</th>\n",
       "      <td>6.119565</td>\n",
       "      <td>92</td>\n",
       "    </tr>\n",
       "    <tr>\n",
       "      <th>$5 a Day</th>\n",
       "      <td>4.888889</td>\n",
       "      <td>18</td>\n",
       "    </tr>\n",
       "    <tr>\n",
       "      <th>'Gator Bait</th>\n",
       "      <td>7.047619</td>\n",
       "      <td>21</td>\n",
       "    </tr>\n",
       "    <tr>\n",
       "      <th>'R Xmas</th>\n",
       "      <td>6.600000</td>\n",
       "      <td>10</td>\n",
       "    </tr>\n",
       "    <tr>\n",
       "      <th>'Twas the Night Before Christmas</th>\n",
       "      <td>7.512195</td>\n",
       "      <td>41</td>\n",
       "    </tr>\n",
       "  </tbody>\n",
       "</table>\n",
       "</div>"
      ],
      "text/plain": [
       "                                    rating  num_ratings\n",
       "original_title                                         \n",
       "!Women Art Revolution             6.119565           92\n",
       "$5 a Day                          4.888889           18\n",
       "'Gator Bait                       7.047619           21\n",
       "'R Xmas                           6.600000           10\n",
       "'Twas the Night Before Christmas  7.512195           41"
      ]
     },
     "execution_count": 30,
     "metadata": {},
     "output_type": "execute_result"
    }
   ],
   "source": [
    "reviews.head()"
   ]
  },
  {
   "cell_type": "code",
   "execution_count": 31,
   "metadata": {
    "ExecuteTime": {
     "end_time": "2020-12-28T07:25:48.606053Z",
     "start_time": "2020-12-28T07:25:48.592089Z"
    }
   },
   "outputs": [
    {
     "data": {
      "text/plain": [
       "userId\n",
       "1   NaN\n",
       "2   NaN\n",
       "3   NaN\n",
       "4   NaN\n",
       "5   NaN\n",
       "Name: Jumanji, dtype: float64"
      ]
     },
     "execution_count": 31,
     "metadata": {},
     "output_type": "execute_result"
    }
   ],
   "source": [
    "Jumanji_user_ratings = movie_mat['Jumanji']\n",
    "Terminator_user_ratings = movie_mat['Terminator Salvation']\n",
    "Jumanji_user_ratings.head()"
   ]
  },
  {
   "cell_type": "markdown",
   "metadata": {},
   "source": [
    "Using corrwith(), correlating two films together to observe the relationship "
   ]
  },
  {
   "cell_type": "code",
   "execution_count": 32,
   "metadata": {
    "ExecuteTime": {
     "end_time": "2020-12-28T07:26:06.365910Z",
     "start_time": "2020-12-28T07:25:48.611038Z"
    }
   },
   "outputs": [
    {
     "name": "stderr",
     "output_type": "stream",
     "text": [
      "C:\\Users\\sathw\\anaconda3\\lib\\site-packages\\numpy\\lib\\function_base.py:2526: RuntimeWarning: Degrees of freedom <= 0 for slice\n",
      "  c = cov(x, y, rowvar)\n",
      "C:\\Users\\sathw\\anaconda3\\lib\\site-packages\\numpy\\lib\\function_base.py:2455: RuntimeWarning: divide by zero encountered in true_divide\n",
      "  c *= np.true_divide(1, fact)\n"
     ]
    },
    {
     "data": {
      "text/plain": [
       "original_title\n",
       "!Women Art Revolution              NaN\n",
       "$5 a Day                           NaN\n",
       "'Gator Bait                        NaN\n",
       "'R Xmas                            NaN\n",
       "'Twas the Night Before Christmas   NaN\n",
       "dtype: float64"
      ]
     },
     "execution_count": 32,
     "metadata": {},
     "output_type": "execute_result"
    }
   ],
   "source": [
    "corr_Jumanji = movie_mat.corrwith(Jumanji_user_ratings)\n",
    "corr_Terminator = movie_mat.corrwith(Terminator_user_ratings)\n",
    "corr_Jumanji.head()"
   ]
  },
  {
   "cell_type": "code",
   "execution_count": 33,
   "metadata": {
    "ExecuteTime": {
     "end_time": "2020-12-28T07:26:06.391841Z",
     "start_time": "2020-12-28T07:26:06.369900Z"
    }
   },
   "outputs": [
    {
     "data": {
      "text/html": [
       "<div>\n",
       "<style scoped>\n",
       "    .dataframe tbody tr th:only-of-type {\n",
       "        vertical-align: middle;\n",
       "    }\n",
       "\n",
       "    .dataframe tbody tr th {\n",
       "        vertical-align: top;\n",
       "    }\n",
       "\n",
       "    .dataframe thead th {\n",
       "        text-align: right;\n",
       "    }\n",
       "</style>\n",
       "<table border=\"1\" class=\"dataframe\">\n",
       "  <thead>\n",
       "    <tr style=\"text-align: right;\">\n",
       "      <th></th>\n",
       "      <th>Correlation</th>\n",
       "    </tr>\n",
       "    <tr>\n",
       "      <th>original_title</th>\n",
       "      <th></th>\n",
       "    </tr>\n",
       "  </thead>\n",
       "  <tbody>\n",
       "    <tr>\n",
       "      <th>...Più forte ragazzi!</th>\n",
       "      <td>0.404520</td>\n",
       "    </tr>\n",
       "    <tr>\n",
       "      <th>10 Items or Less</th>\n",
       "      <td>-0.333333</td>\n",
       "    </tr>\n",
       "    <tr>\n",
       "      <th>13 Tzameti</th>\n",
       "      <td>1.000000</td>\n",
       "    </tr>\n",
       "    <tr>\n",
       "      <th>20,000 Leagues Under the Sea</th>\n",
       "      <td>-0.497310</td>\n",
       "    </tr>\n",
       "    <tr>\n",
       "      <th>28 Weeks Later</th>\n",
       "      <td>-0.333333</td>\n",
       "    </tr>\n",
       "  </tbody>\n",
       "</table>\n",
       "</div>"
      ],
      "text/plain": [
       "                              Correlation\n",
       "original_title                           \n",
       "...Più forte ragazzi!            0.404520\n",
       "10 Items or Less                -0.333333\n",
       "13 Tzameti                       1.000000\n",
       "20,000 Leagues Under the Sea    -0.497310\n",
       "28 Weeks Later                  -0.333333"
      ]
     },
     "execution_count": 33,
     "metadata": {},
     "output_type": "execute_result"
    }
   ],
   "source": [
    "corr_Jumanji= pd.DataFrame(corr_Jumanji, columns=['Correlation'])\n",
    "corr_Jumanji.dropna(inplace=True)\n",
    "corr_Jumanji.head()"
   ]
  },
  {
   "cell_type": "markdown",
   "metadata": {},
   "source": [
    "This perfect correlation shouldn't be completely trusted because some of these films barely have any votes, so it doesn't make sense. To counter with this issue, filter out using number of ratings. "
   ]
  },
  {
   "cell_type": "code",
   "execution_count": 34,
   "metadata": {
    "ExecuteTime": {
     "end_time": "2020-12-28T07:26:06.420764Z",
     "start_time": "2020-12-28T07:26:06.397825Z"
    }
   },
   "outputs": [
    {
     "data": {
      "text/html": [
       "<div>\n",
       "<style scoped>\n",
       "    .dataframe tbody tr th:only-of-type {\n",
       "        vertical-align: middle;\n",
       "    }\n",
       "\n",
       "    .dataframe tbody tr th {\n",
       "        vertical-align: top;\n",
       "    }\n",
       "\n",
       "    .dataframe thead th {\n",
       "        text-align: right;\n",
       "    }\n",
       "</style>\n",
       "<table border=\"1\" class=\"dataframe\">\n",
       "  <thead>\n",
       "    <tr style=\"text-align: right;\">\n",
       "      <th></th>\n",
       "      <th>Correlation</th>\n",
       "    </tr>\n",
       "    <tr>\n",
       "      <th>original_title</th>\n",
       "      <th></th>\n",
       "    </tr>\n",
       "  </thead>\n",
       "  <tbody>\n",
       "    <tr>\n",
       "      <th>Imagination</th>\n",
       "      <td>1.0</td>\n",
       "    </tr>\n",
       "    <tr>\n",
       "      <th>Mother, Jugs &amp; Speed</th>\n",
       "      <td>1.0</td>\n",
       "    </tr>\n",
       "    <tr>\n",
       "      <th>Hero</th>\n",
       "      <td>1.0</td>\n",
       "    </tr>\n",
       "    <tr>\n",
       "      <th>Hors-la-loi</th>\n",
       "      <td>1.0</td>\n",
       "    </tr>\n",
       "    <tr>\n",
       "      <th>The Man Who Knew Too Much</th>\n",
       "      <td>1.0</td>\n",
       "    </tr>\n",
       "    <tr>\n",
       "      <th>In the Blood</th>\n",
       "      <td>1.0</td>\n",
       "    </tr>\n",
       "    <tr>\n",
       "      <th>Jumanji</th>\n",
       "      <td>1.0</td>\n",
       "    </tr>\n",
       "    <tr>\n",
       "      <th>Juste une question d'amour</th>\n",
       "      <td>1.0</td>\n",
       "    </tr>\n",
       "    <tr>\n",
       "      <th>Les émotifs anonymes</th>\n",
       "      <td>1.0</td>\n",
       "    </tr>\n",
       "    <tr>\n",
       "      <th>Breaking the Waves</th>\n",
       "      <td>1.0</td>\n",
       "    </tr>\n",
       "  </tbody>\n",
       "</table>\n",
       "</div>"
      ],
      "text/plain": [
       "                            Correlation\n",
       "original_title                         \n",
       "Imagination                         1.0\n",
       "Mother, Jugs & Speed                1.0\n",
       "Hero                                1.0\n",
       "Hors-la-loi                         1.0\n",
       "The Man Who Knew Too Much           1.0\n",
       "In the Blood                        1.0\n",
       "Jumanji                             1.0\n",
       "Juste une question d'amour          1.0\n",
       "Les émotifs anonymes                1.0\n",
       "Breaking the Waves                  1.0"
      ]
     },
     "execution_count": 34,
     "metadata": {},
     "output_type": "execute_result"
    }
   ],
   "source": [
    "corr_Jumanji.sort_values('Correlation', ascending=False).head(10)"
   ]
  },
  {
   "cell_type": "code",
   "execution_count": 35,
   "metadata": {
    "ExecuteTime": {
     "end_time": "2020-12-28T07:26:06.446694Z",
     "start_time": "2020-12-28T07:26:06.424754Z"
    }
   },
   "outputs": [],
   "source": [
    "corr_Jumanji=corr_Jumanji.join(reviews['num_ratings'])"
   ]
  },
  {
   "cell_type": "markdown",
   "metadata": {},
   "source": [
    "Basing of correlation, if one were to watch Jumanji, he/she should also watch films such 'EVA', 'Shiloh', and 'Saving Grace'. "
   ]
  },
  {
   "cell_type": "code",
   "execution_count": 36,
   "metadata": {
    "ExecuteTime": {
     "end_time": "2020-12-28T07:26:06.479612Z",
     "start_time": "2020-12-28T07:26:06.453676Z"
    }
   },
   "outputs": [
    {
     "data": {
      "text/html": [
       "<div>\n",
       "<style scoped>\n",
       "    .dataframe tbody tr th:only-of-type {\n",
       "        vertical-align: middle;\n",
       "    }\n",
       "\n",
       "    .dataframe tbody tr th {\n",
       "        vertical-align: top;\n",
       "    }\n",
       "\n",
       "    .dataframe thead th {\n",
       "        text-align: right;\n",
       "    }\n",
       "</style>\n",
       "<table border=\"1\" class=\"dataframe\">\n",
       "  <thead>\n",
       "    <tr style=\"text-align: right;\">\n",
       "      <th></th>\n",
       "      <th>Correlation</th>\n",
       "      <th>num_ratings</th>\n",
       "    </tr>\n",
       "    <tr>\n",
       "      <th>original_title</th>\n",
       "      <th></th>\n",
       "      <th></th>\n",
       "    </tr>\n",
       "  </thead>\n",
       "  <tbody>\n",
       "    <tr>\n",
       "      <th>EVA</th>\n",
       "      <td>1.0</td>\n",
       "      <td>1062</td>\n",
       "    </tr>\n",
       "    <tr>\n",
       "      <th>Shiloh</th>\n",
       "      <td>1.0</td>\n",
       "      <td>578</td>\n",
       "    </tr>\n",
       "    <tr>\n",
       "      <th>Saving Grace</th>\n",
       "      <td>1.0</td>\n",
       "      <td>263</td>\n",
       "    </tr>\n",
       "    <tr>\n",
       "      <th>Du rififi chez les hommes</th>\n",
       "      <td>1.0</td>\n",
       "      <td>483</td>\n",
       "    </tr>\n",
       "    <tr>\n",
       "      <th>Juste une question d'amour</th>\n",
       "      <td>1.0</td>\n",
       "      <td>972</td>\n",
       "    </tr>\n",
       "  </tbody>\n",
       "</table>\n",
       "</div>"
      ],
      "text/plain": [
       "                            Correlation  num_ratings\n",
       "original_title                                      \n",
       "EVA                                 1.0         1062\n",
       "Shiloh                              1.0          578\n",
       "Saving Grace                        1.0          263\n",
       "Du rififi chez les hommes           1.0          483\n",
       "Juste une question d'amour          1.0          972"
      ]
     },
     "execution_count": 36,
     "metadata": {},
     "output_type": "execute_result"
    }
   ],
   "source": [
    "corr_Jumanji[corr_Jumanji['num_ratings']>100].sort_values('Correlation', ascending=False).head()"
   ]
  },
  {
   "cell_type": "markdown",
   "metadata": {},
   "source": [
    "Basing of correlation, if one were to watch Terminator, he/she would also enjoy films such as 'Lord of Illusions', 'Bridesmaids', and 'Brubaker'."
   ]
  },
  {
   "cell_type": "code",
   "execution_count": 37,
   "metadata": {
    "ExecuteTime": {
     "end_time": "2020-12-28T07:26:06.521842Z",
     "start_time": "2020-12-28T07:26:06.481867Z"
    }
   },
   "outputs": [
    {
     "data": {
      "text/html": [
       "<div>\n",
       "<style scoped>\n",
       "    .dataframe tbody tr th:only-of-type {\n",
       "        vertical-align: middle;\n",
       "    }\n",
       "\n",
       "    .dataframe tbody tr th {\n",
       "        vertical-align: top;\n",
       "    }\n",
       "\n",
       "    .dataframe thead th {\n",
       "        text-align: right;\n",
       "    }\n",
       "</style>\n",
       "<table border=\"1\" class=\"dataframe\">\n",
       "  <thead>\n",
       "    <tr style=\"text-align: right;\">\n",
       "      <th></th>\n",
       "      <th>Correlation</th>\n",
       "      <th>num_ratings</th>\n",
       "    </tr>\n",
       "    <tr>\n",
       "      <th>original_title</th>\n",
       "      <th></th>\n",
       "      <th></th>\n",
       "    </tr>\n",
       "  </thead>\n",
       "  <tbody>\n",
       "    <tr>\n",
       "      <th>Judex</th>\n",
       "      <td>1.0</td>\n",
       "      <td>202</td>\n",
       "    </tr>\n",
       "    <tr>\n",
       "      <th>La fonte des neiges</th>\n",
       "      <td>1.0</td>\n",
       "      <td>127</td>\n",
       "    </tr>\n",
       "    <tr>\n",
       "      <th>Lord of Illusions</th>\n",
       "      <td>1.0</td>\n",
       "      <td>181</td>\n",
       "    </tr>\n",
       "    <tr>\n",
       "      <th>Brubaker</th>\n",
       "      <td>1.0</td>\n",
       "      <td>106</td>\n",
       "    </tr>\n",
       "    <tr>\n",
       "      <th>Bridesmaids</th>\n",
       "      <td>1.0</td>\n",
       "      <td>173</td>\n",
       "    </tr>\n",
       "  </tbody>\n",
       "</table>\n",
       "</div>"
      ],
      "text/plain": [
       "                     Correlation  num_ratings\n",
       "original_title                               \n",
       "Judex                        1.0          202\n",
       "La fonte des neiges          1.0          127\n",
       "Lord of Illusions            1.0          181\n",
       "Brubaker                     1.0          106\n",
       "Bridesmaids                  1.0          173"
      ]
     },
     "execution_count": 37,
     "metadata": {},
     "output_type": "execute_result"
    }
   ],
   "source": [
    "corr_Terminator=pd.DataFrame(corr_Terminator, columns=['Correlation'])\n",
    "corr_Terminator.dropna(inplace=True)\n",
    "corr_Terminator=corr_Terminator.join(reviews['num_ratings'])\n",
    "corr_Terminator[corr_Terminator['num_ratings']>100].sort_values('Correlation', ascending=False).head()"
   ]
  },
  {
   "cell_type": "markdown",
   "metadata": {},
   "source": [
    "## Hybrid Technique: Scaled Weighted Average and Scaled Popularity score based Recommender<a id='1.9_Hybrid_Technique_\\:_Scaled_Weighted_Average_and_Scaled_Popularity_score_based_Recommender'></a>"
   ]
  },
  {
   "cell_type": "markdown",
   "metadata": {},
   "source": [
    "Working with the TMDB dataset, now will use IMDB's weighted rating formula to construct a hybrid recommender technique. The mathematical formula is represented as follows:  \n",
    "Weighted Rating (WR) =  \n",
    "\\begin{equation}\n",
    "(\\frac{v}{v+m} * R) + (\\frac{m}{v+m} * C)\n",
    "\\end{equation}    \n",
    "where,   \n",
    "- v: number of votes for each film   \n",
    "- m: minimum number of votes  \n",
    "- R: the average rating of a fimn  \n",
    "- C: the mean vote throughout the dataset    \n",
    "Using the **90th percentile** as a cutoff for m, calculating top movies with an addition of a metric  \n",
    "source: https://www.quora.com/How-does-IMDbs-rating-system-work  "
   ]
  },
  {
   "cell_type": "markdown",
   "metadata": {},
   "source": [
    "This is how IMDB ranks their top 250 films. Since the dataset currently being explored is massive, this is just another method to help filter out unworthy films and build a basic recommender system. "
   ]
  },
  {
   "cell_type": "code",
   "execution_count": 38,
   "metadata": {
    "ExecuteTime": {
     "end_time": "2020-12-28T07:26:06.547850Z",
     "start_time": "2020-12-28T07:26:06.521842Z"
    }
   },
   "outputs": [],
   "source": [
    "v = movies['vote_count']\n",
    "m = movies['vote_count'].quantile(0.90)\n",
    "R=movies['vote_average']\n",
    "C=movies['vote_average'].mean()"
   ]
  },
  {
   "cell_type": "code",
   "execution_count": 39,
   "metadata": {
    "ExecuteTime": {
     "end_time": "2020-12-28T07:26:06.595725Z",
     "start_time": "2020-12-28T07:26:06.551839Z"
    }
   },
   "outputs": [],
   "source": [
    "#creating new column, information used: vote count and vote average\n",
    "movies['weighted_average'] = ((R*v)+(C*m))/(v+m)"
   ]
  },
  {
   "cell_type": "code",
   "execution_count": 40,
   "metadata": {
    "ExecuteTime": {
     "end_time": "2020-12-28T07:26:06.691466Z",
     "start_time": "2020-12-28T07:26:06.599712Z"
    }
   },
   "outputs": [
    {
     "data": {
      "text/html": [
       "<div>\n",
       "<style scoped>\n",
       "    .dataframe tbody tr th:only-of-type {\n",
       "        vertical-align: middle;\n",
       "    }\n",
       "\n",
       "    .dataframe tbody tr th {\n",
       "        vertical-align: top;\n",
       "    }\n",
       "\n",
       "    .dataframe thead th {\n",
       "        text-align: right;\n",
       "    }\n",
       "</style>\n",
       "<table border=\"1\" class=\"dataframe\">\n",
       "  <thead>\n",
       "    <tr style=\"text-align: right;\">\n",
       "      <th></th>\n",
       "      <th>adult</th>\n",
       "      <th>budget</th>\n",
       "      <th>genres</th>\n",
       "      <th>id</th>\n",
       "      <th>imdb_id</th>\n",
       "      <th>original_language</th>\n",
       "      <th>original_title</th>\n",
       "      <th>overview</th>\n",
       "      <th>popularity</th>\n",
       "      <th>production_companies</th>\n",
       "      <th>...</th>\n",
       "      <th>spoken_languages</th>\n",
       "      <th>status</th>\n",
       "      <th>tagline</th>\n",
       "      <th>vote_average</th>\n",
       "      <th>vote_count</th>\n",
       "      <th>cast</th>\n",
       "      <th>crew</th>\n",
       "      <th>keywords</th>\n",
       "      <th>details</th>\n",
       "      <th>weighted_average</th>\n",
       "    </tr>\n",
       "  </thead>\n",
       "  <tbody>\n",
       "    <tr>\n",
       "      <th>0</th>\n",
       "      <td>FALSE</td>\n",
       "      <td>30000000</td>\n",
       "      <td>[Animation, Comedy, Family]</td>\n",
       "      <td>862</td>\n",
       "      <td>tt0114709</td>\n",
       "      <td>en</td>\n",
       "      <td>Toy Story</td>\n",
       "      <td>Led by Woody, Andy's toys live happily in his ...</td>\n",
       "      <td>21.946943</td>\n",
       "      <td>[{'name': 'Pixar Animation Studios', 'id': 3}]</td>\n",
       "      <td>...</td>\n",
       "      <td>[English]</td>\n",
       "      <td>Released</td>\n",
       "      <td></td>\n",
       "      <td>7.7</td>\n",
       "      <td>5415.0</td>\n",
       "      <td>[Tom Hanks, Tim Allen, Don Rickles, Jim Varney...</td>\n",
       "      <td>[John Lasseter, Joss Whedon, Andrew Stanton, J...</td>\n",
       "      <td>[jealousy, toy, boy, friendship, friends, riva...</td>\n",
       "      <td>Led by Woody, Andy's toys live happily in his ...</td>\n",
       "      <td>7.641531</td>\n",
       "    </tr>\n",
       "    <tr>\n",
       "      <th>1</th>\n",
       "      <td>FALSE</td>\n",
       "      <td>65000000</td>\n",
       "      <td>[Adventure, Fantasy, Family]</td>\n",
       "      <td>8844</td>\n",
       "      <td>tt0113497</td>\n",
       "      <td>en</td>\n",
       "      <td>Jumanji</td>\n",
       "      <td>When siblings Judy and Peter discover an encha...</td>\n",
       "      <td>17.015539</td>\n",
       "      <td>[{'name': 'TriStar Pictures', 'id': 559}, {'na...</td>\n",
       "      <td>...</td>\n",
       "      <td>[English, Français]</td>\n",
       "      <td>Released</td>\n",
       "      <td>Roll the dice and unleash the excitement!</td>\n",
       "      <td>6.9</td>\n",
       "      <td>2413.0</td>\n",
       "      <td>[Robin Williams, Jonathan Hyde, Kirsten Dunst,...</td>\n",
       "      <td>[Larry J. Franco, Jonathan Hensleigh, James Ho...</td>\n",
       "      <td>[board game, disappearance, based on children'...</td>\n",
       "      <td>When siblings Judy and Peter discover an encha...</td>\n",
       "      <td>6.821786</td>\n",
       "    </tr>\n",
       "    <tr>\n",
       "      <th>2</th>\n",
       "      <td>FALSE</td>\n",
       "      <td>0</td>\n",
       "      <td>[Romance, Comedy]</td>\n",
       "      <td>15602</td>\n",
       "      <td>tt0113228</td>\n",
       "      <td>en</td>\n",
       "      <td>Grumpier Old Men</td>\n",
       "      <td>A family wedding reignites the ancient feud be...</td>\n",
       "      <td>11.7129</td>\n",
       "      <td>[{'name': 'Warner Bros.', 'id': 6194}, {'name'...</td>\n",
       "      <td>...</td>\n",
       "      <td>[English]</td>\n",
       "      <td>Released</td>\n",
       "      <td>Still Yelling. Still Fighting. Still Ready for...</td>\n",
       "      <td>6.5</td>\n",
       "      <td>92.0</td>\n",
       "      <td>[Walter Matthau, Jack Lemmon, Ann-Margret, Sop...</td>\n",
       "      <td>[Howard Deutch, Mark Steven Johnson, Mark Stev...</td>\n",
       "      <td>[fishing, best friend, duringcreditsstinger, o...</td>\n",
       "      <td>A family wedding reignites the ancient feud be...</td>\n",
       "      <td>5.941407</td>\n",
       "    </tr>\n",
       "    <tr>\n",
       "      <th>3</th>\n",
       "      <td>FALSE</td>\n",
       "      <td>16000000</td>\n",
       "      <td>[Comedy, Drama, Romance]</td>\n",
       "      <td>31357</td>\n",
       "      <td>tt0114885</td>\n",
       "      <td>en</td>\n",
       "      <td>Waiting to Exhale</td>\n",
       "      <td>Cheated on, mistreated and stepped on, the wom...</td>\n",
       "      <td>3.859495</td>\n",
       "      <td>[{'name': 'Twentieth Century Fox Film Corporat...</td>\n",
       "      <td>...</td>\n",
       "      <td>[English]</td>\n",
       "      <td>Released</td>\n",
       "      <td>Friends are the people who let you be yourself...</td>\n",
       "      <td>6.1</td>\n",
       "      <td>34.0</td>\n",
       "      <td>[Whitney Houston, Angela Bassett, Loretta Devi...</td>\n",
       "      <td>[Forest Whitaker, Ronald Bass, Ronald Bass, Ez...</td>\n",
       "      <td>[based on novel, interracial relationship, sin...</td>\n",
       "      <td>Cheated on, mistreated and stepped on, the wom...</td>\n",
       "      <td>5.699310</td>\n",
       "    </tr>\n",
       "    <tr>\n",
       "      <th>4</th>\n",
       "      <td>FALSE</td>\n",
       "      <td>0</td>\n",
       "      <td>[Comedy]</td>\n",
       "      <td>11862</td>\n",
       "      <td>tt0113041</td>\n",
       "      <td>en</td>\n",
       "      <td>Father of the Bride Part II</td>\n",
       "      <td>Just when George Banks has recovered from his ...</td>\n",
       "      <td>8.387519</td>\n",
       "      <td>[{'name': 'Sandollar Productions', 'id': 5842}...</td>\n",
       "      <td>...</td>\n",
       "      <td>[English]</td>\n",
       "      <td>Released</td>\n",
       "      <td>Just When His World Is Back To Normal... He's ...</td>\n",
       "      <td>5.7</td>\n",
       "      <td>173.0</td>\n",
       "      <td>[Steve Martin, Diane Keaton, Martin Short, Kim...</td>\n",
       "      <td>[Alan Silvestri, Elliot Davis, Nancy Meyers, N...</td>\n",
       "      <td>[baby, midlife crisis, confidence, aging, daug...</td>\n",
       "      <td>Just when George Banks has recovered from his ...</td>\n",
       "      <td>5.658264</td>\n",
       "    </tr>\n",
       "  </tbody>\n",
       "</table>\n",
       "<p>5 rows × 24 columns</p>\n",
       "</div>"
      ],
      "text/plain": [
       "   adult    budget                        genres     id    imdb_id  \\\n",
       "0  FALSE  30000000   [Animation, Comedy, Family]    862  tt0114709   \n",
       "1  FALSE  65000000  [Adventure, Fantasy, Family]   8844  tt0113497   \n",
       "2  FALSE         0             [Romance, Comedy]  15602  tt0113228   \n",
       "3  FALSE  16000000      [Comedy, Drama, Romance]  31357  tt0114885   \n",
       "4  FALSE         0                      [Comedy]  11862  tt0113041   \n",
       "\n",
       "  original_language               original_title  \\\n",
       "0                en                    Toy Story   \n",
       "1                en                      Jumanji   \n",
       "2                en             Grumpier Old Men   \n",
       "3                en            Waiting to Exhale   \n",
       "4                en  Father of the Bride Part II   \n",
       "\n",
       "                                            overview popularity  \\\n",
       "0  Led by Woody, Andy's toys live happily in his ...  21.946943   \n",
       "1  When siblings Judy and Peter discover an encha...  17.015539   \n",
       "2  A family wedding reignites the ancient feud be...    11.7129   \n",
       "3  Cheated on, mistreated and stepped on, the wom...   3.859495   \n",
       "4  Just when George Banks has recovered from his ...   8.387519   \n",
       "\n",
       "                                production_companies  ...  \\\n",
       "0     [{'name': 'Pixar Animation Studios', 'id': 3}]  ...   \n",
       "1  [{'name': 'TriStar Pictures', 'id': 559}, {'na...  ...   \n",
       "2  [{'name': 'Warner Bros.', 'id': 6194}, {'name'...  ...   \n",
       "3  [{'name': 'Twentieth Century Fox Film Corporat...  ...   \n",
       "4  [{'name': 'Sandollar Productions', 'id': 5842}...  ...   \n",
       "\n",
       "      spoken_languages    status  \\\n",
       "0            [English]  Released   \n",
       "1  [English, Français]  Released   \n",
       "2            [English]  Released   \n",
       "3            [English]  Released   \n",
       "4            [English]  Released   \n",
       "\n",
       "                                             tagline  vote_average vote_count  \\\n",
       "0                                                              7.7     5415.0   \n",
       "1          Roll the dice and unleash the excitement!           6.9     2413.0   \n",
       "2  Still Yelling. Still Fighting. Still Ready for...           6.5       92.0   \n",
       "3  Friends are the people who let you be yourself...           6.1       34.0   \n",
       "4  Just When His World Is Back To Normal... He's ...           5.7      173.0   \n",
       "\n",
       "                                                cast  \\\n",
       "0  [Tom Hanks, Tim Allen, Don Rickles, Jim Varney...   \n",
       "1  [Robin Williams, Jonathan Hyde, Kirsten Dunst,...   \n",
       "2  [Walter Matthau, Jack Lemmon, Ann-Margret, Sop...   \n",
       "3  [Whitney Houston, Angela Bassett, Loretta Devi...   \n",
       "4  [Steve Martin, Diane Keaton, Martin Short, Kim...   \n",
       "\n",
       "                                                crew  \\\n",
       "0  [John Lasseter, Joss Whedon, Andrew Stanton, J...   \n",
       "1  [Larry J. Franco, Jonathan Hensleigh, James Ho...   \n",
       "2  [Howard Deutch, Mark Steven Johnson, Mark Stev...   \n",
       "3  [Forest Whitaker, Ronald Bass, Ronald Bass, Ez...   \n",
       "4  [Alan Silvestri, Elliot Davis, Nancy Meyers, N...   \n",
       "\n",
       "                                            keywords  \\\n",
       "0  [jealousy, toy, boy, friendship, friends, riva...   \n",
       "1  [board game, disappearance, based on children'...   \n",
       "2  [fishing, best friend, duringcreditsstinger, o...   \n",
       "3  [based on novel, interracial relationship, sin...   \n",
       "4  [baby, midlife crisis, confidence, aging, daug...   \n",
       "\n",
       "                                             details weighted_average  \n",
       "0  Led by Woody, Andy's toys live happily in his ...         7.641531  \n",
       "1  When siblings Judy and Peter discover an encha...         6.821786  \n",
       "2  A family wedding reignites the ancient feud be...         5.941407  \n",
       "3  Cheated on, mistreated and stepped on, the wom...         5.699310  \n",
       "4  Just when George Banks has recovered from his ...         5.658264  \n",
       "\n",
       "[5 rows x 24 columns]"
      ]
     },
     "execution_count": 40,
     "metadata": {},
     "output_type": "execute_result"
    }
   ],
   "source": [
    "movies.head()"
   ]
  },
  {
   "cell_type": "code",
   "execution_count": 41,
   "metadata": {
    "ExecuteTime": {
     "end_time": "2020-12-28T07:26:07.129905Z",
     "start_time": "2020-12-28T07:26:06.694458Z"
    },
    "scrolled": true
   },
   "outputs": [
    {
     "data": {
      "text/html": [
       "<div>\n",
       "<style scoped>\n",
       "    .dataframe tbody tr th:only-of-type {\n",
       "        vertical-align: middle;\n",
       "    }\n",
       "\n",
       "    .dataframe tbody tr th {\n",
       "        vertical-align: top;\n",
       "    }\n",
       "\n",
       "    .dataframe thead th {\n",
       "        text-align: right;\n",
       "    }\n",
       "</style>\n",
       "<table border=\"1\" class=\"dataframe\">\n",
       "  <thead>\n",
       "    <tr style=\"text-align: right;\">\n",
       "      <th></th>\n",
       "      <th>original_title</th>\n",
       "      <th>vote_count</th>\n",
       "      <th>vote_average</th>\n",
       "      <th>weighted_average</th>\n",
       "      <th>popularity</th>\n",
       "    </tr>\n",
       "  </thead>\n",
       "  <tbody>\n",
       "    <tr>\n",
       "      <th>314</th>\n",
       "      <td>The Shawshank Redemption</td>\n",
       "      <td>8358.0</td>\n",
       "      <td>8.5</td>\n",
       "      <td>8.447084</td>\n",
       "      <td>51.645403</td>\n",
       "    </tr>\n",
       "    <tr>\n",
       "      <th>10345</th>\n",
       "      <td>Dilwale Dulhania Le Jayenge</td>\n",
       "      <td>661.0</td>\n",
       "      <td>9.1</td>\n",
       "      <td>8.433989</td>\n",
       "      <td>34.457024</td>\n",
       "    </tr>\n",
       "    <tr>\n",
       "      <th>837</th>\n",
       "      <td>The Godfather</td>\n",
       "      <td>6024.0</td>\n",
       "      <td>8.5</td>\n",
       "      <td>8.427099</td>\n",
       "      <td>41.109264</td>\n",
       "    </tr>\n",
       "    <tr>\n",
       "      <th>12525</th>\n",
       "      <td>The Dark Knight</td>\n",
       "      <td>12269.0</td>\n",
       "      <td>8.3</td>\n",
       "      <td>8.266251</td>\n",
       "      <td>123.167259</td>\n",
       "    </tr>\n",
       "    <tr>\n",
       "      <th>2854</th>\n",
       "      <td>Fight Club</td>\n",
       "      <td>9678.0</td>\n",
       "      <td>8.3</td>\n",
       "      <td>8.257359</td>\n",
       "      <td>63.869599</td>\n",
       "    </tr>\n",
       "    <tr>\n",
       "      <th>292</th>\n",
       "      <td>Pulp Fiction</td>\n",
       "      <td>8670.0</td>\n",
       "      <td>8.3</td>\n",
       "      <td>8.252489</td>\n",
       "      <td>140.950236</td>\n",
       "    </tr>\n",
       "    <tr>\n",
       "      <th>522</th>\n",
       "      <td>Schindler's List</td>\n",
       "      <td>4436.0</td>\n",
       "      <td>8.3</td>\n",
       "      <td>8.208682</td>\n",
       "      <td>41.725123</td>\n",
       "    </tr>\n",
       "    <tr>\n",
       "      <th>23743</th>\n",
       "      <td>Whiplash</td>\n",
       "      <td>4376.0</td>\n",
       "      <td>8.3</td>\n",
       "      <td>8.207473</td>\n",
       "      <td>64.29999</td>\n",
       "    </tr>\n",
       "    <tr>\n",
       "      <th>5501</th>\n",
       "      <td>千と千尋の神隠し</td>\n",
       "      <td>3968.0</td>\n",
       "      <td>8.3</td>\n",
       "      <td>8.198319</td>\n",
       "      <td>41.048867</td>\n",
       "    </tr>\n",
       "    <tr>\n",
       "      <th>2219</th>\n",
       "      <td>La vita è bella</td>\n",
       "      <td>3643.0</td>\n",
       "      <td>8.3</td>\n",
       "      <td>8.189621</td>\n",
       "      <td>39.39497</td>\n",
       "    </tr>\n",
       "    <tr>\n",
       "      <th>1187</th>\n",
       "      <td>The Godfather: Part II</td>\n",
       "      <td>3418.0</td>\n",
       "      <td>8.3</td>\n",
       "      <td>8.182672</td>\n",
       "      <td>36.629307</td>\n",
       "    </tr>\n",
       "    <tr>\n",
       "      <th>1161</th>\n",
       "      <td>One Flew Over the Cuckoo's Nest</td>\n",
       "      <td>3001.0</td>\n",
       "      <td>8.3</td>\n",
       "      <td>8.167174</td>\n",
       "      <td>35.529554</td>\n",
       "    </tr>\n",
       "    <tr>\n",
       "      <th>351</th>\n",
       "      <td>Forrest Gump</td>\n",
       "      <td>8147.0</td>\n",
       "      <td>8.2</td>\n",
       "      <td>8.151375</td>\n",
       "      <td>48.307194</td>\n",
       "    </tr>\n",
       "    <tr>\n",
       "      <th>1185</th>\n",
       "      <td>Psycho</td>\n",
       "      <td>2405.0</td>\n",
       "      <td>8.3</td>\n",
       "      <td>8.136263</td>\n",
       "      <td>36.826309</td>\n",
       "    </tr>\n",
       "    <tr>\n",
       "      <th>1163</th>\n",
       "      <td>The Empire Strikes Back</td>\n",
       "      <td>5998.0</td>\n",
       "      <td>8.2</td>\n",
       "      <td>8.134395</td>\n",
       "      <td>19.470959</td>\n",
       "    </tr>\n",
       "    <tr>\n",
       "      <th>18539</th>\n",
       "      <td>Intouchables</td>\n",
       "      <td>5410.0</td>\n",
       "      <td>8.2</td>\n",
       "      <td>8.127465</td>\n",
       "      <td>16.086919</td>\n",
       "    </tr>\n",
       "    <tr>\n",
       "      <th>41282</th>\n",
       "      <td>君の名は。</td>\n",
       "      <td>1030.0</td>\n",
       "      <td>8.5</td>\n",
       "      <td>8.120126</td>\n",
       "      <td>34.461252</td>\n",
       "    </tr>\n",
       "    <tr>\n",
       "      <th>289</th>\n",
       "      <td>Léon</td>\n",
       "      <td>4293.0</td>\n",
       "      <td>8.2</td>\n",
       "      <td>8.109254</td>\n",
       "      <td>20.477329</td>\n",
       "    </tr>\n",
       "    <tr>\n",
       "      <th>3041</th>\n",
       "      <td>The Green Mile</td>\n",
       "      <td>4166.0</td>\n",
       "      <td>8.2</td>\n",
       "      <td>8.106587</td>\n",
       "      <td>19.96678</td>\n",
       "    </tr>\n",
       "    <tr>\n",
       "      <th>1179</th>\n",
       "      <td>GoodFellas</td>\n",
       "      <td>3211.0</td>\n",
       "      <td>8.2</td>\n",
       "      <td>8.080092</td>\n",
       "      <td>15.424092</td>\n",
       "    </tr>\n",
       "  </tbody>\n",
       "</table>\n",
       "</div>"
      ],
      "text/plain": [
       "                        original_title  vote_count  vote_average  \\\n",
       "314           The Shawshank Redemption      8358.0           8.5   \n",
       "10345      Dilwale Dulhania Le Jayenge       661.0           9.1   \n",
       "837                      The Godfather      6024.0           8.5   \n",
       "12525                  The Dark Knight     12269.0           8.3   \n",
       "2854                        Fight Club      9678.0           8.3   \n",
       "292                       Pulp Fiction      8670.0           8.3   \n",
       "522                   Schindler's List      4436.0           8.3   \n",
       "23743                         Whiplash      4376.0           8.3   \n",
       "5501                          千と千尋の神隠し      3968.0           8.3   \n",
       "2219                   La vita è bella      3643.0           8.3   \n",
       "1187            The Godfather: Part II      3418.0           8.3   \n",
       "1161   One Flew Over the Cuckoo's Nest      3001.0           8.3   \n",
       "351                       Forrest Gump      8147.0           8.2   \n",
       "1185                            Psycho      2405.0           8.3   \n",
       "1163           The Empire Strikes Back      5998.0           8.2   \n",
       "18539                     Intouchables      5410.0           8.2   \n",
       "41282                            君の名は。      1030.0           8.5   \n",
       "289                               Léon      4293.0           8.2   \n",
       "3041                    The Green Mile      4166.0           8.2   \n",
       "1179                        GoodFellas      3211.0           8.2   \n",
       "\n",
       "       weighted_average  popularity  \n",
       "314            8.447084   51.645403  \n",
       "10345          8.433989   34.457024  \n",
       "837            8.427099   41.109264  \n",
       "12525          8.266251  123.167259  \n",
       "2854           8.257359   63.869599  \n",
       "292            8.252489  140.950236  \n",
       "522            8.208682   41.725123  \n",
       "23743          8.207473    64.29999  \n",
       "5501           8.198319   41.048867  \n",
       "2219           8.189621    39.39497  \n",
       "1187           8.182672   36.629307  \n",
       "1161           8.167174   35.529554  \n",
       "351            8.151375   48.307194  \n",
       "1185           8.136263   36.826309  \n",
       "1163           8.134395   19.470959  \n",
       "18539          8.127465   16.086919  \n",
       "41282          8.120126   34.461252  \n",
       "289            8.109254   20.477329  \n",
       "3041           8.106587    19.96678  \n",
       "1179           8.080092   15.424092  "
      ]
     },
     "execution_count": 41,
     "metadata": {},
     "output_type": "execute_result"
    }
   ],
   "source": [
    "sorted_ranked_movies = movies.sort_values('weighted_average', ascending=False)\n",
    "sorted_ranked_movies[['original_title', 'vote_count', 'vote_average', 'weighted_average', 'popularity']].head(20)"
   ]
  },
  {
   "cell_type": "markdown",
   "metadata": {},
   "source": [
    "Suppose the viewer is watching 'The Shawshank Redemption' film, focusing on vote count, vote average, and weighted average features, he/she will also enjoy watching films such as 'The Godfather', 'The Dark Knight', and 'Fight Club' since their weighted averages are near each other.  \n",
    "This can be identified as collaborative filtering since we are using variables that are calculated from user input or content-based because of the features."
   ]
  },
  {
   "cell_type": "code",
   "execution_count": 42,
   "metadata": {
    "ExecuteTime": {
     "end_time": "2020-12-28T07:26:07.633509Z",
     "start_time": "2020-12-28T07:26:07.129905Z"
    }
   },
   "outputs": [
    {
     "name": "stderr",
     "output_type": "stream",
     "text": [
      "C:\\Users\\sathw\\anaconda3\\lib\\site-packages\\matplotlib\\backends\\backend_agg.py:214: RuntimeWarning: Glyph 21315 missing from current font.\n",
      "  font.set_text(s, 0.0, flags=flags)\n",
      "C:\\Users\\sathw\\anaconda3\\lib\\site-packages\\matplotlib\\backends\\backend_agg.py:214: RuntimeWarning: Glyph 12392 missing from current font.\n",
      "  font.set_text(s, 0.0, flags=flags)\n",
      "C:\\Users\\sathw\\anaconda3\\lib\\site-packages\\matplotlib\\backends\\backend_agg.py:214: RuntimeWarning: Glyph 23563 missing from current font.\n",
      "  font.set_text(s, 0.0, flags=flags)\n",
      "C:\\Users\\sathw\\anaconda3\\lib\\site-packages\\matplotlib\\backends\\backend_agg.py:214: RuntimeWarning: Glyph 12398 missing from current font.\n",
      "  font.set_text(s, 0.0, flags=flags)\n",
      "C:\\Users\\sathw\\anaconda3\\lib\\site-packages\\matplotlib\\backends\\backend_agg.py:214: RuntimeWarning: Glyph 31070 missing from current font.\n",
      "  font.set_text(s, 0.0, flags=flags)\n",
      "C:\\Users\\sathw\\anaconda3\\lib\\site-packages\\matplotlib\\backends\\backend_agg.py:214: RuntimeWarning: Glyph 38560 missing from current font.\n",
      "  font.set_text(s, 0.0, flags=flags)\n",
      "C:\\Users\\sathw\\anaconda3\\lib\\site-packages\\matplotlib\\backends\\backend_agg.py:214: RuntimeWarning: Glyph 12375 missing from current font.\n",
      "  font.set_text(s, 0.0, flags=flags)\n",
      "C:\\Users\\sathw\\anaconda3\\lib\\site-packages\\matplotlib\\backends\\backend_agg.py:183: RuntimeWarning: Glyph 21315 missing from current font.\n",
      "  font.set_text(s, 0, flags=flags)\n",
      "C:\\Users\\sathw\\anaconda3\\lib\\site-packages\\matplotlib\\backends\\backend_agg.py:183: RuntimeWarning: Glyph 12392 missing from current font.\n",
      "  font.set_text(s, 0, flags=flags)\n",
      "C:\\Users\\sathw\\anaconda3\\lib\\site-packages\\matplotlib\\backends\\backend_agg.py:183: RuntimeWarning: Glyph 23563 missing from current font.\n",
      "  font.set_text(s, 0, flags=flags)\n",
      "C:\\Users\\sathw\\anaconda3\\lib\\site-packages\\matplotlib\\backends\\backend_agg.py:183: RuntimeWarning: Glyph 12398 missing from current font.\n",
      "  font.set_text(s, 0, flags=flags)\n",
      "C:\\Users\\sathw\\anaconda3\\lib\\site-packages\\matplotlib\\backends\\backend_agg.py:183: RuntimeWarning: Glyph 31070 missing from current font.\n",
      "  font.set_text(s, 0, flags=flags)\n",
      "C:\\Users\\sathw\\anaconda3\\lib\\site-packages\\matplotlib\\backends\\backend_agg.py:183: RuntimeWarning: Glyph 38560 missing from current font.\n",
      "  font.set_text(s, 0, flags=flags)\n",
      "C:\\Users\\sathw\\anaconda3\\lib\\site-packages\\matplotlib\\backends\\backend_agg.py:183: RuntimeWarning: Glyph 12375 missing from current font.\n",
      "  font.set_text(s, 0, flags=flags)\n"
     ]
    },
    {
     "data": {
      "image/png": "[encoded data removed]",
      "text/plain": [
       "<Figure size 864x432 with 1 Axes>"
      ]
     },
     "metadata": {},
     "output_type": "display_data"
    }
   ],
   "source": [
    "plt.figure(figsize=(12,6))\n",
    "_=sns.barplot(x=sorted_ranked_movies['weighted_average'].head(10), y=sorted_ranked_movies['original_title'].head(10), data=sorted_ranked_movies)\n",
    "_=plt.xlim(4,10)\n",
    "_=plt.title('Top Movies by Weighted Average', weight='bold')\n",
    "_=plt.xlabel('Weighted Average Score')\n",
    "_=plt.ylabel('Movie Titles')"
   ]
  },
  {
   "cell_type": "markdown",
   "metadata": {},
   "source": [
    "When pinpointing on vote average, vote count, and weighted average, films such as 'The Shawshank Redemption', 'Dilwale Dulhania Le Jayenge' (Indian film), and 'The Godfather' are the best films. "
   ]
  },
  {
   "cell_type": "markdown",
   "metadata": {},
   "source": [
    "**Now, focusing on popularity score**"
   ]
  },
  {
   "cell_type": "code",
   "execution_count": 43,
   "metadata": {
    "ExecuteTime": {
     "end_time": "2020-12-28T07:26:07.744237Z",
     "start_time": "2020-12-28T07:26:07.633509Z"
    }
   },
   "outputs": [],
   "source": [
    "popularity=sorted_ranked_movies.sort_values('popularity', ascending=False)"
   ]
  },
  {
   "cell_type": "code",
   "execution_count": 44,
   "metadata": {
    "ExecuteTime": {
     "end_time": "2020-12-28T07:26:07.804409Z",
     "start_time": "2020-12-28T07:26:07.744237Z"
    }
   },
   "outputs": [
    {
     "data": {
      "text/html": [
       "<div>\n",
       "<style scoped>\n",
       "    .dataframe tbody tr th:only-of-type {\n",
       "        vertical-align: middle;\n",
       "    }\n",
       "\n",
       "    .dataframe tbody tr th {\n",
       "        vertical-align: top;\n",
       "    }\n",
       "\n",
       "    .dataframe thead th {\n",
       "        text-align: right;\n",
       "    }\n",
       "</style>\n",
       "<table border=\"1\" class=\"dataframe\">\n",
       "  <thead>\n",
       "    <tr style=\"text-align: right;\">\n",
       "      <th></th>\n",
       "      <th>adult</th>\n",
       "      <th>budget</th>\n",
       "      <th>genres</th>\n",
       "      <th>id</th>\n",
       "      <th>imdb_id</th>\n",
       "      <th>original_language</th>\n",
       "      <th>original_title</th>\n",
       "      <th>overview</th>\n",
       "      <th>popularity</th>\n",
       "      <th>production_companies</th>\n",
       "      <th>...</th>\n",
       "      <th>spoken_languages</th>\n",
       "      <th>status</th>\n",
       "      <th>tagline</th>\n",
       "      <th>vote_average</th>\n",
       "      <th>vote_count</th>\n",
       "      <th>cast</th>\n",
       "      <th>crew</th>\n",
       "      <th>keywords</th>\n",
       "      <th>details</th>\n",
       "      <th>weighted_average</th>\n",
       "    </tr>\n",
       "  </thead>\n",
       "  <tbody>\n",
       "    <tr>\n",
       "      <th>536</th>\n",
       "      <td>FALSE</td>\n",
       "      <td>28000000</td>\n",
       "      <td>[Science Fiction, Drama, Thriller]</td>\n",
       "      <td>78</td>\n",
       "      <td>tt0083658</td>\n",
       "      <td>en</td>\n",
       "      <td>Blade Runner</td>\n",
       "      <td>In the smog-choked dystopian Los Angeles of 20...</td>\n",
       "      <td>96.272374</td>\n",
       "      <td>[{'name': 'Shaw Brothers', 'id': 5798}, {'name...</td>\n",
       "      <td>...</td>\n",
       "      <td>[English, Deutsch, 广州话 / 廣州話, 日本語, Magyar]</td>\n",
       "      <td>Released</td>\n",
       "      <td>Man has made his match... now it's his problem.</td>\n",
       "      <td>7.9</td>\n",
       "      <td>3833.0</td>\n",
       "      <td>[Harrison Ford, Rutger Hauer, Sean Young, Edwa...</td>\n",
       "      <td>[Brian Tufano, Ridley Scott, Michael Deeley, P...</td>\n",
       "      <td>[artificial intelligence, bounty hunter, dysto...</td>\n",
       "      <td>In the smog-choked dystopian Los Angeles of 20...</td>\n",
       "      <td>7.810521</td>\n",
       "    </tr>\n",
       "    <tr>\n",
       "      <th>3504</th>\n",
       "      <td>FALSE</td>\n",
       "      <td>127500000</td>\n",
       "      <td>[Animation, Family]</td>\n",
       "      <td>10567</td>\n",
       "      <td>tt0130623</td>\n",
       "      <td>en</td>\n",
       "      <td>Dinosaur</td>\n",
       "      <td>An orphaned dinosaur raised by lemurs joins an...</td>\n",
       "      <td>9.998415</td>\n",
       "      <td>[{'name': 'Walt Disney Pictures', 'id': 2}, {'...</td>\n",
       "      <td>...</td>\n",
       "      <td>[English]</td>\n",
       "      <td>Released</td>\n",
       "      <td>You have never seen anything like this.</td>\n",
       "      <td>6.2</td>\n",
       "      <td>563.0</td>\n",
       "      <td>[D. B. Sweeney, Alfre Woodard, Ossie Davis, Ma...</td>\n",
       "      <td>[Ralph Zondag, Eric Leighton, Pam Marsden, Bak...</td>\n",
       "      <td>[cataclysm, asteroid, leader, comet, animation...</td>\n",
       "      <td>An orphaned dinosaur raised by lemurs joins an...</td>\n",
       "      <td>6.072419</td>\n",
       "    </tr>\n",
       "    <tr>\n",
       "      <th>10556</th>\n",
       "      <td>FALSE</td>\n",
       "      <td>72000000</td>\n",
       "      <td>[Drama, War]</td>\n",
       "      <td>25</td>\n",
       "      <td>tt0418763</td>\n",
       "      <td>en</td>\n",
       "      <td>Jarhead</td>\n",
       "      <td>Jarhead is a film about a US Marine Anthony Sw...</td>\n",
       "      <td>9.997032</td>\n",
       "      <td>[{'name': 'Universal Pictures', 'id': 33}, {'n...</td>\n",
       "      <td>...</td>\n",
       "      <td>[English, Español, العربية, Latin]</td>\n",
       "      <td>Released</td>\n",
       "      <td>Welcome to the suck.</td>\n",
       "      <td>6.6</td>\n",
       "      <td>776.0</td>\n",
       "      <td>[Jamie Foxx, Jake Gyllenhaal, Scott MacDonald,...</td>\n",
       "      <td>[Thomas Newman, Sam Mendes, Sam Mendes, Bobby ...</td>\n",
       "      <td>[sniper, marine corps, saudi arabia, petrol, g...</td>\n",
       "      <td>Jarhead is a film about a US Marine Anthony Sw...</td>\n",
       "      <td>6.434623</td>\n",
       "    </tr>\n",
       "    <tr>\n",
       "      <th>11294</th>\n",
       "      <td>FALSE</td>\n",
       "      <td>20000000</td>\n",
       "      <td>[Comedy, Drama, Romance]</td>\n",
       "      <td>7511</td>\n",
       "      <td>tt0434139</td>\n",
       "      <td>en</td>\n",
       "      <td>The Last Kiss</td>\n",
       "      <td>Revolves around a young couple and their frien...</td>\n",
       "      <td>9.996541</td>\n",
       "      <td>[{'name': 'Lakeshore Entertainment', 'id': 126...</td>\n",
       "      <td>...</td>\n",
       "      <td>[English]</td>\n",
       "      <td>Released</td>\n",
       "      <td>We all make choices. What's yours?</td>\n",
       "      <td>5.9</td>\n",
       "      <td>125.0</td>\n",
       "      <td>[Zach Braff, Jacinda Barrett, Casey Affleck, R...</td>\n",
       "      <td>[Paul Haggis, Tom Rosenberg, Tom Stern, Tony G...</td>\n",
       "      <td>[sex, architect, striptease, deceived wife, st...</td>\n",
       "      <td>Revolves around a young couple and their frien...</td>\n",
       "      <td>5.740103</td>\n",
       "    </tr>\n",
       "    <tr>\n",
       "      <th>18103</th>\n",
       "      <td>FALSE</td>\n",
       "      <td>50000000</td>\n",
       "      <td>[Drama, Thriller, Mystery]</td>\n",
       "      <td>69668</td>\n",
       "      <td>tt1462041</td>\n",
       "      <td>en</td>\n",
       "      <td>Dream House</td>\n",
       "      <td>Publisher, Will Atenton quits a lucrative job ...</td>\n",
       "      <td>9.995617</td>\n",
       "      <td>[{'name': 'Cliffjack Motion Pictures', 'id': 8...</td>\n",
       "      <td>...</td>\n",
       "      <td>[English]</td>\n",
       "      <td>Released</td>\n",
       "      <td>Once upon a time, there were two little girls ...</td>\n",
       "      <td>5.8</td>\n",
       "      <td>401.0</td>\n",
       "      <td>[Daniel Craig, Naomi Watts, Rachel Weisz, Mart...</td>\n",
       "      <td>[Avy Kaufman, Glen Scantlebury, John Debney, J...</td>\n",
       "      <td>[house fire, extension ladder, last day on job]</td>\n",
       "      <td>Publisher, Will Atenton quits a lucrative job ...</td>\n",
       "      <td>5.747341</td>\n",
       "    </tr>\n",
       "  </tbody>\n",
       "</table>\n",
       "<p>5 rows × 24 columns</p>\n",
       "</div>"
      ],
      "text/plain": [
       "       adult     budget                              genres     id    imdb_id  \\\n",
       "536    FALSE   28000000  [Science Fiction, Drama, Thriller]     78  tt0083658   \n",
       "3504   FALSE  127500000                 [Animation, Family]  10567  tt0130623   \n",
       "10556  FALSE   72000000                        [Drama, War]     25  tt0418763   \n",
       "11294  FALSE   20000000            [Comedy, Drama, Romance]   7511  tt0434139   \n",
       "18103  FALSE   50000000          [Drama, Thriller, Mystery]  69668  tt1462041   \n",
       "\n",
       "      original_language original_title  \\\n",
       "536                  en   Blade Runner   \n",
       "3504                 en       Dinosaur   \n",
       "10556                en        Jarhead   \n",
       "11294                en  The Last Kiss   \n",
       "18103                en    Dream House   \n",
       "\n",
       "                                                overview popularity  \\\n",
       "536    In the smog-choked dystopian Los Angeles of 20...  96.272374   \n",
       "3504   An orphaned dinosaur raised by lemurs joins an...   9.998415   \n",
       "10556  Jarhead is a film about a US Marine Anthony Sw...   9.997032   \n",
       "11294  Revolves around a young couple and their frien...   9.996541   \n",
       "18103  Publisher, Will Atenton quits a lucrative job ...   9.995617   \n",
       "\n",
       "                                    production_companies  ...  \\\n",
       "536    [{'name': 'Shaw Brothers', 'id': 5798}, {'name...  ...   \n",
       "3504   [{'name': 'Walt Disney Pictures', 'id': 2}, {'...  ...   \n",
       "10556  [{'name': 'Universal Pictures', 'id': 33}, {'n...  ...   \n",
       "11294  [{'name': 'Lakeshore Entertainment', 'id': 126...  ...   \n",
       "18103  [{'name': 'Cliffjack Motion Pictures', 'id': 8...  ...   \n",
       "\n",
       "                                 spoken_languages    status  \\\n",
       "536    [English, Deutsch, 广州话 / 廣州話, 日本語, Magyar]  Released   \n",
       "3504                                    [English]  Released   \n",
       "10556          [English, Español, العربية, Latin]  Released   \n",
       "11294                                   [English]  Released   \n",
       "18103                                   [English]  Released   \n",
       "\n",
       "                                                 tagline  vote_average  \\\n",
       "536      Man has made his match... now it's his problem.           7.9   \n",
       "3504             You have never seen anything like this.           6.2   \n",
       "10556                               Welcome to the suck.           6.6   \n",
       "11294                 We all make choices. What's yours?           5.9   \n",
       "18103  Once upon a time, there were two little girls ...           5.8   \n",
       "\n",
       "      vote_count                                               cast  \\\n",
       "536       3833.0  [Harrison Ford, Rutger Hauer, Sean Young, Edwa...   \n",
       "3504       563.0  [D. B. Sweeney, Alfre Woodard, Ossie Davis, Ma...   \n",
       "10556      776.0  [Jamie Foxx, Jake Gyllenhaal, Scott MacDonald,...   \n",
       "11294      125.0  [Zach Braff, Jacinda Barrett, Casey Affleck, R...   \n",
       "18103      401.0  [Daniel Craig, Naomi Watts, Rachel Weisz, Mart...   \n",
       "\n",
       "                                                    crew  \\\n",
       "536    [Brian Tufano, Ridley Scott, Michael Deeley, P...   \n",
       "3504   [Ralph Zondag, Eric Leighton, Pam Marsden, Bak...   \n",
       "10556  [Thomas Newman, Sam Mendes, Sam Mendes, Bobby ...   \n",
       "11294  [Paul Haggis, Tom Rosenberg, Tom Stern, Tony G...   \n",
       "18103  [Avy Kaufman, Glen Scantlebury, John Debney, J...   \n",
       "\n",
       "                                                keywords  \\\n",
       "536    [artificial intelligence, bounty hunter, dysto...   \n",
       "3504   [cataclysm, asteroid, leader, comet, animation...   \n",
       "10556  [sniper, marine corps, saudi arabia, petrol, g...   \n",
       "11294  [sex, architect, striptease, deceived wife, st...   \n",
       "18103    [house fire, extension ladder, last day on job]   \n",
       "\n",
       "                                                 details weighted_average  \n",
       "536    In the smog-choked dystopian Los Angeles of 20...         7.810521  \n",
       "3504   An orphaned dinosaur raised by lemurs joins an...         6.072419  \n",
       "10556  Jarhead is a film about a US Marine Anthony Sw...         6.434623  \n",
       "11294  Revolves around a young couple and their frien...         5.740103  \n",
       "18103  Publisher, Will Atenton quits a lucrative job ...         5.747341  \n",
       "\n",
       "[5 rows x 24 columns]"
      ]
     },
     "execution_count": 44,
     "metadata": {},
     "output_type": "execute_result"
    }
   ],
   "source": [
    "popularity.head()"
   ]
  },
  {
   "cell_type": "code",
   "execution_count": 45,
   "metadata": {
    "ExecuteTime": {
     "end_time": "2020-12-28T07:26:07.813384Z",
     "start_time": "2020-12-28T07:26:07.806402Z"
    }
   },
   "outputs": [
    {
     "data": {
      "text/plain": [
       "pandas.core.series.Series"
      ]
     },
     "execution_count": 45,
     "metadata": {},
     "output_type": "execute_result"
    }
   ],
   "source": [
    "type(popularity.popularity)"
   ]
  },
  {
   "cell_type": "code",
   "execution_count": 46,
   "metadata": {
    "ExecuteTime": {
     "end_time": "2020-12-28T07:26:07.857266Z",
     "start_time": "2020-12-28T07:26:07.816378Z"
    }
   },
   "outputs": [],
   "source": [
    "popularity.popularity=popularity.popularity.astype(float)"
   ]
  },
  {
   "cell_type": "code",
   "execution_count": 47,
   "metadata": {
    "ExecuteTime": {
     "end_time": "2020-12-28T07:26:08.245373Z",
     "start_time": "2020-12-28T07:26:07.860259Z"
    }
   },
   "outputs": [
    {
     "data": {
      "image/png": "[encoded data removed]",
      "text/plain": [
       "<Figure size 864x432 with 1 Axes>"
      ]
     },
     "metadata": {},
     "output_type": "display_data"
    }
   ],
   "source": [
    "plt.figure(figsize=(12,6))\n",
    "_=sns.barplot(x=popularity['popularity'].head(10), y=popularity['original_title'].head(10), data=popularity)\n",
    "\n",
    "_=plt.title('Most Popular Movies', weight= 'bold')\n",
    "_=plt.xlabel('Popularity Score')\n",
    "_=plt.ylabel('Movie Titles')"
   ]
  },
  {
   "cell_type": "markdown",
   "metadata": {},
   "source": [
    "Priority is given to each feature, 50% importance to popularity and weighted average. The purpose behind this implementation is because when comparing the magnitudes of weighted average and popularity, they are significantly different. Since they may have different units, scaling them may help build a basic recommender system. "
   ]
  },
  {
   "cell_type": "code",
   "execution_count": 48,
   "metadata": {
    "ExecuteTime": {
     "end_time": "2020-12-28T07:26:08.320432Z",
     "start_time": "2020-12-28T07:26:08.245373Z"
    }
   },
   "outputs": [
    {
     "data": {
      "text/html": [
       "<div>\n",
       "<style scoped>\n",
       "    .dataframe tbody tr th:only-of-type {\n",
       "        vertical-align: middle;\n",
       "    }\n",
       "\n",
       "    .dataframe tbody tr th {\n",
       "        vertical-align: top;\n",
       "    }\n",
       "\n",
       "    .dataframe thead th {\n",
       "        text-align: right;\n",
       "    }\n",
       "</style>\n",
       "<table border=\"1\" class=\"dataframe\">\n",
       "  <thead>\n",
       "    <tr style=\"text-align: right;\">\n",
       "      <th></th>\n",
       "      <th>weighted_average</th>\n",
       "      <th>popularity</th>\n",
       "    </tr>\n",
       "  </thead>\n",
       "  <tbody>\n",
       "    <tr>\n",
       "      <th>0</th>\n",
       "      <td>0.834813</td>\n",
       "      <td>0.040087</td>\n",
       "    </tr>\n",
       "    <tr>\n",
       "      <th>1</th>\n",
       "      <td>0.666716</td>\n",
       "      <td>0.031079</td>\n",
       "    </tr>\n",
       "    <tr>\n",
       "      <th>2</th>\n",
       "      <td>0.486185</td>\n",
       "      <td>0.021394</td>\n",
       "    </tr>\n",
       "    <tr>\n",
       "      <th>3</th>\n",
       "      <td>0.436540</td>\n",
       "      <td>0.007049</td>\n",
       "    </tr>\n",
       "    <tr>\n",
       "      <th>4</th>\n",
       "      <td>0.428123</td>\n",
       "      <td>0.015320</td>\n",
       "    </tr>\n",
       "  </tbody>\n",
       "</table>\n",
       "</div>"
      ],
      "text/plain": [
       "   weighted_average  popularity\n",
       "0          0.834813    0.040087\n",
       "1          0.666716    0.031079\n",
       "2          0.486185    0.021394\n",
       "3          0.436540    0.007049\n",
       "4          0.428123    0.015320"
      ]
     },
     "execution_count": 48,
     "metadata": {},
     "output_type": "execute_result"
    }
   ],
   "source": [
    "from sklearn.preprocessing import MinMaxScaler\n",
    "\n",
    "scaler = MinMaxScaler()\n",
    "scaled_movies=scaler.fit_transform(movies[['weighted_average', 'popularity']])\n",
    "normalized_movies = pd.DataFrame(scaled_movies, columns=['weighted_average', 'popularity'])\n",
    "normalized_movies.head()"
   ]
  },
  {
   "cell_type": "code",
   "execution_count": 49,
   "metadata": {
    "ExecuteTime": {
     "end_time": "2020-12-28T07:26:08.331763Z",
     "start_time": "2020-12-28T07:26:08.320432Z"
    }
   },
   "outputs": [],
   "source": [
    "movies[['normalized_weighted_average', 'normalized_popularity']] = normalized_movies"
   ]
  },
  {
   "cell_type": "code",
   "execution_count": 50,
   "metadata": {
    "ExecuteTime": {
     "end_time": "2020-12-28T07:26:08.393522Z",
     "start_time": "2020-12-28T07:26:08.334754Z"
    }
   },
   "outputs": [
    {
     "data": {
      "text/html": [
       "<div>\n",
       "<style scoped>\n",
       "    .dataframe tbody tr th:only-of-type {\n",
       "        vertical-align: middle;\n",
       "    }\n",
       "\n",
       "    .dataframe tbody tr th {\n",
       "        vertical-align: top;\n",
       "    }\n",
       "\n",
       "    .dataframe thead th {\n",
       "        text-align: right;\n",
       "    }\n",
       "</style>\n",
       "<table border=\"1\" class=\"dataframe\">\n",
       "  <thead>\n",
       "    <tr style=\"text-align: right;\">\n",
       "      <th></th>\n",
       "      <th>adult</th>\n",
       "      <th>budget</th>\n",
       "      <th>genres</th>\n",
       "      <th>id</th>\n",
       "      <th>imdb_id</th>\n",
       "      <th>original_language</th>\n",
       "      <th>original_title</th>\n",
       "      <th>overview</th>\n",
       "      <th>popularity</th>\n",
       "      <th>production_companies</th>\n",
       "      <th>...</th>\n",
       "      <th>tagline</th>\n",
       "      <th>vote_average</th>\n",
       "      <th>vote_count</th>\n",
       "      <th>cast</th>\n",
       "      <th>crew</th>\n",
       "      <th>keywords</th>\n",
       "      <th>details</th>\n",
       "      <th>weighted_average</th>\n",
       "      <th>normalized_weighted_average</th>\n",
       "      <th>normalized_popularity</th>\n",
       "    </tr>\n",
       "  </thead>\n",
       "  <tbody>\n",
       "    <tr>\n",
       "      <th>0</th>\n",
       "      <td>FALSE</td>\n",
       "      <td>30000000</td>\n",
       "      <td>[Animation, Comedy, Family]</td>\n",
       "      <td>862</td>\n",
       "      <td>tt0114709</td>\n",
       "      <td>en</td>\n",
       "      <td>Toy Story</td>\n",
       "      <td>Led by Woody, Andy's toys live happily in his ...</td>\n",
       "      <td>21.946943</td>\n",
       "      <td>[{'name': 'Pixar Animation Studios', 'id': 3}]</td>\n",
       "      <td>...</td>\n",
       "      <td></td>\n",
       "      <td>7.7</td>\n",
       "      <td>5415.0</td>\n",
       "      <td>[Tom Hanks, Tim Allen, Don Rickles, Jim Varney...</td>\n",
       "      <td>[John Lasseter, Joss Whedon, Andrew Stanton, J...</td>\n",
       "      <td>[jealousy, toy, boy, friendship, friends, riva...</td>\n",
       "      <td>Led by Woody, Andy's toys live happily in his ...</td>\n",
       "      <td>7.641531</td>\n",
       "      <td>0.834813</td>\n",
       "      <td>0.040087</td>\n",
       "    </tr>\n",
       "    <tr>\n",
       "      <th>1</th>\n",
       "      <td>FALSE</td>\n",
       "      <td>65000000</td>\n",
       "      <td>[Adventure, Fantasy, Family]</td>\n",
       "      <td>8844</td>\n",
       "      <td>tt0113497</td>\n",
       "      <td>en</td>\n",
       "      <td>Jumanji</td>\n",
       "      <td>When siblings Judy and Peter discover an encha...</td>\n",
       "      <td>17.015539</td>\n",
       "      <td>[{'name': 'TriStar Pictures', 'id': 559}, {'na...</td>\n",
       "      <td>...</td>\n",
       "      <td>Roll the dice and unleash the excitement!</td>\n",
       "      <td>6.9</td>\n",
       "      <td>2413.0</td>\n",
       "      <td>[Robin Williams, Jonathan Hyde, Kirsten Dunst,...</td>\n",
       "      <td>[Larry J. Franco, Jonathan Hensleigh, James Ho...</td>\n",
       "      <td>[board game, disappearance, based on children'...</td>\n",
       "      <td>When siblings Judy and Peter discover an encha...</td>\n",
       "      <td>6.821786</td>\n",
       "      <td>0.666716</td>\n",
       "      <td>0.031079</td>\n",
       "    </tr>\n",
       "    <tr>\n",
       "      <th>2</th>\n",
       "      <td>FALSE</td>\n",
       "      <td>0</td>\n",
       "      <td>[Romance, Comedy]</td>\n",
       "      <td>15602</td>\n",
       "      <td>tt0113228</td>\n",
       "      <td>en</td>\n",
       "      <td>Grumpier Old Men</td>\n",
       "      <td>A family wedding reignites the ancient feud be...</td>\n",
       "      <td>11.7129</td>\n",
       "      <td>[{'name': 'Warner Bros.', 'id': 6194}, {'name'...</td>\n",
       "      <td>...</td>\n",
       "      <td>Still Yelling. Still Fighting. Still Ready for...</td>\n",
       "      <td>6.5</td>\n",
       "      <td>92.0</td>\n",
       "      <td>[Walter Matthau, Jack Lemmon, Ann-Margret, Sop...</td>\n",
       "      <td>[Howard Deutch, Mark Steven Johnson, Mark Stev...</td>\n",
       "      <td>[fishing, best friend, duringcreditsstinger, o...</td>\n",
       "      <td>A family wedding reignites the ancient feud be...</td>\n",
       "      <td>5.941407</td>\n",
       "      <td>0.486185</td>\n",
       "      <td>0.021394</td>\n",
       "    </tr>\n",
       "    <tr>\n",
       "      <th>3</th>\n",
       "      <td>FALSE</td>\n",
       "      <td>16000000</td>\n",
       "      <td>[Comedy, Drama, Romance]</td>\n",
       "      <td>31357</td>\n",
       "      <td>tt0114885</td>\n",
       "      <td>en</td>\n",
       "      <td>Waiting to Exhale</td>\n",
       "      <td>Cheated on, mistreated and stepped on, the wom...</td>\n",
       "      <td>3.859495</td>\n",
       "      <td>[{'name': 'Twentieth Century Fox Film Corporat...</td>\n",
       "      <td>...</td>\n",
       "      <td>Friends are the people who let you be yourself...</td>\n",
       "      <td>6.1</td>\n",
       "      <td>34.0</td>\n",
       "      <td>[Whitney Houston, Angela Bassett, Loretta Devi...</td>\n",
       "      <td>[Forest Whitaker, Ronald Bass, Ronald Bass, Ez...</td>\n",
       "      <td>[based on novel, interracial relationship, sin...</td>\n",
       "      <td>Cheated on, mistreated and stepped on, the wom...</td>\n",
       "      <td>5.699310</td>\n",
       "      <td>0.436540</td>\n",
       "      <td>0.007049</td>\n",
       "    </tr>\n",
       "    <tr>\n",
       "      <th>4</th>\n",
       "      <td>FALSE</td>\n",
       "      <td>0</td>\n",
       "      <td>[Comedy]</td>\n",
       "      <td>11862</td>\n",
       "      <td>tt0113041</td>\n",
       "      <td>en</td>\n",
       "      <td>Father of the Bride Part II</td>\n",
       "      <td>Just when George Banks has recovered from his ...</td>\n",
       "      <td>8.387519</td>\n",
       "      <td>[{'name': 'Sandollar Productions', 'id': 5842}...</td>\n",
       "      <td>...</td>\n",
       "      <td>Just When His World Is Back To Normal... He's ...</td>\n",
       "      <td>5.7</td>\n",
       "      <td>173.0</td>\n",
       "      <td>[Steve Martin, Diane Keaton, Martin Short, Kim...</td>\n",
       "      <td>[Alan Silvestri, Elliot Davis, Nancy Meyers, N...</td>\n",
       "      <td>[baby, midlife crisis, confidence, aging, daug...</td>\n",
       "      <td>Just when George Banks has recovered from his ...</td>\n",
       "      <td>5.658264</td>\n",
       "      <td>0.428123</td>\n",
       "      <td>0.015320</td>\n",
       "    </tr>\n",
       "  </tbody>\n",
       "</table>\n",
       "<p>5 rows × 26 columns</p>\n",
       "</div>"
      ],
      "text/plain": [
       "   adult    budget                        genres     id    imdb_id  \\\n",
       "0  FALSE  30000000   [Animation, Comedy, Family]    862  tt0114709   \n",
       "1  FALSE  65000000  [Adventure, Fantasy, Family]   8844  tt0113497   \n",
       "2  FALSE         0             [Romance, Comedy]  15602  tt0113228   \n",
       "3  FALSE  16000000      [Comedy, Drama, Romance]  31357  tt0114885   \n",
       "4  FALSE         0                      [Comedy]  11862  tt0113041   \n",
       "\n",
       "  original_language               original_title  \\\n",
       "0                en                    Toy Story   \n",
       "1                en                      Jumanji   \n",
       "2                en             Grumpier Old Men   \n",
       "3                en            Waiting to Exhale   \n",
       "4                en  Father of the Bride Part II   \n",
       "\n",
       "                                            overview popularity  \\\n",
       "0  Led by Woody, Andy's toys live happily in his ...  21.946943   \n",
       "1  When siblings Judy and Peter discover an encha...  17.015539   \n",
       "2  A family wedding reignites the ancient feud be...    11.7129   \n",
       "3  Cheated on, mistreated and stepped on, the wom...   3.859495   \n",
       "4  Just when George Banks has recovered from his ...   8.387519   \n",
       "\n",
       "                                production_companies  ...  \\\n",
       "0     [{'name': 'Pixar Animation Studios', 'id': 3}]  ...   \n",
       "1  [{'name': 'TriStar Pictures', 'id': 559}, {'na...  ...   \n",
       "2  [{'name': 'Warner Bros.', 'id': 6194}, {'name'...  ...   \n",
       "3  [{'name': 'Twentieth Century Fox Film Corporat...  ...   \n",
       "4  [{'name': 'Sandollar Productions', 'id': 5842}...  ...   \n",
       "\n",
       "                                             tagline vote_average  vote_count  \\\n",
       "0                                                             7.7      5415.0   \n",
       "1          Roll the dice and unleash the excitement!          6.9      2413.0   \n",
       "2  Still Yelling. Still Fighting. Still Ready for...          6.5        92.0   \n",
       "3  Friends are the people who let you be yourself...          6.1        34.0   \n",
       "4  Just When His World Is Back To Normal... He's ...          5.7       173.0   \n",
       "\n",
       "                                                cast  \\\n",
       "0  [Tom Hanks, Tim Allen, Don Rickles, Jim Varney...   \n",
       "1  [Robin Williams, Jonathan Hyde, Kirsten Dunst,...   \n",
       "2  [Walter Matthau, Jack Lemmon, Ann-Margret, Sop...   \n",
       "3  [Whitney Houston, Angela Bassett, Loretta Devi...   \n",
       "4  [Steve Martin, Diane Keaton, Martin Short, Kim...   \n",
       "\n",
       "                                                crew  \\\n",
       "0  [John Lasseter, Joss Whedon, Andrew Stanton, J...   \n",
       "1  [Larry J. Franco, Jonathan Hensleigh, James Ho...   \n",
       "2  [Howard Deutch, Mark Steven Johnson, Mark Stev...   \n",
       "3  [Forest Whitaker, Ronald Bass, Ronald Bass, Ez...   \n",
       "4  [Alan Silvestri, Elliot Davis, Nancy Meyers, N...   \n",
       "\n",
       "                                            keywords  \\\n",
       "0  [jealousy, toy, boy, friendship, friends, riva...   \n",
       "1  [board game, disappearance, based on children'...   \n",
       "2  [fishing, best friend, duringcreditsstinger, o...   \n",
       "3  [based on novel, interracial relationship, sin...   \n",
       "4  [baby, midlife crisis, confidence, aging, daug...   \n",
       "\n",
       "                                             details  weighted_average  \\\n",
       "0  Led by Woody, Andy's toys live happily in his ...          7.641531   \n",
       "1  When siblings Judy and Peter discover an encha...          6.821786   \n",
       "2  A family wedding reignites the ancient feud be...          5.941407   \n",
       "3  Cheated on, mistreated and stepped on, the wom...          5.699310   \n",
       "4  Just when George Banks has recovered from his ...          5.658264   \n",
       "\n",
       "   normalized_weighted_average normalized_popularity  \n",
       "0                     0.834813              0.040087  \n",
       "1                     0.666716              0.031079  \n",
       "2                     0.486185              0.021394  \n",
       "3                     0.436540              0.007049  \n",
       "4                     0.428123              0.015320  \n",
       "\n",
       "[5 rows x 26 columns]"
      ]
     },
     "execution_count": 50,
     "metadata": {},
     "output_type": "execute_result"
    }
   ],
   "source": [
    "movies.head()"
   ]
  },
  {
   "cell_type": "code",
   "execution_count": 51,
   "metadata": {
    "ExecuteTime": {
     "end_time": "2020-12-28T07:26:08.495735Z",
     "start_time": "2020-12-28T07:26:08.393522Z"
    }
   },
   "outputs": [
    {
     "data": {
      "text/html": [
       "<div>\n",
       "<style scoped>\n",
       "    .dataframe tbody tr th:only-of-type {\n",
       "        vertical-align: middle;\n",
       "    }\n",
       "\n",
       "    .dataframe tbody tr th {\n",
       "        vertical-align: top;\n",
       "    }\n",
       "\n",
       "    .dataframe thead th {\n",
       "        text-align: right;\n",
       "    }\n",
       "</style>\n",
       "<table border=\"1\" class=\"dataframe\">\n",
       "  <thead>\n",
       "    <tr style=\"text-align: right;\">\n",
       "      <th></th>\n",
       "      <th>original_title</th>\n",
       "      <th>normalized_weighted_average</th>\n",
       "      <th>normalized_popularity</th>\n",
       "      <th>scaled_score</th>\n",
       "    </tr>\n",
       "  </thead>\n",
       "  <tbody>\n",
       "    <tr>\n",
       "      <th>30780</th>\n",
       "      <td>Minions</td>\n",
       "      <td>0.575064</td>\n",
       "      <td>1.000000</td>\n",
       "      <td>0.787532</td>\n",
       "    </tr>\n",
       "    <tr>\n",
       "      <th>33439</th>\n",
       "      <td>Wonder Woman</td>\n",
       "      <td>0.734467</td>\n",
       "      <td>0.537613</td>\n",
       "      <td>0.636040</td>\n",
       "    </tr>\n",
       "    <tr>\n",
       "      <th>24528</th>\n",
       "      <td>Big Hero 6</td>\n",
       "      <td>0.856449</td>\n",
       "      <td>0.390602</td>\n",
       "      <td>0.623525</td>\n",
       "    </tr>\n",
       "    <tr>\n",
       "      <th>292</th>\n",
       "      <td>Pulp Fiction</td>\n",
       "      <td>0.960096</td>\n",
       "      <td>0.257449</td>\n",
       "      <td>0.608773</td>\n",
       "    </tr>\n",
       "    <tr>\n",
       "      <th>12525</th>\n",
       "      <td>The Dark Knight</td>\n",
       "      <td>0.962918</td>\n",
       "      <td>0.224968</td>\n",
       "      <td>0.593943</td>\n",
       "    </tr>\n",
       "    <tr>\n",
       "      <th>43252</th>\n",
       "      <td>Beauty and the Beast</td>\n",
       "      <td>0.655564</td>\n",
       "      <td>0.524675</td>\n",
       "      <td>0.590120</td>\n",
       "    </tr>\n",
       "    <tr>\n",
       "      <th>23745</th>\n",
       "      <td>Gone Girl</td>\n",
       "      <td>0.875969</td>\n",
       "      <td>0.282748</td>\n",
       "      <td>0.579359</td>\n",
       "    </tr>\n",
       "    <tr>\n",
       "      <th>26652</th>\n",
       "      <td>Guardians of the Galaxy Vol. 2</td>\n",
       "      <td>0.813613</td>\n",
       "      <td>0.338511</td>\n",
       "      <td>0.576062</td>\n",
       "    </tr>\n",
       "    <tr>\n",
       "      <th>44673</th>\n",
       "      <td>Baby Driver</td>\n",
       "      <td>0.721584</td>\n",
       "      <td>0.416507</td>\n",
       "      <td>0.569045</td>\n",
       "    </tr>\n",
       "    <tr>\n",
       "      <th>26650</th>\n",
       "      <td>Deadpool</td>\n",
       "      <td>0.780354</td>\n",
       "      <td>0.343132</td>\n",
       "      <td>0.561743</td>\n",
       "    </tr>\n",
       "    <tr>\n",
       "      <th>314</th>\n",
       "      <td>The Shawshank Redemption</td>\n",
       "      <td>1.000000</td>\n",
       "      <td>0.094332</td>\n",
       "      <td>0.547166</td>\n",
       "    </tr>\n",
       "    <tr>\n",
       "      <th>14619</th>\n",
       "      <td>Avatar</td>\n",
       "      <td>0.740132</td>\n",
       "      <td>0.338036</td>\n",
       "      <td>0.539084</td>\n",
       "    </tr>\n",
       "    <tr>\n",
       "      <th>2854</th>\n",
       "      <td>Fight Club</td>\n",
       "      <td>0.961095</td>\n",
       "      <td>0.116659</td>\n",
       "      <td>0.538877</td>\n",
       "    </tr>\n",
       "    <tr>\n",
       "      <th>837</th>\n",
       "      <td>The Godfather</td>\n",
       "      <td>0.995902</td>\n",
       "      <td>0.075087</td>\n",
       "      <td>0.535494</td>\n",
       "    </tr>\n",
       "    <tr>\n",
       "      <th>23743</th>\n",
       "      <td>Whiplash</td>\n",
       "      <td>0.950865</td>\n",
       "      <td>0.117445</td>\n",
       "      <td>0.534155</td>\n",
       "    </tr>\n",
       "    <tr>\n",
       "      <th>10345</th>\n",
       "      <td>Dilwale Dulhania Le Jayenge</td>\n",
       "      <td>0.997315</td>\n",
       "      <td>0.062937</td>\n",
       "      <td>0.530126</td>\n",
       "    </tr>\n",
       "    <tr>\n",
       "      <th>536</th>\n",
       "      <td>Blade Runner</td>\n",
       "      <td>0.869466</td>\n",
       "      <td>0.175844</td>\n",
       "      <td>0.522655</td>\n",
       "    </tr>\n",
       "    <tr>\n",
       "      <th>24424</th>\n",
       "      <td>John Wick</td>\n",
       "      <td>0.695409</td>\n",
       "      <td>0.335843</td>\n",
       "      <td>0.515626</td>\n",
       "    </tr>\n",
       "    <tr>\n",
       "      <th>351</th>\n",
       "      <td>Forrest Gump</td>\n",
       "      <td>0.939362</td>\n",
       "      <td>0.088234</td>\n",
       "      <td>0.513798</td>\n",
       "    </tr>\n",
       "    <tr>\n",
       "      <th>522</th>\n",
       "      <td>Schindler's List</td>\n",
       "      <td>0.951113</td>\n",
       "      <td>0.076212</td>\n",
       "      <td>0.513663</td>\n",
       "    </tr>\n",
       "  </tbody>\n",
       "</table>\n",
       "</div>"
      ],
      "text/plain": [
       "                       original_title  normalized_weighted_average  \\\n",
       "30780                         Minions                     0.575064   \n",
       "33439                    Wonder Woman                     0.734467   \n",
       "24528                      Big Hero 6                     0.856449   \n",
       "292                      Pulp Fiction                     0.960096   \n",
       "12525                 The Dark Knight                     0.962918   \n",
       "43252            Beauty and the Beast                     0.655564   \n",
       "23745                       Gone Girl                     0.875969   \n",
       "26652  Guardians of the Galaxy Vol. 2                     0.813613   \n",
       "44673                     Baby Driver                     0.721584   \n",
       "26650                        Deadpool                     0.780354   \n",
       "314          The Shawshank Redemption                     1.000000   \n",
       "14619                          Avatar                     0.740132   \n",
       "2854                       Fight Club                     0.961095   \n",
       "837                     The Godfather                     0.995902   \n",
       "23743                        Whiplash                     0.950865   \n",
       "10345     Dilwale Dulhania Le Jayenge                     0.997315   \n",
       "536                      Blade Runner                     0.869466   \n",
       "24424                       John Wick                     0.695409   \n",
       "351                      Forrest Gump                     0.939362   \n",
       "522                  Schindler's List                     0.951113   \n",
       "\n",
       "       normalized_popularity  scaled_score  \n",
       "30780               1.000000      0.787532  \n",
       "33439               0.537613      0.636040  \n",
       "24528               0.390602      0.623525  \n",
       "292                 0.257449      0.608773  \n",
       "12525               0.224968      0.593943  \n",
       "43252               0.524675      0.590120  \n",
       "23745               0.282748      0.579359  \n",
       "26652               0.338511      0.576062  \n",
       "44673               0.416507      0.569045  \n",
       "26650               0.343132      0.561743  \n",
       "314                 0.094332      0.547166  \n",
       "14619               0.338036      0.539084  \n",
       "2854                0.116659      0.538877  \n",
       "837                 0.075087      0.535494  \n",
       "23743               0.117445      0.534155  \n",
       "10345               0.062937      0.530126  \n",
       "536                 0.175844      0.522655  \n",
       "24424               0.335843      0.515626  \n",
       "351                 0.088234      0.513798  \n",
       "522                 0.076212      0.513663  "
      ]
     },
     "execution_count": 51,
     "metadata": {},
     "output_type": "execute_result"
    }
   ],
   "source": [
    "movies['scaled_score'] = movies.normalized_weighted_average*0.5 + movies.normalized_popularity * 0.5\n",
    "scored_movies = movies.sort_values('scaled_score', ascending=False)\n",
    "scored_movies[['original_title', 'normalized_weighted_average', 'normalized_popularity', 'scaled_score']].head(20)"
   ]
  },
  {
   "cell_type": "markdown",
   "metadata": {},
   "source": [
    "Based on scaled variables popularity and weighted average, films such as 'Minions', 'Wonder Woman', 'Big Hero 6' are the best.  "
   ]
  },
  {
   "cell_type": "code",
   "execution_count": 52,
   "metadata": {
    "ExecuteTime": {
     "end_time": "2020-12-28T07:26:08.969250Z",
     "start_time": "2020-12-28T07:26:08.498724Z"
    }
   },
   "outputs": [
    {
     "data": {
      "image/png": "[encoded data removed]",
      "text/plain": [
       "<Figure size 1008x432 with 1 Axes>"
      ]
     },
     "metadata": {},
     "output_type": "display_data"
    }
   ],
   "source": [
    "scored_movies = movies.sort_values('scaled_score', ascending=False)\n",
    "plt.figure(figsize=(14,6))\n",
    "\n",
    "_=sns.barplot(x=scored_movies['scaled_score'].head(10), y=scored_movies.original_title.head(10),data=scored_movies)\n",
    "\n",
    "_=plt.title('Top Rated & Popular Movies', weight='bold')\n",
    "_=plt.xlabel('Scaled Score')\n",
    "_=plt.ylabel('Movie Titles')"
   ]
  },
  {
   "cell_type": "markdown",
   "metadata": {},
   "source": [
    "## Simple Collaborative Filtering using Nearest Neighbor<a id='1.10_Simple_Collaborative_Filtering_using_Nearest_Neighbor'></a>"
   ]
  },
  {
   "cell_type": "code",
   "execution_count": 53,
   "metadata": {
    "ExecuteTime": {
     "end_time": "2020-12-28T07:26:23.253083Z",
     "start_time": "2020-12-28T07:26:08.969250Z"
    }
   },
   "outputs": [],
   "source": [
    "movie_features_matrix = ratings.pivot_table(index='original_title', columns='userId', values='rating').fillna(0)"
   ]
  },
  {
   "cell_type": "markdown",
   "metadata": {},
   "source": [
    "converting pivot table into array matrix and this can be done by scipy"
   ]
  },
  {
   "cell_type": "code",
   "execution_count": 54,
   "metadata": {
    "ExecuteTime": {
     "end_time": "2020-12-28T07:26:28.388320Z",
     "start_time": "2020-12-28T07:26:23.264221Z"
    }
   },
   "outputs": [
    {
     "data": {
      "text/plain": [
       "NearestNeighbors(algorithm='brute', metric='cosine')"
      ]
     },
     "execution_count": 54,
     "metadata": {},
     "output_type": "execute_result"
    }
   ],
   "source": [
    "from scipy.sparse import csr_matrix\n",
    "\n",
    "movie_features_matrix_df=csr_matrix(movie_features_matrix.values)\n",
    "\n",
    "from sklearn.neighbors import NearestNeighbors\n",
    "knn_model = NearestNeighbors(metric='cosine', algorithm='brute')\n",
    "knn_model.fit(movie_features_matrix_df)"
   ]
  },
  {
   "cell_type": "markdown",
   "metadata": {},
   "source": [
    "\\begin{equation}\n",
    "sim(A,B) = cos(\\theta) = \\frac{A * B}{||A||B||}\n",
    "\\end{equation}"
   ]
  },
  {
   "cell_type": "code",
   "execution_count": 55,
   "metadata": {
    "ExecuteTime": {
     "end_time": "2020-12-28T07:26:28.472249Z",
     "start_time": "2020-12-28T07:26:28.388320Z"
    }
   },
   "outputs": [
    {
     "data": {
      "text/html": [
       "<div>\n",
       "<style scoped>\n",
       "    .dataframe tbody tr th:only-of-type {\n",
       "        vertical-align: middle;\n",
       "    }\n",
       "\n",
       "    .dataframe tbody tr th {\n",
       "        vertical-align: top;\n",
       "    }\n",
       "\n",
       "    .dataframe thead th {\n",
       "        text-align: right;\n",
       "    }\n",
       "</style>\n",
       "<table border=\"1\" class=\"dataframe\">\n",
       "  <thead>\n",
       "    <tr style=\"text-align: right;\">\n",
       "      <th>userId</th>\n",
       "      <th>1</th>\n",
       "      <th>2</th>\n",
       "      <th>3</th>\n",
       "      <th>4</th>\n",
       "      <th>5</th>\n",
       "      <th>6</th>\n",
       "      <th>7</th>\n",
       "      <th>8</th>\n",
       "      <th>9</th>\n",
       "      <th>10</th>\n",
       "      <th>...</th>\n",
       "      <th>27038</th>\n",
       "      <th>27039</th>\n",
       "      <th>27040</th>\n",
       "      <th>27041</th>\n",
       "      <th>27042</th>\n",
       "      <th>27043</th>\n",
       "      <th>27044</th>\n",
       "      <th>27045</th>\n",
       "      <th>27046</th>\n",
       "      <th>27047</th>\n",
       "    </tr>\n",
       "    <tr>\n",
       "      <th>original_title</th>\n",
       "      <th></th>\n",
       "      <th></th>\n",
       "      <th></th>\n",
       "      <th></th>\n",
       "      <th></th>\n",
       "      <th></th>\n",
       "      <th></th>\n",
       "      <th></th>\n",
       "      <th></th>\n",
       "      <th></th>\n",
       "      <th></th>\n",
       "      <th></th>\n",
       "      <th></th>\n",
       "      <th></th>\n",
       "      <th></th>\n",
       "      <th></th>\n",
       "      <th></th>\n",
       "      <th></th>\n",
       "      <th></th>\n",
       "      <th></th>\n",
       "      <th></th>\n",
       "    </tr>\n",
       "  </thead>\n",
       "  <tbody>\n",
       "    <tr>\n",
       "      <th>!Women Art Revolution</th>\n",
       "      <td>0.0</td>\n",
       "      <td>0.0</td>\n",
       "      <td>0.0</td>\n",
       "      <td>0.0</td>\n",
       "      <td>0.0</td>\n",
       "      <td>0.0</td>\n",
       "      <td>0.0</td>\n",
       "      <td>0.0</td>\n",
       "      <td>0.0</td>\n",
       "      <td>0.0</td>\n",
       "      <td>...</td>\n",
       "      <td>0.0</td>\n",
       "      <td>0.0</td>\n",
       "      <td>0.0</td>\n",
       "      <td>0.0</td>\n",
       "      <td>0.0</td>\n",
       "      <td>0.0</td>\n",
       "      <td>0.0</td>\n",
       "      <td>0.0</td>\n",
       "      <td>0.0</td>\n",
       "      <td>0.0</td>\n",
       "    </tr>\n",
       "    <tr>\n",
       "      <th>$5 a Day</th>\n",
       "      <td>0.0</td>\n",
       "      <td>0.0</td>\n",
       "      <td>0.0</td>\n",
       "      <td>0.0</td>\n",
       "      <td>0.0</td>\n",
       "      <td>0.0</td>\n",
       "      <td>0.0</td>\n",
       "      <td>0.0</td>\n",
       "      <td>0.0</td>\n",
       "      <td>0.0</td>\n",
       "      <td>...</td>\n",
       "      <td>0.0</td>\n",
       "      <td>0.0</td>\n",
       "      <td>0.0</td>\n",
       "      <td>0.0</td>\n",
       "      <td>0.0</td>\n",
       "      <td>0.0</td>\n",
       "      <td>0.0</td>\n",
       "      <td>0.0</td>\n",
       "      <td>0.0</td>\n",
       "      <td>0.0</td>\n",
       "    </tr>\n",
       "    <tr>\n",
       "      <th>'Gator Bait</th>\n",
       "      <td>0.0</td>\n",
       "      <td>0.0</td>\n",
       "      <td>0.0</td>\n",
       "      <td>0.0</td>\n",
       "      <td>0.0</td>\n",
       "      <td>0.0</td>\n",
       "      <td>0.0</td>\n",
       "      <td>0.0</td>\n",
       "      <td>0.0</td>\n",
       "      <td>0.0</td>\n",
       "      <td>...</td>\n",
       "      <td>0.0</td>\n",
       "      <td>0.0</td>\n",
       "      <td>0.0</td>\n",
       "      <td>0.0</td>\n",
       "      <td>0.0</td>\n",
       "      <td>0.0</td>\n",
       "      <td>0.0</td>\n",
       "      <td>0.0</td>\n",
       "      <td>0.0</td>\n",
       "      <td>0.0</td>\n",
       "    </tr>\n",
       "    <tr>\n",
       "      <th>'R Xmas</th>\n",
       "      <td>0.0</td>\n",
       "      <td>0.0</td>\n",
       "      <td>0.0</td>\n",
       "      <td>0.0</td>\n",
       "      <td>0.0</td>\n",
       "      <td>0.0</td>\n",
       "      <td>0.0</td>\n",
       "      <td>0.0</td>\n",
       "      <td>0.0</td>\n",
       "      <td>0.0</td>\n",
       "      <td>...</td>\n",
       "      <td>0.0</td>\n",
       "      <td>0.0</td>\n",
       "      <td>0.0</td>\n",
       "      <td>0.0</td>\n",
       "      <td>0.0</td>\n",
       "      <td>0.0</td>\n",
       "      <td>0.0</td>\n",
       "      <td>0.0</td>\n",
       "      <td>0.0</td>\n",
       "      <td>0.0</td>\n",
       "    </tr>\n",
       "    <tr>\n",
       "      <th>'Twas the Night Before Christmas</th>\n",
       "      <td>0.0</td>\n",
       "      <td>0.0</td>\n",
       "      <td>0.0</td>\n",
       "      <td>0.0</td>\n",
       "      <td>0.0</td>\n",
       "      <td>0.0</td>\n",
       "      <td>0.0</td>\n",
       "      <td>0.0</td>\n",
       "      <td>0.0</td>\n",
       "      <td>0.0</td>\n",
       "      <td>...</td>\n",
       "      <td>0.0</td>\n",
       "      <td>0.0</td>\n",
       "      <td>0.0</td>\n",
       "      <td>0.0</td>\n",
       "      <td>0.0</td>\n",
       "      <td>0.0</td>\n",
       "      <td>0.0</td>\n",
       "      <td>0.0</td>\n",
       "      <td>0.0</td>\n",
       "      <td>0.0</td>\n",
       "    </tr>\n",
       "  </tbody>\n",
       "</table>\n",
       "<p>5 rows × 26543 columns</p>\n",
       "</div>"
      ],
      "text/plain": [
       "userId                            1      2      3      4      5      6      \\\n",
       "original_title                                                               \n",
       "!Women Art Revolution               0.0    0.0    0.0    0.0    0.0    0.0   \n",
       "$5 a Day                            0.0    0.0    0.0    0.0    0.0    0.0   \n",
       "'Gator Bait                         0.0    0.0    0.0    0.0    0.0    0.0   \n",
       "'R Xmas                             0.0    0.0    0.0    0.0    0.0    0.0   \n",
       "'Twas the Night Before Christmas    0.0    0.0    0.0    0.0    0.0    0.0   \n",
       "\n",
       "userId                            7      8      9      10     ...  27038  \\\n",
       "original_title                                                ...          \n",
       "!Women Art Revolution               0.0    0.0    0.0    0.0  ...    0.0   \n",
       "$5 a Day                            0.0    0.0    0.0    0.0  ...    0.0   \n",
       "'Gator Bait                         0.0    0.0    0.0    0.0  ...    0.0   \n",
       "'R Xmas                             0.0    0.0    0.0    0.0  ...    0.0   \n",
       "'Twas the Night Before Christmas    0.0    0.0    0.0    0.0  ...    0.0   \n",
       "\n",
       "userId                            27039  27040  27041  27042  27043  27044  \\\n",
       "original_title                                                               \n",
       "!Women Art Revolution               0.0    0.0    0.0    0.0    0.0    0.0   \n",
       "$5 a Day                            0.0    0.0    0.0    0.0    0.0    0.0   \n",
       "'Gator Bait                         0.0    0.0    0.0    0.0    0.0    0.0   \n",
       "'R Xmas                             0.0    0.0    0.0    0.0    0.0    0.0   \n",
       "'Twas the Night Before Christmas    0.0    0.0    0.0    0.0    0.0    0.0   \n",
       "\n",
       "userId                            27045  27046  27047  \n",
       "original_title                                         \n",
       "!Women Art Revolution               0.0    0.0    0.0  \n",
       "$5 a Day                            0.0    0.0    0.0  \n",
       "'Gator Bait                         0.0    0.0    0.0  \n",
       "'R Xmas                             0.0    0.0    0.0  \n",
       "'Twas the Night Before Christmas    0.0    0.0    0.0  \n",
       "\n",
       "[5 rows x 26543 columns]"
      ]
     },
     "execution_count": 55,
     "metadata": {},
     "output_type": "execute_result"
    }
   ],
   "source": [
    "movie_features_matrix.head()"
   ]
  },
  {
   "cell_type": "markdown",
   "metadata": {},
   "source": [
    "Using cosine similarity and euclidean distance, calculating neighbors (movies that are similar) of observed films.  \n",
    "the index being printed is the index of the selected film."
   ]
  },
  {
   "cell_type": "code",
   "execution_count": 56,
   "metadata": {
    "ExecuteTime": {
     "end_time": "2020-12-28T07:26:28.559630Z",
     "start_time": "2020-12-28T07:26:28.472249Z"
    }
   },
   "outputs": [
    {
     "name": "stdout",
     "output_type": "stream",
     "text": [
      "2503\n"
     ]
    }
   ],
   "source": [
    "rand_index=np.random.choice(movie_features_matrix.shape[0])\n",
    "print(rand_index)\n",
    "dist,indices=knn_model.kneighbors(movie_features_matrix.iloc[rand_index, :].values.reshape(1,-1), n_neighbors=6)"
   ]
  },
  {
   "cell_type": "markdown",
   "metadata": {},
   "source": [
    ".index + .flatten helps print out specific movie titles and neighbors is set to 6 to print out the top 5 closest films, because the first is the film itself.  \n",
    "the selected film, its suggestions, and distances are calculated below."
   ]
  },
  {
   "cell_type": "code",
   "execution_count": 57,
   "metadata": {
    "ExecuteTime": {
     "end_time": "2020-12-28T07:26:28.579988Z",
     "start_time": "2020-12-28T07:26:28.564112Z"
    }
   },
   "outputs": [
    {
     "name": "stdout",
     "output_type": "stream",
     "text": [
      "Recommendations for Le temps qui reste:\n",
      "\n",
      "1: Songwriter, with distance of 0.67908472809716:\n",
      "2: Pyaar Ka Punchnama, with distance of 0.6819553527670006:\n",
      "3: Agenda: Grinding America Down, with distance of 0.6849195512226662:\n",
      "4: This Boy’s Life, with distance of 0.6985923615683931:\n",
      "5: La Fille coupée en deux, with distance of 0.7144882975943414:\n"
     ]
    }
   ],
   "source": [
    "for i in range(0,len(dist.flatten())):\n",
    "    if i ==0:\n",
    "        print('Recommendations for {0}:\\n'.format(movie_features_matrix.index[rand_index]))\n",
    "    else:\n",
    "        print('{0}: {1}, with distance of {2}:'.format(i, movie_features_matrix.index[indices.flatten()[i]], dist.flatten()[i]))"
   ]
  },
  {
   "cell_type": "markdown",
   "metadata": {},
   "source": [
    "This is a basic recommender system using cosine similarity and KNearest Neighbors with the help of collabortive filerting technique."
   ]
  }
 ],
 "metadata": {
  "kernelspec": {
   "display_name": "Python 3",
   "language": "python",
   "name": "python3"
  },
  "language_info": {
   "codemirror_mode": {
    "name": "ipython",
    "version": 3
   },
   "file_extension": ".py",
   "mimetype": "text/x-python",
   "name": "python",
   "nbconvert_exporter": "python",
   "pygments_lexer": "ipython3",
   "version": "3.8.3"
  },
  "toc": {
   "base_numbering": 1,
   "nav_menu": {},
   "number_sections": true,
   "sideBar": true,
   "skip_h1_title": false,
   "title_cell": "Table of Contents",
   "title_sidebar": "Contents",
   "toc_cell": false,
   "toc_position": {
    "height": "calc(100% - 180px)",
    "left": "10px",
    "top": "150px",
    "width": "302px"
   },
   "toc_section_display": true,
   "toc_window_display": false
  }
 },
 "nbformat": 4,
 "nbformat_minor": 4
}
